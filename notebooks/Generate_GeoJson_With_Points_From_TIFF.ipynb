{
 "cells": [
  {
   "cell_type": "code",
   "execution_count": 3,
   "id": "602d4d33-813c-4a92-94fb-26638e2001af",
   "metadata": {},
   "outputs": [],
   "source": [
    "import rasterio\n",
    "import rasterio.features\n",
    "import rasterio.warp\n",
    "import numpy as np\n",
    "import json\n",
    "import geopandas\n",
    "import plotly.figure_factory as ff\n",
    "import plotly.express as px"
   ]
  },
  {
   "cell_type": "markdown",
   "id": "2391cd0f-0ae0-4d8e-bb3a-063ad5147bde",
   "metadata": {},
   "source": [
    "## Change below filename to match your .tif file"
   ]
  },
  {
   "cell_type": "code",
   "execution_count": 4,
   "id": "8fac9a0a",
   "metadata": {},
   "outputs": [],
   "source": [
    "file_name_no_extension=\"dk_pop_1k\""
   ]
  },
  {
   "cell_type": "code",
   "execution_count": 6,
   "id": "87fb4540-5c8c-455a-ab5d-9876cdc83d3a",
   "metadata": {},
   "outputs": [
    {
     "data": {
      "text/html": [
       "<div>\n",
       "<style scoped>\n",
       "    .dataframe tbody tr th:only-of-type {\n",
       "        vertical-align: middle;\n",
       "    }\n",
       "\n",
       "    .dataframe tbody tr th {\n",
       "        vertical-align: top;\n",
       "    }\n",
       "\n",
       "    .dataframe thead th {\n",
       "        text-align: right;\n",
       "    }\n",
       "</style>\n",
       "<table border=\"1\" class=\"dataframe\">\n",
       "  <thead>\n",
       "    <tr style=\"text-align: right;\">\n",
       "      <th></th>\n",
       "      <th>geometry</th>\n",
       "      <th>data</th>\n",
       "    </tr>\n",
       "  </thead>\n",
       "  <tbody>\n",
       "    <tr>\n",
       "      <th>0</th>\n",
       "      <td>POINT (10.58625 57.75375)</td>\n",
       "      <td>0.218567</td>\n",
       "    </tr>\n",
       "    <tr>\n",
       "      <th>1</th>\n",
       "      <td>POINT (10.59458 57.75375)</td>\n",
       "      <td>0.512380</td>\n",
       "    </tr>\n",
       "    <tr>\n",
       "      <th>2</th>\n",
       "      <td>POINT (10.60292 57.75375)</td>\n",
       "      <td>0.716782</td>\n",
       "    </tr>\n",
       "    <tr>\n",
       "      <th>3</th>\n",
       "      <td>POINT (10.61125 57.75375)</td>\n",
       "      <td>0.992388</td>\n",
       "    </tr>\n",
       "    <tr>\n",
       "      <th>4</th>\n",
       "      <td>POINT (10.61958 57.75375)</td>\n",
       "      <td>0.872486</td>\n",
       "    </tr>\n",
       "  </tbody>\n",
       "</table>\n",
       "</div>"
      ],
      "text/plain": [
       "                    geometry      data\n",
       "0  POINT (10.58625 57.75375)  0.218567\n",
       "1  POINT (10.59458 57.75375)  0.512380\n",
       "2  POINT (10.60292 57.75375)  0.716782\n",
       "3  POINT (10.61125 57.75375)  0.992388\n",
       "4  POINT (10.61958 57.75375)  0.872486"
      ]
     },
     "execution_count": 6,
     "metadata": {},
     "output_type": "execute_result"
    }
   ],
   "source": [
    "import geopandas as gpd\n",
    "from shapely.geometry import Point\n",
    "filename = f'../tif_images/{file_name_no_extension}.tif'#'dnk_ppp_2020_1km_Aggregated.tif'\n",
    "with rasterio.open(filename) as dataset:\n",
    "    val = dataset.read(1) # band 5\n",
    "    no_data=dataset.nodata\n",
    "    geometry = [Point(dataset.xy(x,y)[0],dataset.xy(x,y)[1]) for x,y in np.ndindex(val.shape) if val[x,y] != no_data]\n",
    "    v = [val[x,y] for x,y in np.ndindex(val.shape) if val[x,y] != no_data]\n",
    "    df = gpd.GeoDataFrame({'geometry':geometry,'data':v})\n",
    "    df.crs = dataset.crs\n",
    "df.head()"
   ]
  },
  {
   "cell_type": "code",
   "execution_count": 7,
   "id": "491e8bf7-bf22-4063-9f25-2b24876cf6f9",
   "metadata": {},
   "outputs": [],
   "source": [
    "geo_df = df\n",
    "\n",
    "df\n",
    "\n",
    "geo_df.to_file(f'../geojson_files/{file_name_no_extension}_points.geojson', driver=\"GeoJSON\") #.to_json(\"dk_population_100m.json\")"
   ]
  },
  {
   "cell_type": "code",
   "execution_count": null,
   "id": "3310ecf9-98f5-4f4d-a923-ae08d1427a10",
   "metadata": {},
   "outputs": [],
   "source": []
  },
  {
   "cell_type": "code",
   "execution_count": null,
   "id": "727ec100-be7b-4e49-9b0d-b9dd290133c8",
   "metadata": {},
   "outputs": [],
   "source": []
  }
 ],
 "metadata": {
  "kernelspec": {
   "display_name": "Python 3",
   "language": "python",
   "name": "python3"
  },
  "language_info": {
   "codemirror_mode": {
    "name": "ipython",
    "version": 3
   },
   "file_extension": ".py",
   "mimetype": "text/x-python",
   "name": "python",
   "nbconvert_exporter": "python",
   "pygments_lexer": "ipython3",
   "version": "3.8.8"
  }
 },
 "nbformat": 4,
 "nbformat_minor": 5
}

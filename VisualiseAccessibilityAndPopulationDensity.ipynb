{
 "cells": [
  {
   "cell_type": "code",
   "execution_count": 1,
   "id": "963cc968",
   "metadata": {},
   "outputs": [],
   "source": [
    "import pandas as pd"
   ]
  },
  {
   "cell_type": "code",
   "execution_count": 6,
   "id": "37dc9b6e",
   "metadata": {},
   "outputs": [
    {
     "data": {
      "text/html": [
       "<div>\n",
       "<style scoped>\n",
       "    .dataframe tbody tr th:only-of-type {\n",
       "        vertical-align: middle;\n",
       "    }\n",
       "\n",
       "    .dataframe tbody tr th {\n",
       "        vertical-align: top;\n",
       "    }\n",
       "\n",
       "    .dataframe thead th {\n",
       "        text-align: right;\n",
       "    }\n",
       "</style>\n",
       "<table border=\"1\" class=\"dataframe\">\n",
       "  <thead>\n",
       "    <tr style=\"text-align: right;\">\n",
       "      <th></th>\n",
       "      <th>Unnamed: 0</th>\n",
       "      <th>lon</th>\n",
       "      <th>lat</th>\n",
       "      <th>population_density</th>\n",
       "      <th>polygon</th>\n",
       "      <th>id</th>\n",
       "      <th>osm_node_count</th>\n",
       "      <th>acc_restaurant_dist</th>\n",
       "      <th>acc_bar_dist</th>\n",
       "      <th>acc_school_dist</th>\n",
       "      <th>acc_toilets_dist</th>\n",
       "      <th>acc_college_dist</th>\n",
       "      <th>acc_hospital_dist</th>\n",
       "      <th>avg_restaurant_dist</th>\n",
       "      <th>avg_bar_dist</th>\n",
       "      <th>avg_school_dist</th>\n",
       "      <th>avg_toilets_dist</th>\n",
       "      <th>avg_college_dist</th>\n",
       "      <th>avg_hospital_dist</th>\n",
       "    </tr>\n",
       "  </thead>\n",
       "  <tbody>\n",
       "    <tr>\n",
       "      <th>0</th>\n",
       "      <td>51577</td>\n",
       "      <td>12.319583</td>\n",
       "      <td>55.770417</td>\n",
       "      <td>165.166046</td>\n",
       "      <td>POLYGON ((12.31541661829724 55.76624995908848,...</td>\n",
       "      <td>51577</td>\n",
       "      <td>40</td>\n",
       "      <td>40000</td>\n",
       "      <td>40000</td>\n",
       "      <td>40000</td>\n",
       "      <td>40000</td>\n",
       "      <td>40000</td>\n",
       "      <td>40000</td>\n",
       "      <td>1000.000000</td>\n",
       "      <td>1000.0</td>\n",
       "      <td>1000.0</td>\n",
       "      <td>1000.000000</td>\n",
       "      <td>1000.0</td>\n",
       "      <td>1000.0</td>\n",
       "    </tr>\n",
       "    <tr>\n",
       "      <th>1</th>\n",
       "      <td>51578</td>\n",
       "      <td>12.327917</td>\n",
       "      <td>55.770417</td>\n",
       "      <td>168.394638</td>\n",
       "      <td>POLYGON ((12.32374995159724 55.76624995908848,...</td>\n",
       "      <td>51578</td>\n",
       "      <td>45</td>\n",
       "      <td>45000</td>\n",
       "      <td>45000</td>\n",
       "      <td>45000</td>\n",
       "      <td>45000</td>\n",
       "      <td>45000</td>\n",
       "      <td>45000</td>\n",
       "      <td>1000.000000</td>\n",
       "      <td>1000.0</td>\n",
       "      <td>1000.0</td>\n",
       "      <td>1000.000000</td>\n",
       "      <td>1000.0</td>\n",
       "      <td>1000.0</td>\n",
       "    </tr>\n",
       "    <tr>\n",
       "      <th>2</th>\n",
       "      <td>51579</td>\n",
       "      <td>12.336250</td>\n",
       "      <td>55.770417</td>\n",
       "      <td>103.640099</td>\n",
       "      <td>POLYGON ((12.33208328489724 55.76624995908848,...</td>\n",
       "      <td>51579</td>\n",
       "      <td>79</td>\n",
       "      <td>78665</td>\n",
       "      <td>79000</td>\n",
       "      <td>79000</td>\n",
       "      <td>79000</td>\n",
       "      <td>79000</td>\n",
       "      <td>79000</td>\n",
       "      <td>995.759494</td>\n",
       "      <td>1000.0</td>\n",
       "      <td>1000.0</td>\n",
       "      <td>1000.000000</td>\n",
       "      <td>1000.0</td>\n",
       "      <td>1000.0</td>\n",
       "    </tr>\n",
       "    <tr>\n",
       "      <th>3</th>\n",
       "      <td>51580</td>\n",
       "      <td>12.344583</td>\n",
       "      <td>55.770417</td>\n",
       "      <td>98.206757</td>\n",
       "      <td>POLYGON ((12.34041661819724 55.76624995908848,...</td>\n",
       "      <td>51580</td>\n",
       "      <td>34</td>\n",
       "      <td>34000</td>\n",
       "      <td>34000</td>\n",
       "      <td>34000</td>\n",
       "      <td>34000</td>\n",
       "      <td>34000</td>\n",
       "      <td>34000</td>\n",
       "      <td>1000.000000</td>\n",
       "      <td>1000.0</td>\n",
       "      <td>1000.0</td>\n",
       "      <td>1000.000000</td>\n",
       "      <td>1000.0</td>\n",
       "      <td>1000.0</td>\n",
       "    </tr>\n",
       "    <tr>\n",
       "      <th>4</th>\n",
       "      <td>51581</td>\n",
       "      <td>12.352917</td>\n",
       "      <td>55.770417</td>\n",
       "      <td>79.473259</td>\n",
       "      <td>POLYGON ((12.34874995149724 55.76624995908848,...</td>\n",
       "      <td>51581</td>\n",
       "      <td>24</td>\n",
       "      <td>24000</td>\n",
       "      <td>24000</td>\n",
       "      <td>24000</td>\n",
       "      <td>23543</td>\n",
       "      <td>24000</td>\n",
       "      <td>24000</td>\n",
       "      <td>1000.000000</td>\n",
       "      <td>1000.0</td>\n",
       "      <td>1000.0</td>\n",
       "      <td>980.958333</td>\n",
       "      <td>1000.0</td>\n",
       "      <td>1000.0</td>\n",
       "    </tr>\n",
       "    <tr>\n",
       "      <th>...</th>\n",
       "      <td>...</td>\n",
       "      <td>...</td>\n",
       "      <td>...</td>\n",
       "      <td>...</td>\n",
       "      <td>...</td>\n",
       "      <td>...</td>\n",
       "      <td>...</td>\n",
       "      <td>...</td>\n",
       "      <td>...</td>\n",
       "      <td>...</td>\n",
       "      <td>...</td>\n",
       "      <td>...</td>\n",
       "      <td>...</td>\n",
       "      <td>...</td>\n",
       "      <td>...</td>\n",
       "      <td>...</td>\n",
       "      <td>...</td>\n",
       "      <td>...</td>\n",
       "      <td>...</td>\n",
       "    </tr>\n",
       "    <tr>\n",
       "      <th>895</th>\n",
       "      <td>61764</td>\n",
       "      <td>12.619583</td>\n",
       "      <td>55.562083</td>\n",
       "      <td>14.762961</td>\n",
       "      <td>POLYGON ((12.61541661709724 55.55791662658848,...</td>\n",
       "      <td>61764</td>\n",
       "      <td>1</td>\n",
       "      <td>1000</td>\n",
       "      <td>1000</td>\n",
       "      <td>1000</td>\n",
       "      <td>1000</td>\n",
       "      <td>1000</td>\n",
       "      <td>1000</td>\n",
       "      <td>1000.000000</td>\n",
       "      <td>1000.0</td>\n",
       "      <td>1000.0</td>\n",
       "      <td>1000.000000</td>\n",
       "      <td>1000.0</td>\n",
       "      <td>1000.0</td>\n",
       "    </tr>\n",
       "    <tr>\n",
       "      <th>896</th>\n",
       "      <td>62172</td>\n",
       "      <td>12.577917</td>\n",
       "      <td>55.553750</td>\n",
       "      <td>11.002125</td>\n",
       "      <td>POLYGON ((12.57374995059724 55.54958329328848,...</td>\n",
       "      <td>62172</td>\n",
       "      <td>0</td>\n",
       "      <td>0</td>\n",
       "      <td>0</td>\n",
       "      <td>0</td>\n",
       "      <td>0</td>\n",
       "      <td>0</td>\n",
       "      <td>0</td>\n",
       "      <td>NaN</td>\n",
       "      <td>NaN</td>\n",
       "      <td>NaN</td>\n",
       "      <td>NaN</td>\n",
       "      <td>NaN</td>\n",
       "      <td>NaN</td>\n",
       "    </tr>\n",
       "    <tr>\n",
       "      <th>897</th>\n",
       "      <td>62173</td>\n",
       "      <td>12.586250</td>\n",
       "      <td>55.553750</td>\n",
       "      <td>34.579926</td>\n",
       "      <td>POLYGON ((12.58208328389724 55.54958329328848,...</td>\n",
       "      <td>62173</td>\n",
       "      <td>0</td>\n",
       "      <td>0</td>\n",
       "      <td>0</td>\n",
       "      <td>0</td>\n",
       "      <td>0</td>\n",
       "      <td>0</td>\n",
       "      <td>0</td>\n",
       "      <td>NaN</td>\n",
       "      <td>NaN</td>\n",
       "      <td>NaN</td>\n",
       "      <td>NaN</td>\n",
       "      <td>NaN</td>\n",
       "      <td>NaN</td>\n",
       "    </tr>\n",
       "    <tr>\n",
       "      <th>898</th>\n",
       "      <td>62174</td>\n",
       "      <td>12.594583</td>\n",
       "      <td>55.553750</td>\n",
       "      <td>29.629675</td>\n",
       "      <td>POLYGON ((12.59041661719724 55.54958329328848,...</td>\n",
       "      <td>62174</td>\n",
       "      <td>0</td>\n",
       "      <td>0</td>\n",
       "      <td>0</td>\n",
       "      <td>0</td>\n",
       "      <td>0</td>\n",
       "      <td>0</td>\n",
       "      <td>0</td>\n",
       "      <td>NaN</td>\n",
       "      <td>NaN</td>\n",
       "      <td>NaN</td>\n",
       "      <td>NaN</td>\n",
       "      <td>NaN</td>\n",
       "      <td>NaN</td>\n",
       "    </tr>\n",
       "    <tr>\n",
       "      <th>899</th>\n",
       "      <td>62175</td>\n",
       "      <td>12.602917</td>\n",
       "      <td>55.553750</td>\n",
       "      <td>0.919192</td>\n",
       "      <td>POLYGON ((12.59874995049724 55.54958329328848,...</td>\n",
       "      <td>62175</td>\n",
       "      <td>0</td>\n",
       "      <td>0</td>\n",
       "      <td>0</td>\n",
       "      <td>0</td>\n",
       "      <td>0</td>\n",
       "      <td>0</td>\n",
       "      <td>0</td>\n",
       "      <td>NaN</td>\n",
       "      <td>NaN</td>\n",
       "      <td>NaN</td>\n",
       "      <td>NaN</td>\n",
       "      <td>NaN</td>\n",
       "      <td>NaN</td>\n",
       "    </tr>\n",
       "  </tbody>\n",
       "</table>\n",
       "<p>900 rows × 19 columns</p>\n",
       "</div>"
      ],
      "text/plain": [
       "     Unnamed: 0        lon        lat  population_density  \\\n",
       "0         51577  12.319583  55.770417          165.166046   \n",
       "1         51578  12.327917  55.770417          168.394638   \n",
       "2         51579  12.336250  55.770417          103.640099   \n",
       "3         51580  12.344583  55.770417           98.206757   \n",
       "4         51581  12.352917  55.770417           79.473259   \n",
       "..          ...        ...        ...                 ...   \n",
       "895       61764  12.619583  55.562083           14.762961   \n",
       "896       62172  12.577917  55.553750           11.002125   \n",
       "897       62173  12.586250  55.553750           34.579926   \n",
       "898       62174  12.594583  55.553750           29.629675   \n",
       "899       62175  12.602917  55.553750            0.919192   \n",
       "\n",
       "                                               polygon     id  osm_node_count  \\\n",
       "0    POLYGON ((12.31541661829724 55.76624995908848,...  51577              40   \n",
       "1    POLYGON ((12.32374995159724 55.76624995908848,...  51578              45   \n",
       "2    POLYGON ((12.33208328489724 55.76624995908848,...  51579              79   \n",
       "3    POLYGON ((12.34041661819724 55.76624995908848,...  51580              34   \n",
       "4    POLYGON ((12.34874995149724 55.76624995908848,...  51581              24   \n",
       "..                                                 ...    ...             ...   \n",
       "895  POLYGON ((12.61541661709724 55.55791662658848,...  61764               1   \n",
       "896  POLYGON ((12.57374995059724 55.54958329328848,...  62172               0   \n",
       "897  POLYGON ((12.58208328389724 55.54958329328848,...  62173               0   \n",
       "898  POLYGON ((12.59041661719724 55.54958329328848,...  62174               0   \n",
       "899  POLYGON ((12.59874995049724 55.54958329328848,...  62175               0   \n",
       "\n",
       "     acc_restaurant_dist  acc_bar_dist  acc_school_dist  acc_toilets_dist  \\\n",
       "0                  40000         40000            40000             40000   \n",
       "1                  45000         45000            45000             45000   \n",
       "2                  78665         79000            79000             79000   \n",
       "3                  34000         34000            34000             34000   \n",
       "4                  24000         24000            24000             23543   \n",
       "..                   ...           ...              ...               ...   \n",
       "895                 1000          1000             1000              1000   \n",
       "896                    0             0                0                 0   \n",
       "897                    0             0                0                 0   \n",
       "898                    0             0                0                 0   \n",
       "899                    0             0                0                 0   \n",
       "\n",
       "     acc_college_dist  acc_hospital_dist  avg_restaurant_dist  avg_bar_dist  \\\n",
       "0               40000              40000          1000.000000        1000.0   \n",
       "1               45000              45000          1000.000000        1000.0   \n",
       "2               79000              79000           995.759494        1000.0   \n",
       "3               34000              34000          1000.000000        1000.0   \n",
       "4               24000              24000          1000.000000        1000.0   \n",
       "..                ...                ...                  ...           ...   \n",
       "895              1000               1000          1000.000000        1000.0   \n",
       "896                 0                  0                  NaN           NaN   \n",
       "897                 0                  0                  NaN           NaN   \n",
       "898                 0                  0                  NaN           NaN   \n",
       "899                 0                  0                  NaN           NaN   \n",
       "\n",
       "     avg_school_dist  avg_toilets_dist  avg_college_dist  avg_hospital_dist  \n",
       "0             1000.0       1000.000000            1000.0             1000.0  \n",
       "1             1000.0       1000.000000            1000.0             1000.0  \n",
       "2             1000.0       1000.000000            1000.0             1000.0  \n",
       "3             1000.0       1000.000000            1000.0             1000.0  \n",
       "4             1000.0        980.958333            1000.0             1000.0  \n",
       "..               ...               ...               ...                ...  \n",
       "895           1000.0       1000.000000            1000.0             1000.0  \n",
       "896              NaN               NaN               NaN                NaN  \n",
       "897              NaN               NaN               NaN                NaN  \n",
       "898              NaN               NaN               NaN                NaN  \n",
       "899              NaN               NaN               NaN                NaN  \n",
       "\n",
       "[900 rows x 19 columns]"
      ]
     },
     "execution_count": 6,
     "metadata": {},
     "output_type": "execute_result"
    }
   ],
   "source": [
    "orig_df = pd.read_csv(\"cph_pop_and_access_1k.csv\")\n",
    "\n",
    "orig_df"
   ]
  },
  {
   "cell_type": "code",
   "execution_count": 21,
   "id": "f7df83d8",
   "metadata": {},
   "outputs": [
    {
     "data": {
      "text/html": [
       "<div>\n",
       "<style scoped>\n",
       "    .dataframe tbody tr th:only-of-type {\n",
       "        vertical-align: middle;\n",
       "    }\n",
       "\n",
       "    .dataframe tbody tr th {\n",
       "        vertical-align: top;\n",
       "    }\n",
       "\n",
       "    .dataframe thead th {\n",
       "        text-align: right;\n",
       "    }\n",
       "</style>\n",
       "<table border=\"1\" class=\"dataframe\">\n",
       "  <thead>\n",
       "    <tr style=\"text-align: right;\">\n",
       "      <th></th>\n",
       "      <th>lon</th>\n",
       "      <th>lat</th>\n",
       "      <th>population_density</th>\n",
       "      <th>avg_restaurant_dist</th>\n",
       "      <th>avg_bar_dist</th>\n",
       "      <th>avg_school_dist</th>\n",
       "      <th>avg_toilets_dist</th>\n",
       "      <th>avg_college_dist</th>\n",
       "      <th>avg_hospital_dist</th>\n",
       "    </tr>\n",
       "  </thead>\n",
       "  <tbody>\n",
       "    <tr>\n",
       "      <th>0</th>\n",
       "      <td>12.319583</td>\n",
       "      <td>55.770417</td>\n",
       "      <td>165.166046</td>\n",
       "      <td>1000.000000</td>\n",
       "      <td>1000.0</td>\n",
       "      <td>1000.0</td>\n",
       "      <td>1000.000000</td>\n",
       "      <td>1000.0</td>\n",
       "      <td>1000.0</td>\n",
       "    </tr>\n",
       "    <tr>\n",
       "      <th>1</th>\n",
       "      <td>12.327917</td>\n",
       "      <td>55.770417</td>\n",
       "      <td>168.394638</td>\n",
       "      <td>1000.000000</td>\n",
       "      <td>1000.0</td>\n",
       "      <td>1000.0</td>\n",
       "      <td>1000.000000</td>\n",
       "      <td>1000.0</td>\n",
       "      <td>1000.0</td>\n",
       "    </tr>\n",
       "    <tr>\n",
       "      <th>2</th>\n",
       "      <td>12.336250</td>\n",
       "      <td>55.770417</td>\n",
       "      <td>103.640099</td>\n",
       "      <td>995.759494</td>\n",
       "      <td>1000.0</td>\n",
       "      <td>1000.0</td>\n",
       "      <td>1000.000000</td>\n",
       "      <td>1000.0</td>\n",
       "      <td>1000.0</td>\n",
       "    </tr>\n",
       "    <tr>\n",
       "      <th>3</th>\n",
       "      <td>12.344583</td>\n",
       "      <td>55.770417</td>\n",
       "      <td>98.206757</td>\n",
       "      <td>1000.000000</td>\n",
       "      <td>1000.0</td>\n",
       "      <td>1000.0</td>\n",
       "      <td>1000.000000</td>\n",
       "      <td>1000.0</td>\n",
       "      <td>1000.0</td>\n",
       "    </tr>\n",
       "    <tr>\n",
       "      <th>4</th>\n",
       "      <td>12.352917</td>\n",
       "      <td>55.770417</td>\n",
       "      <td>79.473259</td>\n",
       "      <td>1000.000000</td>\n",
       "      <td>1000.0</td>\n",
       "      <td>1000.0</td>\n",
       "      <td>980.958333</td>\n",
       "      <td>1000.0</td>\n",
       "      <td>1000.0</td>\n",
       "    </tr>\n",
       "    <tr>\n",
       "      <th>...</th>\n",
       "      <td>...</td>\n",
       "      <td>...</td>\n",
       "      <td>...</td>\n",
       "      <td>...</td>\n",
       "      <td>...</td>\n",
       "      <td>...</td>\n",
       "      <td>...</td>\n",
       "      <td>...</td>\n",
       "      <td>...</td>\n",
       "    </tr>\n",
       "    <tr>\n",
       "      <th>895</th>\n",
       "      <td>12.619583</td>\n",
       "      <td>55.562083</td>\n",
       "      <td>14.762961</td>\n",
       "      <td>1000.000000</td>\n",
       "      <td>1000.0</td>\n",
       "      <td>1000.0</td>\n",
       "      <td>1000.000000</td>\n",
       "      <td>1000.0</td>\n",
       "      <td>1000.0</td>\n",
       "    </tr>\n",
       "    <tr>\n",
       "      <th>896</th>\n",
       "      <td>12.577917</td>\n",
       "      <td>55.553750</td>\n",
       "      <td>11.002125</td>\n",
       "      <td>NaN</td>\n",
       "      <td>NaN</td>\n",
       "      <td>NaN</td>\n",
       "      <td>NaN</td>\n",
       "      <td>NaN</td>\n",
       "      <td>NaN</td>\n",
       "    </tr>\n",
       "    <tr>\n",
       "      <th>897</th>\n",
       "      <td>12.586250</td>\n",
       "      <td>55.553750</td>\n",
       "      <td>34.579926</td>\n",
       "      <td>NaN</td>\n",
       "      <td>NaN</td>\n",
       "      <td>NaN</td>\n",
       "      <td>NaN</td>\n",
       "      <td>NaN</td>\n",
       "      <td>NaN</td>\n",
       "    </tr>\n",
       "    <tr>\n",
       "      <th>898</th>\n",
       "      <td>12.594583</td>\n",
       "      <td>55.553750</td>\n",
       "      <td>29.629675</td>\n",
       "      <td>NaN</td>\n",
       "      <td>NaN</td>\n",
       "      <td>NaN</td>\n",
       "      <td>NaN</td>\n",
       "      <td>NaN</td>\n",
       "      <td>NaN</td>\n",
       "    </tr>\n",
       "    <tr>\n",
       "      <th>899</th>\n",
       "      <td>12.602917</td>\n",
       "      <td>55.553750</td>\n",
       "      <td>0.919192</td>\n",
       "      <td>NaN</td>\n",
       "      <td>NaN</td>\n",
       "      <td>NaN</td>\n",
       "      <td>NaN</td>\n",
       "      <td>NaN</td>\n",
       "      <td>NaN</td>\n",
       "    </tr>\n",
       "  </tbody>\n",
       "</table>\n",
       "<p>900 rows × 9 columns</p>\n",
       "</div>"
      ],
      "text/plain": [
       "           lon        lat  population_density  avg_restaurant_dist  \\\n",
       "0    12.319583  55.770417          165.166046          1000.000000   \n",
       "1    12.327917  55.770417          168.394638          1000.000000   \n",
       "2    12.336250  55.770417          103.640099           995.759494   \n",
       "3    12.344583  55.770417           98.206757          1000.000000   \n",
       "4    12.352917  55.770417           79.473259          1000.000000   \n",
       "..         ...        ...                 ...                  ...   \n",
       "895  12.619583  55.562083           14.762961          1000.000000   \n",
       "896  12.577917  55.553750           11.002125                  NaN   \n",
       "897  12.586250  55.553750           34.579926                  NaN   \n",
       "898  12.594583  55.553750           29.629675                  NaN   \n",
       "899  12.602917  55.553750            0.919192                  NaN   \n",
       "\n",
       "     avg_bar_dist  avg_school_dist  avg_toilets_dist  avg_college_dist  \\\n",
       "0          1000.0           1000.0       1000.000000            1000.0   \n",
       "1          1000.0           1000.0       1000.000000            1000.0   \n",
       "2          1000.0           1000.0       1000.000000            1000.0   \n",
       "3          1000.0           1000.0       1000.000000            1000.0   \n",
       "4          1000.0           1000.0        980.958333            1000.0   \n",
       "..            ...              ...               ...               ...   \n",
       "895        1000.0           1000.0       1000.000000            1000.0   \n",
       "896           NaN              NaN               NaN               NaN   \n",
       "897           NaN              NaN               NaN               NaN   \n",
       "898           NaN              NaN               NaN               NaN   \n",
       "899           NaN              NaN               NaN               NaN   \n",
       "\n",
       "     avg_hospital_dist  \n",
       "0               1000.0  \n",
       "1               1000.0  \n",
       "2               1000.0  \n",
       "3               1000.0  \n",
       "4               1000.0  \n",
       "..                 ...  \n",
       "895             1000.0  \n",
       "896                NaN  \n",
       "897                NaN  \n",
       "898                NaN  \n",
       "899                NaN  \n",
       "\n",
       "[900 rows x 9 columns]"
      ]
     },
     "execution_count": 21,
     "metadata": {},
     "output_type": "execute_result"
    }
   ],
   "source": [
    "amenity_distances = [\"avg_restaurant_dist\", \"avg_bar_dist\", \"avg_school_dist\", \"avg_toilets_dist\", \"avg_college_dist\", \"avg_hospital_dist\"]\n",
    "\n",
    "df = orig_df[[\"lon\", \"lat\", \"population_density\"] + amenity_distances]\n",
    "\n",
    "df"
   ]
  },
  {
   "cell_type": "code",
   "execution_count": 22,
   "id": "2bc70d0b",
   "metadata": {},
   "outputs": [],
   "source": [
    "df = df.fillna(1000)"
   ]
  },
  {
   "cell_type": "code",
   "execution_count": 23,
   "id": "26f5a786",
   "metadata": {},
   "outputs": [
    {
     "data": {
      "text/html": [
       "<div>\n",
       "<style scoped>\n",
       "    .dataframe tbody tr th:only-of-type {\n",
       "        vertical-align: middle;\n",
       "    }\n",
       "\n",
       "    .dataframe tbody tr th {\n",
       "        vertical-align: top;\n",
       "    }\n",
       "\n",
       "    .dataframe thead th {\n",
       "        text-align: right;\n",
       "    }\n",
       "</style>\n",
       "<table border=\"1\" class=\"dataframe\">\n",
       "  <thead>\n",
       "    <tr style=\"text-align: right;\">\n",
       "      <th></th>\n",
       "      <th>lon</th>\n",
       "      <th>lat</th>\n",
       "      <th>population_density</th>\n",
       "      <th>avg_restaurant_dist</th>\n",
       "      <th>avg_bar_dist</th>\n",
       "      <th>avg_school_dist</th>\n",
       "      <th>avg_toilets_dist</th>\n",
       "      <th>avg_college_dist</th>\n",
       "      <th>avg_hospital_dist</th>\n",
       "    </tr>\n",
       "  </thead>\n",
       "  <tbody>\n",
       "    <tr>\n",
       "      <th>0</th>\n",
       "      <td>12.319583</td>\n",
       "      <td>55.770417</td>\n",
       "      <td>165.166046</td>\n",
       "      <td>1000.000000</td>\n",
       "      <td>1000.0</td>\n",
       "      <td>1000.0</td>\n",
       "      <td>1000.000000</td>\n",
       "      <td>1000.0</td>\n",
       "      <td>1000.0</td>\n",
       "    </tr>\n",
       "    <tr>\n",
       "      <th>1</th>\n",
       "      <td>12.327917</td>\n",
       "      <td>55.770417</td>\n",
       "      <td>168.394638</td>\n",
       "      <td>1000.000000</td>\n",
       "      <td>1000.0</td>\n",
       "      <td>1000.0</td>\n",
       "      <td>1000.000000</td>\n",
       "      <td>1000.0</td>\n",
       "      <td>1000.0</td>\n",
       "    </tr>\n",
       "    <tr>\n",
       "      <th>2</th>\n",
       "      <td>12.336250</td>\n",
       "      <td>55.770417</td>\n",
       "      <td>103.640099</td>\n",
       "      <td>995.759494</td>\n",
       "      <td>1000.0</td>\n",
       "      <td>1000.0</td>\n",
       "      <td>1000.000000</td>\n",
       "      <td>1000.0</td>\n",
       "      <td>1000.0</td>\n",
       "    </tr>\n",
       "    <tr>\n",
       "      <th>3</th>\n",
       "      <td>12.344583</td>\n",
       "      <td>55.770417</td>\n",
       "      <td>98.206757</td>\n",
       "      <td>1000.000000</td>\n",
       "      <td>1000.0</td>\n",
       "      <td>1000.0</td>\n",
       "      <td>1000.000000</td>\n",
       "      <td>1000.0</td>\n",
       "      <td>1000.0</td>\n",
       "    </tr>\n",
       "    <tr>\n",
       "      <th>4</th>\n",
       "      <td>12.352917</td>\n",
       "      <td>55.770417</td>\n",
       "      <td>79.473259</td>\n",
       "      <td>1000.000000</td>\n",
       "      <td>1000.0</td>\n",
       "      <td>1000.0</td>\n",
       "      <td>980.958333</td>\n",
       "      <td>1000.0</td>\n",
       "      <td>1000.0</td>\n",
       "    </tr>\n",
       "    <tr>\n",
       "      <th>...</th>\n",
       "      <td>...</td>\n",
       "      <td>...</td>\n",
       "      <td>...</td>\n",
       "      <td>...</td>\n",
       "      <td>...</td>\n",
       "      <td>...</td>\n",
       "      <td>...</td>\n",
       "      <td>...</td>\n",
       "      <td>...</td>\n",
       "    </tr>\n",
       "    <tr>\n",
       "      <th>895</th>\n",
       "      <td>12.619583</td>\n",
       "      <td>55.562083</td>\n",
       "      <td>14.762961</td>\n",
       "      <td>1000.000000</td>\n",
       "      <td>1000.0</td>\n",
       "      <td>1000.0</td>\n",
       "      <td>1000.000000</td>\n",
       "      <td>1000.0</td>\n",
       "      <td>1000.0</td>\n",
       "    </tr>\n",
       "    <tr>\n",
       "      <th>896</th>\n",
       "      <td>12.577917</td>\n",
       "      <td>55.553750</td>\n",
       "      <td>11.002125</td>\n",
       "      <td>1000.000000</td>\n",
       "      <td>1000.0</td>\n",
       "      <td>1000.0</td>\n",
       "      <td>1000.000000</td>\n",
       "      <td>1000.0</td>\n",
       "      <td>1000.0</td>\n",
       "    </tr>\n",
       "    <tr>\n",
       "      <th>897</th>\n",
       "      <td>12.586250</td>\n",
       "      <td>55.553750</td>\n",
       "      <td>34.579926</td>\n",
       "      <td>1000.000000</td>\n",
       "      <td>1000.0</td>\n",
       "      <td>1000.0</td>\n",
       "      <td>1000.000000</td>\n",
       "      <td>1000.0</td>\n",
       "      <td>1000.0</td>\n",
       "    </tr>\n",
       "    <tr>\n",
       "      <th>898</th>\n",
       "      <td>12.594583</td>\n",
       "      <td>55.553750</td>\n",
       "      <td>29.629675</td>\n",
       "      <td>1000.000000</td>\n",
       "      <td>1000.0</td>\n",
       "      <td>1000.0</td>\n",
       "      <td>1000.000000</td>\n",
       "      <td>1000.0</td>\n",
       "      <td>1000.0</td>\n",
       "    </tr>\n",
       "    <tr>\n",
       "      <th>899</th>\n",
       "      <td>12.602917</td>\n",
       "      <td>55.553750</td>\n",
       "      <td>0.919192</td>\n",
       "      <td>1000.000000</td>\n",
       "      <td>1000.0</td>\n",
       "      <td>1000.0</td>\n",
       "      <td>1000.000000</td>\n",
       "      <td>1000.0</td>\n",
       "      <td>1000.0</td>\n",
       "    </tr>\n",
       "  </tbody>\n",
       "</table>\n",
       "<p>900 rows × 9 columns</p>\n",
       "</div>"
      ],
      "text/plain": [
       "           lon        lat  population_density  avg_restaurant_dist  \\\n",
       "0    12.319583  55.770417          165.166046          1000.000000   \n",
       "1    12.327917  55.770417          168.394638          1000.000000   \n",
       "2    12.336250  55.770417          103.640099           995.759494   \n",
       "3    12.344583  55.770417           98.206757          1000.000000   \n",
       "4    12.352917  55.770417           79.473259          1000.000000   \n",
       "..         ...        ...                 ...                  ...   \n",
       "895  12.619583  55.562083           14.762961          1000.000000   \n",
       "896  12.577917  55.553750           11.002125          1000.000000   \n",
       "897  12.586250  55.553750           34.579926          1000.000000   \n",
       "898  12.594583  55.553750           29.629675          1000.000000   \n",
       "899  12.602917  55.553750            0.919192          1000.000000   \n",
       "\n",
       "     avg_bar_dist  avg_school_dist  avg_toilets_dist  avg_college_dist  \\\n",
       "0          1000.0           1000.0       1000.000000            1000.0   \n",
       "1          1000.0           1000.0       1000.000000            1000.0   \n",
       "2          1000.0           1000.0       1000.000000            1000.0   \n",
       "3          1000.0           1000.0       1000.000000            1000.0   \n",
       "4          1000.0           1000.0        980.958333            1000.0   \n",
       "..            ...              ...               ...               ...   \n",
       "895        1000.0           1000.0       1000.000000            1000.0   \n",
       "896        1000.0           1000.0       1000.000000            1000.0   \n",
       "897        1000.0           1000.0       1000.000000            1000.0   \n",
       "898        1000.0           1000.0       1000.000000            1000.0   \n",
       "899        1000.0           1000.0       1000.000000            1000.0   \n",
       "\n",
       "     avg_hospital_dist  \n",
       "0               1000.0  \n",
       "1               1000.0  \n",
       "2               1000.0  \n",
       "3               1000.0  \n",
       "4               1000.0  \n",
       "..                 ...  \n",
       "895             1000.0  \n",
       "896             1000.0  \n",
       "897             1000.0  \n",
       "898             1000.0  \n",
       "899             1000.0  \n",
       "\n",
       "[900 rows x 9 columns]"
      ]
     },
     "execution_count": 23,
     "metadata": {},
     "output_type": "execute_result"
    }
   ],
   "source": [
    "df"
   ]
  },
  {
   "cell_type": "code",
   "execution_count": 28,
   "id": "3db4ee9d",
   "metadata": {},
   "outputs": [
    {
     "data": {
      "text/html": [
       "<div>\n",
       "<style scoped>\n",
       "    .dataframe tbody tr th:only-of-type {\n",
       "        vertical-align: middle;\n",
       "    }\n",
       "\n",
       "    .dataframe tbody tr th {\n",
       "        vertical-align: top;\n",
       "    }\n",
       "\n",
       "    .dataframe thead th {\n",
       "        text-align: right;\n",
       "    }\n",
       "</style>\n",
       "<table border=\"1\" class=\"dataframe\">\n",
       "  <thead>\n",
       "    <tr style=\"text-align: right;\">\n",
       "      <th></th>\n",
       "      <th>lon</th>\n",
       "      <th>lat</th>\n",
       "      <th>population_density</th>\n",
       "      <th>avg_restaurant_dist</th>\n",
       "      <th>avg_bar_dist</th>\n",
       "      <th>avg_school_dist</th>\n",
       "      <th>avg_toilets_dist</th>\n",
       "      <th>avg_college_dist</th>\n",
       "      <th>avg_hospital_dist</th>\n",
       "      <th>avg_user_selction</th>\n",
       "      <th>avg_user_selection</th>\n",
       "    </tr>\n",
       "  </thead>\n",
       "  <tbody>\n",
       "    <tr>\n",
       "      <th>0</th>\n",
       "      <td>12.319583</td>\n",
       "      <td>55.770417</td>\n",
       "      <td>165.166046</td>\n",
       "      <td>1000.000000</td>\n",
       "      <td>1000.0</td>\n",
       "      <td>1000.0</td>\n",
       "      <td>1000.000000</td>\n",
       "      <td>1000.0</td>\n",
       "      <td>1000.0</td>\n",
       "      <td>0</td>\n",
       "      <td>0</td>\n",
       "    </tr>\n",
       "    <tr>\n",
       "      <th>1</th>\n",
       "      <td>12.327917</td>\n",
       "      <td>55.770417</td>\n",
       "      <td>168.394638</td>\n",
       "      <td>1000.000000</td>\n",
       "      <td>1000.0</td>\n",
       "      <td>1000.0</td>\n",
       "      <td>1000.000000</td>\n",
       "      <td>1000.0</td>\n",
       "      <td>1000.0</td>\n",
       "      <td>0</td>\n",
       "      <td>0</td>\n",
       "    </tr>\n",
       "    <tr>\n",
       "      <th>2</th>\n",
       "      <td>12.336250</td>\n",
       "      <td>55.770417</td>\n",
       "      <td>103.640099</td>\n",
       "      <td>995.759494</td>\n",
       "      <td>1000.0</td>\n",
       "      <td>1000.0</td>\n",
       "      <td>1000.000000</td>\n",
       "      <td>1000.0</td>\n",
       "      <td>1000.0</td>\n",
       "      <td>0</td>\n",
       "      <td>0</td>\n",
       "    </tr>\n",
       "    <tr>\n",
       "      <th>3</th>\n",
       "      <td>12.344583</td>\n",
       "      <td>55.770417</td>\n",
       "      <td>98.206757</td>\n",
       "      <td>1000.000000</td>\n",
       "      <td>1000.0</td>\n",
       "      <td>1000.0</td>\n",
       "      <td>1000.000000</td>\n",
       "      <td>1000.0</td>\n",
       "      <td>1000.0</td>\n",
       "      <td>0</td>\n",
       "      <td>0</td>\n",
       "    </tr>\n",
       "    <tr>\n",
       "      <th>4</th>\n",
       "      <td>12.352917</td>\n",
       "      <td>55.770417</td>\n",
       "      <td>79.473259</td>\n",
       "      <td>1000.000000</td>\n",
       "      <td>1000.0</td>\n",
       "      <td>1000.0</td>\n",
       "      <td>980.958333</td>\n",
       "      <td>1000.0</td>\n",
       "      <td>1000.0</td>\n",
       "      <td>0</td>\n",
       "      <td>0</td>\n",
       "    </tr>\n",
       "    <tr>\n",
       "      <th>...</th>\n",
       "      <td>...</td>\n",
       "      <td>...</td>\n",
       "      <td>...</td>\n",
       "      <td>...</td>\n",
       "      <td>...</td>\n",
       "      <td>...</td>\n",
       "      <td>...</td>\n",
       "      <td>...</td>\n",
       "      <td>...</td>\n",
       "      <td>...</td>\n",
       "      <td>...</td>\n",
       "    </tr>\n",
       "    <tr>\n",
       "      <th>895</th>\n",
       "      <td>12.619583</td>\n",
       "      <td>55.562083</td>\n",
       "      <td>14.762961</td>\n",
       "      <td>1000.000000</td>\n",
       "      <td>1000.0</td>\n",
       "      <td>1000.0</td>\n",
       "      <td>1000.000000</td>\n",
       "      <td>1000.0</td>\n",
       "      <td>1000.0</td>\n",
       "      <td>0</td>\n",
       "      <td>0</td>\n",
       "    </tr>\n",
       "    <tr>\n",
       "      <th>896</th>\n",
       "      <td>12.577917</td>\n",
       "      <td>55.553750</td>\n",
       "      <td>11.002125</td>\n",
       "      <td>1000.000000</td>\n",
       "      <td>1000.0</td>\n",
       "      <td>1000.0</td>\n",
       "      <td>1000.000000</td>\n",
       "      <td>1000.0</td>\n",
       "      <td>1000.0</td>\n",
       "      <td>0</td>\n",
       "      <td>0</td>\n",
       "    </tr>\n",
       "    <tr>\n",
       "      <th>897</th>\n",
       "      <td>12.586250</td>\n",
       "      <td>55.553750</td>\n",
       "      <td>34.579926</td>\n",
       "      <td>1000.000000</td>\n",
       "      <td>1000.0</td>\n",
       "      <td>1000.0</td>\n",
       "      <td>1000.000000</td>\n",
       "      <td>1000.0</td>\n",
       "      <td>1000.0</td>\n",
       "      <td>0</td>\n",
       "      <td>0</td>\n",
       "    </tr>\n",
       "    <tr>\n",
       "      <th>898</th>\n",
       "      <td>12.594583</td>\n",
       "      <td>55.553750</td>\n",
       "      <td>29.629675</td>\n",
       "      <td>1000.000000</td>\n",
       "      <td>1000.0</td>\n",
       "      <td>1000.0</td>\n",
       "      <td>1000.000000</td>\n",
       "      <td>1000.0</td>\n",
       "      <td>1000.0</td>\n",
       "      <td>0</td>\n",
       "      <td>0</td>\n",
       "    </tr>\n",
       "    <tr>\n",
       "      <th>899</th>\n",
       "      <td>12.602917</td>\n",
       "      <td>55.553750</td>\n",
       "      <td>0.919192</td>\n",
       "      <td>1000.000000</td>\n",
       "      <td>1000.0</td>\n",
       "      <td>1000.0</td>\n",
       "      <td>1000.000000</td>\n",
       "      <td>1000.0</td>\n",
       "      <td>1000.0</td>\n",
       "      <td>0</td>\n",
       "      <td>0</td>\n",
       "    </tr>\n",
       "  </tbody>\n",
       "</table>\n",
       "<p>900 rows × 11 columns</p>\n",
       "</div>"
      ],
      "text/plain": [
       "           lon        lat  population_density  avg_restaurant_dist  \\\n",
       "0    12.319583  55.770417          165.166046          1000.000000   \n",
       "1    12.327917  55.770417          168.394638          1000.000000   \n",
       "2    12.336250  55.770417          103.640099           995.759494   \n",
       "3    12.344583  55.770417           98.206757          1000.000000   \n",
       "4    12.352917  55.770417           79.473259          1000.000000   \n",
       "..         ...        ...                 ...                  ...   \n",
       "895  12.619583  55.562083           14.762961          1000.000000   \n",
       "896  12.577917  55.553750           11.002125          1000.000000   \n",
       "897  12.586250  55.553750           34.579926          1000.000000   \n",
       "898  12.594583  55.553750           29.629675          1000.000000   \n",
       "899  12.602917  55.553750            0.919192          1000.000000   \n",
       "\n",
       "     avg_bar_dist  avg_school_dist  avg_toilets_dist  avg_college_dist  \\\n",
       "0          1000.0           1000.0       1000.000000            1000.0   \n",
       "1          1000.0           1000.0       1000.000000            1000.0   \n",
       "2          1000.0           1000.0       1000.000000            1000.0   \n",
       "3          1000.0           1000.0       1000.000000            1000.0   \n",
       "4          1000.0           1000.0        980.958333            1000.0   \n",
       "..            ...              ...               ...               ...   \n",
       "895        1000.0           1000.0       1000.000000            1000.0   \n",
       "896        1000.0           1000.0       1000.000000            1000.0   \n",
       "897        1000.0           1000.0       1000.000000            1000.0   \n",
       "898        1000.0           1000.0       1000.000000            1000.0   \n",
       "899        1000.0           1000.0       1000.000000            1000.0   \n",
       "\n",
       "     avg_hospital_dist  avg_user_selction  avg_user_selection  \n",
       "0               1000.0                  0                   0  \n",
       "1               1000.0                  0                   0  \n",
       "2               1000.0                  0                   0  \n",
       "3               1000.0                  0                   0  \n",
       "4               1000.0                  0                   0  \n",
       "..                 ...                ...                 ...  \n",
       "895             1000.0                  0                   0  \n",
       "896             1000.0                  0                   0  \n",
       "897             1000.0                  0                   0  \n",
       "898             1000.0                  0                   0  \n",
       "899             1000.0                  0                   0  \n",
       "\n",
       "[900 rows x 11 columns]"
      ]
     },
     "execution_count": 28,
     "metadata": {},
     "output_type": "execute_result"
    }
   ],
   "source": [
    "df[\"avg_user_selection\"] = 0\n",
    "\n",
    "df"
   ]
  },
  {
   "cell_type": "code",
   "execution_count": 34,
   "id": "98a6c498",
   "metadata": {},
   "outputs": [
    {
     "data": {
      "text/html": [
       "<div>\n",
       "<style scoped>\n",
       "    .dataframe tbody tr th:only-of-type {\n",
       "        vertical-align: middle;\n",
       "    }\n",
       "\n",
       "    .dataframe tbody tr th {\n",
       "        vertical-align: top;\n",
       "    }\n",
       "\n",
       "    .dataframe thead th {\n",
       "        text-align: right;\n",
       "    }\n",
       "</style>\n",
       "<table border=\"1\" class=\"dataframe\">\n",
       "  <thead>\n",
       "    <tr style=\"text-align: right;\">\n",
       "      <th></th>\n",
       "      <th>lon</th>\n",
       "      <th>lat</th>\n",
       "      <th>population_density</th>\n",
       "      <th>avg_restaurant_dist</th>\n",
       "      <th>avg_bar_dist</th>\n",
       "      <th>avg_school_dist</th>\n",
       "      <th>avg_toilets_dist</th>\n",
       "      <th>avg_college_dist</th>\n",
       "      <th>avg_hospital_dist</th>\n",
       "      <th>avg_user_selction</th>\n",
       "      <th>avg_user_selection</th>\n",
       "    </tr>\n",
       "  </thead>\n",
       "  <tbody>\n",
       "    <tr>\n",
       "      <th>0</th>\n",
       "      <td>12.319583</td>\n",
       "      <td>55.770417</td>\n",
       "      <td>165.166046</td>\n",
       "      <td>1000.000000</td>\n",
       "      <td>1000.0</td>\n",
       "      <td>1000.0</td>\n",
       "      <td>1000.000000</td>\n",
       "      <td>1000.0</td>\n",
       "      <td>1000.0</td>\n",
       "      <td>0</td>\n",
       "      <td>1000.000000</td>\n",
       "    </tr>\n",
       "    <tr>\n",
       "      <th>1</th>\n",
       "      <td>12.327917</td>\n",
       "      <td>55.770417</td>\n",
       "      <td>168.394638</td>\n",
       "      <td>1000.000000</td>\n",
       "      <td>1000.0</td>\n",
       "      <td>1000.0</td>\n",
       "      <td>1000.000000</td>\n",
       "      <td>1000.0</td>\n",
       "      <td>1000.0</td>\n",
       "      <td>0</td>\n",
       "      <td>1000.000000</td>\n",
       "    </tr>\n",
       "    <tr>\n",
       "      <th>2</th>\n",
       "      <td>12.336250</td>\n",
       "      <td>55.770417</td>\n",
       "      <td>103.640099</td>\n",
       "      <td>995.759494</td>\n",
       "      <td>1000.0</td>\n",
       "      <td>1000.0</td>\n",
       "      <td>1000.000000</td>\n",
       "      <td>1000.0</td>\n",
       "      <td>1000.0</td>\n",
       "      <td>0</td>\n",
       "      <td>998.586498</td>\n",
       "    </tr>\n",
       "    <tr>\n",
       "      <th>3</th>\n",
       "      <td>12.344583</td>\n",
       "      <td>55.770417</td>\n",
       "      <td>98.206757</td>\n",
       "      <td>1000.000000</td>\n",
       "      <td>1000.0</td>\n",
       "      <td>1000.0</td>\n",
       "      <td>1000.000000</td>\n",
       "      <td>1000.0</td>\n",
       "      <td>1000.0</td>\n",
       "      <td>0</td>\n",
       "      <td>1000.000000</td>\n",
       "    </tr>\n",
       "    <tr>\n",
       "      <th>4</th>\n",
       "      <td>12.352917</td>\n",
       "      <td>55.770417</td>\n",
       "      <td>79.473259</td>\n",
       "      <td>1000.000000</td>\n",
       "      <td>1000.0</td>\n",
       "      <td>1000.0</td>\n",
       "      <td>980.958333</td>\n",
       "      <td>1000.0</td>\n",
       "      <td>1000.0</td>\n",
       "      <td>0</td>\n",
       "      <td>993.652778</td>\n",
       "    </tr>\n",
       "    <tr>\n",
       "      <th>...</th>\n",
       "      <td>...</td>\n",
       "      <td>...</td>\n",
       "      <td>...</td>\n",
       "      <td>...</td>\n",
       "      <td>...</td>\n",
       "      <td>...</td>\n",
       "      <td>...</td>\n",
       "      <td>...</td>\n",
       "      <td>...</td>\n",
       "      <td>...</td>\n",
       "      <td>...</td>\n",
       "    </tr>\n",
       "    <tr>\n",
       "      <th>895</th>\n",
       "      <td>12.619583</td>\n",
       "      <td>55.562083</td>\n",
       "      <td>14.762961</td>\n",
       "      <td>1000.000000</td>\n",
       "      <td>1000.0</td>\n",
       "      <td>1000.0</td>\n",
       "      <td>1000.000000</td>\n",
       "      <td>1000.0</td>\n",
       "      <td>1000.0</td>\n",
       "      <td>0</td>\n",
       "      <td>1000.000000</td>\n",
       "    </tr>\n",
       "    <tr>\n",
       "      <th>896</th>\n",
       "      <td>12.577917</td>\n",
       "      <td>55.553750</td>\n",
       "      <td>11.002125</td>\n",
       "      <td>1000.000000</td>\n",
       "      <td>1000.0</td>\n",
       "      <td>1000.0</td>\n",
       "      <td>1000.000000</td>\n",
       "      <td>1000.0</td>\n",
       "      <td>1000.0</td>\n",
       "      <td>0</td>\n",
       "      <td>1000.000000</td>\n",
       "    </tr>\n",
       "    <tr>\n",
       "      <th>897</th>\n",
       "      <td>12.586250</td>\n",
       "      <td>55.553750</td>\n",
       "      <td>34.579926</td>\n",
       "      <td>1000.000000</td>\n",
       "      <td>1000.0</td>\n",
       "      <td>1000.0</td>\n",
       "      <td>1000.000000</td>\n",
       "      <td>1000.0</td>\n",
       "      <td>1000.0</td>\n",
       "      <td>0</td>\n",
       "      <td>1000.000000</td>\n",
       "    </tr>\n",
       "    <tr>\n",
       "      <th>898</th>\n",
       "      <td>12.594583</td>\n",
       "      <td>55.553750</td>\n",
       "      <td>29.629675</td>\n",
       "      <td>1000.000000</td>\n",
       "      <td>1000.0</td>\n",
       "      <td>1000.0</td>\n",
       "      <td>1000.000000</td>\n",
       "      <td>1000.0</td>\n",
       "      <td>1000.0</td>\n",
       "      <td>0</td>\n",
       "      <td>1000.000000</td>\n",
       "    </tr>\n",
       "    <tr>\n",
       "      <th>899</th>\n",
       "      <td>12.602917</td>\n",
       "      <td>55.553750</td>\n",
       "      <td>0.919192</td>\n",
       "      <td>1000.000000</td>\n",
       "      <td>1000.0</td>\n",
       "      <td>1000.0</td>\n",
       "      <td>1000.000000</td>\n",
       "      <td>1000.0</td>\n",
       "      <td>1000.0</td>\n",
       "      <td>0</td>\n",
       "      <td>1000.000000</td>\n",
       "    </tr>\n",
       "  </tbody>\n",
       "</table>\n",
       "<p>900 rows × 11 columns</p>\n",
       "</div>"
      ],
      "text/plain": [
       "           lon        lat  population_density  avg_restaurant_dist  \\\n",
       "0    12.319583  55.770417          165.166046          1000.000000   \n",
       "1    12.327917  55.770417          168.394638          1000.000000   \n",
       "2    12.336250  55.770417          103.640099           995.759494   \n",
       "3    12.344583  55.770417           98.206757          1000.000000   \n",
       "4    12.352917  55.770417           79.473259          1000.000000   \n",
       "..         ...        ...                 ...                  ...   \n",
       "895  12.619583  55.562083           14.762961          1000.000000   \n",
       "896  12.577917  55.553750           11.002125          1000.000000   \n",
       "897  12.586250  55.553750           34.579926          1000.000000   \n",
       "898  12.594583  55.553750           29.629675          1000.000000   \n",
       "899  12.602917  55.553750            0.919192          1000.000000   \n",
       "\n",
       "     avg_bar_dist  avg_school_dist  avg_toilets_dist  avg_college_dist  \\\n",
       "0          1000.0           1000.0       1000.000000            1000.0   \n",
       "1          1000.0           1000.0       1000.000000            1000.0   \n",
       "2          1000.0           1000.0       1000.000000            1000.0   \n",
       "3          1000.0           1000.0       1000.000000            1000.0   \n",
       "4          1000.0           1000.0        980.958333            1000.0   \n",
       "..            ...              ...               ...               ...   \n",
       "895        1000.0           1000.0       1000.000000            1000.0   \n",
       "896        1000.0           1000.0       1000.000000            1000.0   \n",
       "897        1000.0           1000.0       1000.000000            1000.0   \n",
       "898        1000.0           1000.0       1000.000000            1000.0   \n",
       "899        1000.0           1000.0       1000.000000            1000.0   \n",
       "\n",
       "     avg_hospital_dist  avg_user_selction  avg_user_selection  \n",
       "0               1000.0                  0         1000.000000  \n",
       "1               1000.0                  0         1000.000000  \n",
       "2               1000.0                  0          998.586498  \n",
       "3               1000.0                  0         1000.000000  \n",
       "4               1000.0                  0          993.652778  \n",
       "..                 ...                ...                 ...  \n",
       "895             1000.0                  0         1000.000000  \n",
       "896             1000.0                  0         1000.000000  \n",
       "897             1000.0                  0         1000.000000  \n",
       "898             1000.0                  0         1000.000000  \n",
       "899             1000.0                  0         1000.000000  \n",
       "\n",
       "[900 rows x 11 columns]"
      ]
     },
     "execution_count": 34,
     "metadata": {},
     "output_type": "execute_result"
    }
   ],
   "source": [
    "# user makes selection\n",
    "\n",
    "user_selected_amenities = [\"avg_restaurant_dist\", \"avg_bar_dist\", \"avg_toilets_dist\"]\n",
    "\n",
    "df[\"avg_user_selection\"] = (df[user_selected_amenities[0]] + df[user_selected_amenities[1]] + df[user_selected_amenities[2]])/len(user_selected_amenities)\n",
    "\n",
    "df"
   ]
  },
  {
   "cell_type": "code",
   "execution_count": 35,
   "id": "52703794",
   "metadata": {},
   "outputs": [
    {
     "data": {
      "application/vnd.plotly.v1+json": {
       "config": {
        "plotlyServerURL": "https://plot.ly"
       },
       "data": [
        {
         "customdata": [
          [
           165.16604614257812,
           1000,
           1000,
           1000
          ],
          [
           168.39463806152344,
           1000,
           1000,
           1000
          ],
          [
           103.64009857177734,
           995.759493670886,
           1000,
           1000
          ],
          [
           98.20675659179688,
           1000,
           1000,
           1000
          ],
          [
           79.47325897216797,
           1000,
           1000,
           980.9583333333334
          ],
          [
           108.66566467285156,
           1000,
           1000,
           509.3333333333333
          ],
          [
           232.0848999023437,
           980.987012987013,
           1000,
           304.06493506493507
          ],
          [
           173.19691467285156,
           968.560975609756,
           1000,
           793.3414634146342
          ],
          [
           202.96615600585932,
           893.5820895522388,
           1000,
           1000
          ],
          [
           150.5589599609375,
           998.7777777777778,
           1000,
           1000
          ],
          [
           153.0946502685547,
           1000,
           1000,
           1000
          ],
          [
           112.43335723876952,
           1000,
           1000,
           1000
          ],
          [
           161.4676055908203,
           1000,
           1000,
           1000
          ],
          [
           269.9061889648437,
           998.5526315789474,
           1000,
           936.421052631579
          ],
          [
           363.4380187988281,
           791.9090909090909,
           1000,
           657.1818181818181
          ],
          [
           457.9251098632813,
           284.4259259259259,
           990.8888888888888,
           485.0185185185185
          ],
          [
           319.52325439453125,
           779.0645161290323,
           981.47311827957,
           932.6236559139784
          ],
          [
           59.86871337890625,
           974.8571428571428,
           912.7142857142856,
           1000
          ],
          [
           392.48193359375,
           1000,
           357.0740740740741,
           388.27777777777777
          ],
          [
           886.0536499023438,
           1000,
           556.53,
           726.29
          ],
          [
           804.4918823242188,
           994.2916666666666,
           952.7708333333334,
           961.6666666666666
          ],
          [
           1781.3787841796875,
           549.21,
           841.44,
           476.77
          ],
          [
           2163.23974609375,
           194.9913043478261,
           383.39130434782606,
           297.69347826086954
          ],
          [
           1746.8763427734375,
           883.9602649006622,
           804.2152317880794,
           897.2715231788079
          ],
          [
           998.9478759765624,
           1000,
           707.6134453781513,
           992.1680672268908
          ],
          [
           639.20849609375,
           976.0673076923076,
           859.4711538461538,
           999.6923076923076
          ],
          [
           366.77935791015625,
           635.2647058823529,
           994.220588235294,
           892.8088235294117
          ],
          [
           400.6148376464844,
           757.776119402985,
           1000,
           812.1194029850747
          ],
          [
           472.6580200195313,
           925.7692307692308,
           999.5,
           922.9807692307692
          ],
          [
           449.0005187988281,
           969.8679245283018,
           946.6981132075472,
           989.9056603773583
          ],
          [
           688.4654541015625,
           889.311475409836,
           801.3934426229508,
           995.344262295082
          ],
          [
           1236.50537109375,
           347.6849315068493,
           497.6438356164384,
           656.5890410958904
          ],
          [
           1269.4141845703125,
           748.2142857142857,
           854.0446428571429,
           976.8303571428572
          ],
          [
           853.7958374023438,
           684.8351648351648,
           1000,
           937.2417582417582
          ],
          [
           294.1271057128906,
           1000,
           1000,
           1000
          ],
          [
           309.78680419921875,
           853.8351648351648,
           1000,
           1000
          ],
          [
           476.0281372070313,
           294.1041666666667,
           1000,
           1000
          ],
          [
           407.0012817382813,
           538.2317073170732,
           1000,
           1000
          ],
          [
           245.18836975097656,
           983.0181818181818,
           1000,
           1000
          ],
          [
           158.38479614257812,
           1000,
           1000,
           969.4324324324324
          ],
          [
           134.84768676757812,
           991.435294117647,
           1000,
           851.3529411764706
          ],
          [
           108.0101547241211,
           590.078947368421,
           1000,
           983.8552631578948
          ],
          [
           292.7565002441406,
           546.5254237288135,
           1000,
           1000
          ],
          [
           620.0610961914062,
           801.7870370370371,
           1000,
           1000
          ],
          [
           652.4688720703125,
           1000,
           1000,
           1000
          ],
          [
           379.1524353027344,
           1000,
           1000,
           1000
          ],
          [
           297.7792358398437,
           1000,
           1000,
           1000
          ],
          [
           570.0169677734375,
           1000,
           870.5428571428571,
           1000
          ],
          [
           906.2573852539062,
           959.6178010471205,
           564.1884816753927,
           1000
          ],
          [
           1065.61669921875,
           544.9439252336449,
           505.9906542056075,
           1000
          ],
          [
           1498.702880859375,
           325.015,
           293.885,
           1000
          ],
          [
           1066.004638671875,
           613.41,
           740.91,
           1000
          ],
          [
           1497.874755859375,
           968.1980198019802,
           990.8118811881188,
           999.4455445544554
          ],
          [
           1780.8328857421875,
           1000,
           997.6869565217391,
           1000
          ],
          [
           2236.4755859375,
           980.654135338346,
           1000,
           997.6766917293234
          ],
          [
           2659.361572265625,
           820.508064516129,
           970.0564516129032,
           893.2016129032259
          ],
          [
           2025.4862060546875,
           790.7967479674796,
           899.2926829268292,
           819.5447154471544
          ],
          [
           1213.674560546875,
           971.4605263157896,
           986.5657894736842,
           973.842105263158
          ],
          [
           1574.7679443359375,
           981.9663461538462,
           1000,
           999.4423076923076
          ],
          [
           1175.326171875,
           636.4829545454545,
           1000,
           1000
          ],
          [
           1090.31689453125,
           256.03389830508473,
           1000,
           996.4915254237288
          ],
          [
           808.9024658203125,
           679.3134328358209,
           1000,
           947.2910447761194
          ],
          [
           1081.57421875,
           994.1134020618556,
           1000,
           559.8144329896908
          ],
          [
           1570.003662109375,
           889.1512605042017,
           1000,
           442.3781512605042
          ],
          [
           1776.9622802734375,
           393.1940298507463,
           904.2985074626864,
           918.7014925373136
          ],
          [
           2144.379150390625,
           286.96590909090907,
           437.67045454545456,
           1000
          ],
          [
           1826.3193359375,
           413.16,
           580.4466666666667,
           990.4
          ],
          [
           1548.6912841796875,
           336.0782608695652,
           993.0347826086957,
           496.60869565217394
          ],
          [
           249.47903442382807,
           171.921875,
           1000,
           144.828125
          ],
          [
           1167.64453125,
           1000,
           1000,
           1000
          ],
          [
           966.192138671875,
           973.629213483146,
           1000,
           1000
          ],
          [
           1305.2086181640625,
           825.4756944444445,
           1000,
           1000
          ],
          [
           891.0482177734375,
           806.2888888888889,
           1000,
           1000
          ],
          [
           334.6098937988281,
           999.082191780822,
           1000,
           1000
          ],
          [
           122.65530395507812,
           1000,
           1000,
           1000
          ],
          [
           256.4307556152344,
           1000,
           1000,
           1000
          ],
          [
           359.4284362792969,
           990.4444444444443,
           1000,
           1000
          ],
          [
           509.4748229980469,
           992.032786885246,
           1000,
           1000
          ],
          [
           1027.81201171875,
           1000,
           1000,
           1000
          ],
          [
           874.6234130859375,
           1000,
           1000,
           1000
          ],
          [
           661.0255737304688,
           1000,
           1000,
           1000
          ],
          [
           703.5906982421875,
           999.5822784810126,
           1000,
           1000
          ],
          [
           493.1570739746094,
           1000,
           839.8115942028985,
           1000
          ],
          [
           350.5083923339844,
           998.7702702702704,
           508.2432432432432,
           1000
          ],
          [
           846.3206176757812,
           870.3295454545455,
           720.1704545454545,
           1000
          ],
          [
           1334.1431884765625,
           789.7721518987341,
           791.1181434599156,
           1000
          ],
          [
           1001.982421875,
           811.5865384615385,
           947.8173076923076,
           1000
          ],
          [
           1695.135009765625,
           935.9561403508771,
           1000,
           1000
          ],
          [
           2128.39111328125,
           792.9418604651163,
           994.406976744186,
           1000
          ],
          [
           2291.33447265625,
           855.4,
           856.475,
           1000
          ],
          [
           2071.06298828125,
           999.7654320987656,
           567.320987654321,
           998.8641975308642
          ],
          [
           962.532470703125,
           1000,
           826.8135593220339,
           1000
          ],
          [
           1325.1063232421875,
           666.4306930693069,
           1000,
           654.9356435643564
          ],
          [
           1915.4091796875,
           329.7837837837838,
           1000,
           389.1452702702703
          ],
          [
           905.7172241210938,
           652.0952380952381,
           1000,
           789.1972789115646
          ],
          [
           1066.2364501953125,
           390.8024691358025,
           1000,
           614.7530864197531
          ],
          [
           1118.0311279296875,
           534.9548022598871,
           1000,
           435.6666666666667
          ],
          [
           948.2640380859376,
           945.6195652173913,
           1000,
           769.4021739130435
          ],
          [
           2258.08935546875,
           807.3095238095239,
           1000,
           549.447619047619
          ],
          [
           2268.72412109375,
           309.00651465798046,
           1000,
           915.5179153094464
          ],
          [
           886.1689453125,
           489.73015873015873,
           967.5238095238096,
           957.452380952381
          ],
          [
           1116.36669921875,
           229.2111111111111,
           998,
           729.5444444444445
          ],
          [
           666.0859375,
           418.625,
           1000,
           631
          ],
          [
           5.568890571594238,
           1000,
           1000,
           1000
          ],
          [
           1208.0611572265625,
           1000,
           1000,
           1000
          ],
          [
           903.6715698242188,
           1000,
           1000,
           1000
          ],
          [
           458.4444274902344,
           1000,
           1000,
           1000
          ],
          [
           321.9373474121094,
           1000,
           1000,
           1000
          ],
          [
           257.7934265136719,
           1000,
           1000,
           1000
          ],
          [
           275.13018798828125,
           1000,
           1000,
           1000
          ],
          [
           441.0778198242188,
           1000,
           1000,
           1000
          ],
          [
           334.2926330566406,
           1000,
           1000,
           1000
          ],
          [
           413.0744934082031,
           1000,
           1000,
           1000
          ],
          [
           406.3038024902344,
           1000,
           1000,
           1000
          ],
          [
           339.1981201171875,
           1000,
           1000,
           1000
          ],
          [
           769.8845825195312,
           887.6768292682926,
           1000,
           1000
          ],
          [
           1184.5262451171875,
           540.3881578947369,
           999.7236842105264,
           1000
          ],
          [
           1003.3912353515624,
           578.7548387096774,
           976.2967741935483,
           1000
          ],
          [
           724.3798828125,
           959.1843575418994,
           916.6648044692736,
           1000
          ],
          [
           911.1107788085938,
           1000,
           1000,
           1000
          ],
          [
           932.3204956054688,
           1000,
           1000,
           1000
          ],
          [
           1069.5045166015625,
           1000,
           1000,
           1000
          ],
          [
           1130.451416015625,
           901.6093023255814,
           1000,
           1000
          ],
          [
           1301.2750244140625,
           377.1898734177215,
           1000,
           1000
          ],
          [
           1493.772216796875,
           851.8031088082902,
           792.1813471502591,
           936.5647668393782
          ],
          [
           2217.25439453125,
           971.1711026615968,
           689.5817490494296,
           502.277566539924
          ],
          [
           1789.8487548828125,
           967.2111111111112,
           916.3166666666668,
           661.3388888888888
          ],
          [
           1176.073974609375,
           895.59477124183,
           1000,
           927.5490196078432
          ],
          [
           1063.74951171875,
           541.2624113475177,
           1000,
           736.6524822695036
          ],
          [
           1219.770263671875,
           867.625,
           1000,
           939.075
          ],
          [
           830.3035278320312,
           508.9518072289157,
           1000,
           927.1807228915662
          ],
          [
           1420.3134765625,
           332.18110236220474,
           1000,
           865.1574803149606
          ],
          [
           1388.8892822265625,
           924.2268907563024,
           1000,
           975.1050420168068
          ],
          [
           2134.84375,
           901.2378048780488,
           1000,
           997.3963414634146
          ],
          [
           1912.821044921875,
           439.45454545454544,
           1000,
           986.7412587412588
          ],
          [
           1343.95703125,
           507.86206896551727,
           1000,
           662.5655172413793
          ],
          [
           783.6709594726562,
           337.9795918367347,
           1000,
           244.56462585034012
          ],
          [
           28.78954315185547,
           1000,
           1000,
           1000
          ],
          [
           269.4715270996094,
           446.28125,
           1000,
           1000
          ],
          [
           159.05494689941406,
           1000,
           1000,
           1000
          ],
          [
           361.65380859375,
           1000,
           1000,
           1000
          ],
          [
           543.6597290039062,
           995.7413793103448,
           1000,
           1000
          ],
          [
           797.6159057617188,
           881.7131147540983,
           921.8360655737704,
           953.938524590164
          ],
          [
           807.8106079101562,
           725.5071174377224,
           714.2277580071175,
           913.9199288256228
          ],
          [
           508.1194458007813,
           906.2213740458016,
           892.4198473282443,
           978.0992366412214
          ],
          [
           591.5426635742188,
           835.7639751552795,
           999.55900621118,
           1000
          ],
          [
           662.9345092773438,
           541.6401673640167,
           977.0878661087866,
           1000
          ],
          [
           499.27435302734375,
           880.95,
           924.9777777777778,
           1000
          ],
          [
           456.5343017578125,
           1000,
           965.936936936937,
           1000
          ],
          [
           1056.9776611328125,
           1000,
           1000,
           1000
          ],
          [
           1171.90234375,
           1000,
           995.1205673758864,
           1000
          ],
          [
           1266.5552978515625,
           1000,
           767.9822485207101,
           1000
          ],
          [
           1087.2318115234375,
           998.808510638298,
           619.3829787234042,
           1000
          ],
          [
           1154.980712890625,
           1000,
           946.5299145299144,
           1000
          ],
          [
           1087.2086181640625,
           1000,
           1000,
           1000
          ],
          [
           1247.568359375,
           1000,
           1000,
           1000
          ],
          [
           1138.6053466796875,
           989.2014925373136,
           1000,
           1000
          ],
          [
           2103.65771484375,
           973.8980582524272,
           1000,
           1000
          ],
          [
           2210.61181640625,
           997.4507772020726,
           1000,
           997.3937823834196
          ],
          [
           1350.652587890625,
           821.9553571428571,
           1000,
           1000
          ],
          [
           2383.584228515625,
           512.2738853503184,
           1000,
           1000
          ],
          [
           2602.77392578125,
           504.3976608187135,
           999.7017543859648,
           1000
          ],
          [
           2411.49462890625,
           787.6324786324786,
           989.957264957265,
           1000
          ],
          [
           2016.877197265625,
           966.2638888888888,
           971.7361111111112,
           1000
          ],
          [
           2015.9080810546875,
           1000,
           999.7642857142856,
           827.5428571428571
          ],
          [
           1777.3438720703125,
           998.4262295081968,
           1000,
           354.59016393442624
          ],
          [
           1555.393798828125,
           890.4829931972789,
           1000,
           589.5714285714286
          ],
          [
           1452.4632568359375,
           685.9607843137255,
           1000,
           946.0980392156864
          ],
          [
           2492.114013671875,
           381.6526946107784,
           1000,
           584.3173652694611
          ],
          [
           2301.34912109375,
           194.11522633744852,
           1000,
           351.50205761316874
          ],
          [
           257.7029113769531,
           548.695652173913,
           1000,
           525.3478260869565
          ],
          [
           297.6363220214844,
           1000,
           1000,
           1000
          ],
          [
           394.9732055664063,
           1000,
           1000,
           1000
          ],
          [
           763.41552734375,
           652.18,
           1000,
           1000
          ],
          [
           1457.904052734375,
           450.2911392405063,
           1000,
           960.8987341772151
          ],
          [
           1392.428466796875,
           549.2894736842105,
           837.1052631578947,
           426.5157894736842
          ],
          [
           1020.3494262695312,
           215.4779582366589,
           474.55916473317865,
           319.292343387471
          ],
          [
           850.6692504882812,
           610.2426035502958,
           808.3491124260355,
           840.7455621301775
          ],
          [
           761.5850219726562,
           638.5555555555555,
           962.029239766082,
           1000
          ],
          [
           1175.7545166015625,
           466.14,
           870.705,
           1000
          ],
          [
           859.2521362304688,
           839.4826086956522,
           473.05652173913046,
           1000
          ],
          [
           904.3678588867188,
           997.9577464788732,
           447.3309859154929,
           1000
          ],
          [
           1121.5174560546875,
           1000,
           978.03738317757,
           985.1822429906542
          ],
          [
           1358.399658203125,
           999.9647577092512,
           999.8766519823788,
           999.5110132158592
          ],
          [
           1326.5462646484375,
           812.7960784313725,
           763.2156862745098,
           1000
          ],
          [
           1369.7177734375,
           453.7392996108949,
           431.5369649805447,
           1000
          ],
          [
           1434.376953125,
           668.9495268138801,
           768.97476340694,
           1000
          ],
          [
           1637.0318603515625,
           963.6930693069309,
           998.9108910891088,
           1000
          ],
          [
           2071.39599609375,
           982.0769230769232,
           996.6923076923076,
           1000
          ],
          [
           2316.32763671875,
           634.0217391304348,
           908.054347826087,
           1000
          ],
          [
           2185.2333984375,
           448.2340425531915,
           971.2382978723404,
           999.931914893617
          ],
          [
           1157.9141845703125,
           991.7814569536424,
           999.2913907284768,
           1000
          ],
          [
           1287.0625,
           903.6046511627908,
           1000,
           1000
          ],
          [
           2347.09228515625,
           517.1470588235294,
           1000,
           1000
          ],
          [
           2578.859375,
           551.3737373737374,
           947.1515151515152,
           998.10101010101
          ],
          [
           1985.727783203125,
           269.0625,
           521.125,
           923.7125
          ],
          [
           2304.33935546875,
           220.53424657534248,
           210.4931506849315,
           653.7260273972603
          ],
          [
           1239.468505859375,
           889.9753086419753,
           818.104938271605,
           971.5185185185184
          ],
          [
           2054.177001953125,
           885.8428571428572,
           894.6857142857143,
           992.2142857142856
          ],
          [
           1844.678955078125,
           310.0460251046025,
           947.8326359832636,
           995.4937238493724
          ],
          [
           1273.0682373046875,
           387.67539267015707,
           992.82722513089,
           1000
          ],
          [
           1620.2432861328125,
           385.3361344537816,
           1000,
           965.0252100840336
          ],
          [
           3205.658203125,
           223.6355421686747,
           1000,
           610.7409638554217
          ],
          [
           431.7415466308594,
           444.483870967742,
           1000,
           591.0483870967741
          ],
          [
           102.97657775878906,
           1000,
           1000,
           1000
          ],
          [
           449.8934020996094,
           1000,
           1000,
           1000
          ],
          [
           728.79736328125,
           884.3307692307692,
           1000,
           1000
          ],
          [
           1179.1097412109375,
           762.4464285714286,
           952.5178571428572,
           981.4464285714286
          ],
          [
           1468.0751953125,
           968.6574074074074,
           350.3981481481481,
           451.3842592592592
          ],
          [
           1178.45166015625,
           960.1948529411764,
           506.0992647058824,
           435.46691176470586
          ],
          [
           750.0337524414062,
           841.7671957671957,
           939.0899470899471,
           896.6825396825396
          ],
          [
           509.14794921875,
           464.1885245901639,
           1000,
           995.2622950819672
          ],
          [
           645.091064453125,
           302.9911504424779,
           1000,
           995.3982300884956
          ],
          [
           1096.145263671875,
           795.4060606060606,
           992.0242424242424,
           1000
          ],
          [
           1154.878662109375,
           996.991341991342,
           997.017316017316,
           999.8138528138528
          ],
          [
           1128.67626953125,
           1000,
           1000,
           542.5061728395061
          ],
          [
           1166.5802001953125,
           1000,
           1000,
           674.0735294117648
          ],
          [
           970.56591796875,
           910.6940298507462,
           907.7462686567164,
           970.3507462686568
          ],
          [
           1275.12060546875,
           463.2341040462428,
           625.1849710982659,
           1000
          ],
          [
           1392.55419921875,
           346.41333333333336,
           833.6533333333333,
           1000
          ],
          [
           1154.7099609375,
           472.3520408163265,
           999.591836734694,
           1000
          ],
          [
           2070.95849609375,
           955.6299212598424,
           786.5511811023622,
           998.2519685039372
          ],
          [
           2188.310302734375,
           919.8070175438596,
           347.6842105263158,
           903.7134502923976
          ],
          [
           1481.9102783203125,
           916.9702970297028,
           685.4207920792079,
           445.53465346534654
          ],
          [
           3255.570556640625,
           993.2032085561498,
           528.6310160427807,
           665.4491978609626
          ],
          [
           1256.404541015625,
           1000,
           735.0851063829788,
           944.1063829787234
          ],
          [
           953.1943359375,
           973.7428571428572,
           987.0857142857144,
           982.7142857142856
          ],
          [
           1046.6146240234375,
           986.8450704225352,
           993.0140845070424,
           913.7323943661972
          ],
          [
           594.9564208984375,
           660.5098039215686,
           714.0196078431372,
           636.3333333333334
          ],
          [
           2345.13037109375,
           300.1892744479495,
           420.29337539432174,
           419.89274447949526
          ],
          [
           3236.043701171875,
           542.6309523809524,
           484.9880952380952,
           654.4583333333334
          ],
          [
           2681.715087890625,
           955.6697674418604,
           325.98604651162793,
           980.6511627906976
          ],
          [
           2516.958251953125,
           844.3426966292135,
           404.6629213483146,
           901.556179775281
          ],
          [
           1544.3955078125,
           918.636678200692,
           617.840830449827,
           917.9377162629758
          ],
          [
           960.9454956054688,
           855.0166666666667,
           924.3416666666668,
           955.7083333333334
          ],
          [
           2334.63427734375,
           461.738219895288,
           872.9057591623036,
           527.2408376963351
          ],
          [
           344.29278564453125,
           454.483870967742,
           935.0645161290324,
           255.2258064516129
          ],
          [
           145.86782836914062,
           578.45,
           1000,
           959.15
          ],
          [
           411.2742614746094,
           967.5,
           1000,
           1000
          ],
          [
           157.43890380859375,
           1000,
           1000,
           1000
          ],
          [
           1.4975590705871582,
           1000,
           1000,
           1000
          ],
          [
           30.094486236572266,
           1000,
           1000,
           1000
          ],
          [
           105.34231567382812,
           1000,
           1000,
           1000
          ],
          [
           254.91514587402344,
           1000,
           1000,
           1000
          ],
          [
           464.83636474609375,
           1000,
           999.989247311828,
           1000
          ],
          [
           892.664794921875,
           1000,
           831.1052631578947,
           853.0723684210526
          ],
          [
           813.4213256835938,
           1000,
           839.1435185185185,
           761.8472222222222
          ],
          [
           346.612548828125,
           1000,
           1000,
           866.0769230769231
          ],
          [
           374.9263000488281,
           1000,
           1000,
           520.9347826086956
          ],
          [
           744.67138671875,
           1000,
           1000,
           669.2211538461538
          ],
          [
           964.3367309570312,
           1000,
           1000,
           987.9479166666666
          ],
          [
           750.5230102539062,
           1000,
           1000,
           1000
          ],
          [
           888.4503784179688,
           1000,
           1000,
           942.5480769230768
          ],
          [
           1238.1490478515625,
           1000,
           1000,
           976.259493670886
          ],
          [
           943.46875,
           1000,
           1000,
           1000
          ],
          [
           1123.931396484375,
           985.5774647887324,
           1000,
           1000
          ],
          [
           1095.267822265625,
           997.8860759493672,
           1000,
           1000
          ],
          [
           1095.1357421875,
           956.6447368421052,
           1000,
           1000
          ],
          [
           1769.727294921875,
           638.2722222222222,
           788.1166666666667,
           843.2111111111111
          ],
          [
           2931.2763671875,
           320.0872093023256,
           389.5174418604651,
           412.3662790697674
          ],
          [
           2868.58154296875,
           464.84722222222223,
           376.9537037037037,
           455.4212962962963
          ],
          [
           1810.3560791015625,
           835.7407407407408,
           494.3796296296296,
           426.6851851851852
          ],
          [
           1141.7384033203125,
           757.3809523809524,
           655.4285714285714,
           620.2857142857143
          ],
          [
           1084.0523681640625,
           992.6543209876544,
           904.320987654321,
           382.1604938271605
          ],
          [
           2367.302978515625,
           953.8962264150944,
           587.1132075471698,
           644.4716981132076
          ],
          [
           2576.817626953125,
           556.9760479041917,
           357.07784431137725,
           823.7125748502993
          ],
          [
           3971.543212890625,
           372.5297619047619,
           443.23511904761904,
           414.0744047619048
          ],
          [
           5890.60302734375,
           426.9161849710983,
           378.8872832369942,
           520.5404624277456
          ],
          [
           2299.945556640625,
           855.7045454545455,
           704.4090909090909,
           587.4909090909091
          ],
          [
           2886.287841796875,
           529.63179916318,
           850.0292887029289,
           662.4728033472803
          ],
          [
           7220.77685546875,
           381.1301587301587,
           560.2952380952381,
           322.7269841269841
          ],
          [
           9366.7783203125,
           232.72727272727272,
           274.989898989899,
           593.7474747474747
          ],
          [
           6249.67333984375,
           203.45,
           230.9392857142857,
           774.4428571428572
          ],
          [
           3986.476318359375,
           321.8924050632912,
           682.0886075949367,
           521
          ],
          [
           1817.12646484375,
           281.5877192982456,
           502.50877192982455,
           951.342105263158
          ],
          [
           393.3439025878906,
           842.6451612903226,
           910.3870967741937,
           1000
          ],
          [
           136.8335418701172,
           1000,
           1000,
           1000
          ],
          [
           23.619129180908203,
           1000,
           1000,
           1000
          ],
          [
           29.560535430908203,
           1000,
           1000,
           1000
          ],
          [
           39.04072952270508,
           1000,
           1000,
           1000
          ],
          [
           79.6169662475586,
           1000,
           1000,
           1000
          ],
          [
           125.67707824707033,
           1000,
           1000,
           1000
          ],
          [
           243.3203125,
           1000,
           1000,
           1000
          ],
          [
           340.1456298828125,
           1000,
           1000,
           1000
          ],
          [
           461.79339599609375,
           1000,
           1000,
           981.1
          ],
          [
           539.2616577148438,
           1000,
           1000,
           996.1338582677164
          ],
          [
           432.1566162109375,
           1000,
           1000,
           999.9753086419752
          ],
          [
           461.18463134765625,
           1000,
           1000,
           1000
          ],
          [
           576.2824096679688,
           1000,
           1000,
           1000
          ],
          [
           612.8749389648438,
           1000,
           1000,
           1000
          ],
          [
           1340.29638671875,
           1000,
           1000,
           1000
          ],
          [
           1179.42578125,
           1000,
           1000,
           1000
          ],
          [
           1013.9397583007812,
           1000,
           1000,
           1000
          ],
          [
           1328.1441650390625,
           890.967032967033,
           1000,
           1000
          ],
          [
           1515.6973876953125,
           539.056179775281,
           998.6629213483146,
           994.8314606741573
          ],
          [
           2311.129150390625,
           460.9363636363637,
           920.1727272727272,
           941.9727272727272
          ],
          [
           2614.81787109375,
           627.23,
           816.9,
           890.4
          ],
          [
           2860.515869140625,
           562.6206896551724,
           389.6034482758621,
           596.8793103448276
          ],
          [
           3112.829345703125,
           432.2589928057554,
           314.1726618705036,
           906.9496402877696
          ],
          [
           2432.657958984375,
           798.8859060402684,
           556.2751677852349,
           946.255033557047
          ],
          [
           2452.225341796875,
           778.4089635854342,
           805.3949579831933,
           645.8151260504202
          ],
          [
           5798.49267578125,
           596.6455331412104,
           514.3976945244957,
           854.4783861671469
          ],
          [
           8967.1328125,
           432.5290322580645,
           242.73548387096776,
           998.1032258064516
          ],
          [
           11954.02734375,
           295.7857142857143,
           132.1768707482993,
           812.0612244897959
          ],
          [
           18875.55859375,
           383.4458333333333,
           415.0875,
           510.775
          ],
          [
           17316.5,
           322.1127819548872,
           421.890977443609,
           536.3308270676691
          ],
          [
           4867.28369140625,
           679.088524590164,
           625.9409836065573,
           466.3967213114754
          ],
          [
           2977.46044921875,
           272.30263157894734,
           287.2938596491228,
           186.98684210526315
          ],
          [
           12250.2060546875,
           166.92523364485982,
           211.0841121495327,
           357.196261682243
          ],
          [
           17540.103515625,
           230.2217194570136,
           308.6063348416289,
           382.1809954751132
          ],
          [
           2773.459716796875,
           238.4275362318841,
           383.6159420289855,
           724.5326086956521
          ],
          [
           155.46560668945312,
           636.9090909090909,
           230.1818181818182,
           732.5
          ],
          [
           31.53146171569824,
           1000,
           1000,
           1000
          ],
          [
           51.10757827758789,
           1000,
           1000,
           1000
          ],
          [
           54.16431427001953,
           1000,
           1000,
           1000
          ],
          [
           87.60303497314453,
           1000,
           1000,
           1000
          ],
          [
           197.7284393310547,
           1000,
           1000,
           1000
          ],
          [
           139.9778594970703,
           1000,
           1000,
           844.5
          ],
          [
           102.70340728759766,
           1000,
           1000,
           827.2631578947369
          ],
          [
           143.56048583984375,
           1000,
           1000,
           956.7307692307692
          ],
          [
           242.12998962402344,
           1000,
           1000,
           1000
          ],
          [
           298.5028991699219,
           1000,
           1000,
           1000
          ],
          [
           413.9733581542969,
           1000,
           1000,
           1000
          ],
          [
           662.4776000976562,
           1000,
           1000,
           1000
          ],
          [
           1094.14990234375,
           1000,
           1000,
           1000
          ],
          [
           1448.5086669921875,
           1000,
           1000,
           1000
          ],
          [
           1391.3515625,
           1000,
           1000,
           1000
          ],
          [
           1130.0401611328125,
           939.364640883978,
           1000,
           1000
          ],
          [
           1280.4947509765625,
           564.8206896551724,
           1000,
           1000
          ],
          [
           1168.168701171875,
           377.4907975460123,
           1000,
           1000
          ],
          [
           2037.16259765625,
           541.6951219512196,
           973.719512195122,
           930.829268292683
          ],
          [
           2870.203125,
           378.7067669172933,
           628.3233082706766,
           549.9924812030075
          ],
          [
           3047.260498046875,
           365.9208633093525,
           501.8057553956834,
           650.8920863309353
          ],
          [
           3057.7060546875,
           273.53072625698326,
           824.413407821229,
           924.536312849162
          ],
          [
           3136.61865234375,
           345,
           980.0419161676648,
           997.497005988024
          ],
          [
           3278.79296875,
           220.81132075471697,
           456.9433962264151,
           1000
          ],
          [
           3829.858154296875,
           518.1361256544502,
           730.7591623036649,
           997.9214659685864
          ],
          [
           8509.044921875,
           657.1415525114155,
           727.1735159817351,
           978.7214611872146
          ],
          [
           11358.98046875,
           334.68,
           404.585,
           608.455
          ],
          [
           12426.8994140625,
           219.12206572769952,
           183.3568075117371,
           288.1079812206573
          ],
          [
           12974.9111328125,
           237.8360655737705,
           202.0204918032787,
           453.38524590163934
          ],
          [
           9767.416015625,
           414.3844086021505,
           275.8037634408602,
           370.7930107526882
          ],
          [
           6038.10302734375,
           190.78082191780825,
           497.722602739726,
           370.6232876712329
          ],
          [
           8422.69921875,
           172.22304832713755,
           460.31226765799255,
           219.2007434944238
          ],
          [
           8635.875,
           276.4494680851064,
           701.343085106383,
           283.3510638297872
          ],
          [
           2288.375732421875,
           422.74725274725273,
           932.945054945055,
           250.21978021978023
          ],
          [
           182.8451232910156,
           582,
           816.2727272727273,
           183.70454545454547
          ],
          [
           723.6754150390625,
           408.34615384615387,
           243.28846153846155,
           505.9423076923077
          ],
          [
           610.899169921875,
           556.6470588235294,
           698.5882352941177,
           836.5882352941177
          ],
          [
           85.11027526855469,
           930.7142857142856,
           990.5714285714286,
           953.8571428571428
          ],
          [
           56.9948844909668,
           1000,
           1000,
           1000
          ],
          [
           199.17630004882807,
           1000,
           1000,
           1000
          ],
          [
           284.4135437011719,
           1000,
           1000,
           1000
          ],
          [
           223.60406494140625,
           1000,
           1000,
           1000
          ],
          [
           115.90497589111328,
           1000,
           1000,
           998.4285714285714
          ],
          [
           108.0781478881836,
           1000,
           1000,
           416.75
          ],
          [
           319.3941955566406,
           1000,
           1000,
           435.4742268041237
          ],
          [
           347.4877624511719,
           1000,
           1000,
           960.2553191489362
          ],
          [
           444.8445739746094,
           1000,
           1000,
           1000
          ],
          [
           414.38226318359375,
           1000,
           1000,
           1000
          ],
          [
           331.060546875,
           1000,
           1000,
           1000
          ],
          [
           235.6859588623047,
           1000,
           1000,
           1000
          ],
          [
           364.4311218261719,
           1000,
           1000,
           1000
          ],
          [
           533.1340942382812,
           998.8333333333334,
           1000,
           1000
          ],
          [
           1196.0460205078125,
           736.3557046979865,
           1000,
           1000
          ],
          [
           1830.31591796875,
           800.5277777777778,
           978.1805555555557,
           1000
          ],
          [
           1535.593505859375,
           865.7508771929824,
           959.161403508772,
           1000
          ],
          [
           1804.9942626953125,
           868.8617886178862,
           962.19918699187,
           994.5975609756098
          ],
          [
           1099.5810546875,
           909.881188118812,
           914.8118811881188,
           784.3960396039604
          ],
          [
           2958.419677734375,
           382.4746835443038,
           488.0822784810127,
           493.746835443038
          ],
          [
           3801.3203125,
           293.8896103896104,
           259.3766233766234,
           464.448051948052
          ],
          [
           4897.06591796875,
           475.6165803108808,
           472.4818652849741,
           442.8082901554404
          ],
          [
           4838.23974609375,
           372.8,
           591.3230769230769,
           946.72
          ],
          [
           4012.41064453125,
           549.3205128205128,
           688.2692307692307,
           728.2564102564103
          ],
          [
           4588.166015625,
           398.96699669967,
           643.8349834983499,
           567.006600660066
          ],
          [
           7157.70458984375,
           289.2621359223301,
           438.497572815534,
           460.9320388349514
          ],
          [
           11117.03125,
           187.4683908045977,
           268.3333333333333,
           570.2902298850574
          ],
          [
           10938.3203125,
           209.864406779661,
           182.8771186440678,
           522.5805084745763
          ],
          [
           8523.8779296875,
           147.3593220338983,
           162.2135593220339,
           297.2949152542373
          ],
          [
           7591.88916015625,
           156.367816091954,
           187.04597701149424,
           418.5229885057472
          ],
          [
           6156.22998046875,
           227.12738853503183,
           192.78343949044583,
           270.9458598726115
          ],
          [
           3479.35595703125,
           236.875,
           392.71153846153845,
           228.54166666666663
          ],
          [
           6790.109375,
           165.26008968609867,
           309.8968609865471,
           424.7578475336323
          ],
          [
           2070.75341796875,
           201.87012987012983,
           619.4112554112554,
           264.5844155844156
          ],
          [
           376.8615417480469,
           334.63157894736844,
           671.8157894736842,
           424.5438596491228
          ],
          [
           888.4359741210938,
           411.1099476439791,
           803.020942408377,
           694.3298429319372
          ],
          [
           940.6228637695312,
           766.4021739130435,
           649.0217391304348,
           868.9130434782609
          ],
          [
           484.9214477539063,
           889.8571428571429,
           1000,
           951.6428571428572
          ],
          [
           97.8365249633789,
           1000,
           1000,
           1000
          ],
          [
           114.92174530029295,
           1000,
           1000,
           1000
          ],
          [
           342.70428466796875,
           1000,
           1000,
           1000
          ],
          [
           506.2051696777344,
           1000,
           932.6168224299064,
           1000
          ],
          [
           808.1044921875,
           1000,
           891.7149321266968,
           1000
          ],
          [
           696.0924682617188,
           1000,
           376.4634146341463,
           1000
          ],
          [
           361.7613220214844,
           1000,
           318.58048780487803,
           995.9219512195122
          ],
          [
           669.6588134765625,
           1000,
           930.1538461538462,
           976.9059829059828
          ],
          [
           925.2648315429688,
           1000,
           1000,
           1000
          ],
          [
           854.4544067382812,
           998.8872180451128,
           1000,
           1000
          ],
          [
           807.2987060546875,
           998.9148936170212,
           1000,
           1000
          ],
          [
           853.297607421875,
           1000,
           999.9615384615385,
           1000
          ],
          [
           895.159912109375,
           999.965811965812,
           1000,
           1000
          ],
          [
           838.0204467773438,
           999.1192052980132,
           1000,
           1000
          ],
          [
           528.0618286132812,
           888.7525773195877,
           980.0927835051548,
           978.8969072164948
          ],
          [
           1117.5274658203125,
           524.7817679558011,
           500.27348066298345,
           939.03591160221
          ],
          [
           1407.76416015625,
           590.5340314136125,
           677.6020942408377,
           1000
          ],
          [
           2001.3011474609373,
           483.78,
           325.072,
           1000
          ],
          [
           2139.445068359375,
           449.4931506849315,
           458.71232876712327,
           944.8264840182648
          ],
          [
           1268.688720703125,
           811.032967032967,
           526.5384615384615,
           647.9065934065934
          ],
          [
           1610.5400390625,
           872.8045977011494,
           526.9310344827586,
           451.6781609195402
          ],
          [
           3600.3115234375,
           749.5681818181819,
           474.27272727272725,
           918.5909090909092
          ],
          [
           3763.908203125,
           430.1009174311927,
           488.8302752293578,
           903.6926605504588
          ],
          [
           6966.38037109375,
           308.74,
           282.604,
           997.348
          ],
          [
           6801.3857421875,
           361.11538461538464,
           634.0683760683761,
           450.0341880341881
          ],
          [
           5934.9521484375,
           279.3424657534247,
           232.2876712328767,
           360.9109589041096
          ],
          [
           5714.77587890625,
           174.0859872611465,
           209.2420382165605,
           234.2675159235669
          ],
          [
           9771.0341796875,
           181.37529137529137,
           181.08158508158508,
           233.997668997669
          ],
          [
           10264.796875,
           265.5704387990762,
           277.7921478060046,
           461.7921478060046
          ],
          [
           6821.009765625,
           160.33597883597884,
           265.45767195767195,
           666.2671957671957
          ],
          [
           2869.0830078125,
           101.12890625,
           154.44921875,
           441.359375
          ],
          [
           3166.744140625,
           92.52147239263805,
           121.3282208588957,
           221.5521472392638
          ],
          [
           3530.028076171875,
           63.68954248366013,
           103.83986928104576,
           164.31045751633988
          ],
          [
           3688.186767578125,
           129.8915254237288,
           149.59322033898306,
           235.4677966101695
          ],
          [
           1511.360595703125,
           66.89873417721519,
           150.27426160337552,
           220.46413502109704
          ],
          [
           1164.57421875,
           302.9626168224299,
           350.8940809968847,
           514.3426791277259
          ],
          [
           528.3597412109375,
           670.1975308641976,
           913.604938271605,
           917.395061728395
          ],
          [
           743.5765380859375,
           625.8461538461538,
           1000,
           1000
          ],
          [
           395.4118347167969,
           1000,
           1000,
           1000
          ],
          [
           487.5422058105469,
           1000,
           1000,
           1000
          ],
          [
           18.70952033996582,
           1000,
           1000,
           1000
          ],
          [
           328.4812927246094,
           1000,
           1000,
           1000
          ],
          [
           855.2467651367188,
           942.5496688741722,
           880.2185430463576,
           1000
          ],
          [
           1205.3699951171875,
           947.2908163265306,
           468.6530612244898,
           1000
          ],
          [
           841.149658203125,
           994.374074074074,
           676.9148148148148,
           1000
          ],
          [
           673.1876220703125,
           1000,
           773.5725388601036,
           1000
          ],
          [
           901.0150146484376,
           1000,
           758.3052109181142,
           1000
          ],
          [
           1073.687255859375,
           1000,
           968.7377777777778,
           1000
          ],
          [
           1037.458251953125,
           845.0440677966102,
           870.5457627118644,
           1000
          ],
          [
           1159.8177490234375,
           481.2334630350194,
           543.0817120622568,
           1000
          ],
          [
           947.9212036132812,
           549.651376146789,
           727.6376146788991,
           1000
          ],
          [
           974.5607299804688,
           644.5888888888888,
           623.4555555555555,
           1000
          ],
          [
           938.0657348632812,
           463.0785340314136,
           936.5078534031412,
           1000
          ],
          [
           1187.78955078125,
           430.5384615384616,
           1000,
           999.3296703296704
          ],
          [
           702.0369873046875,
           732.6564417177914,
           911.2515337423312,
           766.2576687116565
          ],
          [
           1284.8912353515625,
           366.7107438016529,
           583.4132231404959,
           761.5454545454545
          ],
          [
           1326.84326171875,
           586.5611111111111,
           550.3055555555555,
           984.6111111111112
          ],
          [
           1984.16015625,
           554.5177664974619,
           460.25888324873097,
           1000
          ],
          [
           2282.78466796875,
           403.8267716535433,
           723.8110236220473,
           1000
          ],
          [
           2288.056884765625,
           806.9111111111112,
           879.2333333333333,
           888.4
          ],
          [
           1664.4482421875,
           799.7319587628866,
           855.5979381443299,
           440.7628865979381
          ],
          [
           3434.10107421875,
           523.0243902439024,
           434.4634146341463,
           613.5243902439024
          ],
          [
           3317.472900390625,
           731.9795918367347,
           539.9030612244898,
           980.4438775510204
          ],
          [
           5469.2060546875,
           913.3678929765888,
           439.3210702341137,
           997.2541806020068
          ],
          [
           3666.285888671875,
           533.3763440860215,
           462.5232974910394,
           359.93906810035844
          ],
          [
           2195.896728515625,
           243.72093023255812,
           235.78405315614617,
           162.5548172757475
          ],
          [
           1732.111572265625,
           195.3879310344828,
           333.9784482758621,
           285.3448275862069
          ],
          [
           6562.04638671875,
           241.12383900928796,
           252.58823529411765,
           392.6934984520124
          ],
          [
           13227.7578125,
           143.14150943396226,
           203.18553459119497,
           496.9937106918239
          ],
          [
           13222.109375,
           83.6195652173913,
           86.8840579710145,
           264.77536231884056
          ],
          [
           4104.78759765625,
           70.63271604938272,
           103.80555555555556,
           190.20987654320987
          ],
          [
           2453.778564453125,
           147.3988764044944,
           126.34831460674155,
           221.9943820224719
          ],
          [
           3456.030517578125,
           140.1658415841584,
           289.66089108910893,
           313.9207920792079
          ],
          [
           6053.97900390625,
           222.3918918918919,
           366.32094594594594,
           412.84797297297297
          ],
          [
           4575.705078125,
           152.0568181818182,
           254.4886363636364,
           332.0568181818182
          ],
          [
           1530.306396484375,
           325.15210355987057,
           332.8446601941748,
           530.0809061488674
          ],
          [
           1485.899658203125,
           344.68,
           395.344,
           836.184
          ],
          [
           1791.4500732421875,
           725.0347826086957,
           724.3304347826087,
           884.4782608695652
          ],
          [
           1572.1142578125,
           762.280701754386,
           905.4561403508771,
           919.40350877193
          ],
          [
           199.53744506835932,
           989.3023255813954,
           997.3488372093024,
           994.093023255814
          ],
          [
           405.0318908691406,
           917.8888888888888,
           1000,
           1000
          ],
          [
           987.186767578125,
           523.7735849056604,
           1000,
           1000
          ],
          [
           1651.1959228515625,
           367.7201834862385,
           970.288990825688,
           1000
          ],
          [
           1208.8865966796875,
           842.9625,
           987.83125,
           1000
          ],
          [
           1948.4017333984373,
           1000,
           812.2916666666666,
           1000
          ],
          [
           1813.265625,
           1000,
           883.6859504132232,
           1000
          ],
          [
           1763.674072265625,
           1000,
           1000,
           1000
          ],
          [
           1504.1817626953125,
           952.5625,
           893.3680555555555,
           1000
          ],
          [
           1665.562255859375,
           676.1304347826087,
           572.8478260869565,
           1000
          ],
          [
           1693.57763671875,
           395.9145728643216,
           795.7839195979899,
           1000
          ],
          [
           1362.67431640625,
           334.23628691983123,
           773.1350210970464,
           1000
          ],
          [
           974.4502563476562,
           696.2407407407408,
           953.6111111111112,
           1000
          ],
          [
           1220.895263671875,
           842.8378378378378,
           1000,
           1000
          ],
          [
           779.9995727539062,
           809.8370786516854,
           923.0898876404494,
           1000
          ],
          [
           1045.27880859375,
           457.3533834586466,
           570.7406015037594,
           999.8383458646616
          ],
          [
           1069.4935302734375,
           672.0198675496689,
           685.294701986755,
           1000
          ],
          [
           1086.2279052734375,
           944.6630434782608,
           940.0271739130436,
           1000
          ],
          [
           1542.7559814453125,
           886.440366972477,
           998.6880733944954,
           944.6880733944954
          ],
          [
           2053.453125,
           300.2,
           778.08,
           383.4066666666667
          ],
          [
           1943.828857421875,
           321.1375,
           525.6,
           353.2625
          ],
          [
           2453.135498046875,
           371.5616438356165,
           423.5958904109589,
           672.8424657534247
          ],
          [
           2770.138916015625,
           800.3783783783783,
           902.7905405405404,
           985.3513513513514
          ],
          [
           4050.15966796875,
           991.4754098360656,
           991.7814207650272,
           999.2841530054644
          ],
          [
           6403.283203125,
           516.0568181818181,
           572.4204545454545,
           500.9962121212121
          ],
          [
           5870.5908203125,
           213.95757575757577,
           204.5818181818182,
           338.630303030303
          ],
          [
           2193.057861328125,
           646.7,
           488.9263157894737,
           709.1947368421053
          ],
          [
           3209.3037109375,
           739.3461538461538,
           491.1181318681319,
           682.6620879120879
          ],
          [
           5063.4208984375,
           300.8829787234043,
           166,
           465.75
          ],
          [
           4237.4541015625,
           565.9767441860465,
           512.8023255813954,
           757.8720930232558
          ],
          [
           1867.2786865234373,
           258.7010676156584,
           549.8612099644129,
           590.2206405693951
          ],
          [
           3800.131103515625,
           308.5763358778626,
           770,
           563.6106870229007
          ],
          [
           6365.18408203125,
           233.11764705882356,
           465.55555555555554,
           364.8169934640523
          ],
          [
           8520.26171875,
           458.636655948553,
           345.9614147909968,
           630.3215434083602
          ],
          [
           8382.80078125,
           342.4642857142857,
           244.6887755102041,
           583.280612244898
          ],
          [
           9661.013671875,
           288.3274336283186,
           176.53687315634218,
           535.7787610619469
          ],
          [
           8618.115234375,
           346.0643274853801,
           183.5672514619883,
           384.0058479532164
          ],
          [
           6081.60986328125,
           319.7878787878788,
           411.2255892255892,
           294.07744107744105
          ],
          [
           3838.06396484375,
           220.48387096774192,
           487.6715542521994,
           405.266862170088
          ],
          [
           453.7002868652344,
           282.1290322580645,
           890.258064516129,
           214.38709677419357
          ],
          [
           658.2334594726562,
           1000,
           1000,
           1000
          ],
          [
           354.9335021972656,
           922.44,
           1000,
           1000
          ],
          [
           840.9107666015625,
           864.6506849315068,
           1000,
           1000
          ],
          [
           1186.5716552734375,
           987.8728323699422,
           976.121387283237,
           999.7630057803468
          ],
          [
           2110.63916015625,
           1000,
           675.4577259475219,
           1000
          ],
          [
           2131.015625,
           1000,
           736.5112540192926,
           1000
          ],
          [
           1252.11767578125,
           1000,
           992.7608695652174,
           1000
          ],
          [
           757.5952758789062,
           1000,
           1000,
           1000
          ],
          [
           599.6610717773438,
           1000,
           1000,
           1000
          ],
          [
           815.6505737304688,
           1000,
           1000,
           1000
          ],
          [
           529.141357421875,
           994.3807531380752,
           1000,
           1000
          ],
          [
           535.3505859375,
           1000,
           826.0884353741496,
           1000
          ],
          [
           766.9000244140625,
           1000,
           356.4318181818182,
           1000
          ],
          [
           840.10107421875,
           951.51,
           983.62,
           1000
          ],
          [
           487.3905029296875,
           448.3968253968254,
           1000,
           1000
          ],
          [
           459.0769348144531,
           444.1980198019802,
           1000,
           1000
          ],
          [
           524.2965087890625,
           912.2615384615384,
           1000,
           999.3384615384616
          ],
          [
           1620.9033203125,
           935.724770642202,
           904.4678899082568,
           866.4495412844037
          ],
          [
           2152.734375,
           505.591439688716,
           431.3968871595331,
           388.2723735408561
          ],
          [
           2040.3465576171875,
           618.6227106227107,
           346.4835164835165,
           611.6593406593406
          ],
          [
           2142.224365234375,
           831.0060240963855,
           838.1084337349398,
           815.6686746987951
          ],
          [
           2604.52294921875,
           750.0208333333334,
           723.6979166666666,
           999.0729166666666
          ],
          [
           3418.519287109375,
           397.2475570032573,
           461.3583061889251,
           1000
          ],
          [
           4713.13037109375,
           565.2714776632303,
           889.8041237113403,
           961.4604810996564
          ],
          [
           4599.0537109375,
           305.64864864864865,
           892.1675675675675,
           907.5837837837838
          ],
          [
           2558.42822265625,
           730.9516908212561,
           738.0144927536232,
           986.9082125603863
          ],
          [
           3588.1904296875,
           351.7747747747748,
           337.1981981981982,
           975.626126126126
          ],
          [
           3915.948974609375,
           458.92712550607285,
           411.502024291498,
           941.6113360323886
          ],
          [
           2503.3251953125,
           568.0689655172414,
           377.4670846394984,
           960.9561128526644
          ],
          [
           1302.745849609375,
           675.1621621621622,
           860.8288288288288,
           1000
          ],
          [
           2081.22119140625,
           553.7540983606557,
           1000,
           998.672131147541
          ],
          [
           188.5145263671875,
           955.0714285714286,
           950.9285714285714,
           1000
          ],
          [
           1381.4981689453125,
           497.4166666666667,
           319.4423076923077,
           877.7051282051282
          ],
          [
           4199.36962890625,
           511.73413897280966,
           439.74018126888217,
           412.5105740181269
          ],
          [
           4681.4755859375,
           430.6009174311927,
           579.8394495412844,
           379.79816513761466
          ],
          [
           6884.72705078125,
           289.6983240223464,
           338.6256983240223,
           420.7206703910615
          ],
          [
           4696.9130859375,
           589.7939393939394,
           540.0484848484848,
           174.24545454545455
          ],
          [
           3391.10888671875,
           713.0930232558139,
           964.6434108527131,
           593.1782945736434
          ],
          [
           1672.4537353515625,
           694.4567901234568,
           987.0493827160494,
           364.4506172839506
          ],
          [
           54.611934661865234,
           924.3275862068964,
           466.3103448275862,
           229.20689655172413
          ],
          [
           615.1962890625,
           1000,
           1000,
           1000
          ],
          [
           608.1469116210938,
           1000,
           1000,
           1000
          ],
          [
           304.78485107421875,
           955.5142857142856,
           1000,
           939.3714285714286
          ],
          [
           373.8807067871094,
           749.6444444444444,
           1000,
           771.5777777777778
          ],
          [
           1506.806884765625,
           641.7522123893805,
           1000,
           675.5929203539823
          ],
          [
           1975.379638671875,
           864.2115384615385,
           1000,
           892.0064102564103
          ],
          [
           1836.2213134765625,
           997.5284552845528,
           1000,
           998.9837398373984
          ],
          [
           869.2042846679688,
           1000,
           1000,
           1000
          ],
          [
           536.9169311523438,
           1000,
           1000,
           1000
          ],
          [
           453.3005065917969,
           1000,
           1000,
           1000
          ],
          [
           334.54669189453125,
           1000,
           998.2706766917294,
           1000
          ],
          [
           407.5481567382813,
           1000,
           581.9128205128205,
           1000
          ],
          [
           320.87701416015625,
           1000,
           233.73684210526315,
           1000
          ],
          [
           324.1278381347656,
           995.9,
           901.48,
           998.26
          ],
          [
           256.53985595703125,
           966.0454545454544,
           1000,
           1000
          ],
          [
           488.6263732910156,
           986.9897959183672,
           1000,
           1000
          ],
          [
           539.0639038085938,
           625.6458333333334,
           928.3541666666666,
           998.2291666666666
          ],
          [
           1549.3131103515625,
           560.95,
           717.8,
           840.7333333333333
          ],
          [
           1897.21142578125,
           921.3218997361478,
           637.8601583113457,
           446.9393139841689
          ],
          [
           2342.3564453125,
           966.5030674846626,
           714.2085889570552,
           771.5092024539878
          ],
          [
           2070.153076171875,
           999.855421686747,
           949.843373493976,
           1000
          ],
          [
           1706.6356201171875,
           975.3333333333334,
           947.2716049382716,
           1000
          ],
          [
           1899.1395263671875,
           900.7873563218392,
           882.6551724137931,
           1000
          ],
          [
           1257.0758056640625,
           745.0652173913044,
           974.891304347826,
           889.6739130434783
          ],
          [
           1312.7830810546875,
           915.5522388059702,
           978.4179104477612,
           516
          ],
          [
           3050.063720703125,
           939.6954022988506,
           765.9022988505748,
           666.2758620689655
          ],
          [
           4172.16552734375,
           680.6424581005587,
           487.2960893854749,
           993.2346368715084
          ],
          [
           2936.73779296875,
           342.325,
           534.625,
           771.915
          ],
          [
           1389.8812255859375,
           375.1136950904393,
           580.9638242894057,
           437.80878552971575
          ],
          [
           601.6731567382812,
           1000,
           1000,
           935.561797752809
          ],
          [
           316.4658203125,
           1000,
           1000,
           998.1538461538462
          ],
          [
           348.10894775390625,
           829.3333333333334,
           829.3333333333334,
           900.9090909090908
          ],
          [
           1811.1142578125,
           973.051724137931,
           860.5948275862069,
           655.7844827586207
          ],
          [
           3054.178466796875,
           968.4097222222222,
           929.1180555555557,
           419.13194444444446
          ],
          [
           2347.386474609375,
           978.5454545454544,
           993.1188811188812,
           735.027972027972
          ],
          [
           3481.22509765625,
           485.91472868217056,
           544.2403100775193,
           553.4806201550388
          ],
          [
           3152.9375,
           518.9032258064516,
           548.483870967742,
           583.991935483871
          ],
          [
           2500.976806640625,
           659.0298507462686,
           946.2014925373136,
           710.0895522388059
          ],
          [
           1445.082763671875,
           448.8416149068323,
           1000,
           432.8229813664596
          ],
          [
           393.836669921875,
           568.3714285714286,
           933.7714285714286,
           345.01428571428573
          ],
          [
           72.03666687011719,
           877.3571428571429,
           895.8928571428571,
           840.0714285714286
          ],
          [
           397.02880859375,
           1000,
           1000,
           1000
          ],
          [
           341.84332275390625,
           1000,
           1000,
           1000
          ],
          [
           259.8892822265625,
           1000,
           1000,
           1000
          ],
          [
           226.6770782470703,
           1000,
           1000,
           1000
          ],
          [
           409.5839538574219,
           1000,
           1000,
           1000
          ],
          [
           848.7025756835938,
           1000,
           1000,
           1000
          ],
          [
           538.9915161132812,
           1000,
           1000,
           1000
          ],
          [
           299.2066345214844,
           1000,
           1000,
           1000
          ],
          [
           220.0100860595703,
           1000,
           1000,
           1000
          ],
          [
           242.74752807617188,
           1000,
           1000,
           1000
          ],
          [
           219.45529174804688,
           1000,
           1000,
           1000
          ],
          [
           154.9054412841797,
           999.219512195122,
           1000,
           803.5365853658536
          ],
          [
           152.5998992919922,
           1000,
           1000,
           399.2903225806452
          ],
          [
           175.99984741210938,
           1000,
           1000,
           734.7916666666666
          ],
          [
           109.38897705078124,
           1000,
           1000,
           1000
          ],
          [
           298.1039123535156,
           1000,
           1000,
           1000
          ],
          [
           290.5434875488281,
           1000,
           964.8571428571428,
           1000
          ],
          [
           696.268798828125,
           1000,
           999.3150684931506,
           1000
          ],
          [
           1671.081298828125,
           852.4285714285714,
           823.1848739495798,
           1000
          ],
          [
           2169.382568359375,
           305.2345679012346,
           233.3827160493827,
           1000
          ],
          [
           2076.303466796875,
           597.6071428571429,
           606.6785714285714,
           993.3928571428572
          ],
          [
           1899.426513671875,
           662.9659863945578,
           975.8843537414966,
           735.6802721088435
          ],
          [
           859.9541625976562,
           996.4315789473684,
           1000,
           646.7473684210527
          ],
          [
           465.4363098144531,
           1000,
           1000,
           984.6363636363636
          ],
          [
           314.0418395996094,
           1000,
           1000,
           1000
          ],
          [
           529.59228515625,
           980.2413793103448,
           1000,
           1000
          ],
          [
           941.8035888671876,
           623.84,
           1000,
           1000
          ],
          [
           872.8312377929688,
           416.5897435897436,
           1000,
           999.9230769230768
          ],
          [
           667.3911743164062,
           1000,
           1000,
           1000
          ],
          [
           200.9263916015625,
           896.6875,
           896.6875,
           1000
          ],
          [
           422.76800537109375,
           364.6666666666667,
           391.4,
           902.8888888888888
          ],
          [
           1834.9425048828125,
           254.63478260869564,
           357.9391304347826,
           594.9391304347826
          ],
          [
           3013.868896484375,
           439.9188034188034,
           576.1538461538462,
           373.4145299145299
          ],
          [
           2184.774169921875,
           774.8478260869565,
           709.6521739130435,
           916.141304347826
          ],
          [
           1842.617431640625,
           918.4627659574468,
           373.3244680851064,
           997.191489361702
          ],
          [
           2123.94580078125,
           999.3255813953488,
           913.484496124031,
           1000
          ],
          [
           2744.63134765625,
           894,
           664.0408163265306,
           997.8707482993198
          ],
          [
           1981.056884765625,
           579.5327102803739,
           854.1028037383178,
           999.7383177570092
          ],
          [
           1325.2542724609375,
           314.5190615835777,
           998.818181818182,
           1000
          ],
          [
           1048.37841796875,
           325.3488372093023,
           838.2558139534884,
           991.6744186046512
          ],
          [
           682.2017822265625,
           457.1216216216216,
           322.5472972972973,
           987.9932432432432
          ],
          [
           121.8229751586914,
           472,
           575,
           1000
          ],
          [
           49.74812698364258,
           1000,
           1000,
           1000
          ],
          [
           2.993978977203369,
           1000,
           1000,
           1000
          ],
          [
           130.9564666748047,
           1000,
           1000,
           1000
          ],
          [
           287.9515686035156,
           1000,
           1000,
           1000
          ],
          [
           201.440658569336,
           1000,
           1000,
           1000
          ],
          [
           170.5477752685547,
           1000,
           1000,
           1000
          ],
          [
           212.0084686279297,
           1000,
           1000,
           1000
          ],
          [
           443.1790771484375,
           1000,
           1000,
           1000
          ],
          [
           950.6054077148438,
           1000,
           1000,
           1000
          ],
          [
           1087.053955078125,
           867.4784688995215,
           1000,
           1000
          ],
          [
           1202.035888671875,
           591.7918781725888,
           1000,
           1000
          ],
          [
           1019.9700927734376,
           756.9123505976096,
           1000,
           1000
          ],
          [
           1085.6632080078125,
           991.3571428571428,
           1000,
           1000
          ],
          [
           950.181396484375,
           419.7921348314607,
           1000,
           962.376404494382
          ],
          [
           1006.1640014648438,
           716.8910256410256,
           1000,
           685.4487179487179
          ],
          [
           1050.0799560546875,
           991.4910714285714,
           1000,
           656.8660714285714
          ],
          [
           375.1736755371094,
           1000,
           1000,
           1000
          ],
          [
           391.5101623535156,
           1000,
           761.7392739273928,
           1000
          ],
          [
           571.097900390625,
           1000,
           425.21238938053096,
           1000
          ],
          [
           643.5965576171875,
           1000,
           531.5510204081633,
           1000
          ],
          [
           1358.4078369140625,
           978.7881355932204,
           798.4915254237288,
           1000
          ],
          [
           2040.8609619140625,
           534.5104895104895,
           480.3496503496504,
           1000
          ],
          [
           2008.16455078125,
           276.1709401709402,
           580.3376068376068,
           989.7777777777778
          ],
          [
           1354.5479736328125,
           344.19736842105266,
           983.1184210526316,
           871.7763157894736
          ],
          [
           312.4681396484375,
           639.1794871794872,
           1000,
           510.6666666666667
          ],
          [
           159.16534423828125,
           1000,
           1000,
           1000
          ],
          [
           528.700927734375,
           1000,
           1000,
           1000
          ],
          [
           421.9629211425781,
           1000,
           1000,
           871
          ],
          [
           285.25994873046875,
           1000,
           1000,
           1000
          ],
          [
           244.5179443359375,
           955.7142857142856,
           999.8571428571428,
           1000
          ],
          [
           902.189208984375,
           674.2272727272727,
           376.6545454545454,
           1000
          ],
          [
           2549.021240234375,
           273.6487603305785,
           531.3305785123966,
           958.4876033057852
          ],
          [
           3041.896484375,
           595.1925925925926,
           581.5925925925926,
           698.5333333333333
          ],
          [
           985.7077026367188,
           740.4,
           683.0090909090909,
           596.5545454545454
          ],
          [
           819.7108764648438,
           346.6904761904762,
           394.57142857142856,
           976.2589285714286
          ],
          [
           661.4312133789062,
           904.2535211267606,
           875.2183098591549,
           1000
          ],
          [
           1517.73193359375,
           391.7415730337079,
           464.123595505618,
           1000
          ],
          [
           1306.7691650390625,
           534.1375,
           781.1,
           998.225
          ],
          [
           1043.5325927734375,
           469.9193548387097,
           865.3870967741935,
           898.0860215053764
          ],
          [
           1465.4755859375,
           619.8486842105264,
           331.3881578947368,
           528.8947368421053
          ],
          [
           1613.8875732421875,
           809.9137931034483,
           319.4439655172414,
           393.375
          ],
          [
           590.4903564453125,
           840.8148148148148,
           712.8333333333334,
           775.4444444444445
          ],
          [
           184.21327209472656,
           1000,
           996.2533333333332,
           1000
          ],
          [
           124.4211883544922,
           1000,
           1000,
           1000
          ],
          [
           807.5810546875,
           1000,
           1000,
           1000
          ],
          [
           1457.975830078125,
           1000,
           1000,
           1000
          ],
          [
           1060.6190185546875,
           1000,
           1000,
           1000
          ],
          [
           795.6942749023438,
           981.4054054054054,
           972.6846846846848,
           975.1981981981982
          ],
          [
           876.1971435546875,
           887.3501945525292,
           863.7821011673152,
           870.2295719844358
          ],
          [
           704.1091918945312,
           868.5787234042554,
           758.4936170212766,
           805.0297872340426
          ],
          [
           755.19580078125,
           993.7033898305084,
           665.728813559322,
           766.1949152542373
          ],
          [
           1679.3887939453125,
           894.9810126582279,
           988.8987341772151,
           985.1582278481012
          ],
          [
           1986.083984375,
           344.20714285714286,
           1000,
           995.4535714285714
          ],
          [
           1793.58251953125,
           497.4746543778802,
           1000,
           925.8617511520736
          ],
          [
           1669.2286376953125,
           918.1217391304348,
           1008.695652173913,
           916.9130434782608
          ],
          [
           1627.8677978515625,
           641.8768656716418,
           1000,
           736.1305970149253
          ],
          [
           1895.3612060546875,
           832.1517857142857,
           1000,
           294.2544642857143
          ],
          [
           1853.0706787109373,
           977.2310606060606,
           1000,
           506.405303030303
          ],
          [
           1193.6971435546875,
           1000,
           1000,
           850.723880597015
          ],
          [
           353.6958312988281,
           1000,
           827.9591836734694,
           1000
          ],
          [
           528.5020751953125,
           1000,
           797.3263157894737,
           1000
          ],
          [
           634.3280639648438,
           1000,
           863.030612244898,
           1000
          ],
          [
           667.3992309570312,
           999.9659090909092,
           935.0113636363636,
           1000
          ],
          [
           1399.4425048828125,
           907.6639344262296,
           915.9590163934428,
           1000
          ],
          [
           1227.821533203125,
           814.5504587155963,
           950.908256880734,
           1000
          ],
          [
           452.861328125,
           743.3333333333334,
           1000,
           1000
          ],
          [
           122.70208740234376,
           1000,
           1000,
           1000
          ],
          [
           460.2005615234375,
           1000,
           1000,
           895.3461538461538
          ],
          [
           152.26686096191406,
           1000,
           1000,
           107.66666666666669
          ],
          [
           92.96446228027344,
           1000,
           1000,
           1000
          ],
          [
           96.92726135253906,
           1000,
           1000,
           920
          ],
          [
           211.6236114501953,
           1000,
           951.2857142857144,
           1000
          ],
          [
           509.6600646972656,
           989.3254437869824,
           618.2485207100592,
           1000
          ],
          [
           1339.9697265625,
           937.344537815126,
           666.1932773109244,
           999.1764705882352
          ],
          [
           1847.0802001953125,
           997.0839694656488,
           1000,
           951.5419847328244
          ],
          [
           1348.003173828125,
           881.2,
           999.2,
           923.557894736842
          ],
          [
           1445.69482421875,
           606.2345679012345,
           967.2592592592592,
           1000
          ],
          [
           490.6397399902344,
           827.2374100719425,
           1000,
           1000
          ],
          [
           521.04345703125,
           495.76666666666665,
           1000,
           986.9777777777778
          ],
          [
           528.7855834960938,
           544.6736842105263,
           999.8947368421052,
           854.4631578947368
          ],
          [
           240.3502960205078,
           993.1428571428572,
           1000,
           843.9206349206349
          ],
          [
           291.4589538574219,
           1000,
           1000,
           1000
          ],
          [
           360.705078125,
           956.9090909090908,
           1000,
           917.2727272727273
          ],
          [
           173.48434448242188,
           995.8571428571428,
           1000,
           983.4285714285714
          ],
          [
           263.1422424316406,
           1000,
           1000,
           1000
          ],
          [
           223.9626617431641,
           1000,
           1000,
           1000
          ],
          [
           606.2503051757812,
           1000,
           1000,
           1000
          ],
          [
           736.3074340820312,
           1000,
           1000,
           1000
          ],
          [
           1013.7757568359376,
           1000,
           892.7944444444445,
           1000
          ],
          [
           1227.178466796875,
           937.7927215189874,
           528.6408227848101,
           944.1693037974684
          ],
          [
           1578.2691650390625,
           495.5220994475138,
           383.121546961326,
           505.0386740331492
          ],
          [
           1295.1644287109375,
           596.4083129584352,
           315.3007334963325,
           476.2078239608802
          ],
          [
           601.7595825195312,
           959.1304347826087,
           348.39130434782606,
           348.8260869565217
          ],
          [
           257.5632019042969,
           1000,
           987.7692307692308,
           410.4230769230769
          ],
          [
           533.3353271484375,
           638.8131868131868,
           1000,
           939.2307692307692
          ],
          [
           425.4725646972656,
           278.3636363636364,
           1000,
           274.6515151515151
          ],
          [
           203.78823852539065,
           365.8918918918919,
           1000,
           205.13513513513516
          ],
          [
           148.76905822753906,
           910.375,
           1000,
           238.25
          ],
          [
           173.55511474609375,
           1000,
           1000,
           144.6
          ],
          [
           240.07388305664065,
           1000,
           1000,
           234.2
          ],
          [
           370.65960693359375,
           1000,
           1000,
           813.0833333333334
          ],
          [
           446.4666748046875,
           1000,
           1000,
           967.865168539326
          ],
          [
           623.0398559570312,
           1000,
           1000,
           1000
          ],
          [
           632.9165649414062,
           1000,
           1000,
           1000
          ],
          [
           926.4417114257812,
           1000,
           1000,
           1000
          ],
          [
           1009.7705078125,
           1000,
           1000,
           1000
          ],
          [
           952.064453125,
           1000,
           1000,
           1000
          ],
          [
           387.7154235839844,
           1000,
           1000,
           1000
          ],
          [
           116.6545639038086,
           1000,
           1000,
           1000
          ],
          [
           88.65038299560547,
           1000,
           1000,
           1000
          ],
          [
           108.94266510009766,
           1000,
           1000,
           1000
          ],
          [
           64.64034271240234,
           1000,
           1000,
           1000
          ],
          [
           44.12084579467773,
           1000,
           1000,
           1000
          ],
          [
           41.65827560424805,
           1000,
           1000,
           947
          ],
          [
           47.52221298217773,
           1000,
           1000,
           1000
          ],
          [
           72.51296997070312,
           1000,
           1000,
           1000
          ],
          [
           144.95750427246094,
           1000,
           1000,
           1000
          ],
          [
           561.067626953125,
           970.8411214953272,
           988.429906542056,
           1000
          ],
          [
           1159.6585693359375,
           867.8602150537635,
           927.978494623656,
           1000
          ],
          [
           802.7286987304688,
           978.2093023255812,
           999.8023255813954,
           1000
          ],
          [
           701.9442138671875,
           1000,
           1000,
           1000
          ],
          [
           560.9107666015625,
           1000,
           1000,
           1000
          ],
          [
           274.2564697265625,
           987.5641025641024,
           1000,
           936.1282051282052
          ],
          [
           272.0621643066406,
           1000,
           1000,
           347.7906976744186
          ],
          [
           161.59548950195312,
           1000,
           1000,
           745
          ],
          [
           130.64236450195312,
           1000,
           1000,
           1000
          ],
          [
           145.6709442138672,
           1000,
           1000,
           1000
          ],
          [
           176.2481689453125,
           1000,
           1000,
           1000
          ],
          [
           129.29779052734375,
           1000,
           1000,
           1000
          ],
          [
           154.14703369140625,
           1000,
           1000,
           1000
          ],
          [
           1039.400146484375,
           997.7307692307692,
           976.296153846154,
           898.2384615384616
          ],
          [
           1030.752197265625,
           862.5093167701864,
           999.832298136646,
           637.2608695652174
          ],
          [
           636.7994384765625,
           851.3507109004739,
           998.4123222748816,
           867.1895734597157
          ],
          [
           599.7838745117188,
           961.1739130434784,
           889.8913043478261,
           992.018115942029
          ],
          [
           776.2791748046875,
           968.9767441860464,
           934.968992248062,
           988.1937984496124
          ],
          [
           500.17138671875,
           997.033613445378,
           885.781512605042,
           986.5882352941176
          ],
          [
           169.51373291015625,
           1000,
           933.7142857142856,
           702.8571428571429
          ],
          [
           133.58396911621094,
           944.9230769230768,
           1000,
           243.23076923076923
          ],
          [
           205.2762756347656,
           702.3125,
           1000,
           320.8625
          ],
          [
           90.02790069580078,
           509,
           1000,
           615.75
          ],
          [
           11.69416618347168,
           1000,
           1000,
           1000
          ],
          [
           19.07416725158692,
           1000,
           1000,
           1000
          ],
          [
           113.70327758789062,
           1000,
           1000,
           1000
          ],
          [
           209.4113922119141,
           1000,
           1000,
           1000
          ],
          [
           210.3256225585937,
           1000,
           1000,
           1000
          ],
          [
           331.7444763183594,
           1000,
           1000,
           1000
          ],
          [
           542.012451171875,
           1000,
           1000,
           1000
          ],
          [
           637.8970336914062,
           1000,
           1000,
           1000
          ],
          [
           154.63841247558594,
           1000,
           1000,
           1000
          ],
          [
           69.13963317871094,
           1000,
           1000,
           1000
          ],
          [
           45.97349166870117,
           1000,
           1000,
           1000
          ],
          [
           46.72726821899414,
           1000,
           1000,
           1000
          ],
          [
           35.298919677734375,
           1000,
           1000,
           1000
          ],
          [
           38.90097427368164,
           1000,
           1000,
           1000
          ],
          [
           60.2628288269043,
           1000,
           1000,
           880.5
          ],
          [
           44.94264221191406,
           1000,
           1000,
           1000
          ],
          [
           117.92335510253906,
           1000,
           1000,
           1000
          ],
          [
           655.8869018554688,
           681.1184210526316,
           695.2763157894736,
           1000
          ],
          [
           928.2647705078124,
           325.8989898989899,
           335.5757575757576,
           1000
          ],
          [
           411.1160583496094,
           755.1066666666667,
           808.4,
           1000
          ],
          [
           192.624252319336,
           986.8461538461538,
           986.6538461538462,
           1000
          ],
          [
           123.1965560913086,
           1000,
           1000,
           1000
          ],
          [
           160.2586669921875,
           1000,
           1000,
           1000
          ],
          [
           158.27833557128906,
           1000,
           1000,
           1000
          ],
          [
           274.1124267578125,
           1000,
           1000,
           1000
          ],
          [
           175.53521728515625,
           1000,
           1000,
           1000
          ],
          [
           300.465087890625,
           1000,
           989.8235294117648,
           1000
          ],
          [
           990.6219482421876,
           998.5754716981132,
           880.6509433962265,
           999.933962264151
          ],
          [
           450.5507507324219,
           928.561403508772,
           999.140350877193,
           981.877192982456
          ],
          [
           11.513407707214355,
           1000,
           1000,
           1000
          ],
          [
           1261.388671875,
           980.2175572519084,
           455.7671755725191,
           629.175572519084
          ],
          [
           1293.6033935546875,
           711.2028985507246,
           950.6770186335405,
           499.7536231884058
          ],
          [
           826.01904296875,
           603.5009487666034,
           1000,
           726.920303605313
          ],
          [
           554.1541137695312,
           573.5727699530516,
           1018.7793427230048,
           935.4178403755868
          ],
          [
           378.121337890625,
           572.7777777777778,
           1000,
           587.6666666666666
          ],
          [
           162.48193359375,
           536.5949367088608,
           1000,
           172.69620253164558
          ],
          [
           70.45732116699219,
           1000,
           1000,
           1000
          ],
          [
           28.72854423522949,
           1000,
           1000,
           1000
          ],
          [
           64.27622985839844,
           1000,
           1000,
           1000
          ],
          [
           65.86116790771484,
           1000,
           1000,
           1000
          ],
          [
           36.3842887878418,
           1000,
           1000,
           1000
          ],
          [
           42.02742004394531,
           1000,
           1000,
           1000
          ],
          [
           49.707889556884766,
           1000,
           1000,
           874.3333333333334
          ],
          [
           38.96443176269531,
           1000,
           1000,
           254.16666666666663
          ],
          [
           47.91630172729492,
           1000,
           1000,
           646.7142857142857
          ],
          [
           150.01025390625,
           822.25,
           1000,
           1000
          ],
          [
           659.3965454101562,
           620.3846153846154,
           963.5897435897436,
           1000
          ],
          [
           731.282470703125,
           650.3928571428571,
           779,
           1000
          ],
          [
           234.8470458984375,
           945.0535714285714,
           980.1428571428572,
           1000
          ],
          [
           113.6518783569336,
           1000,
           1000,
           1000
          ],
          [
           62.89875030517578,
           1000,
           1000,
           1000
          ],
          [
           105.99838256835938,
           1000,
           1000,
           1000
          ],
          [
           327.362060546875,
           1000,
           1000,
           1000
          ],
          [
           518.0643310546875,
           1000,
           1000,
           1000
          ],
          [
           268.6994934082031,
           1000,
           988,
           1000
          ],
          [
           705.1622924804688,
           999.3,
           742.376923076923,
           990.753846153846
          ],
          [
           1215.35986328125,
           858.8708133971292,
           357.6507177033493,
           781.8564593301436
          ],
          [
           1160.82861328125,
           279.1345565749235,
           677.7247706422019,
           247.9908256880734
          ],
          [
           320.5765380859375,
           277.55696202531647,
           963.6835443037976,
           126.11392405063292
          ],
          [
           842.8202514648438,
           800.1987179487179,
           898.6987179487179,
           999.8717948717948
          ],
          [
           685.324951171875,
           992.877659574468,
           985.6382978723404,
           963.1595744680852
          ],
          [
           314.7710876464844,
           753.367088607595,
           1000,
           945.0632911392404
          ],
          [
           85.52888488769531,
           515.8571428571429,
           1000,
           530.3571428571429
          ],
          [
           33.29862976074219,
           659,
           1000,
           0
          ],
          [
           10.999119758605955,
           1000,
           1000,
           1000
          ],
          [
           58.795711517333984,
           1000,
           1000,
           1000
          ],
          [
           50.63676834106445,
           1000,
           1000,
           1000
          ],
          [
           70.34169006347656,
           1000,
           1000,
           1000
          ],
          [
           69.8019027709961,
           1000,
           1000,
           663.125
          ],
          [
           40.34040451049805,
           1000,
           1000,
           938.9166666666666
          ],
          [
           56.93149948120117,
           1000,
           1000,
           985
          ],
          [
           265.6038818359375,
           800.0869565217391,
           1000,
           1000
          ],
          [
           388.6124572753906,
           567.551724137931,
           1000,
           1000
          ],
          [
           225.45057678222656,
           689.5416666666666,
           1000,
           1000
          ],
          [
           99.62432861328124,
           1000,
           1000,
           1000
          ],
          [
           63.11209487915039,
           1000,
           1000,
           1000
          ],
          [
           25.38489532470703,
           1000,
           1000,
           1000
          ],
          [
           76.88813781738281,
           1000,
           1000,
           1000
          ],
          [
           207.659408569336,
           1000,
           1000,
           1000
          ],
          [
           637.2115478515625,
           1000,
           1000,
           1000
          ],
          [
           857.2281494140625,
           1000,
           973.9491525423728,
           1000
          ],
          [
           959.3792114257812,
           1000,
           620.6666666666666,
           1000
          ],
          [
           757.6140747070312,
           928.0901639344262,
           318,
           906.9016393442624
          ],
          [
           504.0444641113281,
           413.7017543859649,
           885.7368421052631,
           655.859649122807
          ],
          [
           201.42398071289065,
           266.3030303030303,
           1000,
           471.5151515151515
          ],
          [
           32.26926803588867,
           1000,
           1000,
           1000
          ],
          [
           9.125398635864258,
           1000,
           1000,
           1000
          ],
          [
           58.3762092590332,
           1000,
           1000,
           1000
          ],
          [
           43.69259643554688,
           1000,
           1000,
           1000
          ],
          [
           43.42560195922852,
           1000,
           1000,
           1000
          ],
          [
           49.333614349365234,
           1000,
           1000,
           556.030303030303
          ],
          [
           66.52981567382812,
           1000,
           1000,
           741.7333333333333
          ],
          [
           116.884033203125,
           1000,
           1000,
           924.03125
          ],
          [
           216.9490509033203,
           998.859649122807,
           1000,
           1000
          ],
          [
           70.68802642822266,
           1000,
           1000,
           1000
          ],
          [
           80.45005798339844,
           1000,
           1000,
           1000
          ],
          [
           103.21656036376952,
           1000,
           1000,
           1000
          ],
          [
           85.01475524902344,
           1000,
           1000,
           1000
          ],
          [
           174.39199829101562,
           1000,
           1000,
           1000
          ],
          [
           186.01319885253903,
           1000,
           1000,
           1000
          ],
          [
           321.66558837890625,
           1000,
           1000,
           1000
          ],
          [
           403.1967468261719,
           1000,
           998.4850746268656,
           1000
          ],
          [
           187.67849731445312,
           1000,
           715.2083333333334,
           1000
          ],
          [
           87.79674530029297,
           1000,
           625.3333333333334,
           1000
          ],
          [
           7.222929954528809,
           1000,
           1000,
           1000
          ],
          [
           2.778900146484375,
           1000,
           1000,
           1000
          ],
          [
           20.304059982299805,
           1000,
           1000,
           1000
          ],
          [
           25.192665100097656,
           1000,
           1000,
           1000
          ],
          [
           14.116853713989258,
           1000,
           1000,
           565
          ],
          [
           36.61592864990234,
           832.75,
           1000,
           851.05
          ],
          [
           77.30728912353516,
           966.9852941176472,
           1000,
           933.1470588235294
          ],
          [
           165.01332092285156,
           989.3783783783784,
           1000,
           971.0945945945946
          ],
          [
           143.5420684814453,
           799.1212121212121,
           1000,
           977.2121212121212
          ],
          [
           102.70330047607422,
           400.7037037037037,
           1000,
           828.1851851851852
          ],
          [
           224.5221099853516,
           840.0277777777778,
           1000,
           825.1111111111111
          ],
          [
           334.4949645996094,
           998.7045454545456,
           1000,
           992.681818181818
          ],
          [
           353.3573608398437,
           1000,
           1000,
           1000
          ],
          [
           28.56262588500977,
           1000,
           1000,
           1000
          ],
          [
           57.96057891845703,
           99.375,
           1000,
           324.625
          ],
          [
           92.88224029541016,
           374.425,
           1000,
           267.825
          ],
          [
           165.177734375,
           854.1,
           1000,
           791.7
          ],
          [
           228.97027587890625,
           1000,
           1000,
           903.891891891892
          ],
          [
           143.41055297851562,
           918.2,
           1000,
           320.4
          ],
          [
           99.74156188964844,
           1000,
           1000,
           631.1904761904761
          ],
          [
           97.2983169555664,
           1000,
           1000,
           1000
          ],
          [
           14.762961387634276,
           1000,
           1000,
           1000
          ],
          [
           11.002124786376951,
           1000,
           1000,
           1000
          ],
          [
           34.579925537109375,
           1000,
           1000,
           1000
          ],
          [
           29.629674911499023,
           1000,
           1000,
           1000
          ],
          [
           0.919191837310791,
           1000,
           1000,
           1000
          ]
         ],
         "hovertemplate": "population_density=%{customdata[0]}<br>lat=%{lat}<br>lon=%{lon}<br>avg_restaurant_dist=%{customdata[1]}<br>avg_bar_dist=%{customdata[2]}<br>avg_toilets_dist=%{customdata[3]}<br>avg_user_selection=%{marker.color}<extra></extra>",
         "lat": [
          55.77041662573848,
          55.77041662573848,
          55.77041662573848,
          55.77041662573848,
          55.77041662573848,
          55.77041662573848,
          55.77041662573848,
          55.77041662573848,
          55.77041662573848,
          55.77041662573848,
          55.77041662573848,
          55.77041662573848,
          55.77041662573848,
          55.77041662573848,
          55.77041662573848,
          55.77041662573848,
          55.77041662573848,
          55.77041662573848,
          55.77041662573848,
          55.77041662573848,
          55.77041662573848,
          55.77041662573848,
          55.77041662573848,
          55.77041662573848,
          55.77041662573848,
          55.77041662573848,
          55.77041662573848,
          55.77041662573848,
          55.77041662573848,
          55.77041662573848,
          55.77041662573848,
          55.77041662573848,
          55.77041662573848,
          55.77041662573848,
          55.76208329243848,
          55.76208329243848,
          55.76208329243848,
          55.76208329243848,
          55.76208329243848,
          55.76208329243848,
          55.76208329243848,
          55.76208329243848,
          55.76208329243848,
          55.76208329243848,
          55.76208329243848,
          55.76208329243848,
          55.76208329243848,
          55.76208329243848,
          55.76208329243848,
          55.76208329243848,
          55.76208329243848,
          55.76208329243848,
          55.76208329243848,
          55.76208329243848,
          55.76208329243848,
          55.76208329243848,
          55.76208329243848,
          55.76208329243848,
          55.76208329243848,
          55.76208329243848,
          55.76208329243848,
          55.76208329243848,
          55.76208329243848,
          55.76208329243848,
          55.76208329243848,
          55.76208329243848,
          55.76208329243848,
          55.76208329243848,
          55.76208329243848,
          55.75374995913848,
          55.75374995913848,
          55.75374995913848,
          55.75374995913848,
          55.75374995913848,
          55.75374995913848,
          55.75374995913848,
          55.75374995913848,
          55.75374995913848,
          55.75374995913848,
          55.75374995913848,
          55.75374995913848,
          55.75374995913848,
          55.75374995913848,
          55.75374995913848,
          55.75374995913848,
          55.75374995913848,
          55.75374995913848,
          55.75374995913848,
          55.75374995913848,
          55.75374995913848,
          55.75374995913848,
          55.75374995913848,
          55.75374995913848,
          55.75374995913848,
          55.75374995913848,
          55.75374995913848,
          55.75374995913848,
          55.75374995913848,
          55.75374995913848,
          55.75374995913848,
          55.75374995913848,
          55.75374995913848,
          55.75374995913848,
          55.75374995913848,
          55.74541662583848,
          55.74541662583848,
          55.74541662583848,
          55.74541662583848,
          55.74541662583848,
          55.74541662583848,
          55.74541662583848,
          55.74541662583848,
          55.74541662583848,
          55.74541662583848,
          55.74541662583848,
          55.74541662583848,
          55.74541662583848,
          55.74541662583848,
          55.74541662583848,
          55.74541662583848,
          55.74541662583848,
          55.74541662583848,
          55.74541662583848,
          55.74541662583848,
          55.74541662583848,
          55.74541662583848,
          55.74541662583848,
          55.74541662583848,
          55.74541662583848,
          55.74541662583848,
          55.74541662583848,
          55.74541662583848,
          55.74541662583848,
          55.74541662583848,
          55.74541662583848,
          55.74541662583848,
          55.74541662583848,
          55.74541662583848,
          55.73708329253848,
          55.73708329253848,
          55.73708329253848,
          55.73708329253848,
          55.73708329253848,
          55.73708329253848,
          55.73708329253848,
          55.73708329253848,
          55.73708329253848,
          55.73708329253848,
          55.73708329253848,
          55.73708329253848,
          55.73708329253848,
          55.73708329253848,
          55.73708329253848,
          55.73708329253848,
          55.73708329253848,
          55.73708329253848,
          55.73708329253848,
          55.73708329253848,
          55.73708329253848,
          55.73708329253848,
          55.73708329253848,
          55.73708329253848,
          55.73708329253848,
          55.73708329253848,
          55.73708329253848,
          55.73708329253848,
          55.73708329253848,
          55.73708329253848,
          55.73708329253848,
          55.73708329253848,
          55.73708329253848,
          55.72874995923848,
          55.72874995923848,
          55.72874995923848,
          55.72874995923848,
          55.72874995923848,
          55.72874995923848,
          55.72874995923848,
          55.72874995923848,
          55.72874995923848,
          55.72874995923848,
          55.72874995923848,
          55.72874995923848,
          55.72874995923848,
          55.72874995923848,
          55.72874995923848,
          55.72874995923848,
          55.72874995923848,
          55.72874995923848,
          55.72874995923848,
          55.72874995923848,
          55.72874995923848,
          55.72874995923848,
          55.72874995923848,
          55.72874995923848,
          55.72874995923848,
          55.72874995923848,
          55.72874995923848,
          55.72874995923848,
          55.72874995923848,
          55.72874995923848,
          55.72874995923848,
          55.72874995923848,
          55.72874995923848,
          55.72041662593848,
          55.72041662593848,
          55.72041662593848,
          55.72041662593848,
          55.72041662593848,
          55.72041662593848,
          55.72041662593848,
          55.72041662593848,
          55.72041662593848,
          55.72041662593848,
          55.72041662593848,
          55.72041662593848,
          55.72041662593848,
          55.72041662593848,
          55.72041662593848,
          55.72041662593848,
          55.72041662593848,
          55.72041662593848,
          55.72041662593848,
          55.72041662593848,
          55.72041662593848,
          55.72041662593848,
          55.72041662593848,
          55.72041662593848,
          55.72041662593848,
          55.72041662593848,
          55.72041662593848,
          55.72041662593848,
          55.72041662593848,
          55.72041662593848,
          55.72041662593848,
          55.72041662593848,
          55.72041662593848,
          55.72041662593848,
          55.72041662593848,
          55.72041662593848,
          55.72041662593848,
          55.71208329263848,
          55.71208329263848,
          55.71208329263848,
          55.71208329263848,
          55.71208329263848,
          55.71208329263848,
          55.71208329263848,
          55.71208329263848,
          55.71208329263848,
          55.71208329263848,
          55.71208329263848,
          55.71208329263848,
          55.71208329263848,
          55.71208329263848,
          55.71208329263848,
          55.71208329263848,
          55.71208329263848,
          55.71208329263848,
          55.71208329263848,
          55.71208329263848,
          55.71208329263848,
          55.71208329263848,
          55.71208329263848,
          55.71208329263848,
          55.71208329263848,
          55.71208329263848,
          55.71208329263848,
          55.71208329263848,
          55.71208329263848,
          55.71208329263848,
          55.71208329263848,
          55.71208329263848,
          55.71208329263848,
          55.71208329263848,
          55.71208329263848,
          55.71208329263848,
          55.70374995933848,
          55.70374995933848,
          55.70374995933848,
          55.70374995933848,
          55.70374995933848,
          55.70374995933848,
          55.70374995933848,
          55.70374995933848,
          55.70374995933848,
          55.70374995933848,
          55.70374995933848,
          55.70374995933848,
          55.70374995933848,
          55.70374995933848,
          55.70374995933848,
          55.70374995933848,
          55.70374995933848,
          55.70374995933848,
          55.70374995933848,
          55.70374995933848,
          55.70374995933848,
          55.70374995933848,
          55.70374995933848,
          55.70374995933848,
          55.70374995933848,
          55.70374995933848,
          55.70374995933848,
          55.70374995933848,
          55.70374995933848,
          55.70374995933848,
          55.70374995933848,
          55.70374995933848,
          55.70374995933848,
          55.70374995933848,
          55.70374995933848,
          55.69541662603848,
          55.69541662603848,
          55.69541662603848,
          55.69541662603848,
          55.69541662603848,
          55.69541662603848,
          55.69541662603848,
          55.69541662603848,
          55.69541662603848,
          55.69541662603848,
          55.69541662603848,
          55.69541662603848,
          55.69541662603848,
          55.69541662603848,
          55.69541662603848,
          55.69541662603848,
          55.69541662603848,
          55.69541662603848,
          55.69541662603848,
          55.69541662603848,
          55.69541662603848,
          55.69541662603848,
          55.69541662603848,
          55.69541662603848,
          55.69541662603848,
          55.69541662603848,
          55.69541662603848,
          55.69541662603848,
          55.69541662603848,
          55.69541662603848,
          55.69541662603848,
          55.69541662603848,
          55.69541662603848,
          55.69541662603848,
          55.69541662603848,
          55.69541662603848,
          55.69541662603848,
          55.69541662603848,
          55.68708329273848,
          55.68708329273848,
          55.68708329273848,
          55.68708329273848,
          55.68708329273848,
          55.68708329273848,
          55.68708329273848,
          55.68708329273848,
          55.68708329273848,
          55.68708329273848,
          55.68708329273848,
          55.68708329273848,
          55.68708329273848,
          55.68708329273848,
          55.68708329273848,
          55.68708329273848,
          55.68708329273848,
          55.68708329273848,
          55.68708329273848,
          55.68708329273848,
          55.68708329273848,
          55.68708329273848,
          55.68708329273848,
          55.68708329273848,
          55.68708329273848,
          55.68708329273848,
          55.68708329273848,
          55.68708329273848,
          55.68708329273848,
          55.68708329273848,
          55.68708329273848,
          55.68708329273848,
          55.68708329273848,
          55.68708329273848,
          55.68708329273848,
          55.68708329273848,
          55.68708329273848,
          55.68708329273848,
          55.68708329273848,
          55.67874995943848,
          55.67874995943848,
          55.67874995943848,
          55.67874995943848,
          55.67874995943848,
          55.67874995943848,
          55.67874995943848,
          55.67874995943848,
          55.67874995943848,
          55.67874995943848,
          55.67874995943848,
          55.67874995943848,
          55.67874995943848,
          55.67874995943848,
          55.67874995943848,
          55.67874995943848,
          55.67874995943848,
          55.67874995943848,
          55.67874995943848,
          55.67874995943848,
          55.67874995943848,
          55.67874995943848,
          55.67874995943848,
          55.67874995943848,
          55.67874995943848,
          55.67874995943848,
          55.67874995943848,
          55.67874995943848,
          55.67874995943848,
          55.67874995943848,
          55.67874995943848,
          55.67874995943848,
          55.67874995943848,
          55.67874995943848,
          55.67874995943848,
          55.67874995943848,
          55.67874995943848,
          55.67874995943848,
          55.67874995943848,
          55.67874995943848,
          55.67041662613848,
          55.67041662613848,
          55.67041662613848,
          55.67041662613848,
          55.67041662613848,
          55.67041662613848,
          55.67041662613848,
          55.67041662613848,
          55.67041662613848,
          55.67041662613848,
          55.67041662613848,
          55.67041662613848,
          55.67041662613848,
          55.67041662613848,
          55.67041662613848,
          55.67041662613848,
          55.67041662613848,
          55.67041662613848,
          55.67041662613848,
          55.67041662613848,
          55.67041662613848,
          55.67041662613848,
          55.67041662613848,
          55.67041662613848,
          55.67041662613848,
          55.67041662613848,
          55.67041662613848,
          55.67041662613848,
          55.67041662613848,
          55.67041662613848,
          55.67041662613848,
          55.67041662613848,
          55.67041662613848,
          55.67041662613848,
          55.67041662613848,
          55.67041662613848,
          55.67041662613848,
          55.67041662613848,
          55.67041662613848,
          55.66208329283848,
          55.66208329283848,
          55.66208329283848,
          55.66208329283848,
          55.66208329283848,
          55.66208329283848,
          55.66208329283848,
          55.66208329283848,
          55.66208329283848,
          55.66208329283848,
          55.66208329283848,
          55.66208329283848,
          55.66208329283848,
          55.66208329283848,
          55.66208329283848,
          55.66208329283848,
          55.66208329283848,
          55.66208329283848,
          55.66208329283848,
          55.66208329283848,
          55.66208329283848,
          55.66208329283848,
          55.66208329283848,
          55.66208329283848,
          55.66208329283848,
          55.66208329283848,
          55.66208329283848,
          55.66208329283848,
          55.66208329283848,
          55.66208329283848,
          55.66208329283848,
          55.66208329283848,
          55.66208329283848,
          55.66208329283848,
          55.66208329283848,
          55.66208329283848,
          55.66208329283848,
          55.66208329283848,
          55.66208329283848,
          55.65374995953848,
          55.65374995953848,
          55.65374995953848,
          55.65374995953848,
          55.65374995953848,
          55.65374995953848,
          55.65374995953848,
          55.65374995953848,
          55.65374995953848,
          55.65374995953848,
          55.65374995953848,
          55.65374995953848,
          55.65374995953848,
          55.65374995953848,
          55.65374995953848,
          55.65374995953848,
          55.65374995953848,
          55.65374995953848,
          55.65374995953848,
          55.65374995953848,
          55.65374995953848,
          55.65374995953848,
          55.65374995953848,
          55.65374995953848,
          55.65374995953848,
          55.65374995953848,
          55.65374995953848,
          55.65374995953848,
          55.65374995953848,
          55.65374995953848,
          55.65374995953848,
          55.65374995953848,
          55.65374995953848,
          55.65374995953848,
          55.65374995953848,
          55.65374995953848,
          55.65374995953848,
          55.65374995953848,
          55.65374995953848,
          55.65374995953848,
          55.64541662623848,
          55.64541662623848,
          55.64541662623848,
          55.64541662623848,
          55.64541662623848,
          55.64541662623848,
          55.64541662623848,
          55.64541662623848,
          55.64541662623848,
          55.64541662623848,
          55.64541662623848,
          55.64541662623848,
          55.64541662623848,
          55.64541662623848,
          55.64541662623848,
          55.64541662623848,
          55.64541662623848,
          55.64541662623848,
          55.64541662623848,
          55.64541662623848,
          55.64541662623848,
          55.64541662623848,
          55.64541662623848,
          55.64541662623848,
          55.64541662623848,
          55.64541662623848,
          55.64541662623848,
          55.64541662623848,
          55.64541662623848,
          55.64541662623848,
          55.64541662623848,
          55.64541662623848,
          55.64541662623848,
          55.64541662623848,
          55.64541662623848,
          55.64541662623848,
          55.64541662623848,
          55.64541662623848,
          55.64541662623848,
          55.64541662623848,
          55.64541662623848,
          55.63708329293848,
          55.63708329293848,
          55.63708329293848,
          55.63708329293848,
          55.63708329293848,
          55.63708329293848,
          55.63708329293848,
          55.63708329293848,
          55.63708329293848,
          55.63708329293848,
          55.63708329293848,
          55.63708329293848,
          55.63708329293848,
          55.63708329293848,
          55.63708329293848,
          55.63708329293848,
          55.63708329293848,
          55.63708329293848,
          55.63708329293848,
          55.63708329293848,
          55.63708329293848,
          55.63708329293848,
          55.63708329293848,
          55.63708329293848,
          55.63708329293848,
          55.63708329293848,
          55.63708329293848,
          55.63708329293848,
          55.63708329293848,
          55.63708329293848,
          55.63708329293848,
          55.63708329293848,
          55.63708329293848,
          55.63708329293848,
          55.63708329293848,
          55.63708329293848,
          55.63708329293848,
          55.63708329293848,
          55.63708329293848,
          55.63708329293848,
          55.63708329293848,
          55.63708329293848,
          55.63708329293848,
          55.63708329293848,
          55.62874995963848,
          55.62874995963848,
          55.62874995963848,
          55.62874995963848,
          55.62874995963848,
          55.62874995963848,
          55.62874995963848,
          55.62874995963848,
          55.62874995963848,
          55.62874995963848,
          55.62874995963848,
          55.62874995963848,
          55.62874995963848,
          55.62874995963848,
          55.62874995963848,
          55.62874995963848,
          55.62874995963848,
          55.62874995963848,
          55.62874995963848,
          55.62874995963848,
          55.62874995963848,
          55.62874995963848,
          55.62874995963848,
          55.62874995963848,
          55.62874995963848,
          55.62874995963848,
          55.62874995963848,
          55.62874995963848,
          55.62874995963848,
          55.62874995963848,
          55.62874995963848,
          55.62874995963848,
          55.62874995963848,
          55.62874995963848,
          55.62874995963848,
          55.62874995963848,
          55.62874995963848,
          55.62874995963848,
          55.62874995963848,
          55.62874995963848,
          55.62874995963848,
          55.62874995963848,
          55.62041662633848,
          55.62041662633848,
          55.62041662633848,
          55.62041662633848,
          55.62041662633848,
          55.62041662633848,
          55.62041662633848,
          55.62041662633848,
          55.62041662633848,
          55.62041662633848,
          55.62041662633848,
          55.62041662633848,
          55.62041662633848,
          55.62041662633848,
          55.62041662633848,
          55.62041662633848,
          55.62041662633848,
          55.62041662633848,
          55.62041662633848,
          55.62041662633848,
          55.62041662633848,
          55.62041662633848,
          55.62041662633848,
          55.62041662633848,
          55.62041662633848,
          55.62041662633848,
          55.62041662633848,
          55.62041662633848,
          55.62041662633848,
          55.62041662633848,
          55.62041662633848,
          55.62041662633848,
          55.62041662633848,
          55.62041662633848,
          55.62041662633848,
          55.62041662633848,
          55.62041662633848,
          55.62041662633848,
          55.62041662633848,
          55.62041662633848,
          55.62041662633848,
          55.62041662633848,
          55.61208329303848,
          55.61208329303848,
          55.61208329303848,
          55.61208329303848,
          55.61208329303848,
          55.61208329303848,
          55.61208329303848,
          55.61208329303848,
          55.61208329303848,
          55.61208329303848,
          55.61208329303848,
          55.61208329303848,
          55.61208329303848,
          55.61208329303848,
          55.61208329303848,
          55.61208329303848,
          55.61208329303848,
          55.61208329303848,
          55.61208329303848,
          55.61208329303848,
          55.61208329303848,
          55.61208329303848,
          55.61208329303848,
          55.61208329303848,
          55.61208329303848,
          55.61208329303848,
          55.61208329303848,
          55.61208329303848,
          55.61208329303848,
          55.61208329303848,
          55.61208329303848,
          55.61208329303848,
          55.61208329303848,
          55.61208329303848,
          55.61208329303848,
          55.61208329303848,
          55.61208329303848,
          55.61208329303848,
          55.61208329303848,
          55.61208329303848,
          55.61208329303848,
          55.61208329303848,
          55.61208329303848,
          55.61208329303848,
          55.60374995973848,
          55.60374995973848,
          55.60374995973848,
          55.60374995973848,
          55.60374995973848,
          55.60374995973848,
          55.60374995973848,
          55.60374995973848,
          55.60374995973848,
          55.60374995973848,
          55.60374995973848,
          55.60374995973848,
          55.60374995973848,
          55.60374995973848,
          55.60374995973848,
          55.60374995973848,
          55.60374995973848,
          55.60374995973848,
          55.60374995973848,
          55.60374995973848,
          55.60374995973848,
          55.60374995973848,
          55.60374995973848,
          55.60374995973848,
          55.60374995973848,
          55.60374995973848,
          55.60374995973848,
          55.60374995973848,
          55.60374995973848,
          55.60374995973848,
          55.60374995973848,
          55.60374995973848,
          55.60374995973848,
          55.60374995973848,
          55.60374995973848,
          55.60374995973848,
          55.60374995973848,
          55.60374995973848,
          55.60374995973848,
          55.60374995973848,
          55.59541662643848,
          55.59541662643848,
          55.59541662643848,
          55.59541662643848,
          55.59541662643848,
          55.59541662643848,
          55.59541662643848,
          55.59541662643848,
          55.59541662643848,
          55.59541662643848,
          55.59541662643848,
          55.59541662643848,
          55.59541662643848,
          55.59541662643848,
          55.59541662643848,
          55.59541662643848,
          55.59541662643848,
          55.59541662643848,
          55.59541662643848,
          55.59541662643848,
          55.59541662643848,
          55.59541662643848,
          55.59541662643848,
          55.59541662643848,
          55.59541662643848,
          55.59541662643848,
          55.59541662643848,
          55.59541662643848,
          55.59541662643848,
          55.58708329313848,
          55.58708329313848,
          55.58708329313848,
          55.58708329313848,
          55.58708329313848,
          55.58708329313848,
          55.58708329313848,
          55.58708329313848,
          55.58708329313848,
          55.58708329313848,
          55.58708329313848,
          55.58708329313848,
          55.58708329313848,
          55.58708329313848,
          55.58708329313848,
          55.58708329313848,
          55.58708329313848,
          55.58708329313848,
          55.58708329313848,
          55.58708329313848,
          55.58708329313848,
          55.58708329313848,
          55.58708329313848,
          55.58708329313848,
          55.58708329313848,
          55.58708329313848,
          55.57874995983848,
          55.57874995983848,
          55.57874995983848,
          55.57874995983848,
          55.57874995983848,
          55.57874995983848,
          55.57874995983848,
          55.57874995983848,
          55.57874995983848,
          55.57874995983848,
          55.57874995983848,
          55.57874995983848,
          55.57874995983848,
          55.57874995983848,
          55.57874995983848,
          55.57874995983848,
          55.57874995983848,
          55.57874995983848,
          55.57874995983848,
          55.57874995983848,
          55.57041662653848,
          55.57041662653848,
          55.57041662653848,
          55.57041662653848,
          55.57041662653848,
          55.57041662653848,
          55.57041662653848,
          55.57041662653848,
          55.57041662653848,
          55.57041662653848,
          55.57041662653848,
          55.57041662653848,
          55.57041662653848,
          55.56208329323848,
          55.56208329323848,
          55.56208329323848,
          55.56208329323848,
          55.56208329323848,
          55.56208329323848,
          55.56208329323848,
          55.56208329323848,
          55.55374995993848,
          55.55374995993848,
          55.55374995993848,
          55.55374995993848
         ],
         "legendgroup": "",
         "lon": [
          12.319583284947242,
          12.327916618247242,
          12.33624995154724,
          12.344583284847245,
          12.352916618147242,
          12.361249951447242,
          12.369583284747243,
          12.37791661804724,
          12.386249951347242,
          12.394583284647242,
          12.40291661794724,
          12.411249951247244,
          12.419583284547242,
          12.427916617847242,
          12.436249951147245,
          12.44458328444724,
          12.452916617747242,
          12.461249951047243,
          12.46958328434724,
          12.477916617647242,
          12.486249950947242,
          12.49458328424724,
          12.502916617547244,
          12.511249950847242,
          12.519583284147242,
          12.527916617447245,
          12.53624995074724,
          12.544583284047242,
          12.552916617347242,
          12.56124995064724,
          12.569583283947242,
          12.577916617247242,
          12.58624995054724,
          12.594583283847244,
          12.319583284947242,
          12.327916618247242,
          12.33624995154724,
          12.344583284847245,
          12.352916618147242,
          12.361249951447242,
          12.369583284747243,
          12.37791661804724,
          12.386249951347242,
          12.394583284647242,
          12.40291661794724,
          12.411249951247244,
          12.419583284547242,
          12.427916617847242,
          12.436249951147245,
          12.44458328444724,
          12.452916617747242,
          12.461249951047243,
          12.46958328434724,
          12.477916617647242,
          12.486249950947242,
          12.49458328424724,
          12.502916617547244,
          12.511249950847242,
          12.519583284147242,
          12.527916617447245,
          12.53624995074724,
          12.544583284047242,
          12.552916617347242,
          12.56124995064724,
          12.569583283947242,
          12.577916617247242,
          12.58624995054724,
          12.594583283847244,
          12.602916617147242,
          12.319583284947242,
          12.327916618247242,
          12.33624995154724,
          12.344583284847245,
          12.352916618147242,
          12.361249951447242,
          12.369583284747243,
          12.37791661804724,
          12.386249951347242,
          12.394583284647242,
          12.40291661794724,
          12.411249951247244,
          12.419583284547242,
          12.427916617847242,
          12.436249951147245,
          12.44458328444724,
          12.452916617747242,
          12.461249951047243,
          12.46958328434724,
          12.477916617647242,
          12.486249950947242,
          12.49458328424724,
          12.502916617547244,
          12.511249950847242,
          12.519583284147242,
          12.527916617447245,
          12.53624995074724,
          12.544583284047242,
          12.552916617347242,
          12.56124995064724,
          12.569583283947242,
          12.577916617247242,
          12.58624995054724,
          12.594583283847244,
          12.602916617147242,
          12.319583284947242,
          12.327916618247242,
          12.33624995154724,
          12.344583284847245,
          12.352916618147242,
          12.361249951447242,
          12.369583284747243,
          12.37791661804724,
          12.386249951347242,
          12.394583284647242,
          12.40291661794724,
          12.411249951247244,
          12.419583284547242,
          12.427916617847242,
          12.436249951147245,
          12.44458328444724,
          12.452916617747242,
          12.461249951047243,
          12.46958328434724,
          12.477916617647242,
          12.486249950947242,
          12.49458328424724,
          12.502916617547244,
          12.511249950847242,
          12.519583284147242,
          12.527916617447245,
          12.53624995074724,
          12.544583284047242,
          12.552916617347242,
          12.56124995064724,
          12.569583283947242,
          12.577916617247242,
          12.58624995054724,
          12.594583283847244,
          12.319583284947242,
          12.327916618247242,
          12.33624995154724,
          12.344583284847245,
          12.352916618147242,
          12.361249951447242,
          12.369583284747243,
          12.37791661804724,
          12.386249951347242,
          12.394583284647242,
          12.40291661794724,
          12.411249951247244,
          12.419583284547242,
          12.427916617847242,
          12.436249951147245,
          12.44458328444724,
          12.452916617747242,
          12.461249951047243,
          12.46958328434724,
          12.477916617647242,
          12.486249950947242,
          12.49458328424724,
          12.502916617547244,
          12.511249950847242,
          12.519583284147242,
          12.527916617447245,
          12.53624995074724,
          12.544583284047242,
          12.552916617347242,
          12.56124995064724,
          12.569583283947242,
          12.577916617247242,
          12.58624995054724,
          12.319583284947242,
          12.327916618247242,
          12.33624995154724,
          12.344583284847245,
          12.352916618147242,
          12.361249951447242,
          12.369583284747243,
          12.37791661804724,
          12.386249951347242,
          12.394583284647242,
          12.40291661794724,
          12.411249951247244,
          12.419583284547242,
          12.427916617847242,
          12.436249951147245,
          12.44458328444724,
          12.452916617747242,
          12.461249951047243,
          12.46958328434724,
          12.477916617647242,
          12.486249950947242,
          12.49458328424724,
          12.502916617547244,
          12.511249950847242,
          12.519583284147242,
          12.527916617447245,
          12.53624995074724,
          12.544583284047242,
          12.552916617347242,
          12.56124995064724,
          12.569583283947242,
          12.577916617247242,
          12.58624995054724,
          12.319583284947242,
          12.327916618247242,
          12.33624995154724,
          12.344583284847245,
          12.352916618147242,
          12.361249951447242,
          12.369583284747243,
          12.37791661804724,
          12.386249951347242,
          12.394583284647242,
          12.40291661794724,
          12.411249951247244,
          12.419583284547242,
          12.427916617847242,
          12.436249951147245,
          12.44458328444724,
          12.452916617747242,
          12.461249951047243,
          12.46958328434724,
          12.477916617647242,
          12.486249950947242,
          12.49458328424724,
          12.502916617547244,
          12.511249950847242,
          12.519583284147242,
          12.527916617447245,
          12.53624995074724,
          12.544583284047242,
          12.552916617347242,
          12.56124995064724,
          12.569583283947242,
          12.577916617247242,
          12.58624995054724,
          12.594583283847244,
          12.602916617147242,
          12.611249950447242,
          12.619583283747245,
          12.319583284947242,
          12.327916618247242,
          12.33624995154724,
          12.344583284847245,
          12.352916618147242,
          12.361249951447242,
          12.369583284747243,
          12.37791661804724,
          12.386249951347242,
          12.394583284647242,
          12.40291661794724,
          12.411249951247244,
          12.419583284547242,
          12.427916617847242,
          12.436249951147245,
          12.44458328444724,
          12.452916617747242,
          12.461249951047243,
          12.46958328434724,
          12.477916617647242,
          12.486249950947242,
          12.49458328424724,
          12.502916617547244,
          12.511249950847242,
          12.519583284147242,
          12.527916617447245,
          12.53624995074724,
          12.544583284047242,
          12.552916617347242,
          12.56124995064724,
          12.569583283947242,
          12.577916617247242,
          12.58624995054724,
          12.594583283847244,
          12.602916617147242,
          12.611249950447242,
          12.319583284947242,
          12.327916618247242,
          12.33624995154724,
          12.344583284847245,
          12.352916618147242,
          12.361249951447242,
          12.369583284747243,
          12.37791661804724,
          12.386249951347242,
          12.394583284647242,
          12.40291661794724,
          12.411249951247244,
          12.419583284547242,
          12.427916617847242,
          12.436249951147245,
          12.44458328444724,
          12.452916617747242,
          12.461249951047243,
          12.46958328434724,
          12.477916617647242,
          12.486249950947242,
          12.49458328424724,
          12.502916617547244,
          12.511249950847242,
          12.519583284147242,
          12.527916617447245,
          12.53624995074724,
          12.544583284047242,
          12.552916617347242,
          12.56124995064724,
          12.569583283947242,
          12.577916617247242,
          12.58624995054724,
          12.594583283847244,
          12.602916617147242,
          12.319583284947242,
          12.327916618247242,
          12.33624995154724,
          12.344583284847245,
          12.352916618147242,
          12.361249951447242,
          12.369583284747243,
          12.37791661804724,
          12.386249951347242,
          12.394583284647242,
          12.40291661794724,
          12.411249951247244,
          12.419583284547242,
          12.427916617847242,
          12.436249951147245,
          12.44458328444724,
          12.452916617747242,
          12.461249951047243,
          12.46958328434724,
          12.477916617647242,
          12.486249950947242,
          12.49458328424724,
          12.502916617547244,
          12.511249950847242,
          12.519583284147242,
          12.527916617447245,
          12.53624995074724,
          12.544583284047242,
          12.552916617347242,
          12.56124995064724,
          12.569583283947242,
          12.577916617247242,
          12.58624995054724,
          12.594583283847244,
          12.602916617147242,
          12.611249950447242,
          12.619583283747245,
          12.62791661704724,
          12.319583284947242,
          12.327916618247242,
          12.33624995154724,
          12.344583284847245,
          12.352916618147242,
          12.361249951447242,
          12.369583284747243,
          12.37791661804724,
          12.386249951347242,
          12.394583284647242,
          12.40291661794724,
          12.411249951247244,
          12.419583284547242,
          12.427916617847242,
          12.436249951147245,
          12.44458328444724,
          12.452916617747242,
          12.461249951047243,
          12.46958328434724,
          12.477916617647242,
          12.486249950947242,
          12.49458328424724,
          12.502916617547244,
          12.511249950847242,
          12.519583284147242,
          12.527916617447245,
          12.53624995074724,
          12.544583284047242,
          12.552916617347242,
          12.56124995064724,
          12.569583283947242,
          12.577916617247242,
          12.58624995054724,
          12.594583283847244,
          12.602916617147242,
          12.611249950447242,
          12.619583283747245,
          12.62791661704724,
          12.636249950347242,
          12.319583284947242,
          12.327916618247242,
          12.33624995154724,
          12.344583284847245,
          12.352916618147242,
          12.361249951447242,
          12.369583284747243,
          12.37791661804724,
          12.386249951347242,
          12.394583284647242,
          12.40291661794724,
          12.411249951247244,
          12.419583284547242,
          12.427916617847242,
          12.436249951147245,
          12.44458328444724,
          12.452916617747242,
          12.461249951047243,
          12.46958328434724,
          12.477916617647242,
          12.486249950947242,
          12.49458328424724,
          12.502916617547244,
          12.511249950847242,
          12.519583284147242,
          12.527916617447245,
          12.53624995074724,
          12.544583284047242,
          12.552916617347242,
          12.56124995064724,
          12.569583283947242,
          12.577916617247242,
          12.58624995054724,
          12.594583283847244,
          12.602916617147242,
          12.611249950447242,
          12.619583283747245,
          12.62791661704724,
          12.636249950347242,
          12.644583283647242,
          12.319583284947242,
          12.327916618247242,
          12.33624995154724,
          12.344583284847245,
          12.352916618147242,
          12.361249951447242,
          12.369583284747243,
          12.37791661804724,
          12.386249951347242,
          12.394583284647242,
          12.40291661794724,
          12.411249951247244,
          12.419583284547242,
          12.427916617847242,
          12.436249951147245,
          12.44458328444724,
          12.452916617747242,
          12.461249951047243,
          12.46958328434724,
          12.477916617647242,
          12.486249950947242,
          12.49458328424724,
          12.502916617547244,
          12.511249950847242,
          12.519583284147242,
          12.527916617447245,
          12.53624995074724,
          12.544583284047242,
          12.552916617347242,
          12.56124995064724,
          12.569583283947242,
          12.577916617247242,
          12.58624995054724,
          12.594583283847244,
          12.602916617147242,
          12.611249950447242,
          12.619583283747245,
          12.62791661704724,
          12.636249950347242,
          12.319583284947242,
          12.327916618247242,
          12.33624995154724,
          12.344583284847245,
          12.352916618147242,
          12.361249951447242,
          12.369583284747243,
          12.37791661804724,
          12.386249951347242,
          12.394583284647242,
          12.40291661794724,
          12.411249951247244,
          12.419583284547242,
          12.427916617847242,
          12.436249951147245,
          12.44458328444724,
          12.452916617747242,
          12.461249951047243,
          12.46958328434724,
          12.477916617647242,
          12.486249950947242,
          12.49458328424724,
          12.502916617547244,
          12.511249950847242,
          12.519583284147242,
          12.527916617447245,
          12.53624995074724,
          12.544583284047242,
          12.552916617347242,
          12.56124995064724,
          12.569583283947242,
          12.577916617247242,
          12.58624995054724,
          12.594583283847244,
          12.602916617147242,
          12.611249950447242,
          12.619583283747245,
          12.62791661704724,
          12.636249950347242,
          12.319583284947242,
          12.327916618247242,
          12.33624995154724,
          12.344583284847245,
          12.352916618147242,
          12.361249951447242,
          12.369583284747243,
          12.37791661804724,
          12.386249951347242,
          12.394583284647242,
          12.40291661794724,
          12.411249951247244,
          12.419583284547242,
          12.427916617847242,
          12.436249951147245,
          12.44458328444724,
          12.452916617747242,
          12.461249951047243,
          12.46958328434724,
          12.477916617647242,
          12.486249950947242,
          12.49458328424724,
          12.502916617547244,
          12.511249950847242,
          12.519583284147242,
          12.527916617447245,
          12.53624995074724,
          12.544583284047242,
          12.552916617347242,
          12.56124995064724,
          12.569583283947242,
          12.577916617247242,
          12.58624995054724,
          12.594583283847244,
          12.602916617147242,
          12.611249950447242,
          12.619583283747245,
          12.62791661704724,
          12.636249950347242,
          12.644583283647242,
          12.319583284947242,
          12.327916618247242,
          12.33624995154724,
          12.344583284847245,
          12.352916618147242,
          12.361249951447242,
          12.369583284747243,
          12.37791661804724,
          12.386249951347242,
          12.394583284647242,
          12.40291661794724,
          12.411249951247244,
          12.419583284547242,
          12.427916617847242,
          12.436249951147245,
          12.44458328444724,
          12.452916617747242,
          12.461249951047243,
          12.46958328434724,
          12.477916617647242,
          12.486249950947242,
          12.49458328424724,
          12.502916617547244,
          12.511249950847242,
          12.519583284147242,
          12.527916617447245,
          12.53624995074724,
          12.544583284047242,
          12.552916617347242,
          12.56124995064724,
          12.569583283947242,
          12.577916617247242,
          12.58624995054724,
          12.594583283847244,
          12.602916617147242,
          12.611249950447242,
          12.619583283747245,
          12.62791661704724,
          12.636249950347242,
          12.644583283647242,
          12.65291661694724,
          12.319583284947242,
          12.327916618247242,
          12.33624995154724,
          12.344583284847245,
          12.352916618147242,
          12.361249951447242,
          12.369583284747243,
          12.37791661804724,
          12.386249951347242,
          12.394583284647242,
          12.40291661794724,
          12.411249951247244,
          12.419583284547242,
          12.427916617847242,
          12.436249951147245,
          12.44458328444724,
          12.452916617747242,
          12.461249951047243,
          12.46958328434724,
          12.477916617647242,
          12.486249950947242,
          12.49458328424724,
          12.502916617547244,
          12.511249950847242,
          12.519583284147242,
          12.527916617447245,
          12.53624995074724,
          12.544583284047242,
          12.552916617347242,
          12.56124995064724,
          12.569583283947242,
          12.577916617247242,
          12.58624995054724,
          12.594583283847244,
          12.602916617147242,
          12.611249950447242,
          12.619583283747245,
          12.62791661704724,
          12.636249950347242,
          12.644583283647242,
          12.65291661694724,
          12.661249950247242,
          12.669583283547242,
          12.67791661684724,
          12.319583284947242,
          12.327916618247242,
          12.33624995154724,
          12.344583284847245,
          12.352916618147242,
          12.361249951447242,
          12.369583284747243,
          12.37791661804724,
          12.386249951347242,
          12.394583284647242,
          12.40291661794724,
          12.411249951247244,
          12.419583284547242,
          12.427916617847242,
          12.436249951147245,
          12.44458328444724,
          12.452916617747242,
          12.461249951047243,
          12.46958328434724,
          12.477916617647242,
          12.486249950947242,
          12.49458328424724,
          12.502916617547244,
          12.527916617447245,
          12.53624995074724,
          12.544583284047242,
          12.552916617347242,
          12.56124995064724,
          12.569583283947242,
          12.577916617247242,
          12.58624995054724,
          12.594583283847244,
          12.602916617147242,
          12.611249950447242,
          12.619583283747245,
          12.62791661704724,
          12.636249950347242,
          12.644583283647242,
          12.65291661694724,
          12.661249950247242,
          12.669583283547242,
          12.67791661684724,
          12.319583284947242,
          12.327916618247242,
          12.33624995154724,
          12.344583284847245,
          12.352916618147242,
          12.361249951447242,
          12.369583284747243,
          12.37791661804724,
          12.386249951347242,
          12.394583284647242,
          12.40291661794724,
          12.411249951247244,
          12.419583284547242,
          12.427916617847242,
          12.436249951147245,
          12.44458328444724,
          12.452916617747242,
          12.461249951047243,
          12.46958328434724,
          12.477916617647242,
          12.486249950947242,
          12.49458328424724,
          12.519583284147242,
          12.527916617447245,
          12.53624995074724,
          12.544583284047242,
          12.552916617347242,
          12.56124995064724,
          12.569583283947242,
          12.577916617247242,
          12.58624995054724,
          12.594583283847244,
          12.602916617147242,
          12.611249950447242,
          12.619583283747245,
          12.62791661704724,
          12.636249950347242,
          12.644583283647242,
          12.65291661694724,
          12.661249950247242,
          12.669583283547242,
          12.67791661684724,
          12.319583284947242,
          12.327916618247242,
          12.33624995154724,
          12.344583284847245,
          12.352916618147242,
          12.361249951447242,
          12.369583284747243,
          12.37791661804724,
          12.386249951347242,
          12.394583284647242,
          12.40291661794724,
          12.411249951247244,
          12.419583284547242,
          12.427916617847242,
          12.436249951147245,
          12.44458328444724,
          12.452916617747242,
          12.461249951047243,
          12.46958328434724,
          12.477916617647242,
          12.486249950947242,
          12.49458328424724,
          12.502916617547244,
          12.511249950847242,
          12.519583284147242,
          12.527916617447245,
          12.53624995074724,
          12.544583284047242,
          12.552916617347242,
          12.56124995064724,
          12.569583283947242,
          12.577916617247242,
          12.58624995054724,
          12.594583283847244,
          12.602916617147242,
          12.611249950447242,
          12.619583283747245,
          12.62791661704724,
          12.636249950347242,
          12.644583283647242,
          12.65291661694724,
          12.661249950247242,
          12.669583283547242,
          12.67791661684724,
          12.319583284947242,
          12.327916618247242,
          12.33624995154724,
          12.344583284847245,
          12.352916618147242,
          12.361249951447242,
          12.369583284747243,
          12.37791661804724,
          12.386249951347242,
          12.394583284647242,
          12.40291661794724,
          12.436249951147245,
          12.44458328444724,
          12.452916617747242,
          12.461249951047243,
          12.46958328434724,
          12.477916617647242,
          12.486249950947242,
          12.49458328424724,
          12.511249950847242,
          12.519583284147242,
          12.527916617447245,
          12.53624995074724,
          12.544583284047242,
          12.552916617347242,
          12.56124995064724,
          12.569583283947242,
          12.577916617247242,
          12.58624995054724,
          12.594583283847244,
          12.602916617147242,
          12.611249950447242,
          12.619583283747245,
          12.62791661704724,
          12.636249950347242,
          12.644583283647242,
          12.65291661694724,
          12.661249950247242,
          12.669583283547242,
          12.67791661684724,
          12.319583284947242,
          12.327916618247242,
          12.33624995154724,
          12.344583284847245,
          12.352916618147242,
          12.361249951447242,
          12.369583284747243,
          12.37791661804724,
          12.511249950847242,
          12.519583284147242,
          12.527916617447245,
          12.53624995074724,
          12.544583284047242,
          12.552916617347242,
          12.56124995064724,
          12.569583283947242,
          12.577916617247242,
          12.58624995054724,
          12.594583283847244,
          12.602916617147242,
          12.611249950447242,
          12.619583283747245,
          12.62791661704724,
          12.636249950347242,
          12.644583283647242,
          12.65291661694724,
          12.661249950247242,
          12.669583283547242,
          12.67791661684724,
          12.319583284947242,
          12.327916618247242,
          12.33624995154724,
          12.344583284847245,
          12.352916618147242,
          12.511249950847242,
          12.519583284147242,
          12.527916617447245,
          12.53624995074724,
          12.544583284047242,
          12.552916617347242,
          12.56124995064724,
          12.569583283947242,
          12.577916617247242,
          12.58624995054724,
          12.594583283847244,
          12.602916617147242,
          12.611249950447242,
          12.619583283747245,
          12.62791661704724,
          12.636249950347242,
          12.644583283647242,
          12.65291661694724,
          12.661249950247242,
          12.669583283547242,
          12.67791661684724,
          12.319583284947242,
          12.519583284147242,
          12.527916617447245,
          12.53624995074724,
          12.544583284047242,
          12.552916617347242,
          12.56124995064724,
          12.569583283947242,
          12.577916617247242,
          12.58624995054724,
          12.594583283847244,
          12.602916617147242,
          12.611249950447242,
          12.619583283747245,
          12.62791661704724,
          12.636249950347242,
          12.644583283647242,
          12.65291661694724,
          12.661249950247242,
          12.669583283547242,
          12.527916617447245,
          12.53624995074724,
          12.544583284047242,
          12.552916617347242,
          12.56124995064724,
          12.569583283947242,
          12.577916617247242,
          12.58624995054724,
          12.594583283847244,
          12.602916617147242,
          12.611249950447242,
          12.619583283747245,
          12.62791661704724,
          12.56124995064724,
          12.569583283947242,
          12.577916617247242,
          12.58624995054724,
          12.594583283847244,
          12.602916617147242,
          12.611249950447242,
          12.619583283747245,
          12.577916617247242,
          12.58624995054724,
          12.594583283847244,
          12.602916617147242
         ],
         "marker": {
          "color": [
           1000,
           1000,
           998.5864978902954,
           1000,
           993.6527777777778,
           836.4444444444445,
           761.6839826839827,
           920.6341463414634,
           964.5273631840796,
           999.5925925925926,
           1000,
           1000,
           1000,
           978.3245614035089,
           816.3636363636364,
           586.7777777777777,
           897.7204301075268,
           962.5238095238095,
           581.783950617284,
           760.9399999999999,
           969.5763888888888,
           622.4733333333334,
           292.02536231884056,
           861.8156732891831,
           899.9271708683473,
           945.076923076923,
           840.7647058823528,
           856.6318407960198,
           949.4166666666666,
           968.8238993710692,
           895.3497267759562,
           500.63926940639266,
           859.6964285714286,
           874.0256410256411,
           1000,
           951.2783882783883,
           764.701388888889,
           846.0772357723578,
           994.339393939394,
           989.8108108108108,
           947.5960784313726,
           857.9780701754386,
           848.8418079096045,
           933.929012345679,
           1000,
           1000,
           1000,
           956.847619047619,
           841.2687609075043,
           683.6448598130842,
           539.6333333333333,
           784.7733333333332,
           986.1518151815181,
           999.2289855072464,
           992.7769423558898,
           894.5887096774194,
           836.5447154471544,
           977.2894736842105,
           993.8028846153846,
           878.8276515151515,
           750.8418079096045,
           875.5348258706468,
           851.3092783505155,
           777.1764705882352,
           738.7313432835821,
           574.8787878787879,
           661.3355555555555,
           608.5739130434782,
           438.9166666666667,
           1000,
           991.2097378277153,
           941.8252314814814,
           935.4296296296296,
           999.6940639269407,
           1000,
           1000,
           996.8148148148148,
           997.344262295082,
           1000,
           1000,
           1000,
           999.8607594936708,
           946.6038647342995,
           835.6711711711713,
           863.5,
           860.29676511955,
           919.8012820512821,
           978.6520467836257,
           929.1162790697675,
           903.9583333333334,
           855.3168724279836,
           942.271186440678,
           773.7887788778877,
           572.9763513513514,
           813.764172335601,
           668.5185185185186,
           656.8738229755179,
           905.0072463768116,
           785.5857142857143,
           741.5081433224756,
           804.9021164021165,
           652.2518518518519,
           683.2083333333334,
           1000,
           1000,
           1000,
           1000,
           1000,
           1000,
           1000,
           1000,
           1000,
           1000,
           1000,
           1000,
           962.558943089431,
           846.7039473684212,
           851.6838709677419,
           958.6163873370577,
           1000,
           1000,
           1000,
           967.2031007751939,
           792.3966244725739,
           860.1830742659758,
           721.0101394169834,
           848.2888888888889,
           941.0479302832244,
           759.3049645390071,
           935.5666666666666,
           812.0441767068273,
           732.4461942257218,
           966.4439775910364,
           966.2113821138211,
           808.7319347319348,
           723.4758620689655,
           527.5147392290249,
           1000,
           815.4270833333334,
           1000,
           1000,
           998.5804597701149,
           919.1625683060109,
           784.5516014234876,
           925.5801526717559,
           945.1076604554864,
           839.5760111576011,
           935.3092592592593,
           988.6456456456457,
           1000,
           998.3735224586288,
           922.6607495069034,
           872.7304964539007,
           982.1766381766382,
           1000,
           1000,
           996.4004975124379,
           991.2993527508091,
           998.2815198618306,
           940.6517857142857,
           837.4246284501061,
           834.699805068226,
           925.8632478632479,
           979.3333333333334,
           942.4357142857142,
           784.3387978142076,
           826.6848072562358,
           877.3529411764706,
           655.3233532934131,
           515.2057613168724,
           691.3478260869565,
           1000,
           1000,
           884.06,
           803.729957805907,
           604.3035087719298,
           336.4431554524362,
           753.1124260355028,
           866.8615984405459,
           778.9483333333334,
           770.8463768115943,
           815.0962441314554,
           987.7398753894081,
           999.7841409691631,
           858.6705882352941,
           628.4254215304799,
           812.6414300736068,
           987.5346534653467,
           992.923076923077,
           847.358695652174,
           806.468085106383,
           997.0242825607064,
           967.8682170542637,
           839.0490196078431,
           832.2087542087543,
           571.3000000000001,
           361.5844748858447,
           893.1995884773661,
           924.2476190476191,
           751.1241283124127,
           793.500872600349,
           783.453781512605,
           611.4588353413654,
           678.510752688172,
           1000,
           1000,
           961.4435897435897,
           898.8035714285714,
           590.1466049382715,
           633.9203431372549,
           892.5132275132274,
           819.8169398907104,
           766.1297935103245,
           929.1434343434344,
           997.940836940837,
           847.5020576131687,
           891.3578431372549,
           929.5970149253732,
           696.1396917148362,
           726.6888888888889,
           823.9812925170069,
           913.4776902887139,
           723.7348927875242,
           682.6419141914191,
           729.0944741532977,
           893.0638297872341,
           981.1809523809525,
           964.5305164319249,
           670.2875816993464,
           380.12513144058886,
           560.6924603174604,
           754.1023255813952,
           716.8539325842697,
           818.1384083044983,
           911.688888888889,
           620.6282722513089,
           548.2580645161291,
           845.8666666666667,
           989.1666666666666,
           1000,
           1000,
           1000,
           1000,
           1000,
           999.9964157706094,
           894.7258771929824,
           866.996913580247,
           955.3589743589743,
           840.3115942028985,
           889.7403846153846,
           995.9826388888888,
           1000,
           980.8493589743589,
           992.0864978902954,
           1000,
           995.1924882629108,
           999.2953586497891,
           985.548245614035,
           756.5333333333333,
           373.9903100775194,
           432.4074074074074,
           585.6018518518518,
           677.6984126984127,
           759.7119341563788,
           728.4937106918238,
           579.2554890219561,
           409.9464285714286,
           442.1146435452794,
           715.8681818181818,
           680.7112970711297,
           421.384126984127,
           367.15488215488216,
           402.9440476190476,
           508.3270042194093,
           578.4795321637426,
           917.6774193548387,
           1000,
           1000,
           1000,
           1000,
           1000,
           1000,
           1000,
           1000,
           993.6999999999999,
           998.7112860892388,
           999.991769547325,
           1000,
           1000,
           1000,
           1000,
           1000,
           1000,
           963.6556776556777,
           844.183520599251,
           774.3606060606061,
           778.1766666666667,
           516.3678160919541,
           551.1270983213429,
           767.1387024608501,
           743.2063492063493,
           655.1738712776176,
           557.789247311828,
           413.3412698412699,
           436.43611111111113,
           426.7781954887218,
           590.4754098360655,
           248.8611111111111,
           245.06853582554518,
           307.0030165912519,
           448.85869565217394,
           533.1969696969696,
           1000,
           1000,
           1000,
           1000,
           1000,
           948.1666666666666,
           942.4210526315788,
           985.576923076923,
           1000,
           1000,
           1000,
           1000,
           1000,
           1000,
           1000,
           979.7882136279927,
           854.9402298850574,
           792.4969325153374,
           815.4146341463415,
           519.0075187969925,
           506.20623501199043,
           674.1601489757915,
           774.179640718563,
           559.2515723270441,
           748.9389179755672,
           787.6788432267884,
           449.24,
           230.19561815336465,
           297.7472677595628,
           353.660394265233,
           353.0422374429224,
           283.91201982651796,
           420.3812056737588,
           535.3040293040293,
           527.3257575757576,
           385.85897435897436,
           697.2745098039217,
           958.3809523809523,
           1000,
           1000,
           1000,
           1000,
           999.4761904761905,
           805.5833333333334,
           811.8247422680412,
           986.7517730496453,
           1000,
           1000,
           1000,
           1000,
           1000,
           999.6111111111112,
           912.1185682326623,
           926.2361111111112,
           941.6374269005847,
           941.8861788617886,
           869.6963696369636,
           454.7679324894514,
           339.2380952380953,
           463.63557858376504,
           636.9476923076924,
           655.2820512820513,
           536.6028602860287,
           396.2305825242718,
           342.03065134099614,
           305.1073446327684,
           202.28926553672318,
           253.97892720306515,
           230.28556263269638,
           286.04273504273505,
           299.97159940209264,
           361.95526695526695,
           476.9970760233918,
           636.1535776614311,
           761.445652173913,
           947.1666666666666,
           1000,
           1000,
           1000,
           977.5389408099687,
           963.9049773755656,
           792.1544715447154,
           771.5008130081301,
           969.0199430199431,
           1000,
           999.6290726817042,
           999.6382978723404,
           999.9871794871796,
           999.988603988604,
           999.7064017660044,
           949.2474226804125,
           654.6970534069982,
           756.0453752181501,
           602.9506666666666,
           617.6773211567732,
           661.8260073260072,
           617.1379310344827,
           714.1439393939394,
           607.5412844036697,
           529.564,
           481.7393162393162,
           290.84703196347033,
           205.86518046709128,
           198.81818181818184,
           335.05157813702846,
           364.02028218694886,
           232.3125,
           145.13394683026584,
           110.6132897603486,
           171.65084745762715,
           145.8790436005626,
           389.39979231568014,
           833.7325102880659,
           875.2820512820513,
           1000,
           1000,
           1000,
           1000,
           940.9227373068433,
           805.3146258503402,
           890.4296296296296,
           924.5241796200345,
           919.4350703060381,
           989.5792592592593,
           905.1966101694916,
           674.7717250324254,
           759.0963302752293,
           756.0148148148147,
           799.8621291448517,
           809.956043956044,
           803.3885480572598,
           570.5564738292011,
           707.1592592592593,
           671.5922165820643,
           709.2125984251969,
           858.1814814814816,
           698.6975945017183,
           523.670731707317,
           750.7755102040816,
           783.3143812709031,
           451.94623655913983,
           214.01993355481727,
           271.57040229885064,
           295.468524251806,
           281.1069182389937,
           145.09299516908212,
           121.54938271604938,
           165.24719101123594,
           247.91584158415841,
           333.85360360360363,
           246.2007575757576,
           396.02588996763757,
           525.4026666666667,
           777.9478260869564,
           862.3801169590644,
           993.5813953488373,
           972.6296296296296,
           841.2578616352201,
           779.3363914373089,
           943.5979166666666,
           937.4305555555555,
           961.228650137741,
           1000,
           948.6435185185186,
           749.659420289855,
           730.5661641541038,
           702.4571026722925,
           883.2839506172841,
           947.6126126126127,
           910.9756554307115,
           675.9774436090225,
           785.7715231788079,
           961.5634057971015,
           943.2721712538226,
           487.2288888888889,
           400,
           489.3333333333333,
           896.1734234234233,
           994.1803278688525,
           529.8244949494948,
           252.38989898989902,
           614.9403508771929,
           637.7087912087912,
           310.87765957446805,
           612.2170542635658,
           466.26097271648877,
           547.3956743002544,
           354.4967320261438,
           478.30653804930336,
           390.14455782312933,
           333.54768928220255,
           304.54580896686156,
           341.6969696969697,
           371.14076246334315,
           462.2580645161291,
           1000,
           974.1466666666666,
           954.8835616438356,
           987.9190751445086,
           891.8192419825073,
           912.1704180064309,
           997.5869565217391,
           1000,
           1000,
           1000,
           998.1269177126918,
           942.0294784580498,
           785.4772727272726,
           978.3766666666667,
           816.1322751322751,
           814.7326732673267,
           970.5333333333333,
           902.2140672782874,
           441.7535667963684,
           525.5885225885226,
           828.2610441767068,
           824.2638888888888,
           619.5352877307274,
           805.5120274914088,
           701.8000000000001,
           818.6247987117553,
           554.8663663663664,
           604.0134952766531,
           635.4973876698014,
           845.3303303303304,
           850.8087431693989,
           968.6666666666666,
           564.8547008547008,
           454.66163141993957,
           463.4128440366972,
           349.6815642458101,
           434.69595959595955,
           756.9715762273903,
           681.9855967078189,
           539.948275862069,
           1000,
           1000,
           964.9619047619047,
           840.4074074074074,
           772.4483775811209,
           918.7393162393163,
           998.8373983739838,
           1000,
           1000,
           1000,
           999.4235588972432,
           860.6376068376068,
           744.5789473684212,
           965.2133333333335,
           988.6818181818181,
           995.6632653061224,
           850.7430555555555,
           706.4944444444445,
           668.7071240105541,
           817.4069529652352,
           983.2329317269077,
           974.2016460905351,
           927.8141762452109,
           869.876811594203,
           803.3233830845771,
           790.6245210727969,
           720.3910614525139,
           549.6216666666667,
           464.6287683031869,
           978.5205992509364,
           999.3846153846154,
           853.1919191919192,
           829.8103448275862,
           772.2199074074074,
           902.2307692307692,
           527.8785529715761,
           550.4596774193549,
           771.773631840796,
           627.2215320910973,
           615.7190476190477,
           871.1071428571428,
           1000,
           1000,
           1000,
           1000,
           1000,
           1000,
           1000,
           1000,
           1000,
           1000,
           1000,
           934.2520325203253,
           799.7634408602152,
           911.5972222222222,
           1000,
           1000,
           988.2857142857142,
           999.7716894977169,
           891.8711484593838,
           512.8724279835391,
           732.5595238095239,
           791.5102040816327,
           881.0596491228071,
           994.8787878787879,
           1000,
           993.4137931034483,
           874.6133333333333,
           805.5042735042734,
           1000,
           931.125,
           552.9851851851851,
           402.504347826087,
           463.16239316239324,
           800.213768115942,
           762.9929078014184,
           970.93669250646,
           851.9705215419502,
           811.1246105919003,
           771.1124144672532,
           718.4263565891473,
           589.2207207207207,
           682.3333333333334,
           1000,
           1000,
           1000,
           1000,
           1000,
           1000,
           1000,
           1000,
           1000,
           955.8261562998405,
           863.9306260575296,
           918.9707835325365,
           997.1190476190476,
           794.0561797752808,
           800.7799145299145,
           882.7857142857143,
           1000,
           920.5797579757976,
           808.4041297935104,
           843.8503401360545,
           925.7598870056498,
           671.6200466200467,
           615.4287749287749,
           733.030701754386,
           716.6153846153846,
           1000,
           1000,
           957,
           1000,
           985.1904761904761,
           683.6272727272727,
           587.8223140495868,
           625.1061728395061,
           673.3212121212122,
           572.5069444444445,
           926.4906103286385,
           618.6217228464419,
           771.1541666666667,
           744.4641577060933,
           493.3771929824561,
           507.57758620689657,
           776.3641975308642,
           998.7511111111111,
           1000,
           1000,
           1000,
           1000,
           976.4294294294294,
           873.7872892347601,
           810.7007092198581,
           808.5423728813558,
           956.3459915611814,
           779.8869047619047,
           807.7788018433179,
           947.9101449275362,
           792.6691542288557,
           708.8020833333334,
           827.8787878787879,
           950.2412935323383,
           942.6530612244898,
           932.4421052631578,
           954.3435374149659,
           978.3257575757576,
           941.2076502732242,
           921.8195718654434,
           914.4444444444445,
           1000,
           965.1153846153846,
           702.5555555555555,
           1000,
           973.3333333333334,
           983.7619047619049,
           869.191321499014,
           867.5714285714286,
           982.8753180661578,
           934.6526315789473,
           857.8312757201646,
           942.4124700239809,
           827.5814814814815,
           799.6771929824562,
           945.6878306878307,
           1000,
           958.060606060606,
           993.0952380952381,
           1000,
           1000,
           1000,
           1000,
           964.2648148148149,
           803.534282700422,
           461.2274401473297,
           462.63895680521597,
           552.1159420289855,
           799.3974358974359,
           859.3479853479853,
           517.6717171717172,
           523.6756756756757,
           716.2083333333334,
           714.8666666666667,
           744.7333333333332,
           937.6944444444445,
           989.2883895131087,
           1000,
           1000,
           1000,
           1000,
           1000,
           1000,
           1000,
           1000,
           1000,
           1000,
           1000,
           982.3333333333334,
           1000,
           1000,
           1000,
           986.423676012461,
           931.9462365591398,
           992.6705426356589,
           1000,
           1000,
           974.5641025641025,
           782.5968992248062,
           915,
           1000,
           1000,
           1000,
           1000,
           1000,
           957.421794871795,
           833.20082815735,
           905.6508688783571,
           947.6944444444445,
           964.0465116279069,
           956.4677871148459,
           878.8571428571428,
           729.3846153846152,
           674.3916666666667,
           708.25,
           1000,
           1000,
           1000,
           1000,
           1000,
           1000,
           1000,
           1000,
           1000,
           1000,
           1000,
           1000,
           1000,
           1000,
           960.1666666666666,
           1000,
           1000,
           792.1315789473683,
           553.8249158249158,
           854.5022222222223,
           991.1666666666666,
           1000,
           1000,
           1000,
           1000,
           1000,
           996.6078431372549,
           959.7201257861635,
           969.8596491228069,
           1000,
           688.3867684478372,
           720.5445134575571,
           776.8070841239722,
           842.5899843505478,
           720.1481481481482,
           569.7637130801688,
           1000,
           1000,
           1000,
           1000,
           1000,
           1000,
           958.1111111111112,
           751.3888888888888,
           882.2380952380953,
           940.75,
           861.3247863247863,
           809.7976190476189,
           975.0654761904761,
           1000,
           1000,
           1000,
           1000,
           1000,
           996,
           910.8102564102563,
           666.1259968102073,
           401.6167176350662,
           455.7848101265823,
           899.5897435897435,
           980.5585106382979,
           899.4767932489452,
           682.0714285714286,
           553,
           1000,
           1000,
           1000,
           1000,
           887.7083333333334,
           979.6388888888888,
           995,
           933.3623188405796,
           855.8505747126437,
           896.5138888888888,
           1000,
           1000,
           1000,
           1000,
           1000,
           1000,
           991.3163841807909,
           873.5555555555555,
           717.6639344262295,
           651.766081871345,
           579.2727272727273,
           1000,
           1000,
           1000,
           1000,
           1000,
           852.010101010101,
           913.9111111111112,
           974.6770833333334,
           999.6198830409357,
           1000,
           1000,
           1000,
           1000,
           1000,
           1000,
           1000,
           999.4950248756219,
           905.0694444444445,
           875.1111111111112,
           1000,
           1000,
           1000,
           1000,
           855,
           894.6,
           966.7107843137255,
           986.8243243243243,
           925.4444444444443,
           742.9629629629629,
           888.3796296296296,
           997.1287878787879,
           1000,
           1000,
           474.6666666666667,
           547.4166666666666,
           881.9333333333334,
           967.963963963964,
           746.1999999999999,
           877.063492063492,
           1000,
           1000,
           1000,
           1000,
           1000,
           1000
          ],
          "coloraxis": "coloraxis",
          "size": [
           165.16604614257812,
           168.39463806152344,
           103.64009857177734,
           98.20675659179688,
           79.47325897216797,
           108.66566467285156,
           232.0848999023437,
           173.19691467285156,
           202.96615600585932,
           150.5589599609375,
           153.0946502685547,
           112.43335723876952,
           161.4676055908203,
           269.9061889648437,
           363.4380187988281,
           457.9251098632813,
           319.52325439453125,
           59.86871337890625,
           392.48193359375,
           886.0536499023438,
           804.4918823242188,
           1781.3787841796875,
           2163.23974609375,
           1746.8763427734375,
           998.9478759765624,
           639.20849609375,
           366.77935791015625,
           400.6148376464844,
           472.6580200195313,
           449.0005187988281,
           688.4654541015625,
           1236.50537109375,
           1269.4141845703125,
           853.7958374023438,
           294.1271057128906,
           309.78680419921875,
           476.0281372070313,
           407.0012817382813,
           245.18836975097656,
           158.38479614257812,
           134.84768676757812,
           108.0101547241211,
           292.7565002441406,
           620.0610961914062,
           652.4688720703125,
           379.1524353027344,
           297.7792358398437,
           570.0169677734375,
           906.2573852539062,
           1065.61669921875,
           1498.702880859375,
           1066.004638671875,
           1497.874755859375,
           1780.8328857421875,
           2236.4755859375,
           2659.361572265625,
           2025.4862060546875,
           1213.674560546875,
           1574.7679443359375,
           1175.326171875,
           1090.31689453125,
           808.9024658203125,
           1081.57421875,
           1570.003662109375,
           1776.9622802734375,
           2144.379150390625,
           1826.3193359375,
           1548.6912841796875,
           249.47903442382807,
           1167.64453125,
           966.192138671875,
           1305.2086181640625,
           891.0482177734375,
           334.6098937988281,
           122.65530395507812,
           256.4307556152344,
           359.4284362792969,
           509.4748229980469,
           1027.81201171875,
           874.6234130859375,
           661.0255737304688,
           703.5906982421875,
           493.1570739746094,
           350.5083923339844,
           846.3206176757812,
           1334.1431884765625,
           1001.982421875,
           1695.135009765625,
           2128.39111328125,
           2291.33447265625,
           2071.06298828125,
           962.532470703125,
           1325.1063232421875,
           1915.4091796875,
           905.7172241210938,
           1066.2364501953125,
           1118.0311279296875,
           948.2640380859376,
           2258.08935546875,
           2268.72412109375,
           886.1689453125,
           1116.36669921875,
           666.0859375,
           5.568890571594238,
           1208.0611572265625,
           903.6715698242188,
           458.4444274902344,
           321.9373474121094,
           257.7934265136719,
           275.13018798828125,
           441.0778198242188,
           334.2926330566406,
           413.0744934082031,
           406.3038024902344,
           339.1981201171875,
           769.8845825195312,
           1184.5262451171875,
           1003.3912353515624,
           724.3798828125,
           911.1107788085938,
           932.3204956054688,
           1069.5045166015625,
           1130.451416015625,
           1301.2750244140625,
           1493.772216796875,
           2217.25439453125,
           1789.8487548828125,
           1176.073974609375,
           1063.74951171875,
           1219.770263671875,
           830.3035278320312,
           1420.3134765625,
           1388.8892822265625,
           2134.84375,
           1912.821044921875,
           1343.95703125,
           783.6709594726562,
           28.78954315185547,
           269.4715270996094,
           159.05494689941406,
           361.65380859375,
           543.6597290039062,
           797.6159057617188,
           807.8106079101562,
           508.1194458007813,
           591.5426635742188,
           662.9345092773438,
           499.27435302734375,
           456.5343017578125,
           1056.9776611328125,
           1171.90234375,
           1266.5552978515625,
           1087.2318115234375,
           1154.980712890625,
           1087.2086181640625,
           1247.568359375,
           1138.6053466796875,
           2103.65771484375,
           2210.61181640625,
           1350.652587890625,
           2383.584228515625,
           2602.77392578125,
           2411.49462890625,
           2016.877197265625,
           2015.9080810546875,
           1777.3438720703125,
           1555.393798828125,
           1452.4632568359375,
           2492.114013671875,
           2301.34912109375,
           257.7029113769531,
           297.6363220214844,
           394.9732055664063,
           763.41552734375,
           1457.904052734375,
           1392.428466796875,
           1020.3494262695312,
           850.6692504882812,
           761.5850219726562,
           1175.7545166015625,
           859.2521362304688,
           904.3678588867188,
           1121.5174560546875,
           1358.399658203125,
           1326.5462646484375,
           1369.7177734375,
           1434.376953125,
           1637.0318603515625,
           2071.39599609375,
           2316.32763671875,
           2185.2333984375,
           1157.9141845703125,
           1287.0625,
           2347.09228515625,
           2578.859375,
           1985.727783203125,
           2304.33935546875,
           1239.468505859375,
           2054.177001953125,
           1844.678955078125,
           1273.0682373046875,
           1620.2432861328125,
           3205.658203125,
           431.7415466308594,
           102.97657775878906,
           449.8934020996094,
           728.79736328125,
           1179.1097412109375,
           1468.0751953125,
           1178.45166015625,
           750.0337524414062,
           509.14794921875,
           645.091064453125,
           1096.145263671875,
           1154.878662109375,
           1128.67626953125,
           1166.5802001953125,
           970.56591796875,
           1275.12060546875,
           1392.55419921875,
           1154.7099609375,
           2070.95849609375,
           2188.310302734375,
           1481.9102783203125,
           3255.570556640625,
           1256.404541015625,
           953.1943359375,
           1046.6146240234375,
           594.9564208984375,
           2345.13037109375,
           3236.043701171875,
           2681.715087890625,
           2516.958251953125,
           1544.3955078125,
           960.9454956054688,
           2334.63427734375,
           344.29278564453125,
           145.86782836914062,
           411.2742614746094,
           157.43890380859375,
           1.4975590705871582,
           30.094486236572266,
           105.34231567382812,
           254.91514587402344,
           464.83636474609375,
           892.664794921875,
           813.4213256835938,
           346.612548828125,
           374.9263000488281,
           744.67138671875,
           964.3367309570312,
           750.5230102539062,
           888.4503784179688,
           1238.1490478515625,
           943.46875,
           1123.931396484375,
           1095.267822265625,
           1095.1357421875,
           1769.727294921875,
           2931.2763671875,
           2868.58154296875,
           1810.3560791015625,
           1141.7384033203125,
           1084.0523681640625,
           2367.302978515625,
           2576.817626953125,
           3971.543212890625,
           5890.60302734375,
           2299.945556640625,
           2886.287841796875,
           7220.77685546875,
           9366.7783203125,
           6249.67333984375,
           3986.476318359375,
           1817.12646484375,
           393.3439025878906,
           136.8335418701172,
           23.619129180908203,
           29.560535430908203,
           39.04072952270508,
           79.6169662475586,
           125.67707824707033,
           243.3203125,
           340.1456298828125,
           461.79339599609375,
           539.2616577148438,
           432.1566162109375,
           461.18463134765625,
           576.2824096679688,
           612.8749389648438,
           1340.29638671875,
           1179.42578125,
           1013.9397583007812,
           1328.1441650390625,
           1515.6973876953125,
           2311.129150390625,
           2614.81787109375,
           2860.515869140625,
           3112.829345703125,
           2432.657958984375,
           2452.225341796875,
           5798.49267578125,
           8967.1328125,
           11954.02734375,
           18875.55859375,
           17316.5,
           4867.28369140625,
           2977.46044921875,
           12250.2060546875,
           17540.103515625,
           2773.459716796875,
           155.46560668945312,
           31.53146171569824,
           51.10757827758789,
           54.16431427001953,
           87.60303497314453,
           197.7284393310547,
           139.9778594970703,
           102.70340728759766,
           143.56048583984375,
           242.12998962402344,
           298.5028991699219,
           413.9733581542969,
           662.4776000976562,
           1094.14990234375,
           1448.5086669921875,
           1391.3515625,
           1130.0401611328125,
           1280.4947509765625,
           1168.168701171875,
           2037.16259765625,
           2870.203125,
           3047.260498046875,
           3057.7060546875,
           3136.61865234375,
           3278.79296875,
           3829.858154296875,
           8509.044921875,
           11358.98046875,
           12426.8994140625,
           12974.9111328125,
           9767.416015625,
           6038.10302734375,
           8422.69921875,
           8635.875,
           2288.375732421875,
           182.8451232910156,
           723.6754150390625,
           610.899169921875,
           85.11027526855469,
           56.9948844909668,
           199.17630004882807,
           284.4135437011719,
           223.60406494140625,
           115.90497589111328,
           108.0781478881836,
           319.3941955566406,
           347.4877624511719,
           444.8445739746094,
           414.38226318359375,
           331.060546875,
           235.6859588623047,
           364.4311218261719,
           533.1340942382812,
           1196.0460205078125,
           1830.31591796875,
           1535.593505859375,
           1804.9942626953125,
           1099.5810546875,
           2958.419677734375,
           3801.3203125,
           4897.06591796875,
           4838.23974609375,
           4012.41064453125,
           4588.166015625,
           7157.70458984375,
           11117.03125,
           10938.3203125,
           8523.8779296875,
           7591.88916015625,
           6156.22998046875,
           3479.35595703125,
           6790.109375,
           2070.75341796875,
           376.8615417480469,
           888.4359741210938,
           940.6228637695312,
           484.9214477539063,
           97.8365249633789,
           114.92174530029295,
           342.70428466796875,
           506.2051696777344,
           808.1044921875,
           696.0924682617188,
           361.7613220214844,
           669.6588134765625,
           925.2648315429688,
           854.4544067382812,
           807.2987060546875,
           853.297607421875,
           895.159912109375,
           838.0204467773438,
           528.0618286132812,
           1117.5274658203125,
           1407.76416015625,
           2001.3011474609373,
           2139.445068359375,
           1268.688720703125,
           1610.5400390625,
           3600.3115234375,
           3763.908203125,
           6966.38037109375,
           6801.3857421875,
           5934.9521484375,
           5714.77587890625,
           9771.0341796875,
           10264.796875,
           6821.009765625,
           2869.0830078125,
           3166.744140625,
           3530.028076171875,
           3688.186767578125,
           1511.360595703125,
           1164.57421875,
           528.3597412109375,
           743.5765380859375,
           395.4118347167969,
           487.5422058105469,
           18.70952033996582,
           328.4812927246094,
           855.2467651367188,
           1205.3699951171875,
           841.149658203125,
           673.1876220703125,
           901.0150146484376,
           1073.687255859375,
           1037.458251953125,
           1159.8177490234375,
           947.9212036132812,
           974.5607299804688,
           938.0657348632812,
           1187.78955078125,
           702.0369873046875,
           1284.8912353515625,
           1326.84326171875,
           1984.16015625,
           2282.78466796875,
           2288.056884765625,
           1664.4482421875,
           3434.10107421875,
           3317.472900390625,
           5469.2060546875,
           3666.285888671875,
           2195.896728515625,
           1732.111572265625,
           6562.04638671875,
           13227.7578125,
           13222.109375,
           4104.78759765625,
           2453.778564453125,
           3456.030517578125,
           6053.97900390625,
           4575.705078125,
           1530.306396484375,
           1485.899658203125,
           1791.4500732421875,
           1572.1142578125,
           199.53744506835932,
           405.0318908691406,
           987.186767578125,
           1651.1959228515625,
           1208.8865966796875,
           1948.4017333984373,
           1813.265625,
           1763.674072265625,
           1504.1817626953125,
           1665.562255859375,
           1693.57763671875,
           1362.67431640625,
           974.4502563476562,
           1220.895263671875,
           779.9995727539062,
           1045.27880859375,
           1069.4935302734375,
           1086.2279052734375,
           1542.7559814453125,
           2053.453125,
           1943.828857421875,
           2453.135498046875,
           2770.138916015625,
           4050.15966796875,
           6403.283203125,
           5870.5908203125,
           2193.057861328125,
           3209.3037109375,
           5063.4208984375,
           4237.4541015625,
           1867.2786865234373,
           3800.131103515625,
           6365.18408203125,
           8520.26171875,
           8382.80078125,
           9661.013671875,
           8618.115234375,
           6081.60986328125,
           3838.06396484375,
           453.7002868652344,
           658.2334594726562,
           354.9335021972656,
           840.9107666015625,
           1186.5716552734375,
           2110.63916015625,
           2131.015625,
           1252.11767578125,
           757.5952758789062,
           599.6610717773438,
           815.6505737304688,
           529.141357421875,
           535.3505859375,
           766.9000244140625,
           840.10107421875,
           487.3905029296875,
           459.0769348144531,
           524.2965087890625,
           1620.9033203125,
           2152.734375,
           2040.3465576171875,
           2142.224365234375,
           2604.52294921875,
           3418.519287109375,
           4713.13037109375,
           4599.0537109375,
           2558.42822265625,
           3588.1904296875,
           3915.948974609375,
           2503.3251953125,
           1302.745849609375,
           2081.22119140625,
           188.5145263671875,
           1381.4981689453125,
           4199.36962890625,
           4681.4755859375,
           6884.72705078125,
           4696.9130859375,
           3391.10888671875,
           1672.4537353515625,
           54.611934661865234,
           615.1962890625,
           608.1469116210938,
           304.78485107421875,
           373.8807067871094,
           1506.806884765625,
           1975.379638671875,
           1836.2213134765625,
           869.2042846679688,
           536.9169311523438,
           453.3005065917969,
           334.54669189453125,
           407.5481567382813,
           320.87701416015625,
           324.1278381347656,
           256.53985595703125,
           488.6263732910156,
           539.0639038085938,
           1549.3131103515625,
           1897.21142578125,
           2342.3564453125,
           2070.153076171875,
           1706.6356201171875,
           1899.1395263671875,
           1257.0758056640625,
           1312.7830810546875,
           3050.063720703125,
           4172.16552734375,
           2936.73779296875,
           1389.8812255859375,
           601.6731567382812,
           316.4658203125,
           348.10894775390625,
           1811.1142578125,
           3054.178466796875,
           2347.386474609375,
           3481.22509765625,
           3152.9375,
           2500.976806640625,
           1445.082763671875,
           393.836669921875,
           72.03666687011719,
           397.02880859375,
           341.84332275390625,
           259.8892822265625,
           226.6770782470703,
           409.5839538574219,
           848.7025756835938,
           538.9915161132812,
           299.2066345214844,
           220.0100860595703,
           242.74752807617188,
           219.45529174804688,
           154.9054412841797,
           152.5998992919922,
           175.99984741210938,
           109.38897705078124,
           298.1039123535156,
           290.5434875488281,
           696.268798828125,
           1671.081298828125,
           2169.382568359375,
           2076.303466796875,
           1899.426513671875,
           859.9541625976562,
           465.4363098144531,
           314.0418395996094,
           529.59228515625,
           941.8035888671876,
           872.8312377929688,
           667.3911743164062,
           200.9263916015625,
           422.76800537109375,
           1834.9425048828125,
           3013.868896484375,
           2184.774169921875,
           1842.617431640625,
           2123.94580078125,
           2744.63134765625,
           1981.056884765625,
           1325.2542724609375,
           1048.37841796875,
           682.2017822265625,
           121.8229751586914,
           49.74812698364258,
           2.993978977203369,
           130.9564666748047,
           287.9515686035156,
           201.440658569336,
           170.5477752685547,
           212.0084686279297,
           443.1790771484375,
           950.6054077148438,
           1087.053955078125,
           1202.035888671875,
           1019.9700927734376,
           1085.6632080078125,
           950.181396484375,
           1006.1640014648438,
           1050.0799560546875,
           375.1736755371094,
           391.5101623535156,
           571.097900390625,
           643.5965576171875,
           1358.4078369140625,
           2040.8609619140625,
           2008.16455078125,
           1354.5479736328125,
           312.4681396484375,
           159.16534423828125,
           528.700927734375,
           421.9629211425781,
           285.25994873046875,
           244.5179443359375,
           902.189208984375,
           2549.021240234375,
           3041.896484375,
           985.7077026367188,
           819.7108764648438,
           661.4312133789062,
           1517.73193359375,
           1306.7691650390625,
           1043.5325927734375,
           1465.4755859375,
           1613.8875732421875,
           590.4903564453125,
           184.21327209472656,
           124.4211883544922,
           807.5810546875,
           1457.975830078125,
           1060.6190185546875,
           795.6942749023438,
           876.1971435546875,
           704.1091918945312,
           755.19580078125,
           1679.3887939453125,
           1986.083984375,
           1793.58251953125,
           1669.2286376953125,
           1627.8677978515625,
           1895.3612060546875,
           1853.0706787109373,
           1193.6971435546875,
           353.6958312988281,
           528.5020751953125,
           634.3280639648438,
           667.3992309570312,
           1399.4425048828125,
           1227.821533203125,
           452.861328125,
           122.70208740234376,
           460.2005615234375,
           152.26686096191406,
           92.96446228027344,
           96.92726135253906,
           211.6236114501953,
           509.6600646972656,
           1339.9697265625,
           1847.0802001953125,
           1348.003173828125,
           1445.69482421875,
           490.6397399902344,
           521.04345703125,
           528.7855834960938,
           240.3502960205078,
           291.4589538574219,
           360.705078125,
           173.48434448242188,
           263.1422424316406,
           223.9626617431641,
           606.2503051757812,
           736.3074340820312,
           1013.7757568359376,
           1227.178466796875,
           1578.2691650390625,
           1295.1644287109375,
           601.7595825195312,
           257.5632019042969,
           533.3353271484375,
           425.4725646972656,
           203.78823852539065,
           148.76905822753906,
           173.55511474609375,
           240.07388305664065,
           370.65960693359375,
           446.4666748046875,
           623.0398559570312,
           632.9165649414062,
           926.4417114257812,
           1009.7705078125,
           952.064453125,
           387.7154235839844,
           116.6545639038086,
           88.65038299560547,
           108.94266510009766,
           64.64034271240234,
           44.12084579467773,
           41.65827560424805,
           47.52221298217773,
           72.51296997070312,
           144.95750427246094,
           561.067626953125,
           1159.6585693359375,
           802.7286987304688,
           701.9442138671875,
           560.9107666015625,
           274.2564697265625,
           272.0621643066406,
           161.59548950195312,
           130.64236450195312,
           145.6709442138672,
           176.2481689453125,
           129.29779052734375,
           154.14703369140625,
           1039.400146484375,
           1030.752197265625,
           636.7994384765625,
           599.7838745117188,
           776.2791748046875,
           500.17138671875,
           169.51373291015625,
           133.58396911621094,
           205.2762756347656,
           90.02790069580078,
           11.69416618347168,
           19.07416725158692,
           113.70327758789062,
           209.4113922119141,
           210.3256225585937,
           331.7444763183594,
           542.012451171875,
           637.8970336914062,
           154.63841247558594,
           69.13963317871094,
           45.97349166870117,
           46.72726821899414,
           35.298919677734375,
           38.90097427368164,
           60.2628288269043,
           44.94264221191406,
           117.92335510253906,
           655.8869018554688,
           928.2647705078124,
           411.1160583496094,
           192.624252319336,
           123.1965560913086,
           160.2586669921875,
           158.27833557128906,
           274.1124267578125,
           175.53521728515625,
           300.465087890625,
           990.6219482421876,
           450.5507507324219,
           11.513407707214355,
           1261.388671875,
           1293.6033935546875,
           826.01904296875,
           554.1541137695312,
           378.121337890625,
           162.48193359375,
           70.45732116699219,
           28.72854423522949,
           64.27622985839844,
           65.86116790771484,
           36.3842887878418,
           42.02742004394531,
           49.707889556884766,
           38.96443176269531,
           47.91630172729492,
           150.01025390625,
           659.3965454101562,
           731.282470703125,
           234.8470458984375,
           113.6518783569336,
           62.89875030517578,
           105.99838256835938,
           327.362060546875,
           518.0643310546875,
           268.6994934082031,
           705.1622924804688,
           1215.35986328125,
           1160.82861328125,
           320.5765380859375,
           842.8202514648438,
           685.324951171875,
           314.7710876464844,
           85.52888488769531,
           33.29862976074219,
           10.999119758605955,
           58.795711517333984,
           50.63676834106445,
           70.34169006347656,
           69.8019027709961,
           40.34040451049805,
           56.93149948120117,
           265.6038818359375,
           388.6124572753906,
           225.45057678222656,
           99.62432861328124,
           63.11209487915039,
           25.38489532470703,
           76.88813781738281,
           207.659408569336,
           637.2115478515625,
           857.2281494140625,
           959.3792114257812,
           757.6140747070312,
           504.0444641113281,
           201.42398071289065,
           32.26926803588867,
           9.125398635864258,
           58.3762092590332,
           43.69259643554688,
           43.42560195922852,
           49.333614349365234,
           66.52981567382812,
           116.884033203125,
           216.9490509033203,
           70.68802642822266,
           80.45005798339844,
           103.21656036376952,
           85.01475524902344,
           174.39199829101562,
           186.01319885253903,
           321.66558837890625,
           403.1967468261719,
           187.67849731445312,
           87.79674530029297,
           7.222929954528809,
           2.778900146484375,
           20.304059982299805,
           25.192665100097656,
           14.116853713989258,
           36.61592864990234,
           77.30728912353516,
           165.01332092285156,
           143.5420684814453,
           102.70330047607422,
           224.5221099853516,
           334.4949645996094,
           353.3573608398437,
           28.56262588500977,
           57.96057891845703,
           92.88224029541016,
           165.177734375,
           228.97027587890625,
           143.41055297851562,
           99.74156188964844,
           97.2983169555664,
           14.762961387634276,
           11.002124786376951,
           34.579925537109375,
           29.629674911499023,
           0.919191837310791
          ],
          "sizemode": "area",
          "sizeref": 47.188896484375
         },
         "mode": "markers",
         "name": "",
         "showlegend": false,
         "subplot": "mapbox",
         "type": "scattermapbox"
        }
       ],
       "layout": {
        "coloraxis": {
         "colorbar": {
          "title": {
           "text": "avg_user_selection"
          }
         },
         "colorscale": [
          [
           0,
           "#fde725"
          ],
          [
           0.1111111111111111,
           "#b5de2b"
          ],
          [
           0.2222222222222222,
           "#6ece58"
          ],
          [
           0.3333333333333333,
           "#35b779"
          ],
          [
           0.4444444444444444,
           "#1f9e89"
          ],
          [
           0.5555555555555556,
           "#26828e"
          ],
          [
           0.6666666666666666,
           "#31688e"
          ],
          [
           0.7777777777777778,
           "#3e4989"
          ],
          [
           0.8888888888888888,
           "#482878"
          ],
          [
           1,
           "#440154"
          ]
         ]
        },
        "legend": {
         "itemsizing": "constant",
         "tracegroupgap": 0
        },
        "mapbox": {
         "accesstoken": "pk.eyJ1IjoiZ29vZGdhbWUiLCJhIjoiY2t0YTF4bDUwMWhsMzJ1cWx0NDN2NjNxMyJ9.3yNf5kOkcxOvnjxJuXRlYg",
         "center": {
          "lat": 55.67183329279963,
          "lon": 12.486148099095798
         },
         "domain": {
          "x": [
           0,
           1
          ],
          "y": [
           0,
           1
          ]
         },
         "style": "outdoors",
         "zoom": 8
        },
        "margin": {
         "t": 60
        },
        "template": {
         "data": {
          "bar": [
           {
            "error_x": {
             "color": "#2a3f5f"
            },
            "error_y": {
             "color": "#2a3f5f"
            },
            "marker": {
             "line": {
              "color": "#E5ECF6",
              "width": 0.5
             },
             "pattern": {
              "fillmode": "overlay",
              "size": 10,
              "solidity": 0.2
             }
            },
            "type": "bar"
           }
          ],
          "barpolar": [
           {
            "marker": {
             "line": {
              "color": "#E5ECF6",
              "width": 0.5
             },
             "pattern": {
              "fillmode": "overlay",
              "size": 10,
              "solidity": 0.2
             }
            },
            "type": "barpolar"
           }
          ],
          "carpet": [
           {
            "aaxis": {
             "endlinecolor": "#2a3f5f",
             "gridcolor": "white",
             "linecolor": "white",
             "minorgridcolor": "white",
             "startlinecolor": "#2a3f5f"
            },
            "baxis": {
             "endlinecolor": "#2a3f5f",
             "gridcolor": "white",
             "linecolor": "white",
             "minorgridcolor": "white",
             "startlinecolor": "#2a3f5f"
            },
            "type": "carpet"
           }
          ],
          "choropleth": [
           {
            "colorbar": {
             "outlinewidth": 0,
             "ticks": ""
            },
            "type": "choropleth"
           }
          ],
          "contour": [
           {
            "colorbar": {
             "outlinewidth": 0,
             "ticks": ""
            },
            "colorscale": [
             [
              0,
              "#0d0887"
             ],
             [
              0.1111111111111111,
              "#46039f"
             ],
             [
              0.2222222222222222,
              "#7201a8"
             ],
             [
              0.3333333333333333,
              "#9c179e"
             ],
             [
              0.4444444444444444,
              "#bd3786"
             ],
             [
              0.5555555555555556,
              "#d8576b"
             ],
             [
              0.6666666666666666,
              "#ed7953"
             ],
             [
              0.7777777777777778,
              "#fb9f3a"
             ],
             [
              0.8888888888888888,
              "#fdca26"
             ],
             [
              1,
              "#f0f921"
             ]
            ],
            "type": "contour"
           }
          ],
          "contourcarpet": [
           {
            "colorbar": {
             "outlinewidth": 0,
             "ticks": ""
            },
            "type": "contourcarpet"
           }
          ],
          "heatmap": [
           {
            "colorbar": {
             "outlinewidth": 0,
             "ticks": ""
            },
            "colorscale": [
             [
              0,
              "#0d0887"
             ],
             [
              0.1111111111111111,
              "#46039f"
             ],
             [
              0.2222222222222222,
              "#7201a8"
             ],
             [
              0.3333333333333333,
              "#9c179e"
             ],
             [
              0.4444444444444444,
              "#bd3786"
             ],
             [
              0.5555555555555556,
              "#d8576b"
             ],
             [
              0.6666666666666666,
              "#ed7953"
             ],
             [
              0.7777777777777778,
              "#fb9f3a"
             ],
             [
              0.8888888888888888,
              "#fdca26"
             ],
             [
              1,
              "#f0f921"
             ]
            ],
            "type": "heatmap"
           }
          ],
          "heatmapgl": [
           {
            "colorbar": {
             "outlinewidth": 0,
             "ticks": ""
            },
            "colorscale": [
             [
              0,
              "#0d0887"
             ],
             [
              0.1111111111111111,
              "#46039f"
             ],
             [
              0.2222222222222222,
              "#7201a8"
             ],
             [
              0.3333333333333333,
              "#9c179e"
             ],
             [
              0.4444444444444444,
              "#bd3786"
             ],
             [
              0.5555555555555556,
              "#d8576b"
             ],
             [
              0.6666666666666666,
              "#ed7953"
             ],
             [
              0.7777777777777778,
              "#fb9f3a"
             ],
             [
              0.8888888888888888,
              "#fdca26"
             ],
             [
              1,
              "#f0f921"
             ]
            ],
            "type": "heatmapgl"
           }
          ],
          "histogram": [
           {
            "marker": {
             "pattern": {
              "fillmode": "overlay",
              "size": 10,
              "solidity": 0.2
             }
            },
            "type": "histogram"
           }
          ],
          "histogram2d": [
           {
            "colorbar": {
             "outlinewidth": 0,
             "ticks": ""
            },
            "colorscale": [
             [
              0,
              "#0d0887"
             ],
             [
              0.1111111111111111,
              "#46039f"
             ],
             [
              0.2222222222222222,
              "#7201a8"
             ],
             [
              0.3333333333333333,
              "#9c179e"
             ],
             [
              0.4444444444444444,
              "#bd3786"
             ],
             [
              0.5555555555555556,
              "#d8576b"
             ],
             [
              0.6666666666666666,
              "#ed7953"
             ],
             [
              0.7777777777777778,
              "#fb9f3a"
             ],
             [
              0.8888888888888888,
              "#fdca26"
             ],
             [
              1,
              "#f0f921"
             ]
            ],
            "type": "histogram2d"
           }
          ],
          "histogram2dcontour": [
           {
            "colorbar": {
             "outlinewidth": 0,
             "ticks": ""
            },
            "colorscale": [
             [
              0,
              "#0d0887"
             ],
             [
              0.1111111111111111,
              "#46039f"
             ],
             [
              0.2222222222222222,
              "#7201a8"
             ],
             [
              0.3333333333333333,
              "#9c179e"
             ],
             [
              0.4444444444444444,
              "#bd3786"
             ],
             [
              0.5555555555555556,
              "#d8576b"
             ],
             [
              0.6666666666666666,
              "#ed7953"
             ],
             [
              0.7777777777777778,
              "#fb9f3a"
             ],
             [
              0.8888888888888888,
              "#fdca26"
             ],
             [
              1,
              "#f0f921"
             ]
            ],
            "type": "histogram2dcontour"
           }
          ],
          "mesh3d": [
           {
            "colorbar": {
             "outlinewidth": 0,
             "ticks": ""
            },
            "type": "mesh3d"
           }
          ],
          "parcoords": [
           {
            "line": {
             "colorbar": {
              "outlinewidth": 0,
              "ticks": ""
             }
            },
            "type": "parcoords"
           }
          ],
          "pie": [
           {
            "automargin": true,
            "type": "pie"
           }
          ],
          "scatter": [
           {
            "marker": {
             "colorbar": {
              "outlinewidth": 0,
              "ticks": ""
             }
            },
            "type": "scatter"
           }
          ],
          "scatter3d": [
           {
            "line": {
             "colorbar": {
              "outlinewidth": 0,
              "ticks": ""
             }
            },
            "marker": {
             "colorbar": {
              "outlinewidth": 0,
              "ticks": ""
             }
            },
            "type": "scatter3d"
           }
          ],
          "scattercarpet": [
           {
            "marker": {
             "colorbar": {
              "outlinewidth": 0,
              "ticks": ""
             }
            },
            "type": "scattercarpet"
           }
          ],
          "scattergeo": [
           {
            "marker": {
             "colorbar": {
              "outlinewidth": 0,
              "ticks": ""
             }
            },
            "type": "scattergeo"
           }
          ],
          "scattergl": [
           {
            "marker": {
             "colorbar": {
              "outlinewidth": 0,
              "ticks": ""
             }
            },
            "type": "scattergl"
           }
          ],
          "scattermapbox": [
           {
            "marker": {
             "colorbar": {
              "outlinewidth": 0,
              "ticks": ""
             }
            },
            "type": "scattermapbox"
           }
          ],
          "scatterpolar": [
           {
            "marker": {
             "colorbar": {
              "outlinewidth": 0,
              "ticks": ""
             }
            },
            "type": "scatterpolar"
           }
          ],
          "scatterpolargl": [
           {
            "marker": {
             "colorbar": {
              "outlinewidth": 0,
              "ticks": ""
             }
            },
            "type": "scatterpolargl"
           }
          ],
          "scatterternary": [
           {
            "marker": {
             "colorbar": {
              "outlinewidth": 0,
              "ticks": ""
             }
            },
            "type": "scatterternary"
           }
          ],
          "surface": [
           {
            "colorbar": {
             "outlinewidth": 0,
             "ticks": ""
            },
            "colorscale": [
             [
              0,
              "#0d0887"
             ],
             [
              0.1111111111111111,
              "#46039f"
             ],
             [
              0.2222222222222222,
              "#7201a8"
             ],
             [
              0.3333333333333333,
              "#9c179e"
             ],
             [
              0.4444444444444444,
              "#bd3786"
             ],
             [
              0.5555555555555556,
              "#d8576b"
             ],
             [
              0.6666666666666666,
              "#ed7953"
             ],
             [
              0.7777777777777778,
              "#fb9f3a"
             ],
             [
              0.8888888888888888,
              "#fdca26"
             ],
             [
              1,
              "#f0f921"
             ]
            ],
            "type": "surface"
           }
          ],
          "table": [
           {
            "cells": {
             "fill": {
              "color": "#EBF0F8"
             },
             "line": {
              "color": "white"
             }
            },
            "header": {
             "fill": {
              "color": "#C8D4E3"
             },
             "line": {
              "color": "white"
             }
            },
            "type": "table"
           }
          ]
         },
         "layout": {
          "annotationdefaults": {
           "arrowcolor": "#2a3f5f",
           "arrowhead": 0,
           "arrowwidth": 1
          },
          "autotypenumbers": "strict",
          "coloraxis": {
           "colorbar": {
            "outlinewidth": 0,
            "ticks": ""
           }
          },
          "colorscale": {
           "diverging": [
            [
             0,
             "#8e0152"
            ],
            [
             0.1,
             "#c51b7d"
            ],
            [
             0.2,
             "#de77ae"
            ],
            [
             0.3,
             "#f1b6da"
            ],
            [
             0.4,
             "#fde0ef"
            ],
            [
             0.5,
             "#f7f7f7"
            ],
            [
             0.6,
             "#e6f5d0"
            ],
            [
             0.7,
             "#b8e186"
            ],
            [
             0.8,
             "#7fbc41"
            ],
            [
             0.9,
             "#4d9221"
            ],
            [
             1,
             "#276419"
            ]
           ],
           "sequential": [
            [
             0,
             "#0d0887"
            ],
            [
             0.1111111111111111,
             "#46039f"
            ],
            [
             0.2222222222222222,
             "#7201a8"
            ],
            [
             0.3333333333333333,
             "#9c179e"
            ],
            [
             0.4444444444444444,
             "#bd3786"
            ],
            [
             0.5555555555555556,
             "#d8576b"
            ],
            [
             0.6666666666666666,
             "#ed7953"
            ],
            [
             0.7777777777777778,
             "#fb9f3a"
            ],
            [
             0.8888888888888888,
             "#fdca26"
            ],
            [
             1,
             "#f0f921"
            ]
           ],
           "sequentialminus": [
            [
             0,
             "#0d0887"
            ],
            [
             0.1111111111111111,
             "#46039f"
            ],
            [
             0.2222222222222222,
             "#7201a8"
            ],
            [
             0.3333333333333333,
             "#9c179e"
            ],
            [
             0.4444444444444444,
             "#bd3786"
            ],
            [
             0.5555555555555556,
             "#d8576b"
            ],
            [
             0.6666666666666666,
             "#ed7953"
            ],
            [
             0.7777777777777778,
             "#fb9f3a"
            ],
            [
             0.8888888888888888,
             "#fdca26"
            ],
            [
             1,
             "#f0f921"
            ]
           ]
          },
          "colorway": [
           "#636efa",
           "#EF553B",
           "#00cc96",
           "#ab63fa",
           "#FFA15A",
           "#19d3f3",
           "#FF6692",
           "#B6E880",
           "#FF97FF",
           "#FECB52"
          ],
          "font": {
           "color": "#2a3f5f"
          },
          "geo": {
           "bgcolor": "white",
           "lakecolor": "white",
           "landcolor": "#E5ECF6",
           "showlakes": true,
           "showland": true,
           "subunitcolor": "white"
          },
          "hoverlabel": {
           "align": "left"
          },
          "hovermode": "closest",
          "mapbox": {
           "style": "light"
          },
          "paper_bgcolor": "white",
          "plot_bgcolor": "#E5ECF6",
          "polar": {
           "angularaxis": {
            "gridcolor": "white",
            "linecolor": "white",
            "ticks": ""
           },
           "bgcolor": "#E5ECF6",
           "radialaxis": {
            "gridcolor": "white",
            "linecolor": "white",
            "ticks": ""
           }
          },
          "scene": {
           "xaxis": {
            "backgroundcolor": "#E5ECF6",
            "gridcolor": "white",
            "gridwidth": 2,
            "linecolor": "white",
            "showbackground": true,
            "ticks": "",
            "zerolinecolor": "white"
           },
           "yaxis": {
            "backgroundcolor": "#E5ECF6",
            "gridcolor": "white",
            "gridwidth": 2,
            "linecolor": "white",
            "showbackground": true,
            "ticks": "",
            "zerolinecolor": "white"
           },
           "zaxis": {
            "backgroundcolor": "#E5ECF6",
            "gridcolor": "white",
            "gridwidth": 2,
            "linecolor": "white",
            "showbackground": true,
            "ticks": "",
            "zerolinecolor": "white"
           }
          },
          "shapedefaults": {
           "line": {
            "color": "#2a3f5f"
           }
          },
          "ternary": {
           "aaxis": {
            "gridcolor": "white",
            "linecolor": "white",
            "ticks": ""
           },
           "baxis": {
            "gridcolor": "white",
            "linecolor": "white",
            "ticks": ""
           },
           "bgcolor": "#E5ECF6",
           "caxis": {
            "gridcolor": "white",
            "linecolor": "white",
            "ticks": ""
           }
          },
          "title": {
           "x": 0.05
          },
          "xaxis": {
           "automargin": true,
           "gridcolor": "white",
           "linecolor": "white",
           "ticks": "",
           "title": {
            "standoff": 15
           },
           "zerolinecolor": "white",
           "zerolinewidth": 2
          },
          "yaxis": {
           "automargin": true,
           "gridcolor": "white",
           "linecolor": "white",
           "ticks": "",
           "title": {
            "standoff": 15
           },
           "zerolinecolor": "white",
           "zerolinewidth": 2
          }
         }
        }
       }
      },
      "text/html": [
       "<div>                            <div id=\"2d356c12-0d61-4a9e-aa7c-cda3ec6a5a7e\" class=\"plotly-graph-div\" style=\"height:525px; width:100%;\"></div>            <script type=\"text/javascript\">                require([\"plotly\"], function(Plotly) {                    window.PLOTLYENV=window.PLOTLYENV || {};                                    if (document.getElementById(\"2d356c12-0d61-4a9e-aa7c-cda3ec6a5a7e\")) {                    Plotly.newPlot(                        \"2d356c12-0d61-4a9e-aa7c-cda3ec6a5a7e\",                        [{\"customdata\":[[165.16604614257812,1000.0,1000.0,1000.0],[168.39463806152344,1000.0,1000.0,1000.0],[103.64009857177734,995.759493670886,1000.0,1000.0],[98.20675659179688,1000.0,1000.0,1000.0],[79.47325897216797,1000.0,1000.0,980.9583333333334],[108.66566467285156,1000.0,1000.0,509.3333333333333],[232.0848999023437,980.987012987013,1000.0,304.06493506493507],[173.19691467285156,968.560975609756,1000.0,793.3414634146342],[202.96615600585932,893.5820895522388,1000.0,1000.0],[150.5589599609375,998.7777777777778,1000.0,1000.0],[153.0946502685547,1000.0,1000.0,1000.0],[112.43335723876952,1000.0,1000.0,1000.0],[161.4676055908203,1000.0,1000.0,1000.0],[269.9061889648437,998.5526315789474,1000.0,936.421052631579],[363.4380187988281,791.9090909090909,1000.0,657.1818181818181],[457.9251098632813,284.4259259259259,990.8888888888888,485.0185185185185],[319.52325439453125,779.0645161290323,981.47311827957,932.6236559139784],[59.86871337890625,974.8571428571428,912.7142857142856,1000.0],[392.48193359375,1000.0,357.0740740740741,388.27777777777777],[886.0536499023438,1000.0,556.53,726.29],[804.4918823242188,994.2916666666666,952.7708333333334,961.6666666666666],[1781.3787841796875,549.21,841.44,476.77],[2163.23974609375,194.9913043478261,383.39130434782606,297.69347826086954],[1746.8763427734375,883.9602649006622,804.2152317880794,897.2715231788079],[998.9478759765624,1000.0,707.6134453781513,992.1680672268908],[639.20849609375,976.0673076923076,859.4711538461538,999.6923076923076],[366.77935791015625,635.2647058823529,994.220588235294,892.8088235294117],[400.6148376464844,757.776119402985,1000.0,812.1194029850747],[472.6580200195313,925.7692307692308,999.5,922.9807692307692],[449.0005187988281,969.8679245283018,946.6981132075472,989.9056603773583],[688.4654541015625,889.311475409836,801.3934426229508,995.344262295082],[1236.50537109375,347.6849315068493,497.6438356164384,656.5890410958904],[1269.4141845703125,748.2142857142857,854.0446428571429,976.8303571428572],[853.7958374023438,684.8351648351648,1000.0,937.2417582417582],[294.1271057128906,1000.0,1000.0,1000.0],[309.78680419921875,853.8351648351648,1000.0,1000.0],[476.0281372070313,294.1041666666667,1000.0,1000.0],[407.0012817382813,538.2317073170732,1000.0,1000.0],[245.18836975097656,983.0181818181818,1000.0,1000.0],[158.38479614257812,1000.0,1000.0,969.4324324324324],[134.84768676757812,991.435294117647,1000.0,851.3529411764706],[108.0101547241211,590.078947368421,1000.0,983.8552631578948],[292.7565002441406,546.5254237288135,1000.0,1000.0],[620.0610961914062,801.7870370370371,1000.0,1000.0],[652.4688720703125,1000.0,1000.0,1000.0],[379.1524353027344,1000.0,1000.0,1000.0],[297.7792358398437,1000.0,1000.0,1000.0],[570.0169677734375,1000.0,870.5428571428571,1000.0],[906.2573852539062,959.6178010471205,564.1884816753927,1000.0],[1065.61669921875,544.9439252336449,505.9906542056075,1000.0],[1498.702880859375,325.015,293.885,1000.0],[1066.004638671875,613.41,740.91,1000.0],[1497.874755859375,968.1980198019802,990.8118811881188,999.4455445544554],[1780.8328857421875,1000.0,997.6869565217391,1000.0],[2236.4755859375,980.654135338346,1000.0,997.6766917293234],[2659.361572265625,820.508064516129,970.0564516129032,893.2016129032259],[2025.4862060546875,790.7967479674796,899.2926829268292,819.5447154471544],[1213.674560546875,971.4605263157896,986.5657894736842,973.842105263158],[1574.7679443359375,981.9663461538462,1000.0,999.4423076923076],[1175.326171875,636.4829545454545,1000.0,1000.0],[1090.31689453125,256.03389830508473,1000.0,996.4915254237288],[808.9024658203125,679.3134328358209,1000.0,947.2910447761194],[1081.57421875,994.1134020618556,1000.0,559.8144329896908],[1570.003662109375,889.1512605042017,1000.0,442.3781512605042],[1776.9622802734375,393.1940298507463,904.2985074626864,918.7014925373136],[2144.379150390625,286.96590909090907,437.67045454545456,1000.0],[1826.3193359375,413.16,580.4466666666667,990.4],[1548.6912841796875,336.0782608695652,993.0347826086957,496.60869565217394],[249.47903442382807,171.921875,1000.0,144.828125],[1167.64453125,1000.0,1000.0,1000.0],[966.192138671875,973.629213483146,1000.0,1000.0],[1305.2086181640625,825.4756944444445,1000.0,1000.0],[891.0482177734375,806.2888888888889,1000.0,1000.0],[334.6098937988281,999.082191780822,1000.0,1000.0],[122.65530395507812,1000.0,1000.0,1000.0],[256.4307556152344,1000.0,1000.0,1000.0],[359.4284362792969,990.4444444444443,1000.0,1000.0],[509.4748229980469,992.032786885246,1000.0,1000.0],[1027.81201171875,1000.0,1000.0,1000.0],[874.6234130859375,1000.0,1000.0,1000.0],[661.0255737304688,1000.0,1000.0,1000.0],[703.5906982421875,999.5822784810126,1000.0,1000.0],[493.1570739746094,1000.0,839.8115942028985,1000.0],[350.5083923339844,998.7702702702704,508.2432432432432,1000.0],[846.3206176757812,870.3295454545455,720.1704545454545,1000.0],[1334.1431884765625,789.7721518987341,791.1181434599156,1000.0],[1001.982421875,811.5865384615385,947.8173076923076,1000.0],[1695.135009765625,935.9561403508771,1000.0,1000.0],[2128.39111328125,792.9418604651163,994.406976744186,1000.0],[2291.33447265625,855.4,856.475,1000.0],[2071.06298828125,999.7654320987656,567.320987654321,998.8641975308642],[962.532470703125,1000.0,826.8135593220339,1000.0],[1325.1063232421875,666.4306930693069,1000.0,654.9356435643564],[1915.4091796875,329.7837837837838,1000.0,389.1452702702703],[905.7172241210938,652.0952380952381,1000.0,789.1972789115646],[1066.2364501953125,390.8024691358025,1000.0,614.7530864197531],[1118.0311279296875,534.9548022598871,1000.0,435.6666666666667],[948.2640380859376,945.6195652173913,1000.0,769.4021739130435],[2258.08935546875,807.3095238095239,1000.0,549.447619047619],[2268.72412109375,309.00651465798046,1000.0,915.5179153094464],[886.1689453125,489.73015873015873,967.5238095238096,957.452380952381],[1116.36669921875,229.2111111111111,998.0,729.5444444444445],[666.0859375,418.625,1000.0,631.0],[5.568890571594238,1000.0,1000.0,1000.0],[1208.0611572265625,1000.0,1000.0,1000.0],[903.6715698242188,1000.0,1000.0,1000.0],[458.4444274902344,1000.0,1000.0,1000.0],[321.9373474121094,1000.0,1000.0,1000.0],[257.7934265136719,1000.0,1000.0,1000.0],[275.13018798828125,1000.0,1000.0,1000.0],[441.0778198242188,1000.0,1000.0,1000.0],[334.2926330566406,1000.0,1000.0,1000.0],[413.0744934082031,1000.0,1000.0,1000.0],[406.3038024902344,1000.0,1000.0,1000.0],[339.1981201171875,1000.0,1000.0,1000.0],[769.8845825195312,887.6768292682926,1000.0,1000.0],[1184.5262451171875,540.3881578947369,999.7236842105264,1000.0],[1003.3912353515624,578.7548387096774,976.2967741935483,1000.0],[724.3798828125,959.1843575418994,916.6648044692736,1000.0],[911.1107788085938,1000.0,1000.0,1000.0],[932.3204956054688,1000.0,1000.0,1000.0],[1069.5045166015625,1000.0,1000.0,1000.0],[1130.451416015625,901.6093023255814,1000.0,1000.0],[1301.2750244140625,377.1898734177215,1000.0,1000.0],[1493.772216796875,851.8031088082902,792.1813471502591,936.5647668393782],[2217.25439453125,971.1711026615968,689.5817490494296,502.277566539924],[1789.8487548828125,967.2111111111112,916.3166666666668,661.3388888888888],[1176.073974609375,895.59477124183,1000.0,927.5490196078432],[1063.74951171875,541.2624113475177,1000.0,736.6524822695036],[1219.770263671875,867.625,1000.0,939.075],[830.3035278320312,508.9518072289157,1000.0,927.1807228915662],[1420.3134765625,332.18110236220474,1000.0,865.1574803149606],[1388.8892822265625,924.2268907563024,1000.0,975.1050420168068],[2134.84375,901.2378048780488,1000.0,997.3963414634146],[1912.821044921875,439.45454545454544,1000.0,986.7412587412588],[1343.95703125,507.86206896551727,1000.0,662.5655172413793],[783.6709594726562,337.9795918367347,1000.0,244.56462585034012],[28.78954315185547,1000.0,1000.0,1000.0],[269.4715270996094,446.28125,1000.0,1000.0],[159.05494689941406,1000.0,1000.0,1000.0],[361.65380859375,1000.0,1000.0,1000.0],[543.6597290039062,995.7413793103448,1000.0,1000.0],[797.6159057617188,881.7131147540983,921.8360655737704,953.938524590164],[807.8106079101562,725.5071174377224,714.2277580071175,913.9199288256228],[508.1194458007813,906.2213740458016,892.4198473282443,978.0992366412214],[591.5426635742188,835.7639751552795,999.55900621118,1000.0],[662.9345092773438,541.6401673640167,977.0878661087866,1000.0],[499.27435302734375,880.95,924.9777777777778,1000.0],[456.5343017578125,1000.0,965.936936936937,1000.0],[1056.9776611328125,1000.0,1000.0,1000.0],[1171.90234375,1000.0,995.1205673758864,1000.0],[1266.5552978515625,1000.0,767.9822485207101,1000.0],[1087.2318115234375,998.808510638298,619.3829787234042,1000.0],[1154.980712890625,1000.0,946.5299145299144,1000.0],[1087.2086181640625,1000.0,1000.0,1000.0],[1247.568359375,1000.0,1000.0,1000.0],[1138.6053466796875,989.2014925373136,1000.0,1000.0],[2103.65771484375,973.8980582524272,1000.0,1000.0],[2210.61181640625,997.4507772020726,1000.0,997.3937823834196],[1350.652587890625,821.9553571428571,1000.0,1000.0],[2383.584228515625,512.2738853503184,1000.0,1000.0],[2602.77392578125,504.3976608187135,999.7017543859648,1000.0],[2411.49462890625,787.6324786324786,989.957264957265,1000.0],[2016.877197265625,966.2638888888888,971.7361111111112,1000.0],[2015.9080810546875,1000.0,999.7642857142856,827.5428571428571],[1777.3438720703125,998.4262295081968,1000.0,354.59016393442624],[1555.393798828125,890.4829931972789,1000.0,589.5714285714286],[1452.4632568359375,685.9607843137255,1000.0,946.0980392156864],[2492.114013671875,381.6526946107784,1000.0,584.3173652694611],[2301.34912109375,194.11522633744852,1000.0,351.50205761316874],[257.7029113769531,548.695652173913,1000.0,525.3478260869565],[297.6363220214844,1000.0,1000.0,1000.0],[394.9732055664063,1000.0,1000.0,1000.0],[763.41552734375,652.18,1000.0,1000.0],[1457.904052734375,450.2911392405063,1000.0,960.8987341772151],[1392.428466796875,549.2894736842105,837.1052631578947,426.5157894736842],[1020.3494262695312,215.4779582366589,474.55916473317865,319.292343387471],[850.6692504882812,610.2426035502958,808.3491124260355,840.7455621301775],[761.5850219726562,638.5555555555555,962.029239766082,1000.0],[1175.7545166015625,466.14,870.705,1000.0],[859.2521362304688,839.4826086956522,473.05652173913046,1000.0],[904.3678588867188,997.9577464788732,447.3309859154929,1000.0],[1121.5174560546875,1000.0,978.03738317757,985.1822429906542],[1358.399658203125,999.9647577092512,999.8766519823788,999.5110132158592],[1326.5462646484375,812.7960784313725,763.2156862745098,1000.0],[1369.7177734375,453.7392996108949,431.5369649805447,1000.0],[1434.376953125,668.9495268138801,768.97476340694,1000.0],[1637.0318603515625,963.6930693069309,998.9108910891088,1000.0],[2071.39599609375,982.0769230769232,996.6923076923076,1000.0],[2316.32763671875,634.0217391304348,908.054347826087,1000.0],[2185.2333984375,448.2340425531915,971.2382978723404,999.931914893617],[1157.9141845703125,991.7814569536424,999.2913907284768,1000.0],[1287.0625,903.6046511627908,1000.0,1000.0],[2347.09228515625,517.1470588235294,1000.0,1000.0],[2578.859375,551.3737373737374,947.1515151515152,998.10101010101],[1985.727783203125,269.0625,521.125,923.7125],[2304.33935546875,220.53424657534248,210.4931506849315,653.7260273972603],[1239.468505859375,889.9753086419753,818.104938271605,971.5185185185184],[2054.177001953125,885.8428571428572,894.6857142857143,992.2142857142856],[1844.678955078125,310.0460251046025,947.8326359832636,995.4937238493724],[1273.0682373046875,387.67539267015707,992.82722513089,1000.0],[1620.2432861328125,385.3361344537816,1000.0,965.0252100840336],[3205.658203125,223.6355421686747,1000.0,610.7409638554217],[431.7415466308594,444.483870967742,1000.0,591.0483870967741],[102.97657775878906,1000.0,1000.0,1000.0],[449.8934020996094,1000.0,1000.0,1000.0],[728.79736328125,884.3307692307692,1000.0,1000.0],[1179.1097412109375,762.4464285714286,952.5178571428572,981.4464285714286],[1468.0751953125,968.6574074074074,350.3981481481481,451.3842592592592],[1178.45166015625,960.1948529411764,506.0992647058824,435.46691176470586],[750.0337524414062,841.7671957671957,939.0899470899471,896.6825396825396],[509.14794921875,464.1885245901639,1000.0,995.2622950819672],[645.091064453125,302.9911504424779,1000.0,995.3982300884956],[1096.145263671875,795.4060606060606,992.0242424242424,1000.0],[1154.878662109375,996.991341991342,997.017316017316,999.8138528138528],[1128.67626953125,1000.0,1000.0,542.5061728395061],[1166.5802001953125,1000.0,1000.0,674.0735294117648],[970.56591796875,910.6940298507462,907.7462686567164,970.3507462686568],[1275.12060546875,463.2341040462428,625.1849710982659,1000.0],[1392.55419921875,346.41333333333336,833.6533333333333,1000.0],[1154.7099609375,472.3520408163265,999.591836734694,1000.0],[2070.95849609375,955.6299212598424,786.5511811023622,998.2519685039372],[2188.310302734375,919.8070175438596,347.6842105263158,903.7134502923976],[1481.9102783203125,916.9702970297028,685.4207920792079,445.53465346534654],[3255.570556640625,993.2032085561498,528.6310160427807,665.4491978609626],[1256.404541015625,1000.0,735.0851063829788,944.1063829787234],[953.1943359375,973.7428571428572,987.0857142857144,982.7142857142856],[1046.6146240234375,986.8450704225352,993.0140845070424,913.7323943661972],[594.9564208984375,660.5098039215686,714.0196078431372,636.3333333333334],[2345.13037109375,300.1892744479495,420.29337539432174,419.89274447949526],[3236.043701171875,542.6309523809524,484.9880952380952,654.4583333333334],[2681.715087890625,955.6697674418604,325.98604651162793,980.6511627906976],[2516.958251953125,844.3426966292135,404.6629213483146,901.556179775281],[1544.3955078125,918.636678200692,617.840830449827,917.9377162629758],[960.9454956054688,855.0166666666667,924.3416666666668,955.7083333333334],[2334.63427734375,461.738219895288,872.9057591623036,527.2408376963351],[344.29278564453125,454.483870967742,935.0645161290324,255.2258064516129],[145.86782836914062,578.45,1000.0,959.15],[411.2742614746094,967.5,1000.0,1000.0],[157.43890380859375,1000.0,1000.0,1000.0],[1.4975590705871582,1000.0,1000.0,1000.0],[30.094486236572266,1000.0,1000.0,1000.0],[105.34231567382812,1000.0,1000.0,1000.0],[254.91514587402344,1000.0,1000.0,1000.0],[464.83636474609375,1000.0,999.989247311828,1000.0],[892.664794921875,1000.0,831.1052631578947,853.0723684210526],[813.4213256835938,1000.0,839.1435185185185,761.8472222222222],[346.612548828125,1000.0,1000.0,866.0769230769231],[374.9263000488281,1000.0,1000.0,520.9347826086956],[744.67138671875,1000.0,1000.0,669.2211538461538],[964.3367309570312,1000.0,1000.0,987.9479166666666],[750.5230102539062,1000.0,1000.0,1000.0],[888.4503784179688,1000.0,1000.0,942.5480769230768],[1238.1490478515625,1000.0,1000.0,976.259493670886],[943.46875,1000.0,1000.0,1000.0],[1123.931396484375,985.5774647887324,1000.0,1000.0],[1095.267822265625,997.8860759493672,1000.0,1000.0],[1095.1357421875,956.6447368421052,1000.0,1000.0],[1769.727294921875,638.2722222222222,788.1166666666667,843.2111111111111],[2931.2763671875,320.0872093023256,389.5174418604651,412.3662790697674],[2868.58154296875,464.84722222222223,376.9537037037037,455.4212962962963],[1810.3560791015625,835.7407407407408,494.3796296296296,426.6851851851852],[1141.7384033203125,757.3809523809524,655.4285714285714,620.2857142857143],[1084.0523681640625,992.6543209876544,904.320987654321,382.1604938271605],[2367.302978515625,953.8962264150944,587.1132075471698,644.4716981132076],[2576.817626953125,556.9760479041917,357.07784431137725,823.7125748502993],[3971.543212890625,372.5297619047619,443.23511904761904,414.0744047619048],[5890.60302734375,426.9161849710983,378.8872832369942,520.5404624277456],[2299.945556640625,855.7045454545455,704.4090909090909,587.4909090909091],[2886.287841796875,529.63179916318,850.0292887029289,662.4728033472803],[7220.77685546875,381.1301587301587,560.2952380952381,322.7269841269841],[9366.7783203125,232.72727272727272,274.989898989899,593.7474747474747],[6249.67333984375,203.45,230.9392857142857,774.4428571428572],[3986.476318359375,321.8924050632912,682.0886075949367,521.0],[1817.12646484375,281.5877192982456,502.50877192982455,951.342105263158],[393.3439025878906,842.6451612903226,910.3870967741937,1000.0],[136.8335418701172,1000.0,1000.0,1000.0],[23.619129180908203,1000.0,1000.0,1000.0],[29.560535430908203,1000.0,1000.0,1000.0],[39.04072952270508,1000.0,1000.0,1000.0],[79.6169662475586,1000.0,1000.0,1000.0],[125.67707824707033,1000.0,1000.0,1000.0],[243.3203125,1000.0,1000.0,1000.0],[340.1456298828125,1000.0,1000.0,1000.0],[461.79339599609375,1000.0,1000.0,981.1],[539.2616577148438,1000.0,1000.0,996.1338582677164],[432.1566162109375,1000.0,1000.0,999.9753086419752],[461.18463134765625,1000.0,1000.0,1000.0],[576.2824096679688,1000.0,1000.0,1000.0],[612.8749389648438,1000.0,1000.0,1000.0],[1340.29638671875,1000.0,1000.0,1000.0],[1179.42578125,1000.0,1000.0,1000.0],[1013.9397583007812,1000.0,1000.0,1000.0],[1328.1441650390625,890.967032967033,1000.0,1000.0],[1515.6973876953125,539.056179775281,998.6629213483146,994.8314606741573],[2311.129150390625,460.9363636363637,920.1727272727272,941.9727272727272],[2614.81787109375,627.23,816.9,890.4],[2860.515869140625,562.6206896551724,389.6034482758621,596.8793103448276],[3112.829345703125,432.2589928057554,314.1726618705036,906.9496402877696],[2432.657958984375,798.8859060402684,556.2751677852349,946.255033557047],[2452.225341796875,778.4089635854342,805.3949579831933,645.8151260504202],[5798.49267578125,596.6455331412104,514.3976945244957,854.4783861671469],[8967.1328125,432.5290322580645,242.73548387096776,998.1032258064516],[11954.02734375,295.7857142857143,132.1768707482993,812.0612244897959],[18875.55859375,383.4458333333333,415.0875,510.775],[17316.5,322.1127819548872,421.890977443609,536.3308270676691],[4867.28369140625,679.088524590164,625.9409836065573,466.3967213114754],[2977.46044921875,272.30263157894734,287.2938596491228,186.98684210526315],[12250.2060546875,166.92523364485982,211.0841121495327,357.196261682243],[17540.103515625,230.2217194570136,308.6063348416289,382.1809954751132],[2773.459716796875,238.4275362318841,383.6159420289855,724.5326086956521],[155.46560668945312,636.9090909090909,230.1818181818182,732.5],[31.53146171569824,1000.0,1000.0,1000.0],[51.10757827758789,1000.0,1000.0,1000.0],[54.16431427001953,1000.0,1000.0,1000.0],[87.60303497314453,1000.0,1000.0,1000.0],[197.7284393310547,1000.0,1000.0,1000.0],[139.9778594970703,1000.0,1000.0,844.5],[102.70340728759766,1000.0,1000.0,827.2631578947369],[143.56048583984375,1000.0,1000.0,956.7307692307692],[242.12998962402344,1000.0,1000.0,1000.0],[298.5028991699219,1000.0,1000.0,1000.0],[413.9733581542969,1000.0,1000.0,1000.0],[662.4776000976562,1000.0,1000.0,1000.0],[1094.14990234375,1000.0,1000.0,1000.0],[1448.5086669921875,1000.0,1000.0,1000.0],[1391.3515625,1000.0,1000.0,1000.0],[1130.0401611328125,939.364640883978,1000.0,1000.0],[1280.4947509765625,564.8206896551724,1000.0,1000.0],[1168.168701171875,377.4907975460123,1000.0,1000.0],[2037.16259765625,541.6951219512196,973.719512195122,930.829268292683],[2870.203125,378.7067669172933,628.3233082706766,549.9924812030075],[3047.260498046875,365.9208633093525,501.8057553956834,650.8920863309353],[3057.7060546875,273.53072625698326,824.413407821229,924.536312849162],[3136.61865234375,345.0,980.0419161676648,997.497005988024],[3278.79296875,220.81132075471697,456.9433962264151,1000.0],[3829.858154296875,518.1361256544502,730.7591623036649,997.9214659685864],[8509.044921875,657.1415525114155,727.1735159817351,978.7214611872146],[11358.98046875,334.68,404.585,608.455],[12426.8994140625,219.12206572769952,183.3568075117371,288.1079812206573],[12974.9111328125,237.8360655737705,202.0204918032787,453.38524590163934],[9767.416015625,414.3844086021505,275.8037634408602,370.7930107526882],[6038.10302734375,190.78082191780825,497.722602739726,370.6232876712329],[8422.69921875,172.22304832713755,460.31226765799255,219.2007434944238],[8635.875,276.4494680851064,701.343085106383,283.3510638297872],[2288.375732421875,422.74725274725273,932.945054945055,250.21978021978023],[182.8451232910156,582.0,816.2727272727273,183.70454545454547],[723.6754150390625,408.34615384615387,243.28846153846155,505.9423076923077],[610.899169921875,556.6470588235294,698.5882352941177,836.5882352941177],[85.11027526855469,930.7142857142856,990.5714285714286,953.8571428571428],[56.9948844909668,1000.0,1000.0,1000.0],[199.17630004882807,1000.0,1000.0,1000.0],[284.4135437011719,1000.0,1000.0,1000.0],[223.60406494140625,1000.0,1000.0,1000.0],[115.90497589111328,1000.0,1000.0,998.4285714285714],[108.0781478881836,1000.0,1000.0,416.75],[319.3941955566406,1000.0,1000.0,435.4742268041237],[347.4877624511719,1000.0,1000.0,960.2553191489362],[444.8445739746094,1000.0,1000.0,1000.0],[414.38226318359375,1000.0,1000.0,1000.0],[331.060546875,1000.0,1000.0,1000.0],[235.6859588623047,1000.0,1000.0,1000.0],[364.4311218261719,1000.0,1000.0,1000.0],[533.1340942382812,998.8333333333334,1000.0,1000.0],[1196.0460205078125,736.3557046979865,1000.0,1000.0],[1830.31591796875,800.5277777777778,978.1805555555557,1000.0],[1535.593505859375,865.7508771929824,959.161403508772,1000.0],[1804.9942626953125,868.8617886178862,962.19918699187,994.5975609756098],[1099.5810546875,909.881188118812,914.8118811881188,784.3960396039604],[2958.419677734375,382.4746835443038,488.0822784810127,493.746835443038],[3801.3203125,293.8896103896104,259.3766233766234,464.448051948052],[4897.06591796875,475.6165803108808,472.4818652849741,442.8082901554404],[4838.23974609375,372.8,591.3230769230769,946.72],[4012.41064453125,549.3205128205128,688.2692307692307,728.2564102564103],[4588.166015625,398.96699669967,643.8349834983499,567.006600660066],[7157.70458984375,289.2621359223301,438.497572815534,460.9320388349514],[11117.03125,187.4683908045977,268.3333333333333,570.2902298850574],[10938.3203125,209.864406779661,182.8771186440678,522.5805084745763],[8523.8779296875,147.3593220338983,162.2135593220339,297.2949152542373],[7591.88916015625,156.367816091954,187.04597701149424,418.5229885057472],[6156.22998046875,227.12738853503183,192.78343949044583,270.9458598726115],[3479.35595703125,236.875,392.71153846153845,228.54166666666663],[6790.109375,165.26008968609867,309.8968609865471,424.7578475336323],[2070.75341796875,201.87012987012983,619.4112554112554,264.5844155844156],[376.8615417480469,334.63157894736844,671.8157894736842,424.5438596491228],[888.4359741210938,411.1099476439791,803.020942408377,694.3298429319372],[940.6228637695312,766.4021739130435,649.0217391304348,868.9130434782609],[484.9214477539063,889.8571428571429,1000.0,951.6428571428572],[97.8365249633789,1000.0,1000.0,1000.0],[114.92174530029295,1000.0,1000.0,1000.0],[342.70428466796875,1000.0,1000.0,1000.0],[506.2051696777344,1000.0,932.6168224299064,1000.0],[808.1044921875,1000.0,891.7149321266968,1000.0],[696.0924682617188,1000.0,376.4634146341463,1000.0],[361.7613220214844,1000.0,318.58048780487803,995.9219512195122],[669.6588134765625,1000.0,930.1538461538462,976.9059829059828],[925.2648315429688,1000.0,1000.0,1000.0],[854.4544067382812,998.8872180451128,1000.0,1000.0],[807.2987060546875,998.9148936170212,1000.0,1000.0],[853.297607421875,1000.0,999.9615384615385,1000.0],[895.159912109375,999.965811965812,1000.0,1000.0],[838.0204467773438,999.1192052980132,1000.0,1000.0],[528.0618286132812,888.7525773195877,980.0927835051548,978.8969072164948],[1117.5274658203125,524.7817679558011,500.27348066298345,939.03591160221],[1407.76416015625,590.5340314136125,677.6020942408377,1000.0],[2001.3011474609373,483.78,325.072,1000.0],[2139.445068359375,449.4931506849315,458.71232876712327,944.8264840182648],[1268.688720703125,811.032967032967,526.5384615384615,647.9065934065934],[1610.5400390625,872.8045977011494,526.9310344827586,451.6781609195402],[3600.3115234375,749.5681818181819,474.27272727272725,918.5909090909092],[3763.908203125,430.1009174311927,488.8302752293578,903.6926605504588],[6966.38037109375,308.74,282.604,997.348],[6801.3857421875,361.11538461538464,634.0683760683761,450.0341880341881],[5934.9521484375,279.3424657534247,232.2876712328767,360.9109589041096],[5714.77587890625,174.0859872611465,209.2420382165605,234.2675159235669],[9771.0341796875,181.37529137529137,181.08158508158508,233.997668997669],[10264.796875,265.5704387990762,277.7921478060046,461.7921478060046],[6821.009765625,160.33597883597884,265.45767195767195,666.2671957671957],[2869.0830078125,101.12890625,154.44921875,441.359375],[3166.744140625,92.52147239263805,121.3282208588957,221.5521472392638],[3530.028076171875,63.68954248366013,103.83986928104576,164.31045751633988],[3688.186767578125,129.8915254237288,149.59322033898306,235.4677966101695],[1511.360595703125,66.89873417721519,150.27426160337552,220.46413502109704],[1164.57421875,302.9626168224299,350.8940809968847,514.3426791277259],[528.3597412109375,670.1975308641976,913.604938271605,917.395061728395],[743.5765380859375,625.8461538461538,1000.0,1000.0],[395.4118347167969,1000.0,1000.0,1000.0],[487.5422058105469,1000.0,1000.0,1000.0],[18.70952033996582,1000.0,1000.0,1000.0],[328.4812927246094,1000.0,1000.0,1000.0],[855.2467651367188,942.5496688741722,880.2185430463576,1000.0],[1205.3699951171875,947.2908163265306,468.6530612244898,1000.0],[841.149658203125,994.374074074074,676.9148148148148,1000.0],[673.1876220703125,1000.0,773.5725388601036,1000.0],[901.0150146484376,1000.0,758.3052109181142,1000.0],[1073.687255859375,1000.0,968.7377777777778,1000.0],[1037.458251953125,845.0440677966102,870.5457627118644,1000.0],[1159.8177490234375,481.2334630350194,543.0817120622568,1000.0],[947.9212036132812,549.651376146789,727.6376146788991,1000.0],[974.5607299804688,644.5888888888888,623.4555555555555,1000.0],[938.0657348632812,463.0785340314136,936.5078534031412,1000.0],[1187.78955078125,430.5384615384616,1000.0,999.3296703296704],[702.0369873046875,732.6564417177914,911.2515337423312,766.2576687116565],[1284.8912353515625,366.7107438016529,583.4132231404959,761.5454545454545],[1326.84326171875,586.5611111111111,550.3055555555555,984.6111111111112],[1984.16015625,554.5177664974619,460.25888324873097,1000.0],[2282.78466796875,403.8267716535433,723.8110236220473,1000.0],[2288.056884765625,806.9111111111112,879.2333333333333,888.4],[1664.4482421875,799.7319587628866,855.5979381443299,440.7628865979381],[3434.10107421875,523.0243902439024,434.4634146341463,613.5243902439024],[3317.472900390625,731.9795918367347,539.9030612244898,980.4438775510204],[5469.2060546875,913.3678929765888,439.3210702341137,997.2541806020068],[3666.285888671875,533.3763440860215,462.5232974910394,359.93906810035844],[2195.896728515625,243.72093023255812,235.78405315614617,162.5548172757475],[1732.111572265625,195.3879310344828,333.9784482758621,285.3448275862069],[6562.04638671875,241.12383900928796,252.58823529411765,392.6934984520124],[13227.7578125,143.14150943396226,203.18553459119497,496.9937106918239],[13222.109375,83.6195652173913,86.8840579710145,264.77536231884056],[4104.78759765625,70.63271604938272,103.80555555555556,190.20987654320987],[2453.778564453125,147.3988764044944,126.34831460674155,221.9943820224719],[3456.030517578125,140.1658415841584,289.66089108910893,313.9207920792079],[6053.97900390625,222.3918918918919,366.32094594594594,412.84797297297297],[4575.705078125,152.0568181818182,254.4886363636364,332.0568181818182],[1530.306396484375,325.15210355987057,332.8446601941748,530.0809061488674],[1485.899658203125,344.68,395.344,836.184],[1791.4500732421875,725.0347826086957,724.3304347826087,884.4782608695652],[1572.1142578125,762.280701754386,905.4561403508771,919.40350877193],[199.53744506835932,989.3023255813954,997.3488372093024,994.093023255814],[405.0318908691406,917.8888888888888,1000.0,1000.0],[987.186767578125,523.7735849056604,1000.0,1000.0],[1651.1959228515625,367.7201834862385,970.288990825688,1000.0],[1208.8865966796875,842.9625,987.83125,1000.0],[1948.4017333984373,1000.0,812.2916666666666,1000.0],[1813.265625,1000.0,883.6859504132232,1000.0],[1763.674072265625,1000.0,1000.0,1000.0],[1504.1817626953125,952.5625,893.3680555555555,1000.0],[1665.562255859375,676.1304347826087,572.8478260869565,1000.0],[1693.57763671875,395.9145728643216,795.7839195979899,1000.0],[1362.67431640625,334.23628691983123,773.1350210970464,1000.0],[974.4502563476562,696.2407407407408,953.6111111111112,1000.0],[1220.895263671875,842.8378378378378,1000.0,1000.0],[779.9995727539062,809.8370786516854,923.0898876404494,1000.0],[1045.27880859375,457.3533834586466,570.7406015037594,999.8383458646616],[1069.4935302734375,672.0198675496689,685.294701986755,1000.0],[1086.2279052734375,944.6630434782608,940.0271739130436,1000.0],[1542.7559814453125,886.440366972477,998.6880733944954,944.6880733944954],[2053.453125,300.2,778.08,383.4066666666667],[1943.828857421875,321.1375,525.6,353.2625],[2453.135498046875,371.5616438356165,423.5958904109589,672.8424657534247],[2770.138916015625,800.3783783783783,902.7905405405404,985.3513513513514],[4050.15966796875,991.4754098360656,991.7814207650272,999.2841530054644],[6403.283203125,516.0568181818181,572.4204545454545,500.9962121212121],[5870.5908203125,213.95757575757577,204.5818181818182,338.630303030303],[2193.057861328125,646.7,488.9263157894737,709.1947368421053],[3209.3037109375,739.3461538461538,491.1181318681319,682.6620879120879],[5063.4208984375,300.8829787234043,166.0,465.75],[4237.4541015625,565.9767441860465,512.8023255813954,757.8720930232558],[1867.2786865234373,258.7010676156584,549.8612099644129,590.2206405693951],[3800.131103515625,308.5763358778626,770.0,563.6106870229007],[6365.18408203125,233.11764705882356,465.55555555555554,364.8169934640523],[8520.26171875,458.636655948553,345.9614147909968,630.3215434083602],[8382.80078125,342.4642857142857,244.6887755102041,583.280612244898],[9661.013671875,288.3274336283186,176.53687315634218,535.7787610619469],[8618.115234375,346.0643274853801,183.5672514619883,384.0058479532164],[6081.60986328125,319.7878787878788,411.2255892255892,294.07744107744105],[3838.06396484375,220.48387096774192,487.6715542521994,405.266862170088],[453.7002868652344,282.1290322580645,890.258064516129,214.38709677419357],[658.2334594726562,1000.0,1000.0,1000.0],[354.9335021972656,922.44,1000.0,1000.0],[840.9107666015625,864.6506849315068,1000.0,1000.0],[1186.5716552734375,987.8728323699422,976.121387283237,999.7630057803468],[2110.63916015625,1000.0,675.4577259475219,1000.0],[2131.015625,1000.0,736.5112540192926,1000.0],[1252.11767578125,1000.0,992.7608695652174,1000.0],[757.5952758789062,1000.0,1000.0,1000.0],[599.6610717773438,1000.0,1000.0,1000.0],[815.6505737304688,1000.0,1000.0,1000.0],[529.141357421875,994.3807531380752,1000.0,1000.0],[535.3505859375,1000.0,826.0884353741496,1000.0],[766.9000244140625,1000.0,356.4318181818182,1000.0],[840.10107421875,951.51,983.62,1000.0],[487.3905029296875,448.3968253968254,1000.0,1000.0],[459.0769348144531,444.1980198019802,1000.0,1000.0],[524.2965087890625,912.2615384615384,1000.0,999.3384615384616],[1620.9033203125,935.724770642202,904.4678899082568,866.4495412844037],[2152.734375,505.591439688716,431.3968871595331,388.2723735408561],[2040.3465576171875,618.6227106227107,346.4835164835165,611.6593406593406],[2142.224365234375,831.0060240963855,838.1084337349398,815.6686746987951],[2604.52294921875,750.0208333333334,723.6979166666666,999.0729166666666],[3418.519287109375,397.2475570032573,461.3583061889251,1000.0],[4713.13037109375,565.2714776632303,889.8041237113403,961.4604810996564],[4599.0537109375,305.64864864864865,892.1675675675675,907.5837837837838],[2558.42822265625,730.9516908212561,738.0144927536232,986.9082125603863],[3588.1904296875,351.7747747747748,337.1981981981982,975.626126126126],[3915.948974609375,458.92712550607285,411.502024291498,941.6113360323886],[2503.3251953125,568.0689655172414,377.4670846394984,960.9561128526644],[1302.745849609375,675.1621621621622,860.8288288288288,1000.0],[2081.22119140625,553.7540983606557,1000.0,998.672131147541],[188.5145263671875,955.0714285714286,950.9285714285714,1000.0],[1381.4981689453125,497.4166666666667,319.4423076923077,877.7051282051282],[4199.36962890625,511.73413897280966,439.74018126888217,412.5105740181269],[4681.4755859375,430.6009174311927,579.8394495412844,379.79816513761466],[6884.72705078125,289.6983240223464,338.6256983240223,420.7206703910615],[4696.9130859375,589.7939393939394,540.0484848484848,174.24545454545455],[3391.10888671875,713.0930232558139,964.6434108527131,593.1782945736434],[1672.4537353515625,694.4567901234568,987.0493827160494,364.4506172839506],[54.611934661865234,924.3275862068964,466.3103448275862,229.20689655172413],[615.1962890625,1000.0,1000.0,1000.0],[608.1469116210938,1000.0,1000.0,1000.0],[304.78485107421875,955.5142857142856,1000.0,939.3714285714286],[373.8807067871094,749.6444444444444,1000.0,771.5777777777778],[1506.806884765625,641.7522123893805,1000.0,675.5929203539823],[1975.379638671875,864.2115384615385,1000.0,892.0064102564103],[1836.2213134765625,997.5284552845528,1000.0,998.9837398373984],[869.2042846679688,1000.0,1000.0,1000.0],[536.9169311523438,1000.0,1000.0,1000.0],[453.3005065917969,1000.0,1000.0,1000.0],[334.54669189453125,1000.0,998.2706766917294,1000.0],[407.5481567382813,1000.0,581.9128205128205,1000.0],[320.87701416015625,1000.0,233.73684210526315,1000.0],[324.1278381347656,995.9,901.48,998.26],[256.53985595703125,966.0454545454544,1000.0,1000.0],[488.6263732910156,986.9897959183672,1000.0,1000.0],[539.0639038085938,625.6458333333334,928.3541666666666,998.2291666666666],[1549.3131103515625,560.95,717.8,840.7333333333333],[1897.21142578125,921.3218997361478,637.8601583113457,446.9393139841689],[2342.3564453125,966.5030674846626,714.2085889570552,771.5092024539878],[2070.153076171875,999.855421686747,949.843373493976,1000.0],[1706.6356201171875,975.3333333333334,947.2716049382716,1000.0],[1899.1395263671875,900.7873563218392,882.6551724137931,1000.0],[1257.0758056640625,745.0652173913044,974.891304347826,889.6739130434783],[1312.7830810546875,915.5522388059702,978.4179104477612,516.0],[3050.063720703125,939.6954022988506,765.9022988505748,666.2758620689655],[4172.16552734375,680.6424581005587,487.2960893854749,993.2346368715084],[2936.73779296875,342.325,534.625,771.915],[1389.8812255859375,375.1136950904393,580.9638242894057,437.80878552971575],[601.6731567382812,1000.0,1000.0,935.561797752809],[316.4658203125,1000.0,1000.0,998.1538461538462],[348.10894775390625,829.3333333333334,829.3333333333334,900.9090909090908],[1811.1142578125,973.051724137931,860.5948275862069,655.7844827586207],[3054.178466796875,968.4097222222222,929.1180555555557,419.13194444444446],[2347.386474609375,978.5454545454544,993.1188811188812,735.027972027972],[3481.22509765625,485.91472868217056,544.2403100775193,553.4806201550388],[3152.9375,518.9032258064516,548.483870967742,583.991935483871],[2500.976806640625,659.0298507462686,946.2014925373136,710.0895522388059],[1445.082763671875,448.8416149068323,1000.0,432.8229813664596],[393.836669921875,568.3714285714286,933.7714285714286,345.01428571428573],[72.03666687011719,877.3571428571429,895.8928571428571,840.0714285714286],[397.02880859375,1000.0,1000.0,1000.0],[341.84332275390625,1000.0,1000.0,1000.0],[259.8892822265625,1000.0,1000.0,1000.0],[226.6770782470703,1000.0,1000.0,1000.0],[409.5839538574219,1000.0,1000.0,1000.0],[848.7025756835938,1000.0,1000.0,1000.0],[538.9915161132812,1000.0,1000.0,1000.0],[299.2066345214844,1000.0,1000.0,1000.0],[220.0100860595703,1000.0,1000.0,1000.0],[242.74752807617188,1000.0,1000.0,1000.0],[219.45529174804688,1000.0,1000.0,1000.0],[154.9054412841797,999.219512195122,1000.0,803.5365853658536],[152.5998992919922,1000.0,1000.0,399.2903225806452],[175.99984741210938,1000.0,1000.0,734.7916666666666],[109.38897705078124,1000.0,1000.0,1000.0],[298.1039123535156,1000.0,1000.0,1000.0],[290.5434875488281,1000.0,964.8571428571428,1000.0],[696.268798828125,1000.0,999.3150684931506,1000.0],[1671.081298828125,852.4285714285714,823.1848739495798,1000.0],[2169.382568359375,305.2345679012346,233.3827160493827,1000.0],[2076.303466796875,597.6071428571429,606.6785714285714,993.3928571428572],[1899.426513671875,662.9659863945578,975.8843537414966,735.6802721088435],[859.9541625976562,996.4315789473684,1000.0,646.7473684210527],[465.4363098144531,1000.0,1000.0,984.6363636363636],[314.0418395996094,1000.0,1000.0,1000.0],[529.59228515625,980.2413793103448,1000.0,1000.0],[941.8035888671876,623.84,1000.0,1000.0],[872.8312377929688,416.5897435897436,1000.0,999.9230769230768],[667.3911743164062,1000.0,1000.0,1000.0],[200.9263916015625,896.6875,896.6875,1000.0],[422.76800537109375,364.6666666666667,391.4,902.8888888888888],[1834.9425048828125,254.63478260869564,357.9391304347826,594.9391304347826],[3013.868896484375,439.9188034188034,576.1538461538462,373.4145299145299],[2184.774169921875,774.8478260869565,709.6521739130435,916.141304347826],[1842.617431640625,918.4627659574468,373.3244680851064,997.191489361702],[2123.94580078125,999.3255813953488,913.484496124031,1000.0],[2744.63134765625,894.0,664.0408163265306,997.8707482993198],[1981.056884765625,579.5327102803739,854.1028037383178,999.7383177570092],[1325.2542724609375,314.5190615835777,998.818181818182,1000.0],[1048.37841796875,325.3488372093023,838.2558139534884,991.6744186046512],[682.2017822265625,457.1216216216216,322.5472972972973,987.9932432432432],[121.8229751586914,472.0,575.0,1000.0],[49.74812698364258,1000.0,1000.0,1000.0],[2.993978977203369,1000.0,1000.0,1000.0],[130.9564666748047,1000.0,1000.0,1000.0],[287.9515686035156,1000.0,1000.0,1000.0],[201.440658569336,1000.0,1000.0,1000.0],[170.5477752685547,1000.0,1000.0,1000.0],[212.0084686279297,1000.0,1000.0,1000.0],[443.1790771484375,1000.0,1000.0,1000.0],[950.6054077148438,1000.0,1000.0,1000.0],[1087.053955078125,867.4784688995215,1000.0,1000.0],[1202.035888671875,591.7918781725888,1000.0,1000.0],[1019.9700927734376,756.9123505976096,1000.0,1000.0],[1085.6632080078125,991.3571428571428,1000.0,1000.0],[950.181396484375,419.7921348314607,1000.0,962.376404494382],[1006.1640014648438,716.8910256410256,1000.0,685.4487179487179],[1050.0799560546875,991.4910714285714,1000.0,656.8660714285714],[375.1736755371094,1000.0,1000.0,1000.0],[391.5101623535156,1000.0,761.7392739273928,1000.0],[571.097900390625,1000.0,425.21238938053096,1000.0],[643.5965576171875,1000.0,531.5510204081633,1000.0],[1358.4078369140625,978.7881355932204,798.4915254237288,1000.0],[2040.8609619140625,534.5104895104895,480.3496503496504,1000.0],[2008.16455078125,276.1709401709402,580.3376068376068,989.7777777777778],[1354.5479736328125,344.19736842105266,983.1184210526316,871.7763157894736],[312.4681396484375,639.1794871794872,1000.0,510.6666666666667],[159.16534423828125,1000.0,1000.0,1000.0],[528.700927734375,1000.0,1000.0,1000.0],[421.9629211425781,1000.0,1000.0,871.0],[285.25994873046875,1000.0,1000.0,1000.0],[244.5179443359375,955.7142857142856,999.8571428571428,1000.0],[902.189208984375,674.2272727272727,376.6545454545454,1000.0],[2549.021240234375,273.6487603305785,531.3305785123966,958.4876033057852],[3041.896484375,595.1925925925926,581.5925925925926,698.5333333333333],[985.7077026367188,740.4,683.0090909090909,596.5545454545454],[819.7108764648438,346.6904761904762,394.57142857142856,976.2589285714286],[661.4312133789062,904.2535211267606,875.2183098591549,1000.0],[1517.73193359375,391.7415730337079,464.123595505618,1000.0],[1306.7691650390625,534.1375,781.1,998.225],[1043.5325927734375,469.9193548387097,865.3870967741935,898.0860215053764],[1465.4755859375,619.8486842105264,331.3881578947368,528.8947368421053],[1613.8875732421875,809.9137931034483,319.4439655172414,393.375],[590.4903564453125,840.8148148148148,712.8333333333334,775.4444444444445],[184.21327209472656,1000.0,996.2533333333332,1000.0],[124.4211883544922,1000.0,1000.0,1000.0],[807.5810546875,1000.0,1000.0,1000.0],[1457.975830078125,1000.0,1000.0,1000.0],[1060.6190185546875,1000.0,1000.0,1000.0],[795.6942749023438,981.4054054054054,972.6846846846848,975.1981981981982],[876.1971435546875,887.3501945525292,863.7821011673152,870.2295719844358],[704.1091918945312,868.5787234042554,758.4936170212766,805.0297872340426],[755.19580078125,993.7033898305084,665.728813559322,766.1949152542373],[1679.3887939453125,894.9810126582279,988.8987341772151,985.1582278481012],[1986.083984375,344.20714285714286,1000.0,995.4535714285714],[1793.58251953125,497.4746543778802,1000.0,925.8617511520736],[1669.2286376953125,918.1217391304348,1008.695652173913,916.9130434782608],[1627.8677978515625,641.8768656716418,1000.0,736.1305970149253],[1895.3612060546875,832.1517857142857,1000.0,294.2544642857143],[1853.0706787109373,977.2310606060606,1000.0,506.405303030303],[1193.6971435546875,1000.0,1000.0,850.723880597015],[353.6958312988281,1000.0,827.9591836734694,1000.0],[528.5020751953125,1000.0,797.3263157894737,1000.0],[634.3280639648438,1000.0,863.030612244898,1000.0],[667.3992309570312,999.9659090909092,935.0113636363636,1000.0],[1399.4425048828125,907.6639344262296,915.9590163934428,1000.0],[1227.821533203125,814.5504587155963,950.908256880734,1000.0],[452.861328125,743.3333333333334,1000.0,1000.0],[122.70208740234376,1000.0,1000.0,1000.0],[460.2005615234375,1000.0,1000.0,895.3461538461538],[152.26686096191406,1000.0,1000.0,107.66666666666669],[92.96446228027344,1000.0,1000.0,1000.0],[96.92726135253906,1000.0,1000.0,920.0],[211.6236114501953,1000.0,951.2857142857144,1000.0],[509.6600646972656,989.3254437869824,618.2485207100592,1000.0],[1339.9697265625,937.344537815126,666.1932773109244,999.1764705882352],[1847.0802001953125,997.0839694656488,1000.0,951.5419847328244],[1348.003173828125,881.2,999.2,923.557894736842],[1445.69482421875,606.2345679012345,967.2592592592592,1000.0],[490.6397399902344,827.2374100719425,1000.0,1000.0],[521.04345703125,495.76666666666665,1000.0,986.9777777777778],[528.7855834960938,544.6736842105263,999.8947368421052,854.4631578947368],[240.3502960205078,993.1428571428572,1000.0,843.9206349206349],[291.4589538574219,1000.0,1000.0,1000.0],[360.705078125,956.9090909090908,1000.0,917.2727272727273],[173.48434448242188,995.8571428571428,1000.0,983.4285714285714],[263.1422424316406,1000.0,1000.0,1000.0],[223.9626617431641,1000.0,1000.0,1000.0],[606.2503051757812,1000.0,1000.0,1000.0],[736.3074340820312,1000.0,1000.0,1000.0],[1013.7757568359376,1000.0,892.7944444444445,1000.0],[1227.178466796875,937.7927215189874,528.6408227848101,944.1693037974684],[1578.2691650390625,495.5220994475138,383.121546961326,505.0386740331492],[1295.1644287109375,596.4083129584352,315.3007334963325,476.2078239608802],[601.7595825195312,959.1304347826087,348.39130434782606,348.8260869565217],[257.5632019042969,1000.0,987.7692307692308,410.4230769230769],[533.3353271484375,638.8131868131868,1000.0,939.2307692307692],[425.4725646972656,278.3636363636364,1000.0,274.6515151515151],[203.78823852539065,365.8918918918919,1000.0,205.13513513513516],[148.76905822753906,910.375,1000.0,238.25],[173.55511474609375,1000.0,1000.0,144.6],[240.07388305664065,1000.0,1000.0,234.2],[370.65960693359375,1000.0,1000.0,813.0833333333334],[446.4666748046875,1000.0,1000.0,967.865168539326],[623.0398559570312,1000.0,1000.0,1000.0],[632.9165649414062,1000.0,1000.0,1000.0],[926.4417114257812,1000.0,1000.0,1000.0],[1009.7705078125,1000.0,1000.0,1000.0],[952.064453125,1000.0,1000.0,1000.0],[387.7154235839844,1000.0,1000.0,1000.0],[116.6545639038086,1000.0,1000.0,1000.0],[88.65038299560547,1000.0,1000.0,1000.0],[108.94266510009766,1000.0,1000.0,1000.0],[64.64034271240234,1000.0,1000.0,1000.0],[44.12084579467773,1000.0,1000.0,1000.0],[41.65827560424805,1000.0,1000.0,947.0],[47.52221298217773,1000.0,1000.0,1000.0],[72.51296997070312,1000.0,1000.0,1000.0],[144.95750427246094,1000.0,1000.0,1000.0],[561.067626953125,970.8411214953272,988.429906542056,1000.0],[1159.6585693359375,867.8602150537635,927.978494623656,1000.0],[802.7286987304688,978.2093023255812,999.8023255813954,1000.0],[701.9442138671875,1000.0,1000.0,1000.0],[560.9107666015625,1000.0,1000.0,1000.0],[274.2564697265625,987.5641025641024,1000.0,936.1282051282052],[272.0621643066406,1000.0,1000.0,347.7906976744186],[161.59548950195312,1000.0,1000.0,745.0],[130.64236450195312,1000.0,1000.0,1000.0],[145.6709442138672,1000.0,1000.0,1000.0],[176.2481689453125,1000.0,1000.0,1000.0],[129.29779052734375,1000.0,1000.0,1000.0],[154.14703369140625,1000.0,1000.0,1000.0],[1039.400146484375,997.7307692307692,976.296153846154,898.2384615384616],[1030.752197265625,862.5093167701864,999.832298136646,637.2608695652174],[636.7994384765625,851.3507109004739,998.4123222748816,867.1895734597157],[599.7838745117188,961.1739130434784,889.8913043478261,992.018115942029],[776.2791748046875,968.9767441860464,934.968992248062,988.1937984496124],[500.17138671875,997.033613445378,885.781512605042,986.5882352941176],[169.51373291015625,1000.0,933.7142857142856,702.8571428571429],[133.58396911621094,944.9230769230768,1000.0,243.23076923076923],[205.2762756347656,702.3125,1000.0,320.8625],[90.02790069580078,509.0,1000.0,615.75],[11.69416618347168,1000.0,1000.0,1000.0],[19.07416725158692,1000.0,1000.0,1000.0],[113.70327758789062,1000.0,1000.0,1000.0],[209.4113922119141,1000.0,1000.0,1000.0],[210.3256225585937,1000.0,1000.0,1000.0],[331.7444763183594,1000.0,1000.0,1000.0],[542.012451171875,1000.0,1000.0,1000.0],[637.8970336914062,1000.0,1000.0,1000.0],[154.63841247558594,1000.0,1000.0,1000.0],[69.13963317871094,1000.0,1000.0,1000.0],[45.97349166870117,1000.0,1000.0,1000.0],[46.72726821899414,1000.0,1000.0,1000.0],[35.298919677734375,1000.0,1000.0,1000.0],[38.90097427368164,1000.0,1000.0,1000.0],[60.2628288269043,1000.0,1000.0,880.5],[44.94264221191406,1000.0,1000.0,1000.0],[117.92335510253906,1000.0,1000.0,1000.0],[655.8869018554688,681.1184210526316,695.2763157894736,1000.0],[928.2647705078124,325.8989898989899,335.5757575757576,1000.0],[411.1160583496094,755.1066666666667,808.4,1000.0],[192.624252319336,986.8461538461538,986.6538461538462,1000.0],[123.1965560913086,1000.0,1000.0,1000.0],[160.2586669921875,1000.0,1000.0,1000.0],[158.27833557128906,1000.0,1000.0,1000.0],[274.1124267578125,1000.0,1000.0,1000.0],[175.53521728515625,1000.0,1000.0,1000.0],[300.465087890625,1000.0,989.8235294117648,1000.0],[990.6219482421876,998.5754716981132,880.6509433962265,999.933962264151],[450.5507507324219,928.561403508772,999.140350877193,981.877192982456],[11.513407707214355,1000.0,1000.0,1000.0],[1261.388671875,980.2175572519084,455.7671755725191,629.175572519084],[1293.6033935546875,711.2028985507246,950.6770186335405,499.7536231884058],[826.01904296875,603.5009487666034,1000.0,726.920303605313],[554.1541137695312,573.5727699530516,1018.7793427230048,935.4178403755868],[378.121337890625,572.7777777777778,1000.0,587.6666666666666],[162.48193359375,536.5949367088608,1000.0,172.69620253164558],[70.45732116699219,1000.0,1000.0,1000.0],[28.72854423522949,1000.0,1000.0,1000.0],[64.27622985839844,1000.0,1000.0,1000.0],[65.86116790771484,1000.0,1000.0,1000.0],[36.3842887878418,1000.0,1000.0,1000.0],[42.02742004394531,1000.0,1000.0,1000.0],[49.707889556884766,1000.0,1000.0,874.3333333333334],[38.96443176269531,1000.0,1000.0,254.16666666666663],[47.91630172729492,1000.0,1000.0,646.7142857142857],[150.01025390625,822.25,1000.0,1000.0],[659.3965454101562,620.3846153846154,963.5897435897436,1000.0],[731.282470703125,650.3928571428571,779.0,1000.0],[234.8470458984375,945.0535714285714,980.1428571428572,1000.0],[113.6518783569336,1000.0,1000.0,1000.0],[62.89875030517578,1000.0,1000.0,1000.0],[105.99838256835938,1000.0,1000.0,1000.0],[327.362060546875,1000.0,1000.0,1000.0],[518.0643310546875,1000.0,1000.0,1000.0],[268.6994934082031,1000.0,988.0,1000.0],[705.1622924804688,999.3,742.376923076923,990.753846153846],[1215.35986328125,858.8708133971292,357.6507177033493,781.8564593301436],[1160.82861328125,279.1345565749235,677.7247706422019,247.9908256880734],[320.5765380859375,277.55696202531647,963.6835443037976,126.11392405063292],[842.8202514648438,800.1987179487179,898.6987179487179,999.8717948717948],[685.324951171875,992.877659574468,985.6382978723404,963.1595744680852],[314.7710876464844,753.367088607595,1000.0,945.0632911392404],[85.52888488769531,515.8571428571429,1000.0,530.3571428571429],[33.29862976074219,659.0,1000.0,0.0],[10.999119758605955,1000.0,1000.0,1000.0],[58.795711517333984,1000.0,1000.0,1000.0],[50.63676834106445,1000.0,1000.0,1000.0],[70.34169006347656,1000.0,1000.0,1000.0],[69.8019027709961,1000.0,1000.0,663.125],[40.34040451049805,1000.0,1000.0,938.9166666666666],[56.93149948120117,1000.0,1000.0,985.0],[265.6038818359375,800.0869565217391,1000.0,1000.0],[388.6124572753906,567.551724137931,1000.0,1000.0],[225.45057678222656,689.5416666666666,1000.0,1000.0],[99.62432861328124,1000.0,1000.0,1000.0],[63.11209487915039,1000.0,1000.0,1000.0],[25.38489532470703,1000.0,1000.0,1000.0],[76.88813781738281,1000.0,1000.0,1000.0],[207.659408569336,1000.0,1000.0,1000.0],[637.2115478515625,1000.0,1000.0,1000.0],[857.2281494140625,1000.0,973.9491525423728,1000.0],[959.3792114257812,1000.0,620.6666666666666,1000.0],[757.6140747070312,928.0901639344262,318.0,906.9016393442624],[504.0444641113281,413.7017543859649,885.7368421052631,655.859649122807],[201.42398071289065,266.3030303030303,1000.0,471.5151515151515],[32.26926803588867,1000.0,1000.0,1000.0],[9.125398635864258,1000.0,1000.0,1000.0],[58.3762092590332,1000.0,1000.0,1000.0],[43.69259643554688,1000.0,1000.0,1000.0],[43.42560195922852,1000.0,1000.0,1000.0],[49.333614349365234,1000.0,1000.0,556.030303030303],[66.52981567382812,1000.0,1000.0,741.7333333333333],[116.884033203125,1000.0,1000.0,924.03125],[216.9490509033203,998.859649122807,1000.0,1000.0],[70.68802642822266,1000.0,1000.0,1000.0],[80.45005798339844,1000.0,1000.0,1000.0],[103.21656036376952,1000.0,1000.0,1000.0],[85.01475524902344,1000.0,1000.0,1000.0],[174.39199829101562,1000.0,1000.0,1000.0],[186.01319885253903,1000.0,1000.0,1000.0],[321.66558837890625,1000.0,1000.0,1000.0],[403.1967468261719,1000.0,998.4850746268656,1000.0],[187.67849731445312,1000.0,715.2083333333334,1000.0],[87.79674530029297,1000.0,625.3333333333334,1000.0],[7.222929954528809,1000.0,1000.0,1000.0],[2.778900146484375,1000.0,1000.0,1000.0],[20.304059982299805,1000.0,1000.0,1000.0],[25.192665100097656,1000.0,1000.0,1000.0],[14.116853713989258,1000.0,1000.0,565.0],[36.61592864990234,832.75,1000.0,851.05],[77.30728912353516,966.9852941176472,1000.0,933.1470588235294],[165.01332092285156,989.3783783783784,1000.0,971.0945945945946],[143.5420684814453,799.1212121212121,1000.0,977.2121212121212],[102.70330047607422,400.7037037037037,1000.0,828.1851851851852],[224.5221099853516,840.0277777777778,1000.0,825.1111111111111],[334.4949645996094,998.7045454545456,1000.0,992.681818181818],[353.3573608398437,1000.0,1000.0,1000.0],[28.56262588500977,1000.0,1000.0,1000.0],[57.96057891845703,99.375,1000.0,324.625],[92.88224029541016,374.425,1000.0,267.825],[165.177734375,854.1,1000.0,791.7],[228.97027587890625,1000.0,1000.0,903.891891891892],[143.41055297851562,918.2,1000.0,320.4],[99.74156188964844,1000.0,1000.0,631.1904761904761],[97.2983169555664,1000.0,1000.0,1000.0],[14.762961387634276,1000.0,1000.0,1000.0],[11.002124786376951,1000.0,1000.0,1000.0],[34.579925537109375,1000.0,1000.0,1000.0],[29.629674911499023,1000.0,1000.0,1000.0],[0.919191837310791,1000.0,1000.0,1000.0]],\"hovertemplate\":\"population_density=%{customdata[0]}<br>lat=%{lat}<br>lon=%{lon}<br>avg_restaurant_dist=%{customdata[1]}<br>avg_bar_dist=%{customdata[2]}<br>avg_toilets_dist=%{customdata[3]}<br>avg_user_selection=%{marker.color}<extra></extra>\",\"lat\":[55.77041662573848,55.77041662573848,55.77041662573848,55.77041662573848,55.77041662573848,55.77041662573848,55.77041662573848,55.77041662573848,55.77041662573848,55.77041662573848,55.77041662573848,55.77041662573848,55.77041662573848,55.77041662573848,55.77041662573848,55.77041662573848,55.77041662573848,55.77041662573848,55.77041662573848,55.77041662573848,55.77041662573848,55.77041662573848,55.77041662573848,55.77041662573848,55.77041662573848,55.77041662573848,55.77041662573848,55.77041662573848,55.77041662573848,55.77041662573848,55.77041662573848,55.77041662573848,55.77041662573848,55.77041662573848,55.76208329243848,55.76208329243848,55.76208329243848,55.76208329243848,55.76208329243848,55.76208329243848,55.76208329243848,55.76208329243848,55.76208329243848,55.76208329243848,55.76208329243848,55.76208329243848,55.76208329243848,55.76208329243848,55.76208329243848,55.76208329243848,55.76208329243848,55.76208329243848,55.76208329243848,55.76208329243848,55.76208329243848,55.76208329243848,55.76208329243848,55.76208329243848,55.76208329243848,55.76208329243848,55.76208329243848,55.76208329243848,55.76208329243848,55.76208329243848,55.76208329243848,55.76208329243848,55.76208329243848,55.76208329243848,55.76208329243848,55.75374995913848,55.75374995913848,55.75374995913848,55.75374995913848,55.75374995913848,55.75374995913848,55.75374995913848,55.75374995913848,55.75374995913848,55.75374995913848,55.75374995913848,55.75374995913848,55.75374995913848,55.75374995913848,55.75374995913848,55.75374995913848,55.75374995913848,55.75374995913848,55.75374995913848,55.75374995913848,55.75374995913848,55.75374995913848,55.75374995913848,55.75374995913848,55.75374995913848,55.75374995913848,55.75374995913848,55.75374995913848,55.75374995913848,55.75374995913848,55.75374995913848,55.75374995913848,55.75374995913848,55.75374995913848,55.75374995913848,55.74541662583848,55.74541662583848,55.74541662583848,55.74541662583848,55.74541662583848,55.74541662583848,55.74541662583848,55.74541662583848,55.74541662583848,55.74541662583848,55.74541662583848,55.74541662583848,55.74541662583848,55.74541662583848,55.74541662583848,55.74541662583848,55.74541662583848,55.74541662583848,55.74541662583848,55.74541662583848,55.74541662583848,55.74541662583848,55.74541662583848,55.74541662583848,55.74541662583848,55.74541662583848,55.74541662583848,55.74541662583848,55.74541662583848,55.74541662583848,55.74541662583848,55.74541662583848,55.74541662583848,55.74541662583848,55.73708329253848,55.73708329253848,55.73708329253848,55.73708329253848,55.73708329253848,55.73708329253848,55.73708329253848,55.73708329253848,55.73708329253848,55.73708329253848,55.73708329253848,55.73708329253848,55.73708329253848,55.73708329253848,55.73708329253848,55.73708329253848,55.73708329253848,55.73708329253848,55.73708329253848,55.73708329253848,55.73708329253848,55.73708329253848,55.73708329253848,55.73708329253848,55.73708329253848,55.73708329253848,55.73708329253848,55.73708329253848,55.73708329253848,55.73708329253848,55.73708329253848,55.73708329253848,55.73708329253848,55.72874995923848,55.72874995923848,55.72874995923848,55.72874995923848,55.72874995923848,55.72874995923848,55.72874995923848,55.72874995923848,55.72874995923848,55.72874995923848,55.72874995923848,55.72874995923848,55.72874995923848,55.72874995923848,55.72874995923848,55.72874995923848,55.72874995923848,55.72874995923848,55.72874995923848,55.72874995923848,55.72874995923848,55.72874995923848,55.72874995923848,55.72874995923848,55.72874995923848,55.72874995923848,55.72874995923848,55.72874995923848,55.72874995923848,55.72874995923848,55.72874995923848,55.72874995923848,55.72874995923848,55.72041662593848,55.72041662593848,55.72041662593848,55.72041662593848,55.72041662593848,55.72041662593848,55.72041662593848,55.72041662593848,55.72041662593848,55.72041662593848,55.72041662593848,55.72041662593848,55.72041662593848,55.72041662593848,55.72041662593848,55.72041662593848,55.72041662593848,55.72041662593848,55.72041662593848,55.72041662593848,55.72041662593848,55.72041662593848,55.72041662593848,55.72041662593848,55.72041662593848,55.72041662593848,55.72041662593848,55.72041662593848,55.72041662593848,55.72041662593848,55.72041662593848,55.72041662593848,55.72041662593848,55.72041662593848,55.72041662593848,55.72041662593848,55.72041662593848,55.71208329263848,55.71208329263848,55.71208329263848,55.71208329263848,55.71208329263848,55.71208329263848,55.71208329263848,55.71208329263848,55.71208329263848,55.71208329263848,55.71208329263848,55.71208329263848,55.71208329263848,55.71208329263848,55.71208329263848,55.71208329263848,55.71208329263848,55.71208329263848,55.71208329263848,55.71208329263848,55.71208329263848,55.71208329263848,55.71208329263848,55.71208329263848,55.71208329263848,55.71208329263848,55.71208329263848,55.71208329263848,55.71208329263848,55.71208329263848,55.71208329263848,55.71208329263848,55.71208329263848,55.71208329263848,55.71208329263848,55.71208329263848,55.70374995933848,55.70374995933848,55.70374995933848,55.70374995933848,55.70374995933848,55.70374995933848,55.70374995933848,55.70374995933848,55.70374995933848,55.70374995933848,55.70374995933848,55.70374995933848,55.70374995933848,55.70374995933848,55.70374995933848,55.70374995933848,55.70374995933848,55.70374995933848,55.70374995933848,55.70374995933848,55.70374995933848,55.70374995933848,55.70374995933848,55.70374995933848,55.70374995933848,55.70374995933848,55.70374995933848,55.70374995933848,55.70374995933848,55.70374995933848,55.70374995933848,55.70374995933848,55.70374995933848,55.70374995933848,55.70374995933848,55.69541662603848,55.69541662603848,55.69541662603848,55.69541662603848,55.69541662603848,55.69541662603848,55.69541662603848,55.69541662603848,55.69541662603848,55.69541662603848,55.69541662603848,55.69541662603848,55.69541662603848,55.69541662603848,55.69541662603848,55.69541662603848,55.69541662603848,55.69541662603848,55.69541662603848,55.69541662603848,55.69541662603848,55.69541662603848,55.69541662603848,55.69541662603848,55.69541662603848,55.69541662603848,55.69541662603848,55.69541662603848,55.69541662603848,55.69541662603848,55.69541662603848,55.69541662603848,55.69541662603848,55.69541662603848,55.69541662603848,55.69541662603848,55.69541662603848,55.69541662603848,55.68708329273848,55.68708329273848,55.68708329273848,55.68708329273848,55.68708329273848,55.68708329273848,55.68708329273848,55.68708329273848,55.68708329273848,55.68708329273848,55.68708329273848,55.68708329273848,55.68708329273848,55.68708329273848,55.68708329273848,55.68708329273848,55.68708329273848,55.68708329273848,55.68708329273848,55.68708329273848,55.68708329273848,55.68708329273848,55.68708329273848,55.68708329273848,55.68708329273848,55.68708329273848,55.68708329273848,55.68708329273848,55.68708329273848,55.68708329273848,55.68708329273848,55.68708329273848,55.68708329273848,55.68708329273848,55.68708329273848,55.68708329273848,55.68708329273848,55.68708329273848,55.68708329273848,55.67874995943848,55.67874995943848,55.67874995943848,55.67874995943848,55.67874995943848,55.67874995943848,55.67874995943848,55.67874995943848,55.67874995943848,55.67874995943848,55.67874995943848,55.67874995943848,55.67874995943848,55.67874995943848,55.67874995943848,55.67874995943848,55.67874995943848,55.67874995943848,55.67874995943848,55.67874995943848,55.67874995943848,55.67874995943848,55.67874995943848,55.67874995943848,55.67874995943848,55.67874995943848,55.67874995943848,55.67874995943848,55.67874995943848,55.67874995943848,55.67874995943848,55.67874995943848,55.67874995943848,55.67874995943848,55.67874995943848,55.67874995943848,55.67874995943848,55.67874995943848,55.67874995943848,55.67874995943848,55.67041662613848,55.67041662613848,55.67041662613848,55.67041662613848,55.67041662613848,55.67041662613848,55.67041662613848,55.67041662613848,55.67041662613848,55.67041662613848,55.67041662613848,55.67041662613848,55.67041662613848,55.67041662613848,55.67041662613848,55.67041662613848,55.67041662613848,55.67041662613848,55.67041662613848,55.67041662613848,55.67041662613848,55.67041662613848,55.67041662613848,55.67041662613848,55.67041662613848,55.67041662613848,55.67041662613848,55.67041662613848,55.67041662613848,55.67041662613848,55.67041662613848,55.67041662613848,55.67041662613848,55.67041662613848,55.67041662613848,55.67041662613848,55.67041662613848,55.67041662613848,55.67041662613848,55.66208329283848,55.66208329283848,55.66208329283848,55.66208329283848,55.66208329283848,55.66208329283848,55.66208329283848,55.66208329283848,55.66208329283848,55.66208329283848,55.66208329283848,55.66208329283848,55.66208329283848,55.66208329283848,55.66208329283848,55.66208329283848,55.66208329283848,55.66208329283848,55.66208329283848,55.66208329283848,55.66208329283848,55.66208329283848,55.66208329283848,55.66208329283848,55.66208329283848,55.66208329283848,55.66208329283848,55.66208329283848,55.66208329283848,55.66208329283848,55.66208329283848,55.66208329283848,55.66208329283848,55.66208329283848,55.66208329283848,55.66208329283848,55.66208329283848,55.66208329283848,55.66208329283848,55.65374995953848,55.65374995953848,55.65374995953848,55.65374995953848,55.65374995953848,55.65374995953848,55.65374995953848,55.65374995953848,55.65374995953848,55.65374995953848,55.65374995953848,55.65374995953848,55.65374995953848,55.65374995953848,55.65374995953848,55.65374995953848,55.65374995953848,55.65374995953848,55.65374995953848,55.65374995953848,55.65374995953848,55.65374995953848,55.65374995953848,55.65374995953848,55.65374995953848,55.65374995953848,55.65374995953848,55.65374995953848,55.65374995953848,55.65374995953848,55.65374995953848,55.65374995953848,55.65374995953848,55.65374995953848,55.65374995953848,55.65374995953848,55.65374995953848,55.65374995953848,55.65374995953848,55.65374995953848,55.64541662623848,55.64541662623848,55.64541662623848,55.64541662623848,55.64541662623848,55.64541662623848,55.64541662623848,55.64541662623848,55.64541662623848,55.64541662623848,55.64541662623848,55.64541662623848,55.64541662623848,55.64541662623848,55.64541662623848,55.64541662623848,55.64541662623848,55.64541662623848,55.64541662623848,55.64541662623848,55.64541662623848,55.64541662623848,55.64541662623848,55.64541662623848,55.64541662623848,55.64541662623848,55.64541662623848,55.64541662623848,55.64541662623848,55.64541662623848,55.64541662623848,55.64541662623848,55.64541662623848,55.64541662623848,55.64541662623848,55.64541662623848,55.64541662623848,55.64541662623848,55.64541662623848,55.64541662623848,55.64541662623848,55.63708329293848,55.63708329293848,55.63708329293848,55.63708329293848,55.63708329293848,55.63708329293848,55.63708329293848,55.63708329293848,55.63708329293848,55.63708329293848,55.63708329293848,55.63708329293848,55.63708329293848,55.63708329293848,55.63708329293848,55.63708329293848,55.63708329293848,55.63708329293848,55.63708329293848,55.63708329293848,55.63708329293848,55.63708329293848,55.63708329293848,55.63708329293848,55.63708329293848,55.63708329293848,55.63708329293848,55.63708329293848,55.63708329293848,55.63708329293848,55.63708329293848,55.63708329293848,55.63708329293848,55.63708329293848,55.63708329293848,55.63708329293848,55.63708329293848,55.63708329293848,55.63708329293848,55.63708329293848,55.63708329293848,55.63708329293848,55.63708329293848,55.63708329293848,55.62874995963848,55.62874995963848,55.62874995963848,55.62874995963848,55.62874995963848,55.62874995963848,55.62874995963848,55.62874995963848,55.62874995963848,55.62874995963848,55.62874995963848,55.62874995963848,55.62874995963848,55.62874995963848,55.62874995963848,55.62874995963848,55.62874995963848,55.62874995963848,55.62874995963848,55.62874995963848,55.62874995963848,55.62874995963848,55.62874995963848,55.62874995963848,55.62874995963848,55.62874995963848,55.62874995963848,55.62874995963848,55.62874995963848,55.62874995963848,55.62874995963848,55.62874995963848,55.62874995963848,55.62874995963848,55.62874995963848,55.62874995963848,55.62874995963848,55.62874995963848,55.62874995963848,55.62874995963848,55.62874995963848,55.62874995963848,55.62041662633848,55.62041662633848,55.62041662633848,55.62041662633848,55.62041662633848,55.62041662633848,55.62041662633848,55.62041662633848,55.62041662633848,55.62041662633848,55.62041662633848,55.62041662633848,55.62041662633848,55.62041662633848,55.62041662633848,55.62041662633848,55.62041662633848,55.62041662633848,55.62041662633848,55.62041662633848,55.62041662633848,55.62041662633848,55.62041662633848,55.62041662633848,55.62041662633848,55.62041662633848,55.62041662633848,55.62041662633848,55.62041662633848,55.62041662633848,55.62041662633848,55.62041662633848,55.62041662633848,55.62041662633848,55.62041662633848,55.62041662633848,55.62041662633848,55.62041662633848,55.62041662633848,55.62041662633848,55.62041662633848,55.62041662633848,55.61208329303848,55.61208329303848,55.61208329303848,55.61208329303848,55.61208329303848,55.61208329303848,55.61208329303848,55.61208329303848,55.61208329303848,55.61208329303848,55.61208329303848,55.61208329303848,55.61208329303848,55.61208329303848,55.61208329303848,55.61208329303848,55.61208329303848,55.61208329303848,55.61208329303848,55.61208329303848,55.61208329303848,55.61208329303848,55.61208329303848,55.61208329303848,55.61208329303848,55.61208329303848,55.61208329303848,55.61208329303848,55.61208329303848,55.61208329303848,55.61208329303848,55.61208329303848,55.61208329303848,55.61208329303848,55.61208329303848,55.61208329303848,55.61208329303848,55.61208329303848,55.61208329303848,55.61208329303848,55.61208329303848,55.61208329303848,55.61208329303848,55.61208329303848,55.60374995973848,55.60374995973848,55.60374995973848,55.60374995973848,55.60374995973848,55.60374995973848,55.60374995973848,55.60374995973848,55.60374995973848,55.60374995973848,55.60374995973848,55.60374995973848,55.60374995973848,55.60374995973848,55.60374995973848,55.60374995973848,55.60374995973848,55.60374995973848,55.60374995973848,55.60374995973848,55.60374995973848,55.60374995973848,55.60374995973848,55.60374995973848,55.60374995973848,55.60374995973848,55.60374995973848,55.60374995973848,55.60374995973848,55.60374995973848,55.60374995973848,55.60374995973848,55.60374995973848,55.60374995973848,55.60374995973848,55.60374995973848,55.60374995973848,55.60374995973848,55.60374995973848,55.60374995973848,55.59541662643848,55.59541662643848,55.59541662643848,55.59541662643848,55.59541662643848,55.59541662643848,55.59541662643848,55.59541662643848,55.59541662643848,55.59541662643848,55.59541662643848,55.59541662643848,55.59541662643848,55.59541662643848,55.59541662643848,55.59541662643848,55.59541662643848,55.59541662643848,55.59541662643848,55.59541662643848,55.59541662643848,55.59541662643848,55.59541662643848,55.59541662643848,55.59541662643848,55.59541662643848,55.59541662643848,55.59541662643848,55.59541662643848,55.58708329313848,55.58708329313848,55.58708329313848,55.58708329313848,55.58708329313848,55.58708329313848,55.58708329313848,55.58708329313848,55.58708329313848,55.58708329313848,55.58708329313848,55.58708329313848,55.58708329313848,55.58708329313848,55.58708329313848,55.58708329313848,55.58708329313848,55.58708329313848,55.58708329313848,55.58708329313848,55.58708329313848,55.58708329313848,55.58708329313848,55.58708329313848,55.58708329313848,55.58708329313848,55.57874995983848,55.57874995983848,55.57874995983848,55.57874995983848,55.57874995983848,55.57874995983848,55.57874995983848,55.57874995983848,55.57874995983848,55.57874995983848,55.57874995983848,55.57874995983848,55.57874995983848,55.57874995983848,55.57874995983848,55.57874995983848,55.57874995983848,55.57874995983848,55.57874995983848,55.57874995983848,55.57041662653848,55.57041662653848,55.57041662653848,55.57041662653848,55.57041662653848,55.57041662653848,55.57041662653848,55.57041662653848,55.57041662653848,55.57041662653848,55.57041662653848,55.57041662653848,55.57041662653848,55.56208329323848,55.56208329323848,55.56208329323848,55.56208329323848,55.56208329323848,55.56208329323848,55.56208329323848,55.56208329323848,55.55374995993848,55.55374995993848,55.55374995993848,55.55374995993848],\"legendgroup\":\"\",\"lon\":[12.319583284947242,12.327916618247242,12.33624995154724,12.344583284847245,12.352916618147242,12.361249951447242,12.369583284747243,12.37791661804724,12.386249951347242,12.394583284647242,12.40291661794724,12.411249951247244,12.419583284547242,12.427916617847242,12.436249951147245,12.44458328444724,12.452916617747242,12.461249951047243,12.46958328434724,12.477916617647242,12.486249950947242,12.49458328424724,12.502916617547244,12.511249950847242,12.519583284147242,12.527916617447245,12.53624995074724,12.544583284047242,12.552916617347242,12.56124995064724,12.569583283947242,12.577916617247242,12.58624995054724,12.594583283847244,12.319583284947242,12.327916618247242,12.33624995154724,12.344583284847245,12.352916618147242,12.361249951447242,12.369583284747243,12.37791661804724,12.386249951347242,12.394583284647242,12.40291661794724,12.411249951247244,12.419583284547242,12.427916617847242,12.436249951147245,12.44458328444724,12.452916617747242,12.461249951047243,12.46958328434724,12.477916617647242,12.486249950947242,12.49458328424724,12.502916617547244,12.511249950847242,12.519583284147242,12.527916617447245,12.53624995074724,12.544583284047242,12.552916617347242,12.56124995064724,12.569583283947242,12.577916617247242,12.58624995054724,12.594583283847244,12.602916617147242,12.319583284947242,12.327916618247242,12.33624995154724,12.344583284847245,12.352916618147242,12.361249951447242,12.369583284747243,12.37791661804724,12.386249951347242,12.394583284647242,12.40291661794724,12.411249951247244,12.419583284547242,12.427916617847242,12.436249951147245,12.44458328444724,12.452916617747242,12.461249951047243,12.46958328434724,12.477916617647242,12.486249950947242,12.49458328424724,12.502916617547244,12.511249950847242,12.519583284147242,12.527916617447245,12.53624995074724,12.544583284047242,12.552916617347242,12.56124995064724,12.569583283947242,12.577916617247242,12.58624995054724,12.594583283847244,12.602916617147242,12.319583284947242,12.327916618247242,12.33624995154724,12.344583284847245,12.352916618147242,12.361249951447242,12.369583284747243,12.37791661804724,12.386249951347242,12.394583284647242,12.40291661794724,12.411249951247244,12.419583284547242,12.427916617847242,12.436249951147245,12.44458328444724,12.452916617747242,12.461249951047243,12.46958328434724,12.477916617647242,12.486249950947242,12.49458328424724,12.502916617547244,12.511249950847242,12.519583284147242,12.527916617447245,12.53624995074724,12.544583284047242,12.552916617347242,12.56124995064724,12.569583283947242,12.577916617247242,12.58624995054724,12.594583283847244,12.319583284947242,12.327916618247242,12.33624995154724,12.344583284847245,12.352916618147242,12.361249951447242,12.369583284747243,12.37791661804724,12.386249951347242,12.394583284647242,12.40291661794724,12.411249951247244,12.419583284547242,12.427916617847242,12.436249951147245,12.44458328444724,12.452916617747242,12.461249951047243,12.46958328434724,12.477916617647242,12.486249950947242,12.49458328424724,12.502916617547244,12.511249950847242,12.519583284147242,12.527916617447245,12.53624995074724,12.544583284047242,12.552916617347242,12.56124995064724,12.569583283947242,12.577916617247242,12.58624995054724,12.319583284947242,12.327916618247242,12.33624995154724,12.344583284847245,12.352916618147242,12.361249951447242,12.369583284747243,12.37791661804724,12.386249951347242,12.394583284647242,12.40291661794724,12.411249951247244,12.419583284547242,12.427916617847242,12.436249951147245,12.44458328444724,12.452916617747242,12.461249951047243,12.46958328434724,12.477916617647242,12.486249950947242,12.49458328424724,12.502916617547244,12.511249950847242,12.519583284147242,12.527916617447245,12.53624995074724,12.544583284047242,12.552916617347242,12.56124995064724,12.569583283947242,12.577916617247242,12.58624995054724,12.319583284947242,12.327916618247242,12.33624995154724,12.344583284847245,12.352916618147242,12.361249951447242,12.369583284747243,12.37791661804724,12.386249951347242,12.394583284647242,12.40291661794724,12.411249951247244,12.419583284547242,12.427916617847242,12.436249951147245,12.44458328444724,12.452916617747242,12.461249951047243,12.46958328434724,12.477916617647242,12.486249950947242,12.49458328424724,12.502916617547244,12.511249950847242,12.519583284147242,12.527916617447245,12.53624995074724,12.544583284047242,12.552916617347242,12.56124995064724,12.569583283947242,12.577916617247242,12.58624995054724,12.594583283847244,12.602916617147242,12.611249950447242,12.619583283747245,12.319583284947242,12.327916618247242,12.33624995154724,12.344583284847245,12.352916618147242,12.361249951447242,12.369583284747243,12.37791661804724,12.386249951347242,12.394583284647242,12.40291661794724,12.411249951247244,12.419583284547242,12.427916617847242,12.436249951147245,12.44458328444724,12.452916617747242,12.461249951047243,12.46958328434724,12.477916617647242,12.486249950947242,12.49458328424724,12.502916617547244,12.511249950847242,12.519583284147242,12.527916617447245,12.53624995074724,12.544583284047242,12.552916617347242,12.56124995064724,12.569583283947242,12.577916617247242,12.58624995054724,12.594583283847244,12.602916617147242,12.611249950447242,12.319583284947242,12.327916618247242,12.33624995154724,12.344583284847245,12.352916618147242,12.361249951447242,12.369583284747243,12.37791661804724,12.386249951347242,12.394583284647242,12.40291661794724,12.411249951247244,12.419583284547242,12.427916617847242,12.436249951147245,12.44458328444724,12.452916617747242,12.461249951047243,12.46958328434724,12.477916617647242,12.486249950947242,12.49458328424724,12.502916617547244,12.511249950847242,12.519583284147242,12.527916617447245,12.53624995074724,12.544583284047242,12.552916617347242,12.56124995064724,12.569583283947242,12.577916617247242,12.58624995054724,12.594583283847244,12.602916617147242,12.319583284947242,12.327916618247242,12.33624995154724,12.344583284847245,12.352916618147242,12.361249951447242,12.369583284747243,12.37791661804724,12.386249951347242,12.394583284647242,12.40291661794724,12.411249951247244,12.419583284547242,12.427916617847242,12.436249951147245,12.44458328444724,12.452916617747242,12.461249951047243,12.46958328434724,12.477916617647242,12.486249950947242,12.49458328424724,12.502916617547244,12.511249950847242,12.519583284147242,12.527916617447245,12.53624995074724,12.544583284047242,12.552916617347242,12.56124995064724,12.569583283947242,12.577916617247242,12.58624995054724,12.594583283847244,12.602916617147242,12.611249950447242,12.619583283747245,12.62791661704724,12.319583284947242,12.327916618247242,12.33624995154724,12.344583284847245,12.352916618147242,12.361249951447242,12.369583284747243,12.37791661804724,12.386249951347242,12.394583284647242,12.40291661794724,12.411249951247244,12.419583284547242,12.427916617847242,12.436249951147245,12.44458328444724,12.452916617747242,12.461249951047243,12.46958328434724,12.477916617647242,12.486249950947242,12.49458328424724,12.502916617547244,12.511249950847242,12.519583284147242,12.527916617447245,12.53624995074724,12.544583284047242,12.552916617347242,12.56124995064724,12.569583283947242,12.577916617247242,12.58624995054724,12.594583283847244,12.602916617147242,12.611249950447242,12.619583283747245,12.62791661704724,12.636249950347242,12.319583284947242,12.327916618247242,12.33624995154724,12.344583284847245,12.352916618147242,12.361249951447242,12.369583284747243,12.37791661804724,12.386249951347242,12.394583284647242,12.40291661794724,12.411249951247244,12.419583284547242,12.427916617847242,12.436249951147245,12.44458328444724,12.452916617747242,12.461249951047243,12.46958328434724,12.477916617647242,12.486249950947242,12.49458328424724,12.502916617547244,12.511249950847242,12.519583284147242,12.527916617447245,12.53624995074724,12.544583284047242,12.552916617347242,12.56124995064724,12.569583283947242,12.577916617247242,12.58624995054724,12.594583283847244,12.602916617147242,12.611249950447242,12.619583283747245,12.62791661704724,12.636249950347242,12.644583283647242,12.319583284947242,12.327916618247242,12.33624995154724,12.344583284847245,12.352916618147242,12.361249951447242,12.369583284747243,12.37791661804724,12.386249951347242,12.394583284647242,12.40291661794724,12.411249951247244,12.419583284547242,12.427916617847242,12.436249951147245,12.44458328444724,12.452916617747242,12.461249951047243,12.46958328434724,12.477916617647242,12.486249950947242,12.49458328424724,12.502916617547244,12.511249950847242,12.519583284147242,12.527916617447245,12.53624995074724,12.544583284047242,12.552916617347242,12.56124995064724,12.569583283947242,12.577916617247242,12.58624995054724,12.594583283847244,12.602916617147242,12.611249950447242,12.619583283747245,12.62791661704724,12.636249950347242,12.319583284947242,12.327916618247242,12.33624995154724,12.344583284847245,12.352916618147242,12.361249951447242,12.369583284747243,12.37791661804724,12.386249951347242,12.394583284647242,12.40291661794724,12.411249951247244,12.419583284547242,12.427916617847242,12.436249951147245,12.44458328444724,12.452916617747242,12.461249951047243,12.46958328434724,12.477916617647242,12.486249950947242,12.49458328424724,12.502916617547244,12.511249950847242,12.519583284147242,12.527916617447245,12.53624995074724,12.544583284047242,12.552916617347242,12.56124995064724,12.569583283947242,12.577916617247242,12.58624995054724,12.594583283847244,12.602916617147242,12.611249950447242,12.619583283747245,12.62791661704724,12.636249950347242,12.319583284947242,12.327916618247242,12.33624995154724,12.344583284847245,12.352916618147242,12.361249951447242,12.369583284747243,12.37791661804724,12.386249951347242,12.394583284647242,12.40291661794724,12.411249951247244,12.419583284547242,12.427916617847242,12.436249951147245,12.44458328444724,12.452916617747242,12.461249951047243,12.46958328434724,12.477916617647242,12.486249950947242,12.49458328424724,12.502916617547244,12.511249950847242,12.519583284147242,12.527916617447245,12.53624995074724,12.544583284047242,12.552916617347242,12.56124995064724,12.569583283947242,12.577916617247242,12.58624995054724,12.594583283847244,12.602916617147242,12.611249950447242,12.619583283747245,12.62791661704724,12.636249950347242,12.644583283647242,12.319583284947242,12.327916618247242,12.33624995154724,12.344583284847245,12.352916618147242,12.361249951447242,12.369583284747243,12.37791661804724,12.386249951347242,12.394583284647242,12.40291661794724,12.411249951247244,12.419583284547242,12.427916617847242,12.436249951147245,12.44458328444724,12.452916617747242,12.461249951047243,12.46958328434724,12.477916617647242,12.486249950947242,12.49458328424724,12.502916617547244,12.511249950847242,12.519583284147242,12.527916617447245,12.53624995074724,12.544583284047242,12.552916617347242,12.56124995064724,12.569583283947242,12.577916617247242,12.58624995054724,12.594583283847244,12.602916617147242,12.611249950447242,12.619583283747245,12.62791661704724,12.636249950347242,12.644583283647242,12.65291661694724,12.319583284947242,12.327916618247242,12.33624995154724,12.344583284847245,12.352916618147242,12.361249951447242,12.369583284747243,12.37791661804724,12.386249951347242,12.394583284647242,12.40291661794724,12.411249951247244,12.419583284547242,12.427916617847242,12.436249951147245,12.44458328444724,12.452916617747242,12.461249951047243,12.46958328434724,12.477916617647242,12.486249950947242,12.49458328424724,12.502916617547244,12.511249950847242,12.519583284147242,12.527916617447245,12.53624995074724,12.544583284047242,12.552916617347242,12.56124995064724,12.569583283947242,12.577916617247242,12.58624995054724,12.594583283847244,12.602916617147242,12.611249950447242,12.619583283747245,12.62791661704724,12.636249950347242,12.644583283647242,12.65291661694724,12.661249950247242,12.669583283547242,12.67791661684724,12.319583284947242,12.327916618247242,12.33624995154724,12.344583284847245,12.352916618147242,12.361249951447242,12.369583284747243,12.37791661804724,12.386249951347242,12.394583284647242,12.40291661794724,12.411249951247244,12.419583284547242,12.427916617847242,12.436249951147245,12.44458328444724,12.452916617747242,12.461249951047243,12.46958328434724,12.477916617647242,12.486249950947242,12.49458328424724,12.502916617547244,12.527916617447245,12.53624995074724,12.544583284047242,12.552916617347242,12.56124995064724,12.569583283947242,12.577916617247242,12.58624995054724,12.594583283847244,12.602916617147242,12.611249950447242,12.619583283747245,12.62791661704724,12.636249950347242,12.644583283647242,12.65291661694724,12.661249950247242,12.669583283547242,12.67791661684724,12.319583284947242,12.327916618247242,12.33624995154724,12.344583284847245,12.352916618147242,12.361249951447242,12.369583284747243,12.37791661804724,12.386249951347242,12.394583284647242,12.40291661794724,12.411249951247244,12.419583284547242,12.427916617847242,12.436249951147245,12.44458328444724,12.452916617747242,12.461249951047243,12.46958328434724,12.477916617647242,12.486249950947242,12.49458328424724,12.519583284147242,12.527916617447245,12.53624995074724,12.544583284047242,12.552916617347242,12.56124995064724,12.569583283947242,12.577916617247242,12.58624995054724,12.594583283847244,12.602916617147242,12.611249950447242,12.619583283747245,12.62791661704724,12.636249950347242,12.644583283647242,12.65291661694724,12.661249950247242,12.669583283547242,12.67791661684724,12.319583284947242,12.327916618247242,12.33624995154724,12.344583284847245,12.352916618147242,12.361249951447242,12.369583284747243,12.37791661804724,12.386249951347242,12.394583284647242,12.40291661794724,12.411249951247244,12.419583284547242,12.427916617847242,12.436249951147245,12.44458328444724,12.452916617747242,12.461249951047243,12.46958328434724,12.477916617647242,12.486249950947242,12.49458328424724,12.502916617547244,12.511249950847242,12.519583284147242,12.527916617447245,12.53624995074724,12.544583284047242,12.552916617347242,12.56124995064724,12.569583283947242,12.577916617247242,12.58624995054724,12.594583283847244,12.602916617147242,12.611249950447242,12.619583283747245,12.62791661704724,12.636249950347242,12.644583283647242,12.65291661694724,12.661249950247242,12.669583283547242,12.67791661684724,12.319583284947242,12.327916618247242,12.33624995154724,12.344583284847245,12.352916618147242,12.361249951447242,12.369583284747243,12.37791661804724,12.386249951347242,12.394583284647242,12.40291661794724,12.436249951147245,12.44458328444724,12.452916617747242,12.461249951047243,12.46958328434724,12.477916617647242,12.486249950947242,12.49458328424724,12.511249950847242,12.519583284147242,12.527916617447245,12.53624995074724,12.544583284047242,12.552916617347242,12.56124995064724,12.569583283947242,12.577916617247242,12.58624995054724,12.594583283847244,12.602916617147242,12.611249950447242,12.619583283747245,12.62791661704724,12.636249950347242,12.644583283647242,12.65291661694724,12.661249950247242,12.669583283547242,12.67791661684724,12.319583284947242,12.327916618247242,12.33624995154724,12.344583284847245,12.352916618147242,12.361249951447242,12.369583284747243,12.37791661804724,12.511249950847242,12.519583284147242,12.527916617447245,12.53624995074724,12.544583284047242,12.552916617347242,12.56124995064724,12.569583283947242,12.577916617247242,12.58624995054724,12.594583283847244,12.602916617147242,12.611249950447242,12.619583283747245,12.62791661704724,12.636249950347242,12.644583283647242,12.65291661694724,12.661249950247242,12.669583283547242,12.67791661684724,12.319583284947242,12.327916618247242,12.33624995154724,12.344583284847245,12.352916618147242,12.511249950847242,12.519583284147242,12.527916617447245,12.53624995074724,12.544583284047242,12.552916617347242,12.56124995064724,12.569583283947242,12.577916617247242,12.58624995054724,12.594583283847244,12.602916617147242,12.611249950447242,12.619583283747245,12.62791661704724,12.636249950347242,12.644583283647242,12.65291661694724,12.661249950247242,12.669583283547242,12.67791661684724,12.319583284947242,12.519583284147242,12.527916617447245,12.53624995074724,12.544583284047242,12.552916617347242,12.56124995064724,12.569583283947242,12.577916617247242,12.58624995054724,12.594583283847244,12.602916617147242,12.611249950447242,12.619583283747245,12.62791661704724,12.636249950347242,12.644583283647242,12.65291661694724,12.661249950247242,12.669583283547242,12.527916617447245,12.53624995074724,12.544583284047242,12.552916617347242,12.56124995064724,12.569583283947242,12.577916617247242,12.58624995054724,12.594583283847244,12.602916617147242,12.611249950447242,12.619583283747245,12.62791661704724,12.56124995064724,12.569583283947242,12.577916617247242,12.58624995054724,12.594583283847244,12.602916617147242,12.611249950447242,12.619583283747245,12.577916617247242,12.58624995054724,12.594583283847244,12.602916617147242],\"marker\":{\"color\":[1000.0,1000.0,998.5864978902954,1000.0,993.6527777777778,836.4444444444445,761.6839826839827,920.6341463414634,964.5273631840796,999.5925925925926,1000.0,1000.0,1000.0,978.3245614035089,816.3636363636364,586.7777777777777,897.7204301075268,962.5238095238095,581.783950617284,760.9399999999999,969.5763888888888,622.4733333333334,292.02536231884056,861.8156732891831,899.9271708683473,945.076923076923,840.7647058823528,856.6318407960198,949.4166666666666,968.8238993710692,895.3497267759562,500.63926940639266,859.6964285714286,874.0256410256411,1000.0,951.2783882783883,764.701388888889,846.0772357723578,994.339393939394,989.8108108108108,947.5960784313726,857.9780701754386,848.8418079096045,933.929012345679,1000.0,1000.0,1000.0,956.847619047619,841.2687609075043,683.6448598130842,539.6333333333333,784.7733333333332,986.1518151815181,999.2289855072464,992.7769423558898,894.5887096774194,836.5447154471544,977.2894736842105,993.8028846153846,878.8276515151515,750.8418079096045,875.5348258706468,851.3092783505155,777.1764705882352,738.7313432835821,574.8787878787879,661.3355555555555,608.5739130434782,438.9166666666667,1000.0,991.2097378277153,941.8252314814814,935.4296296296296,999.6940639269407,1000.0,1000.0,996.8148148148148,997.344262295082,1000.0,1000.0,1000.0,999.8607594936708,946.6038647342995,835.6711711711713,863.5,860.29676511955,919.8012820512821,978.6520467836257,929.1162790697675,903.9583333333334,855.3168724279836,942.271186440678,773.7887788778877,572.9763513513514,813.764172335601,668.5185185185186,656.8738229755179,905.0072463768116,785.5857142857143,741.5081433224756,804.9021164021165,652.2518518518519,683.2083333333334,1000.0,1000.0,1000.0,1000.0,1000.0,1000.0,1000.0,1000.0,1000.0,1000.0,1000.0,1000.0,962.558943089431,846.7039473684212,851.6838709677419,958.6163873370577,1000.0,1000.0,1000.0,967.2031007751939,792.3966244725739,860.1830742659758,721.0101394169834,848.2888888888889,941.0479302832244,759.3049645390071,935.5666666666666,812.0441767068273,732.4461942257218,966.4439775910364,966.2113821138211,808.7319347319348,723.4758620689655,527.5147392290249,1000.0,815.4270833333334,1000.0,1000.0,998.5804597701149,919.1625683060109,784.5516014234876,925.5801526717559,945.1076604554864,839.5760111576011,935.3092592592593,988.6456456456457,1000.0,998.3735224586288,922.6607495069034,872.7304964539007,982.1766381766382,1000.0,1000.0,996.4004975124379,991.2993527508091,998.2815198618306,940.6517857142857,837.4246284501061,834.699805068226,925.8632478632479,979.3333333333334,942.4357142857142,784.3387978142076,826.6848072562358,877.3529411764706,655.3233532934131,515.2057613168724,691.3478260869565,1000.0,1000.0,884.06,803.729957805907,604.3035087719298,336.4431554524362,753.1124260355028,866.8615984405459,778.9483333333334,770.8463768115943,815.0962441314554,987.7398753894081,999.7841409691631,858.6705882352941,628.4254215304799,812.6414300736068,987.5346534653467,992.923076923077,847.358695652174,806.468085106383,997.0242825607064,967.8682170542637,839.0490196078431,832.2087542087543,571.3000000000001,361.5844748858447,893.1995884773661,924.2476190476191,751.1241283124127,793.500872600349,783.453781512605,611.4588353413654,678.510752688172,1000.0,1000.0,961.4435897435897,898.8035714285714,590.1466049382715,633.9203431372549,892.5132275132274,819.8169398907104,766.1297935103245,929.1434343434344,997.940836940837,847.5020576131687,891.3578431372549,929.5970149253732,696.1396917148362,726.6888888888889,823.9812925170069,913.4776902887139,723.7348927875242,682.6419141914191,729.0944741532977,893.0638297872341,981.1809523809525,964.5305164319249,670.2875816993464,380.12513144058886,560.6924603174604,754.1023255813952,716.8539325842697,818.1384083044983,911.688888888889,620.6282722513089,548.2580645161291,845.8666666666667,989.1666666666666,1000.0,1000.0,1000.0,1000.0,1000.0,999.9964157706094,894.7258771929824,866.996913580247,955.3589743589743,840.3115942028985,889.7403846153846,995.9826388888888,1000.0,980.8493589743589,992.0864978902954,1000.0,995.1924882629108,999.2953586497891,985.548245614035,756.5333333333333,373.9903100775194,432.4074074074074,585.6018518518518,677.6984126984127,759.7119341563788,728.4937106918238,579.2554890219561,409.9464285714286,442.1146435452794,715.8681818181818,680.7112970711297,421.384126984127,367.15488215488216,402.9440476190476,508.3270042194093,578.4795321637426,917.6774193548387,1000.0,1000.0,1000.0,1000.0,1000.0,1000.0,1000.0,1000.0,993.6999999999999,998.7112860892388,999.991769547325,1000.0,1000.0,1000.0,1000.0,1000.0,1000.0,963.6556776556777,844.183520599251,774.3606060606061,778.1766666666667,516.3678160919541,551.1270983213429,767.1387024608501,743.2063492063493,655.1738712776176,557.789247311828,413.3412698412699,436.43611111111113,426.7781954887218,590.4754098360655,248.8611111111111,245.06853582554518,307.0030165912519,448.85869565217394,533.1969696969696,1000.0,1000.0,1000.0,1000.0,1000.0,948.1666666666666,942.4210526315788,985.576923076923,1000.0,1000.0,1000.0,1000.0,1000.0,1000.0,1000.0,979.7882136279927,854.9402298850574,792.4969325153374,815.4146341463415,519.0075187969925,506.20623501199043,674.1601489757915,774.179640718563,559.2515723270441,748.9389179755672,787.6788432267884,449.24,230.19561815336465,297.7472677595628,353.660394265233,353.0422374429224,283.91201982651796,420.3812056737588,535.3040293040293,527.3257575757576,385.85897435897436,697.2745098039217,958.3809523809523,1000.0,1000.0,1000.0,1000.0,999.4761904761905,805.5833333333334,811.8247422680412,986.7517730496453,1000.0,1000.0,1000.0,1000.0,1000.0,999.6111111111112,912.1185682326623,926.2361111111112,941.6374269005847,941.8861788617886,869.6963696369636,454.7679324894514,339.2380952380953,463.63557858376504,636.9476923076924,655.2820512820513,536.6028602860287,396.2305825242718,342.03065134099614,305.1073446327684,202.28926553672318,253.97892720306515,230.28556263269638,286.04273504273505,299.97159940209264,361.95526695526695,476.9970760233918,636.1535776614311,761.445652173913,947.1666666666666,1000.0,1000.0,1000.0,977.5389408099687,963.9049773755656,792.1544715447154,771.5008130081301,969.0199430199431,1000.0,999.6290726817042,999.6382978723404,999.9871794871796,999.988603988604,999.7064017660044,949.2474226804125,654.6970534069982,756.0453752181501,602.9506666666666,617.6773211567732,661.8260073260072,617.1379310344827,714.1439393939394,607.5412844036697,529.564,481.7393162393162,290.84703196347033,205.86518046709128,198.81818181818184,335.05157813702846,364.02028218694886,232.3125,145.13394683026584,110.6132897603486,171.65084745762715,145.8790436005626,389.39979231568014,833.7325102880659,875.2820512820513,1000.0,1000.0,1000.0,1000.0,940.9227373068433,805.3146258503402,890.4296296296296,924.5241796200345,919.4350703060381,989.5792592592593,905.1966101694916,674.7717250324254,759.0963302752293,756.0148148148147,799.8621291448517,809.956043956044,803.3885480572598,570.5564738292011,707.1592592592593,671.5922165820643,709.2125984251969,858.1814814814816,698.6975945017183,523.670731707317,750.7755102040816,783.3143812709031,451.94623655913983,214.01993355481727,271.57040229885064,295.468524251806,281.1069182389937,145.09299516908212,121.54938271604938,165.24719101123594,247.91584158415841,333.85360360360363,246.2007575757576,396.02588996763757,525.4026666666667,777.9478260869564,862.3801169590644,993.5813953488373,972.6296296296296,841.2578616352201,779.3363914373089,943.5979166666666,937.4305555555555,961.228650137741,1000.0,948.6435185185186,749.659420289855,730.5661641541038,702.4571026722925,883.2839506172841,947.6126126126127,910.9756554307115,675.9774436090225,785.7715231788079,961.5634057971015,943.2721712538226,487.2288888888889,400.0,489.3333333333333,896.1734234234233,994.1803278688525,529.8244949494948,252.38989898989902,614.9403508771929,637.7087912087912,310.87765957446805,612.2170542635658,466.26097271648877,547.3956743002544,354.4967320261438,478.30653804930336,390.14455782312933,333.54768928220255,304.54580896686156,341.6969696969697,371.14076246334315,462.2580645161291,1000.0,974.1466666666666,954.8835616438356,987.9190751445086,891.8192419825073,912.1704180064309,997.5869565217391,1000.0,1000.0,1000.0,998.1269177126918,942.0294784580498,785.4772727272726,978.3766666666667,816.1322751322751,814.7326732673267,970.5333333333333,902.2140672782874,441.7535667963684,525.5885225885226,828.2610441767068,824.2638888888888,619.5352877307274,805.5120274914088,701.8000000000001,818.6247987117553,554.8663663663664,604.0134952766531,635.4973876698014,845.3303303303304,850.8087431693989,968.6666666666666,564.8547008547008,454.66163141993957,463.4128440366972,349.6815642458101,434.69595959595955,756.9715762273903,681.9855967078189,539.948275862069,1000.0,1000.0,964.9619047619047,840.4074074074074,772.4483775811209,918.7393162393163,998.8373983739838,1000.0,1000.0,1000.0,999.4235588972432,860.6376068376068,744.5789473684212,965.2133333333335,988.6818181818181,995.6632653061224,850.7430555555555,706.4944444444445,668.7071240105541,817.4069529652352,983.2329317269077,974.2016460905351,927.8141762452109,869.876811594203,803.3233830845771,790.6245210727969,720.3910614525139,549.6216666666667,464.6287683031869,978.5205992509364,999.3846153846154,853.1919191919192,829.8103448275862,772.2199074074074,902.2307692307692,527.8785529715761,550.4596774193549,771.773631840796,627.2215320910973,615.7190476190477,871.1071428571428,1000.0,1000.0,1000.0,1000.0,1000.0,1000.0,1000.0,1000.0,1000.0,1000.0,1000.0,934.2520325203253,799.7634408602152,911.5972222222222,1000.0,1000.0,988.2857142857142,999.7716894977169,891.8711484593838,512.8724279835391,732.5595238095239,791.5102040816327,881.0596491228071,994.8787878787879,1000.0,993.4137931034483,874.6133333333333,805.5042735042734,1000.0,931.125,552.9851851851851,402.504347826087,463.16239316239324,800.213768115942,762.9929078014184,970.93669250646,851.9705215419502,811.1246105919003,771.1124144672532,718.4263565891473,589.2207207207207,682.3333333333334,1000.0,1000.0,1000.0,1000.0,1000.0,1000.0,1000.0,1000.0,1000.0,955.8261562998405,863.9306260575296,918.9707835325365,997.1190476190476,794.0561797752808,800.7799145299145,882.7857142857143,1000.0,920.5797579757976,808.4041297935104,843.8503401360545,925.7598870056498,671.6200466200467,615.4287749287749,733.030701754386,716.6153846153846,1000.0,1000.0,957.0,1000.0,985.1904761904761,683.6272727272727,587.8223140495868,625.1061728395061,673.3212121212122,572.5069444444445,926.4906103286385,618.6217228464419,771.1541666666667,744.4641577060933,493.3771929824561,507.57758620689657,776.3641975308642,998.7511111111111,1000.0,1000.0,1000.0,1000.0,976.4294294294294,873.7872892347601,810.7007092198581,808.5423728813558,956.3459915611814,779.8869047619047,807.7788018433179,947.9101449275362,792.6691542288557,708.8020833333334,827.8787878787879,950.2412935323383,942.6530612244898,932.4421052631578,954.3435374149659,978.3257575757576,941.2076502732242,921.8195718654434,914.4444444444445,1000.0,965.1153846153846,702.5555555555555,1000.0,973.3333333333334,983.7619047619049,869.191321499014,867.5714285714286,982.8753180661578,934.6526315789473,857.8312757201646,942.4124700239809,827.5814814814815,799.6771929824562,945.6878306878307,1000.0,958.060606060606,993.0952380952381,1000.0,1000.0,1000.0,1000.0,964.2648148148149,803.534282700422,461.2274401473297,462.63895680521597,552.1159420289855,799.3974358974359,859.3479853479853,517.6717171717172,523.6756756756757,716.2083333333334,714.8666666666667,744.7333333333332,937.6944444444445,989.2883895131087,1000.0,1000.0,1000.0,1000.0,1000.0,1000.0,1000.0,1000.0,1000.0,1000.0,1000.0,982.3333333333334,1000.0,1000.0,1000.0,986.423676012461,931.9462365591398,992.6705426356589,1000.0,1000.0,974.5641025641025,782.5968992248062,915.0,1000.0,1000.0,1000.0,1000.0,1000.0,957.421794871795,833.20082815735,905.6508688783571,947.6944444444445,964.0465116279069,956.4677871148459,878.8571428571428,729.3846153846152,674.3916666666667,708.25,1000.0,1000.0,1000.0,1000.0,1000.0,1000.0,1000.0,1000.0,1000.0,1000.0,1000.0,1000.0,1000.0,1000.0,960.1666666666666,1000.0,1000.0,792.1315789473683,553.8249158249158,854.5022222222223,991.1666666666666,1000.0,1000.0,1000.0,1000.0,1000.0,996.6078431372549,959.7201257861635,969.8596491228069,1000.0,688.3867684478372,720.5445134575571,776.8070841239722,842.5899843505478,720.1481481481482,569.7637130801688,1000.0,1000.0,1000.0,1000.0,1000.0,1000.0,958.1111111111112,751.3888888888888,882.2380952380953,940.75,861.3247863247863,809.7976190476189,975.0654761904761,1000.0,1000.0,1000.0,1000.0,1000.0,996.0,910.8102564102563,666.1259968102073,401.6167176350662,455.7848101265823,899.5897435897435,980.5585106382979,899.4767932489452,682.0714285714286,553.0,1000.0,1000.0,1000.0,1000.0,887.7083333333334,979.6388888888888,995.0,933.3623188405796,855.8505747126437,896.5138888888888,1000.0,1000.0,1000.0,1000.0,1000.0,1000.0,991.3163841807909,873.5555555555555,717.6639344262295,651.766081871345,579.2727272727273,1000.0,1000.0,1000.0,1000.0,1000.0,852.010101010101,913.9111111111112,974.6770833333334,999.6198830409357,1000.0,1000.0,1000.0,1000.0,1000.0,1000.0,1000.0,999.4950248756219,905.0694444444445,875.1111111111112,1000.0,1000.0,1000.0,1000.0,855.0,894.6,966.7107843137255,986.8243243243243,925.4444444444443,742.9629629629629,888.3796296296296,997.1287878787879,1000.0,1000.0,474.6666666666667,547.4166666666666,881.9333333333334,967.963963963964,746.1999999999999,877.063492063492,1000.0,1000.0,1000.0,1000.0,1000.0,1000.0],\"coloraxis\":\"coloraxis\",\"size\":[165.16604614257812,168.39463806152344,103.64009857177734,98.20675659179688,79.47325897216797,108.66566467285156,232.0848999023437,173.19691467285156,202.96615600585932,150.5589599609375,153.0946502685547,112.43335723876952,161.4676055908203,269.9061889648437,363.4380187988281,457.9251098632813,319.52325439453125,59.86871337890625,392.48193359375,886.0536499023438,804.4918823242188,1781.3787841796875,2163.23974609375,1746.8763427734375,998.9478759765624,639.20849609375,366.77935791015625,400.6148376464844,472.6580200195313,449.0005187988281,688.4654541015625,1236.50537109375,1269.4141845703125,853.7958374023438,294.1271057128906,309.78680419921875,476.0281372070313,407.0012817382813,245.18836975097656,158.38479614257812,134.84768676757812,108.0101547241211,292.7565002441406,620.0610961914062,652.4688720703125,379.1524353027344,297.7792358398437,570.0169677734375,906.2573852539062,1065.61669921875,1498.702880859375,1066.004638671875,1497.874755859375,1780.8328857421875,2236.4755859375,2659.361572265625,2025.4862060546875,1213.674560546875,1574.7679443359375,1175.326171875,1090.31689453125,808.9024658203125,1081.57421875,1570.003662109375,1776.9622802734375,2144.379150390625,1826.3193359375,1548.6912841796875,249.47903442382807,1167.64453125,966.192138671875,1305.2086181640625,891.0482177734375,334.6098937988281,122.65530395507812,256.4307556152344,359.4284362792969,509.4748229980469,1027.81201171875,874.6234130859375,661.0255737304688,703.5906982421875,493.1570739746094,350.5083923339844,846.3206176757812,1334.1431884765625,1001.982421875,1695.135009765625,2128.39111328125,2291.33447265625,2071.06298828125,962.532470703125,1325.1063232421875,1915.4091796875,905.7172241210938,1066.2364501953125,1118.0311279296875,948.2640380859376,2258.08935546875,2268.72412109375,886.1689453125,1116.36669921875,666.0859375,5.568890571594238,1208.0611572265625,903.6715698242188,458.4444274902344,321.9373474121094,257.7934265136719,275.13018798828125,441.0778198242188,334.2926330566406,413.0744934082031,406.3038024902344,339.1981201171875,769.8845825195312,1184.5262451171875,1003.3912353515624,724.3798828125,911.1107788085938,932.3204956054688,1069.5045166015625,1130.451416015625,1301.2750244140625,1493.772216796875,2217.25439453125,1789.8487548828125,1176.073974609375,1063.74951171875,1219.770263671875,830.3035278320312,1420.3134765625,1388.8892822265625,2134.84375,1912.821044921875,1343.95703125,783.6709594726562,28.78954315185547,269.4715270996094,159.05494689941406,361.65380859375,543.6597290039062,797.6159057617188,807.8106079101562,508.1194458007813,591.5426635742188,662.9345092773438,499.27435302734375,456.5343017578125,1056.9776611328125,1171.90234375,1266.5552978515625,1087.2318115234375,1154.980712890625,1087.2086181640625,1247.568359375,1138.6053466796875,2103.65771484375,2210.61181640625,1350.652587890625,2383.584228515625,2602.77392578125,2411.49462890625,2016.877197265625,2015.9080810546875,1777.3438720703125,1555.393798828125,1452.4632568359375,2492.114013671875,2301.34912109375,257.7029113769531,297.6363220214844,394.9732055664063,763.41552734375,1457.904052734375,1392.428466796875,1020.3494262695312,850.6692504882812,761.5850219726562,1175.7545166015625,859.2521362304688,904.3678588867188,1121.5174560546875,1358.399658203125,1326.5462646484375,1369.7177734375,1434.376953125,1637.0318603515625,2071.39599609375,2316.32763671875,2185.2333984375,1157.9141845703125,1287.0625,2347.09228515625,2578.859375,1985.727783203125,2304.33935546875,1239.468505859375,2054.177001953125,1844.678955078125,1273.0682373046875,1620.2432861328125,3205.658203125,431.7415466308594,102.97657775878906,449.8934020996094,728.79736328125,1179.1097412109375,1468.0751953125,1178.45166015625,750.0337524414062,509.14794921875,645.091064453125,1096.145263671875,1154.878662109375,1128.67626953125,1166.5802001953125,970.56591796875,1275.12060546875,1392.55419921875,1154.7099609375,2070.95849609375,2188.310302734375,1481.9102783203125,3255.570556640625,1256.404541015625,953.1943359375,1046.6146240234375,594.9564208984375,2345.13037109375,3236.043701171875,2681.715087890625,2516.958251953125,1544.3955078125,960.9454956054688,2334.63427734375,344.29278564453125,145.86782836914062,411.2742614746094,157.43890380859375,1.4975590705871582,30.094486236572266,105.34231567382812,254.91514587402344,464.83636474609375,892.664794921875,813.4213256835938,346.612548828125,374.9263000488281,744.67138671875,964.3367309570312,750.5230102539062,888.4503784179688,1238.1490478515625,943.46875,1123.931396484375,1095.267822265625,1095.1357421875,1769.727294921875,2931.2763671875,2868.58154296875,1810.3560791015625,1141.7384033203125,1084.0523681640625,2367.302978515625,2576.817626953125,3971.543212890625,5890.60302734375,2299.945556640625,2886.287841796875,7220.77685546875,9366.7783203125,6249.67333984375,3986.476318359375,1817.12646484375,393.3439025878906,136.8335418701172,23.619129180908203,29.560535430908203,39.04072952270508,79.6169662475586,125.67707824707033,243.3203125,340.1456298828125,461.79339599609375,539.2616577148438,432.1566162109375,461.18463134765625,576.2824096679688,612.8749389648438,1340.29638671875,1179.42578125,1013.9397583007812,1328.1441650390625,1515.6973876953125,2311.129150390625,2614.81787109375,2860.515869140625,3112.829345703125,2432.657958984375,2452.225341796875,5798.49267578125,8967.1328125,11954.02734375,18875.55859375,17316.5,4867.28369140625,2977.46044921875,12250.2060546875,17540.103515625,2773.459716796875,155.46560668945312,31.53146171569824,51.10757827758789,54.16431427001953,87.60303497314453,197.7284393310547,139.9778594970703,102.70340728759766,143.56048583984375,242.12998962402344,298.5028991699219,413.9733581542969,662.4776000976562,1094.14990234375,1448.5086669921875,1391.3515625,1130.0401611328125,1280.4947509765625,1168.168701171875,2037.16259765625,2870.203125,3047.260498046875,3057.7060546875,3136.61865234375,3278.79296875,3829.858154296875,8509.044921875,11358.98046875,12426.8994140625,12974.9111328125,9767.416015625,6038.10302734375,8422.69921875,8635.875,2288.375732421875,182.8451232910156,723.6754150390625,610.899169921875,85.11027526855469,56.9948844909668,199.17630004882807,284.4135437011719,223.60406494140625,115.90497589111328,108.0781478881836,319.3941955566406,347.4877624511719,444.8445739746094,414.38226318359375,331.060546875,235.6859588623047,364.4311218261719,533.1340942382812,1196.0460205078125,1830.31591796875,1535.593505859375,1804.9942626953125,1099.5810546875,2958.419677734375,3801.3203125,4897.06591796875,4838.23974609375,4012.41064453125,4588.166015625,7157.70458984375,11117.03125,10938.3203125,8523.8779296875,7591.88916015625,6156.22998046875,3479.35595703125,6790.109375,2070.75341796875,376.8615417480469,888.4359741210938,940.6228637695312,484.9214477539063,97.8365249633789,114.92174530029295,342.70428466796875,506.2051696777344,808.1044921875,696.0924682617188,361.7613220214844,669.6588134765625,925.2648315429688,854.4544067382812,807.2987060546875,853.297607421875,895.159912109375,838.0204467773438,528.0618286132812,1117.5274658203125,1407.76416015625,2001.3011474609373,2139.445068359375,1268.688720703125,1610.5400390625,3600.3115234375,3763.908203125,6966.38037109375,6801.3857421875,5934.9521484375,5714.77587890625,9771.0341796875,10264.796875,6821.009765625,2869.0830078125,3166.744140625,3530.028076171875,3688.186767578125,1511.360595703125,1164.57421875,528.3597412109375,743.5765380859375,395.4118347167969,487.5422058105469,18.70952033996582,328.4812927246094,855.2467651367188,1205.3699951171875,841.149658203125,673.1876220703125,901.0150146484376,1073.687255859375,1037.458251953125,1159.8177490234375,947.9212036132812,974.5607299804688,938.0657348632812,1187.78955078125,702.0369873046875,1284.8912353515625,1326.84326171875,1984.16015625,2282.78466796875,2288.056884765625,1664.4482421875,3434.10107421875,3317.472900390625,5469.2060546875,3666.285888671875,2195.896728515625,1732.111572265625,6562.04638671875,13227.7578125,13222.109375,4104.78759765625,2453.778564453125,3456.030517578125,6053.97900390625,4575.705078125,1530.306396484375,1485.899658203125,1791.4500732421875,1572.1142578125,199.53744506835932,405.0318908691406,987.186767578125,1651.1959228515625,1208.8865966796875,1948.4017333984373,1813.265625,1763.674072265625,1504.1817626953125,1665.562255859375,1693.57763671875,1362.67431640625,974.4502563476562,1220.895263671875,779.9995727539062,1045.27880859375,1069.4935302734375,1086.2279052734375,1542.7559814453125,2053.453125,1943.828857421875,2453.135498046875,2770.138916015625,4050.15966796875,6403.283203125,5870.5908203125,2193.057861328125,3209.3037109375,5063.4208984375,4237.4541015625,1867.2786865234373,3800.131103515625,6365.18408203125,8520.26171875,8382.80078125,9661.013671875,8618.115234375,6081.60986328125,3838.06396484375,453.7002868652344,658.2334594726562,354.9335021972656,840.9107666015625,1186.5716552734375,2110.63916015625,2131.015625,1252.11767578125,757.5952758789062,599.6610717773438,815.6505737304688,529.141357421875,535.3505859375,766.9000244140625,840.10107421875,487.3905029296875,459.0769348144531,524.2965087890625,1620.9033203125,2152.734375,2040.3465576171875,2142.224365234375,2604.52294921875,3418.519287109375,4713.13037109375,4599.0537109375,2558.42822265625,3588.1904296875,3915.948974609375,2503.3251953125,1302.745849609375,2081.22119140625,188.5145263671875,1381.4981689453125,4199.36962890625,4681.4755859375,6884.72705078125,4696.9130859375,3391.10888671875,1672.4537353515625,54.611934661865234,615.1962890625,608.1469116210938,304.78485107421875,373.8807067871094,1506.806884765625,1975.379638671875,1836.2213134765625,869.2042846679688,536.9169311523438,453.3005065917969,334.54669189453125,407.5481567382813,320.87701416015625,324.1278381347656,256.53985595703125,488.6263732910156,539.0639038085938,1549.3131103515625,1897.21142578125,2342.3564453125,2070.153076171875,1706.6356201171875,1899.1395263671875,1257.0758056640625,1312.7830810546875,3050.063720703125,4172.16552734375,2936.73779296875,1389.8812255859375,601.6731567382812,316.4658203125,348.10894775390625,1811.1142578125,3054.178466796875,2347.386474609375,3481.22509765625,3152.9375,2500.976806640625,1445.082763671875,393.836669921875,72.03666687011719,397.02880859375,341.84332275390625,259.8892822265625,226.6770782470703,409.5839538574219,848.7025756835938,538.9915161132812,299.2066345214844,220.0100860595703,242.74752807617188,219.45529174804688,154.9054412841797,152.5998992919922,175.99984741210938,109.38897705078124,298.1039123535156,290.5434875488281,696.268798828125,1671.081298828125,2169.382568359375,2076.303466796875,1899.426513671875,859.9541625976562,465.4363098144531,314.0418395996094,529.59228515625,941.8035888671876,872.8312377929688,667.3911743164062,200.9263916015625,422.76800537109375,1834.9425048828125,3013.868896484375,2184.774169921875,1842.617431640625,2123.94580078125,2744.63134765625,1981.056884765625,1325.2542724609375,1048.37841796875,682.2017822265625,121.8229751586914,49.74812698364258,2.993978977203369,130.9564666748047,287.9515686035156,201.440658569336,170.5477752685547,212.0084686279297,443.1790771484375,950.6054077148438,1087.053955078125,1202.035888671875,1019.9700927734376,1085.6632080078125,950.181396484375,1006.1640014648438,1050.0799560546875,375.1736755371094,391.5101623535156,571.097900390625,643.5965576171875,1358.4078369140625,2040.8609619140625,2008.16455078125,1354.5479736328125,312.4681396484375,159.16534423828125,528.700927734375,421.9629211425781,285.25994873046875,244.5179443359375,902.189208984375,2549.021240234375,3041.896484375,985.7077026367188,819.7108764648438,661.4312133789062,1517.73193359375,1306.7691650390625,1043.5325927734375,1465.4755859375,1613.8875732421875,590.4903564453125,184.21327209472656,124.4211883544922,807.5810546875,1457.975830078125,1060.6190185546875,795.6942749023438,876.1971435546875,704.1091918945312,755.19580078125,1679.3887939453125,1986.083984375,1793.58251953125,1669.2286376953125,1627.8677978515625,1895.3612060546875,1853.0706787109373,1193.6971435546875,353.6958312988281,528.5020751953125,634.3280639648438,667.3992309570312,1399.4425048828125,1227.821533203125,452.861328125,122.70208740234376,460.2005615234375,152.26686096191406,92.96446228027344,96.92726135253906,211.6236114501953,509.6600646972656,1339.9697265625,1847.0802001953125,1348.003173828125,1445.69482421875,490.6397399902344,521.04345703125,528.7855834960938,240.3502960205078,291.4589538574219,360.705078125,173.48434448242188,263.1422424316406,223.9626617431641,606.2503051757812,736.3074340820312,1013.7757568359376,1227.178466796875,1578.2691650390625,1295.1644287109375,601.7595825195312,257.5632019042969,533.3353271484375,425.4725646972656,203.78823852539065,148.76905822753906,173.55511474609375,240.07388305664065,370.65960693359375,446.4666748046875,623.0398559570312,632.9165649414062,926.4417114257812,1009.7705078125,952.064453125,387.7154235839844,116.6545639038086,88.65038299560547,108.94266510009766,64.64034271240234,44.12084579467773,41.65827560424805,47.52221298217773,72.51296997070312,144.95750427246094,561.067626953125,1159.6585693359375,802.7286987304688,701.9442138671875,560.9107666015625,274.2564697265625,272.0621643066406,161.59548950195312,130.64236450195312,145.6709442138672,176.2481689453125,129.29779052734375,154.14703369140625,1039.400146484375,1030.752197265625,636.7994384765625,599.7838745117188,776.2791748046875,500.17138671875,169.51373291015625,133.58396911621094,205.2762756347656,90.02790069580078,11.69416618347168,19.07416725158692,113.70327758789062,209.4113922119141,210.3256225585937,331.7444763183594,542.012451171875,637.8970336914062,154.63841247558594,69.13963317871094,45.97349166870117,46.72726821899414,35.298919677734375,38.90097427368164,60.2628288269043,44.94264221191406,117.92335510253906,655.8869018554688,928.2647705078124,411.1160583496094,192.624252319336,123.1965560913086,160.2586669921875,158.27833557128906,274.1124267578125,175.53521728515625,300.465087890625,990.6219482421876,450.5507507324219,11.513407707214355,1261.388671875,1293.6033935546875,826.01904296875,554.1541137695312,378.121337890625,162.48193359375,70.45732116699219,28.72854423522949,64.27622985839844,65.86116790771484,36.3842887878418,42.02742004394531,49.707889556884766,38.96443176269531,47.91630172729492,150.01025390625,659.3965454101562,731.282470703125,234.8470458984375,113.6518783569336,62.89875030517578,105.99838256835938,327.362060546875,518.0643310546875,268.6994934082031,705.1622924804688,1215.35986328125,1160.82861328125,320.5765380859375,842.8202514648438,685.324951171875,314.7710876464844,85.52888488769531,33.29862976074219,10.999119758605955,58.795711517333984,50.63676834106445,70.34169006347656,69.8019027709961,40.34040451049805,56.93149948120117,265.6038818359375,388.6124572753906,225.45057678222656,99.62432861328124,63.11209487915039,25.38489532470703,76.88813781738281,207.659408569336,637.2115478515625,857.2281494140625,959.3792114257812,757.6140747070312,504.0444641113281,201.42398071289065,32.26926803588867,9.125398635864258,58.3762092590332,43.69259643554688,43.42560195922852,49.333614349365234,66.52981567382812,116.884033203125,216.9490509033203,70.68802642822266,80.45005798339844,103.21656036376952,85.01475524902344,174.39199829101562,186.01319885253903,321.66558837890625,403.1967468261719,187.67849731445312,87.79674530029297,7.222929954528809,2.778900146484375,20.304059982299805,25.192665100097656,14.116853713989258,36.61592864990234,77.30728912353516,165.01332092285156,143.5420684814453,102.70330047607422,224.5221099853516,334.4949645996094,353.3573608398437,28.56262588500977,57.96057891845703,92.88224029541016,165.177734375,228.97027587890625,143.41055297851562,99.74156188964844,97.2983169555664,14.762961387634276,11.002124786376951,34.579925537109375,29.629674911499023,0.919191837310791],\"sizemode\":\"area\",\"sizeref\":47.188896484375},\"mode\":\"markers\",\"name\":\"\",\"showlegend\":false,\"subplot\":\"mapbox\",\"type\":\"scattermapbox\"}],                        {\"coloraxis\":{\"colorbar\":{\"title\":{\"text\":\"avg_user_selection\"}},\"colorscale\":[[0.0,\"#fde725\"],[0.1111111111111111,\"#b5de2b\"],[0.2222222222222222,\"#6ece58\"],[0.3333333333333333,\"#35b779\"],[0.4444444444444444,\"#1f9e89\"],[0.5555555555555556,\"#26828e\"],[0.6666666666666666,\"#31688e\"],[0.7777777777777778,\"#3e4989\"],[0.8888888888888888,\"#482878\"],[1.0,\"#440154\"]]},\"legend\":{\"itemsizing\":\"constant\",\"tracegroupgap\":0},\"mapbox\":{\"accesstoken\":\"pk.eyJ1IjoiZ29vZGdhbWUiLCJhIjoiY2t0YTF4bDUwMWhsMzJ1cWx0NDN2NjNxMyJ9.3yNf5kOkcxOvnjxJuXRlYg\",\"center\":{\"lat\":55.67183329279963,\"lon\":12.486148099095798},\"domain\":{\"x\":[0.0,1.0],\"y\":[0.0,1.0]},\"style\":\"outdoors\",\"zoom\":8},\"margin\":{\"t\":60},\"template\":{\"data\":{\"bar\":[{\"error_x\":{\"color\":\"#2a3f5f\"},\"error_y\":{\"color\":\"#2a3f5f\"},\"marker\":{\"line\":{\"color\":\"#E5ECF6\",\"width\":0.5},\"pattern\":{\"fillmode\":\"overlay\",\"size\":10,\"solidity\":0.2}},\"type\":\"bar\"}],\"barpolar\":[{\"marker\":{\"line\":{\"color\":\"#E5ECF6\",\"width\":0.5},\"pattern\":{\"fillmode\":\"overlay\",\"size\":10,\"solidity\":0.2}},\"type\":\"barpolar\"}],\"carpet\":[{\"aaxis\":{\"endlinecolor\":\"#2a3f5f\",\"gridcolor\":\"white\",\"linecolor\":\"white\",\"minorgridcolor\":\"white\",\"startlinecolor\":\"#2a3f5f\"},\"baxis\":{\"endlinecolor\":\"#2a3f5f\",\"gridcolor\":\"white\",\"linecolor\":\"white\",\"minorgridcolor\":\"white\",\"startlinecolor\":\"#2a3f5f\"},\"type\":\"carpet\"}],\"choropleth\":[{\"colorbar\":{\"outlinewidth\":0,\"ticks\":\"\"},\"type\":\"choropleth\"}],\"contour\":[{\"colorbar\":{\"outlinewidth\":0,\"ticks\":\"\"},\"colorscale\":[[0.0,\"#0d0887\"],[0.1111111111111111,\"#46039f\"],[0.2222222222222222,\"#7201a8\"],[0.3333333333333333,\"#9c179e\"],[0.4444444444444444,\"#bd3786\"],[0.5555555555555556,\"#d8576b\"],[0.6666666666666666,\"#ed7953\"],[0.7777777777777778,\"#fb9f3a\"],[0.8888888888888888,\"#fdca26\"],[1.0,\"#f0f921\"]],\"type\":\"contour\"}],\"contourcarpet\":[{\"colorbar\":{\"outlinewidth\":0,\"ticks\":\"\"},\"type\":\"contourcarpet\"}],\"heatmap\":[{\"colorbar\":{\"outlinewidth\":0,\"ticks\":\"\"},\"colorscale\":[[0.0,\"#0d0887\"],[0.1111111111111111,\"#46039f\"],[0.2222222222222222,\"#7201a8\"],[0.3333333333333333,\"#9c179e\"],[0.4444444444444444,\"#bd3786\"],[0.5555555555555556,\"#d8576b\"],[0.6666666666666666,\"#ed7953\"],[0.7777777777777778,\"#fb9f3a\"],[0.8888888888888888,\"#fdca26\"],[1.0,\"#f0f921\"]],\"type\":\"heatmap\"}],\"heatmapgl\":[{\"colorbar\":{\"outlinewidth\":0,\"ticks\":\"\"},\"colorscale\":[[0.0,\"#0d0887\"],[0.1111111111111111,\"#46039f\"],[0.2222222222222222,\"#7201a8\"],[0.3333333333333333,\"#9c179e\"],[0.4444444444444444,\"#bd3786\"],[0.5555555555555556,\"#d8576b\"],[0.6666666666666666,\"#ed7953\"],[0.7777777777777778,\"#fb9f3a\"],[0.8888888888888888,\"#fdca26\"],[1.0,\"#f0f921\"]],\"type\":\"heatmapgl\"}],\"histogram\":[{\"marker\":{\"pattern\":{\"fillmode\":\"overlay\",\"size\":10,\"solidity\":0.2}},\"type\":\"histogram\"}],\"histogram2d\":[{\"colorbar\":{\"outlinewidth\":0,\"ticks\":\"\"},\"colorscale\":[[0.0,\"#0d0887\"],[0.1111111111111111,\"#46039f\"],[0.2222222222222222,\"#7201a8\"],[0.3333333333333333,\"#9c179e\"],[0.4444444444444444,\"#bd3786\"],[0.5555555555555556,\"#d8576b\"],[0.6666666666666666,\"#ed7953\"],[0.7777777777777778,\"#fb9f3a\"],[0.8888888888888888,\"#fdca26\"],[1.0,\"#f0f921\"]],\"type\":\"histogram2d\"}],\"histogram2dcontour\":[{\"colorbar\":{\"outlinewidth\":0,\"ticks\":\"\"},\"colorscale\":[[0.0,\"#0d0887\"],[0.1111111111111111,\"#46039f\"],[0.2222222222222222,\"#7201a8\"],[0.3333333333333333,\"#9c179e\"],[0.4444444444444444,\"#bd3786\"],[0.5555555555555556,\"#d8576b\"],[0.6666666666666666,\"#ed7953\"],[0.7777777777777778,\"#fb9f3a\"],[0.8888888888888888,\"#fdca26\"],[1.0,\"#f0f921\"]],\"type\":\"histogram2dcontour\"}],\"mesh3d\":[{\"colorbar\":{\"outlinewidth\":0,\"ticks\":\"\"},\"type\":\"mesh3d\"}],\"parcoords\":[{\"line\":{\"colorbar\":{\"outlinewidth\":0,\"ticks\":\"\"}},\"type\":\"parcoords\"}],\"pie\":[{\"automargin\":true,\"type\":\"pie\"}],\"scatter\":[{\"marker\":{\"colorbar\":{\"outlinewidth\":0,\"ticks\":\"\"}},\"type\":\"scatter\"}],\"scatter3d\":[{\"line\":{\"colorbar\":{\"outlinewidth\":0,\"ticks\":\"\"}},\"marker\":{\"colorbar\":{\"outlinewidth\":0,\"ticks\":\"\"}},\"type\":\"scatter3d\"}],\"scattercarpet\":[{\"marker\":{\"colorbar\":{\"outlinewidth\":0,\"ticks\":\"\"}},\"type\":\"scattercarpet\"}],\"scattergeo\":[{\"marker\":{\"colorbar\":{\"outlinewidth\":0,\"ticks\":\"\"}},\"type\":\"scattergeo\"}],\"scattergl\":[{\"marker\":{\"colorbar\":{\"outlinewidth\":0,\"ticks\":\"\"}},\"type\":\"scattergl\"}],\"scattermapbox\":[{\"marker\":{\"colorbar\":{\"outlinewidth\":0,\"ticks\":\"\"}},\"type\":\"scattermapbox\"}],\"scatterpolar\":[{\"marker\":{\"colorbar\":{\"outlinewidth\":0,\"ticks\":\"\"}},\"type\":\"scatterpolar\"}],\"scatterpolargl\":[{\"marker\":{\"colorbar\":{\"outlinewidth\":0,\"ticks\":\"\"}},\"type\":\"scatterpolargl\"}],\"scatterternary\":[{\"marker\":{\"colorbar\":{\"outlinewidth\":0,\"ticks\":\"\"}},\"type\":\"scatterternary\"}],\"surface\":[{\"colorbar\":{\"outlinewidth\":0,\"ticks\":\"\"},\"colorscale\":[[0.0,\"#0d0887\"],[0.1111111111111111,\"#46039f\"],[0.2222222222222222,\"#7201a8\"],[0.3333333333333333,\"#9c179e\"],[0.4444444444444444,\"#bd3786\"],[0.5555555555555556,\"#d8576b\"],[0.6666666666666666,\"#ed7953\"],[0.7777777777777778,\"#fb9f3a\"],[0.8888888888888888,\"#fdca26\"],[1.0,\"#f0f921\"]],\"type\":\"surface\"}],\"table\":[{\"cells\":{\"fill\":{\"color\":\"#EBF0F8\"},\"line\":{\"color\":\"white\"}},\"header\":{\"fill\":{\"color\":\"#C8D4E3\"},\"line\":{\"color\":\"white\"}},\"type\":\"table\"}]},\"layout\":{\"annotationdefaults\":{\"arrowcolor\":\"#2a3f5f\",\"arrowhead\":0,\"arrowwidth\":1},\"autotypenumbers\":\"strict\",\"coloraxis\":{\"colorbar\":{\"outlinewidth\":0,\"ticks\":\"\"}},\"colorscale\":{\"diverging\":[[0,\"#8e0152\"],[0.1,\"#c51b7d\"],[0.2,\"#de77ae\"],[0.3,\"#f1b6da\"],[0.4,\"#fde0ef\"],[0.5,\"#f7f7f7\"],[0.6,\"#e6f5d0\"],[0.7,\"#b8e186\"],[0.8,\"#7fbc41\"],[0.9,\"#4d9221\"],[1,\"#276419\"]],\"sequential\":[[0.0,\"#0d0887\"],[0.1111111111111111,\"#46039f\"],[0.2222222222222222,\"#7201a8\"],[0.3333333333333333,\"#9c179e\"],[0.4444444444444444,\"#bd3786\"],[0.5555555555555556,\"#d8576b\"],[0.6666666666666666,\"#ed7953\"],[0.7777777777777778,\"#fb9f3a\"],[0.8888888888888888,\"#fdca26\"],[1.0,\"#f0f921\"]],\"sequentialminus\":[[0.0,\"#0d0887\"],[0.1111111111111111,\"#46039f\"],[0.2222222222222222,\"#7201a8\"],[0.3333333333333333,\"#9c179e\"],[0.4444444444444444,\"#bd3786\"],[0.5555555555555556,\"#d8576b\"],[0.6666666666666666,\"#ed7953\"],[0.7777777777777778,\"#fb9f3a\"],[0.8888888888888888,\"#fdca26\"],[1.0,\"#f0f921\"]]},\"colorway\":[\"#636efa\",\"#EF553B\",\"#00cc96\",\"#ab63fa\",\"#FFA15A\",\"#19d3f3\",\"#FF6692\",\"#B6E880\",\"#FF97FF\",\"#FECB52\"],\"font\":{\"color\":\"#2a3f5f\"},\"geo\":{\"bgcolor\":\"white\",\"lakecolor\":\"white\",\"landcolor\":\"#E5ECF6\",\"showlakes\":true,\"showland\":true,\"subunitcolor\":\"white\"},\"hoverlabel\":{\"align\":\"left\"},\"hovermode\":\"closest\",\"mapbox\":{\"style\":\"light\"},\"paper_bgcolor\":\"white\",\"plot_bgcolor\":\"#E5ECF6\",\"polar\":{\"angularaxis\":{\"gridcolor\":\"white\",\"linecolor\":\"white\",\"ticks\":\"\"},\"bgcolor\":\"#E5ECF6\",\"radialaxis\":{\"gridcolor\":\"white\",\"linecolor\":\"white\",\"ticks\":\"\"}},\"scene\":{\"xaxis\":{\"backgroundcolor\":\"#E5ECF6\",\"gridcolor\":\"white\",\"gridwidth\":2,\"linecolor\":\"white\",\"showbackground\":true,\"ticks\":\"\",\"zerolinecolor\":\"white\"},\"yaxis\":{\"backgroundcolor\":\"#E5ECF6\",\"gridcolor\":\"white\",\"gridwidth\":2,\"linecolor\":\"white\",\"showbackground\":true,\"ticks\":\"\",\"zerolinecolor\":\"white\"},\"zaxis\":{\"backgroundcolor\":\"#E5ECF6\",\"gridcolor\":\"white\",\"gridwidth\":2,\"linecolor\":\"white\",\"showbackground\":true,\"ticks\":\"\",\"zerolinecolor\":\"white\"}},\"shapedefaults\":{\"line\":{\"color\":\"#2a3f5f\"}},\"ternary\":{\"aaxis\":{\"gridcolor\":\"white\",\"linecolor\":\"white\",\"ticks\":\"\"},\"baxis\":{\"gridcolor\":\"white\",\"linecolor\":\"white\",\"ticks\":\"\"},\"bgcolor\":\"#E5ECF6\",\"caxis\":{\"gridcolor\":\"white\",\"linecolor\":\"white\",\"ticks\":\"\"}},\"title\":{\"x\":0.05},\"xaxis\":{\"automargin\":true,\"gridcolor\":\"white\",\"linecolor\":\"white\",\"ticks\":\"\",\"title\":{\"standoff\":15},\"zerolinecolor\":\"white\",\"zerolinewidth\":2},\"yaxis\":{\"automargin\":true,\"gridcolor\":\"white\",\"linecolor\":\"white\",\"ticks\":\"\",\"title\":{\"standoff\":15},\"zerolinecolor\":\"white\",\"zerolinewidth\":2}}}},                        {\"responsive\": true}                    ).then(function(){\n",
       "                            \n",
       "var gd = document.getElementById('2d356c12-0d61-4a9e-aa7c-cda3ec6a5a7e');\n",
       "var x = new MutationObserver(function (mutations, observer) {{\n",
       "        var display = window.getComputedStyle(gd).display;\n",
       "        if (!display || display === 'none') {{\n",
       "            console.log([gd, 'removed!']);\n",
       "            Plotly.purge(gd);\n",
       "            observer.disconnect();\n",
       "        }}\n",
       "}});\n",
       "\n",
       "// Listen for the removal of the full notebook cells\n",
       "var notebookContainer = gd.closest('#notebook-container');\n",
       "if (notebookContainer) {{\n",
       "    x.observe(notebookContainer, {childList: true});\n",
       "}}\n",
       "\n",
       "// Listen for the clearing of the current output cell\n",
       "var outputEl = gd.closest('.output');\n",
       "if (outputEl) {{\n",
       "    x.observe(outputEl, {childList: true});\n",
       "}}\n",
       "\n",
       "                        })                };                });            </script>        </div>"
      ]
     },
     "metadata": {},
     "output_type": "display_data"
    }
   ],
   "source": [
    "import plotly.express as px\n",
    " \n",
    "\n",
    "#polygons_df[\"lon\"] = polygons_df.geometry.x\n",
    "#polygons_df[\"lat\"] = polygons_df.geometry.y\n",
    "\n",
    "px.set_mapbox_access_token(open(\".mapbox_token\").read())\n",
    "fig = px.scatter_mapbox(\n",
    "        df, \n",
    "        #pd.DataFrame({\"lon\":[0], \"lat\":[0]}),\n",
    "        lon=\"lon\", lat=\"lat\", \n",
    "        hover_data=[\"population_density\"] + user_selected_amenities,\n",
    "        size=\"population_density\",\n",
    "        color='avg_user_selection',\n",
    "        color_continuous_scale=\"Viridis_r\", #viridis reversed\n",
    "        mapbox_style=\"outdoors\",\n",
    "    )\n",
    "\n",
    "fig.show()"
   ]
  },
  {
   "cell_type": "code",
   "execution_count": 37,
   "id": "b832c1b3",
   "metadata": {},
   "outputs": [
    {
     "data": {
      "application/vnd.plotly.v1+json": {
       "config": {
        "plotlyServerURL": "https://plot.ly"
       },
       "data": [
        {
         "hovertemplate": "population_density=%{x}<br>avg_user_selection=%{y}<extra></extra>",
         "legendgroup": "",
         "marker": {
          "color": "#636efa",
          "symbol": "circle"
         },
         "mode": "markers",
         "name": "",
         "orientation": "v",
         "showlegend": false,
         "type": "scatter",
         "x": [
          165.16604614257812,
          168.39463806152344,
          103.64009857177734,
          98.20675659179688,
          79.47325897216797,
          108.66566467285156,
          232.0848999023437,
          173.19691467285156,
          202.96615600585932,
          150.5589599609375,
          153.0946502685547,
          112.43335723876952,
          161.4676055908203,
          269.9061889648437,
          363.4380187988281,
          457.9251098632813,
          319.52325439453125,
          59.86871337890625,
          392.48193359375,
          886.0536499023438,
          804.4918823242188,
          1781.3787841796875,
          2163.23974609375,
          1746.8763427734375,
          998.9478759765624,
          639.20849609375,
          366.77935791015625,
          400.6148376464844,
          472.6580200195313,
          449.0005187988281,
          688.4654541015625,
          1236.50537109375,
          1269.4141845703125,
          853.7958374023438,
          294.1271057128906,
          309.78680419921875,
          476.0281372070313,
          407.0012817382813,
          245.18836975097656,
          158.38479614257812,
          134.84768676757812,
          108.0101547241211,
          292.7565002441406,
          620.0610961914062,
          652.4688720703125,
          379.1524353027344,
          297.7792358398437,
          570.0169677734375,
          906.2573852539062,
          1065.61669921875,
          1498.702880859375,
          1066.004638671875,
          1497.874755859375,
          1780.8328857421875,
          2236.4755859375,
          2659.361572265625,
          2025.4862060546875,
          1213.674560546875,
          1574.7679443359375,
          1175.326171875,
          1090.31689453125,
          808.9024658203125,
          1081.57421875,
          1570.003662109375,
          1776.9622802734375,
          2144.379150390625,
          1826.3193359375,
          1548.6912841796875,
          249.47903442382807,
          1167.64453125,
          966.192138671875,
          1305.2086181640625,
          891.0482177734375,
          334.6098937988281,
          122.65530395507812,
          256.4307556152344,
          359.4284362792969,
          509.4748229980469,
          1027.81201171875,
          874.6234130859375,
          661.0255737304688,
          703.5906982421875,
          493.1570739746094,
          350.5083923339844,
          846.3206176757812,
          1334.1431884765625,
          1001.982421875,
          1695.135009765625,
          2128.39111328125,
          2291.33447265625,
          2071.06298828125,
          962.532470703125,
          1325.1063232421875,
          1915.4091796875,
          905.7172241210938,
          1066.2364501953125,
          1118.0311279296875,
          948.2640380859376,
          2258.08935546875,
          2268.72412109375,
          886.1689453125,
          1116.36669921875,
          666.0859375,
          5.568890571594238,
          1208.0611572265625,
          903.6715698242188,
          458.4444274902344,
          321.9373474121094,
          257.7934265136719,
          275.13018798828125,
          441.0778198242188,
          334.2926330566406,
          413.0744934082031,
          406.3038024902344,
          339.1981201171875,
          769.8845825195312,
          1184.5262451171875,
          1003.3912353515624,
          724.3798828125,
          911.1107788085938,
          932.3204956054688,
          1069.5045166015625,
          1130.451416015625,
          1301.2750244140625,
          1493.772216796875,
          2217.25439453125,
          1789.8487548828125,
          1176.073974609375,
          1063.74951171875,
          1219.770263671875,
          830.3035278320312,
          1420.3134765625,
          1388.8892822265625,
          2134.84375,
          1912.821044921875,
          1343.95703125,
          783.6709594726562,
          28.78954315185547,
          269.4715270996094,
          159.05494689941406,
          361.65380859375,
          543.6597290039062,
          797.6159057617188,
          807.8106079101562,
          508.1194458007813,
          591.5426635742188,
          662.9345092773438,
          499.27435302734375,
          456.5343017578125,
          1056.9776611328125,
          1171.90234375,
          1266.5552978515625,
          1087.2318115234375,
          1154.980712890625,
          1087.2086181640625,
          1247.568359375,
          1138.6053466796875,
          2103.65771484375,
          2210.61181640625,
          1350.652587890625,
          2383.584228515625,
          2602.77392578125,
          2411.49462890625,
          2016.877197265625,
          2015.9080810546875,
          1777.3438720703125,
          1555.393798828125,
          1452.4632568359375,
          2492.114013671875,
          2301.34912109375,
          257.7029113769531,
          297.6363220214844,
          394.9732055664063,
          763.41552734375,
          1457.904052734375,
          1392.428466796875,
          1020.3494262695312,
          850.6692504882812,
          761.5850219726562,
          1175.7545166015625,
          859.2521362304688,
          904.3678588867188,
          1121.5174560546875,
          1358.399658203125,
          1326.5462646484375,
          1369.7177734375,
          1434.376953125,
          1637.0318603515625,
          2071.39599609375,
          2316.32763671875,
          2185.2333984375,
          1157.9141845703125,
          1287.0625,
          2347.09228515625,
          2578.859375,
          1985.727783203125,
          2304.33935546875,
          1239.468505859375,
          2054.177001953125,
          1844.678955078125,
          1273.0682373046875,
          1620.2432861328125,
          3205.658203125,
          431.7415466308594,
          102.97657775878906,
          449.8934020996094,
          728.79736328125,
          1179.1097412109375,
          1468.0751953125,
          1178.45166015625,
          750.0337524414062,
          509.14794921875,
          645.091064453125,
          1096.145263671875,
          1154.878662109375,
          1128.67626953125,
          1166.5802001953125,
          970.56591796875,
          1275.12060546875,
          1392.55419921875,
          1154.7099609375,
          2070.95849609375,
          2188.310302734375,
          1481.9102783203125,
          3255.570556640625,
          1256.404541015625,
          953.1943359375,
          1046.6146240234375,
          594.9564208984375,
          2345.13037109375,
          3236.043701171875,
          2681.715087890625,
          2516.958251953125,
          1544.3955078125,
          960.9454956054688,
          2334.63427734375,
          344.29278564453125,
          145.86782836914062,
          411.2742614746094,
          157.43890380859375,
          1.4975590705871582,
          30.094486236572266,
          105.34231567382812,
          254.91514587402344,
          464.83636474609375,
          892.664794921875,
          813.4213256835938,
          346.612548828125,
          374.9263000488281,
          744.67138671875,
          964.3367309570312,
          750.5230102539062,
          888.4503784179688,
          1238.1490478515625,
          943.46875,
          1123.931396484375,
          1095.267822265625,
          1095.1357421875,
          1769.727294921875,
          2931.2763671875,
          2868.58154296875,
          1810.3560791015625,
          1141.7384033203125,
          1084.0523681640625,
          2367.302978515625,
          2576.817626953125,
          3971.543212890625,
          5890.60302734375,
          2299.945556640625,
          2886.287841796875,
          7220.77685546875,
          9366.7783203125,
          6249.67333984375,
          3986.476318359375,
          1817.12646484375,
          393.3439025878906,
          136.8335418701172,
          23.619129180908203,
          29.560535430908203,
          39.04072952270508,
          79.6169662475586,
          125.67707824707033,
          243.3203125,
          340.1456298828125,
          461.79339599609375,
          539.2616577148438,
          432.1566162109375,
          461.18463134765625,
          576.2824096679688,
          612.8749389648438,
          1340.29638671875,
          1179.42578125,
          1013.9397583007812,
          1328.1441650390625,
          1515.6973876953125,
          2311.129150390625,
          2614.81787109375,
          2860.515869140625,
          3112.829345703125,
          2432.657958984375,
          2452.225341796875,
          5798.49267578125,
          8967.1328125,
          11954.02734375,
          18875.55859375,
          17316.5,
          4867.28369140625,
          2977.46044921875,
          12250.2060546875,
          17540.103515625,
          2773.459716796875,
          155.46560668945312,
          31.53146171569824,
          51.10757827758789,
          54.16431427001953,
          87.60303497314453,
          197.7284393310547,
          139.9778594970703,
          102.70340728759766,
          143.56048583984375,
          242.12998962402344,
          298.5028991699219,
          413.9733581542969,
          662.4776000976562,
          1094.14990234375,
          1448.5086669921875,
          1391.3515625,
          1130.0401611328125,
          1280.4947509765625,
          1168.168701171875,
          2037.16259765625,
          2870.203125,
          3047.260498046875,
          3057.7060546875,
          3136.61865234375,
          3278.79296875,
          3829.858154296875,
          8509.044921875,
          11358.98046875,
          12426.8994140625,
          12974.9111328125,
          9767.416015625,
          6038.10302734375,
          8422.69921875,
          8635.875,
          2288.375732421875,
          182.8451232910156,
          723.6754150390625,
          610.899169921875,
          85.11027526855469,
          56.9948844909668,
          199.17630004882807,
          284.4135437011719,
          223.60406494140625,
          115.90497589111328,
          108.0781478881836,
          319.3941955566406,
          347.4877624511719,
          444.8445739746094,
          414.38226318359375,
          331.060546875,
          235.6859588623047,
          364.4311218261719,
          533.1340942382812,
          1196.0460205078125,
          1830.31591796875,
          1535.593505859375,
          1804.9942626953125,
          1099.5810546875,
          2958.419677734375,
          3801.3203125,
          4897.06591796875,
          4838.23974609375,
          4012.41064453125,
          4588.166015625,
          7157.70458984375,
          11117.03125,
          10938.3203125,
          8523.8779296875,
          7591.88916015625,
          6156.22998046875,
          3479.35595703125,
          6790.109375,
          2070.75341796875,
          376.8615417480469,
          888.4359741210938,
          940.6228637695312,
          484.9214477539063,
          97.8365249633789,
          114.92174530029295,
          342.70428466796875,
          506.2051696777344,
          808.1044921875,
          696.0924682617188,
          361.7613220214844,
          669.6588134765625,
          925.2648315429688,
          854.4544067382812,
          807.2987060546875,
          853.297607421875,
          895.159912109375,
          838.0204467773438,
          528.0618286132812,
          1117.5274658203125,
          1407.76416015625,
          2001.3011474609373,
          2139.445068359375,
          1268.688720703125,
          1610.5400390625,
          3600.3115234375,
          3763.908203125,
          6966.38037109375,
          6801.3857421875,
          5934.9521484375,
          5714.77587890625,
          9771.0341796875,
          10264.796875,
          6821.009765625,
          2869.0830078125,
          3166.744140625,
          3530.028076171875,
          3688.186767578125,
          1511.360595703125,
          1164.57421875,
          528.3597412109375,
          743.5765380859375,
          395.4118347167969,
          487.5422058105469,
          18.70952033996582,
          328.4812927246094,
          855.2467651367188,
          1205.3699951171875,
          841.149658203125,
          673.1876220703125,
          901.0150146484376,
          1073.687255859375,
          1037.458251953125,
          1159.8177490234375,
          947.9212036132812,
          974.5607299804688,
          938.0657348632812,
          1187.78955078125,
          702.0369873046875,
          1284.8912353515625,
          1326.84326171875,
          1984.16015625,
          2282.78466796875,
          2288.056884765625,
          1664.4482421875,
          3434.10107421875,
          3317.472900390625,
          5469.2060546875,
          3666.285888671875,
          2195.896728515625,
          1732.111572265625,
          6562.04638671875,
          13227.7578125,
          13222.109375,
          4104.78759765625,
          2453.778564453125,
          3456.030517578125,
          6053.97900390625,
          4575.705078125,
          1530.306396484375,
          1485.899658203125,
          1791.4500732421875,
          1572.1142578125,
          199.53744506835932,
          405.0318908691406,
          987.186767578125,
          1651.1959228515625,
          1208.8865966796875,
          1948.4017333984373,
          1813.265625,
          1763.674072265625,
          1504.1817626953125,
          1665.562255859375,
          1693.57763671875,
          1362.67431640625,
          974.4502563476562,
          1220.895263671875,
          779.9995727539062,
          1045.27880859375,
          1069.4935302734375,
          1086.2279052734375,
          1542.7559814453125,
          2053.453125,
          1943.828857421875,
          2453.135498046875,
          2770.138916015625,
          4050.15966796875,
          6403.283203125,
          5870.5908203125,
          2193.057861328125,
          3209.3037109375,
          5063.4208984375,
          4237.4541015625,
          1867.2786865234373,
          3800.131103515625,
          6365.18408203125,
          8520.26171875,
          8382.80078125,
          9661.013671875,
          8618.115234375,
          6081.60986328125,
          3838.06396484375,
          453.7002868652344,
          658.2334594726562,
          354.9335021972656,
          840.9107666015625,
          1186.5716552734375,
          2110.63916015625,
          2131.015625,
          1252.11767578125,
          757.5952758789062,
          599.6610717773438,
          815.6505737304688,
          529.141357421875,
          535.3505859375,
          766.9000244140625,
          840.10107421875,
          487.3905029296875,
          459.0769348144531,
          524.2965087890625,
          1620.9033203125,
          2152.734375,
          2040.3465576171875,
          2142.224365234375,
          2604.52294921875,
          3418.519287109375,
          4713.13037109375,
          4599.0537109375,
          2558.42822265625,
          3588.1904296875,
          3915.948974609375,
          2503.3251953125,
          1302.745849609375,
          2081.22119140625,
          188.5145263671875,
          1381.4981689453125,
          4199.36962890625,
          4681.4755859375,
          6884.72705078125,
          4696.9130859375,
          3391.10888671875,
          1672.4537353515625,
          54.611934661865234,
          615.1962890625,
          608.1469116210938,
          304.78485107421875,
          373.8807067871094,
          1506.806884765625,
          1975.379638671875,
          1836.2213134765625,
          869.2042846679688,
          536.9169311523438,
          453.3005065917969,
          334.54669189453125,
          407.5481567382813,
          320.87701416015625,
          324.1278381347656,
          256.53985595703125,
          488.6263732910156,
          539.0639038085938,
          1549.3131103515625,
          1897.21142578125,
          2342.3564453125,
          2070.153076171875,
          1706.6356201171875,
          1899.1395263671875,
          1257.0758056640625,
          1312.7830810546875,
          3050.063720703125,
          4172.16552734375,
          2936.73779296875,
          1389.8812255859375,
          601.6731567382812,
          316.4658203125,
          348.10894775390625,
          1811.1142578125,
          3054.178466796875,
          2347.386474609375,
          3481.22509765625,
          3152.9375,
          2500.976806640625,
          1445.082763671875,
          393.836669921875,
          72.03666687011719,
          397.02880859375,
          341.84332275390625,
          259.8892822265625,
          226.6770782470703,
          409.5839538574219,
          848.7025756835938,
          538.9915161132812,
          299.2066345214844,
          220.0100860595703,
          242.74752807617188,
          219.45529174804688,
          154.9054412841797,
          152.5998992919922,
          175.99984741210938,
          109.38897705078124,
          298.1039123535156,
          290.5434875488281,
          696.268798828125,
          1671.081298828125,
          2169.382568359375,
          2076.303466796875,
          1899.426513671875,
          859.9541625976562,
          465.4363098144531,
          314.0418395996094,
          529.59228515625,
          941.8035888671876,
          872.8312377929688,
          667.3911743164062,
          200.9263916015625,
          422.76800537109375,
          1834.9425048828125,
          3013.868896484375,
          2184.774169921875,
          1842.617431640625,
          2123.94580078125,
          2744.63134765625,
          1981.056884765625,
          1325.2542724609375,
          1048.37841796875,
          682.2017822265625,
          121.8229751586914,
          49.74812698364258,
          2.993978977203369,
          130.9564666748047,
          287.9515686035156,
          201.440658569336,
          170.5477752685547,
          212.0084686279297,
          443.1790771484375,
          950.6054077148438,
          1087.053955078125,
          1202.035888671875,
          1019.9700927734376,
          1085.6632080078125,
          950.181396484375,
          1006.1640014648438,
          1050.0799560546875,
          375.1736755371094,
          391.5101623535156,
          571.097900390625,
          643.5965576171875,
          1358.4078369140625,
          2040.8609619140625,
          2008.16455078125,
          1354.5479736328125,
          312.4681396484375,
          159.16534423828125,
          528.700927734375,
          421.9629211425781,
          285.25994873046875,
          244.5179443359375,
          902.189208984375,
          2549.021240234375,
          3041.896484375,
          985.7077026367188,
          819.7108764648438,
          661.4312133789062,
          1517.73193359375,
          1306.7691650390625,
          1043.5325927734375,
          1465.4755859375,
          1613.8875732421875,
          590.4903564453125,
          184.21327209472656,
          124.4211883544922,
          807.5810546875,
          1457.975830078125,
          1060.6190185546875,
          795.6942749023438,
          876.1971435546875,
          704.1091918945312,
          755.19580078125,
          1679.3887939453125,
          1986.083984375,
          1793.58251953125,
          1669.2286376953125,
          1627.8677978515625,
          1895.3612060546875,
          1853.0706787109373,
          1193.6971435546875,
          353.6958312988281,
          528.5020751953125,
          634.3280639648438,
          667.3992309570312,
          1399.4425048828125,
          1227.821533203125,
          452.861328125,
          122.70208740234376,
          460.2005615234375,
          152.26686096191406,
          92.96446228027344,
          96.92726135253906,
          211.6236114501953,
          509.6600646972656,
          1339.9697265625,
          1847.0802001953125,
          1348.003173828125,
          1445.69482421875,
          490.6397399902344,
          521.04345703125,
          528.7855834960938,
          240.3502960205078,
          291.4589538574219,
          360.705078125,
          173.48434448242188,
          263.1422424316406,
          223.9626617431641,
          606.2503051757812,
          736.3074340820312,
          1013.7757568359376,
          1227.178466796875,
          1578.2691650390625,
          1295.1644287109375,
          601.7595825195312,
          257.5632019042969,
          533.3353271484375,
          425.4725646972656,
          203.78823852539065,
          148.76905822753906,
          173.55511474609375,
          240.07388305664065,
          370.65960693359375,
          446.4666748046875,
          623.0398559570312,
          632.9165649414062,
          926.4417114257812,
          1009.7705078125,
          952.064453125,
          387.7154235839844,
          116.6545639038086,
          88.65038299560547,
          108.94266510009766,
          64.64034271240234,
          44.12084579467773,
          41.65827560424805,
          47.52221298217773,
          72.51296997070312,
          144.95750427246094,
          561.067626953125,
          1159.6585693359375,
          802.7286987304688,
          701.9442138671875,
          560.9107666015625,
          274.2564697265625,
          272.0621643066406,
          161.59548950195312,
          130.64236450195312,
          145.6709442138672,
          176.2481689453125,
          129.29779052734375,
          154.14703369140625,
          1039.400146484375,
          1030.752197265625,
          636.7994384765625,
          599.7838745117188,
          776.2791748046875,
          500.17138671875,
          169.51373291015625,
          133.58396911621094,
          205.2762756347656,
          90.02790069580078,
          11.69416618347168,
          19.07416725158692,
          113.70327758789062,
          209.4113922119141,
          210.3256225585937,
          331.7444763183594,
          542.012451171875,
          637.8970336914062,
          154.63841247558594,
          69.13963317871094,
          45.97349166870117,
          46.72726821899414,
          35.298919677734375,
          38.90097427368164,
          60.2628288269043,
          44.94264221191406,
          117.92335510253906,
          655.8869018554688,
          928.2647705078124,
          411.1160583496094,
          192.624252319336,
          123.1965560913086,
          160.2586669921875,
          158.27833557128906,
          274.1124267578125,
          175.53521728515625,
          300.465087890625,
          990.6219482421876,
          450.5507507324219,
          11.513407707214355,
          1261.388671875,
          1293.6033935546875,
          826.01904296875,
          554.1541137695312,
          378.121337890625,
          162.48193359375,
          70.45732116699219,
          28.72854423522949,
          64.27622985839844,
          65.86116790771484,
          36.3842887878418,
          42.02742004394531,
          49.707889556884766,
          38.96443176269531,
          47.91630172729492,
          150.01025390625,
          659.3965454101562,
          731.282470703125,
          234.8470458984375,
          113.6518783569336,
          62.89875030517578,
          105.99838256835938,
          327.362060546875,
          518.0643310546875,
          268.6994934082031,
          705.1622924804688,
          1215.35986328125,
          1160.82861328125,
          320.5765380859375,
          842.8202514648438,
          685.324951171875,
          314.7710876464844,
          85.52888488769531,
          33.29862976074219,
          10.999119758605955,
          58.795711517333984,
          50.63676834106445,
          70.34169006347656,
          69.8019027709961,
          40.34040451049805,
          56.93149948120117,
          265.6038818359375,
          388.6124572753906,
          225.45057678222656,
          99.62432861328124,
          63.11209487915039,
          25.38489532470703,
          76.88813781738281,
          207.659408569336,
          637.2115478515625,
          857.2281494140625,
          959.3792114257812,
          757.6140747070312,
          504.0444641113281,
          201.42398071289065,
          32.26926803588867,
          9.125398635864258,
          58.3762092590332,
          43.69259643554688,
          43.42560195922852,
          49.333614349365234,
          66.52981567382812,
          116.884033203125,
          216.9490509033203,
          70.68802642822266,
          80.45005798339844,
          103.21656036376952,
          85.01475524902344,
          174.39199829101562,
          186.01319885253903,
          321.66558837890625,
          403.1967468261719,
          187.67849731445312,
          87.79674530029297,
          7.222929954528809,
          2.778900146484375,
          20.304059982299805,
          25.192665100097656,
          14.116853713989258,
          36.61592864990234,
          77.30728912353516,
          165.01332092285156,
          143.5420684814453,
          102.70330047607422,
          224.5221099853516,
          334.4949645996094,
          353.3573608398437,
          28.56262588500977,
          57.96057891845703,
          92.88224029541016,
          165.177734375,
          228.97027587890625,
          143.41055297851562,
          99.74156188964844,
          97.2983169555664,
          14.762961387634276,
          11.002124786376951,
          34.579925537109375,
          29.629674911499023,
          0.919191837310791
         ],
         "xaxis": "x",
         "y": [
          1000,
          1000,
          998.5864978902954,
          1000,
          993.6527777777778,
          836.4444444444445,
          761.6839826839827,
          920.6341463414634,
          964.5273631840796,
          999.5925925925926,
          1000,
          1000,
          1000,
          978.3245614035089,
          816.3636363636364,
          586.7777777777777,
          897.7204301075268,
          962.5238095238095,
          581.783950617284,
          760.9399999999999,
          969.5763888888888,
          622.4733333333334,
          292.02536231884056,
          861.8156732891831,
          899.9271708683473,
          945.076923076923,
          840.7647058823528,
          856.6318407960198,
          949.4166666666666,
          968.8238993710692,
          895.3497267759562,
          500.63926940639266,
          859.6964285714286,
          874.0256410256411,
          1000,
          951.2783882783883,
          764.701388888889,
          846.0772357723578,
          994.339393939394,
          989.8108108108108,
          947.5960784313726,
          857.9780701754386,
          848.8418079096045,
          933.929012345679,
          1000,
          1000,
          1000,
          956.847619047619,
          841.2687609075043,
          683.6448598130842,
          539.6333333333333,
          784.7733333333332,
          986.1518151815181,
          999.2289855072464,
          992.7769423558898,
          894.5887096774194,
          836.5447154471544,
          977.2894736842105,
          993.8028846153846,
          878.8276515151515,
          750.8418079096045,
          875.5348258706468,
          851.3092783505155,
          777.1764705882352,
          738.7313432835821,
          574.8787878787879,
          661.3355555555555,
          608.5739130434782,
          438.9166666666667,
          1000,
          991.2097378277153,
          941.8252314814814,
          935.4296296296296,
          999.6940639269407,
          1000,
          1000,
          996.8148148148148,
          997.344262295082,
          1000,
          1000,
          1000,
          999.8607594936708,
          946.6038647342995,
          835.6711711711713,
          863.5,
          860.29676511955,
          919.8012820512821,
          978.6520467836257,
          929.1162790697675,
          903.9583333333334,
          855.3168724279836,
          942.271186440678,
          773.7887788778877,
          572.9763513513514,
          813.764172335601,
          668.5185185185186,
          656.8738229755179,
          905.0072463768116,
          785.5857142857143,
          741.5081433224756,
          804.9021164021165,
          652.2518518518519,
          683.2083333333334,
          1000,
          1000,
          1000,
          1000,
          1000,
          1000,
          1000,
          1000,
          1000,
          1000,
          1000,
          1000,
          962.558943089431,
          846.7039473684212,
          851.6838709677419,
          958.6163873370577,
          1000,
          1000,
          1000,
          967.2031007751939,
          792.3966244725739,
          860.1830742659758,
          721.0101394169834,
          848.2888888888889,
          941.0479302832244,
          759.3049645390071,
          935.5666666666666,
          812.0441767068273,
          732.4461942257218,
          966.4439775910364,
          966.2113821138211,
          808.7319347319348,
          723.4758620689655,
          527.5147392290249,
          1000,
          815.4270833333334,
          1000,
          1000,
          998.5804597701149,
          919.1625683060109,
          784.5516014234876,
          925.5801526717559,
          945.1076604554864,
          839.5760111576011,
          935.3092592592593,
          988.6456456456457,
          1000,
          998.3735224586288,
          922.6607495069034,
          872.7304964539007,
          982.1766381766382,
          1000,
          1000,
          996.4004975124379,
          991.2993527508091,
          998.2815198618306,
          940.6517857142857,
          837.4246284501061,
          834.699805068226,
          925.8632478632479,
          979.3333333333334,
          942.4357142857142,
          784.3387978142076,
          826.6848072562358,
          877.3529411764706,
          655.3233532934131,
          515.2057613168724,
          691.3478260869565,
          1000,
          1000,
          884.06,
          803.729957805907,
          604.3035087719298,
          336.4431554524362,
          753.1124260355028,
          866.8615984405459,
          778.9483333333334,
          770.8463768115943,
          815.0962441314554,
          987.7398753894081,
          999.7841409691631,
          858.6705882352941,
          628.4254215304799,
          812.6414300736068,
          987.5346534653467,
          992.923076923077,
          847.358695652174,
          806.468085106383,
          997.0242825607064,
          967.8682170542637,
          839.0490196078431,
          832.2087542087543,
          571.3000000000001,
          361.5844748858447,
          893.1995884773661,
          924.2476190476191,
          751.1241283124127,
          793.500872600349,
          783.453781512605,
          611.4588353413654,
          678.510752688172,
          1000,
          1000,
          961.4435897435897,
          898.8035714285714,
          590.1466049382715,
          633.9203431372549,
          892.5132275132274,
          819.8169398907104,
          766.1297935103245,
          929.1434343434344,
          997.940836940837,
          847.5020576131687,
          891.3578431372549,
          929.5970149253732,
          696.1396917148362,
          726.6888888888889,
          823.9812925170069,
          913.4776902887139,
          723.7348927875242,
          682.6419141914191,
          729.0944741532977,
          893.0638297872341,
          981.1809523809525,
          964.5305164319249,
          670.2875816993464,
          380.12513144058886,
          560.6924603174604,
          754.1023255813952,
          716.8539325842697,
          818.1384083044983,
          911.688888888889,
          620.6282722513089,
          548.2580645161291,
          845.8666666666667,
          989.1666666666666,
          1000,
          1000,
          1000,
          1000,
          1000,
          999.9964157706094,
          894.7258771929824,
          866.996913580247,
          955.3589743589743,
          840.3115942028985,
          889.7403846153846,
          995.9826388888888,
          1000,
          980.8493589743589,
          992.0864978902954,
          1000,
          995.1924882629108,
          999.2953586497891,
          985.548245614035,
          756.5333333333333,
          373.9903100775194,
          432.4074074074074,
          585.6018518518518,
          677.6984126984127,
          759.7119341563788,
          728.4937106918238,
          579.2554890219561,
          409.9464285714286,
          442.1146435452794,
          715.8681818181818,
          680.7112970711297,
          421.384126984127,
          367.15488215488216,
          402.9440476190476,
          508.3270042194093,
          578.4795321637426,
          917.6774193548387,
          1000,
          1000,
          1000,
          1000,
          1000,
          1000,
          1000,
          1000,
          993.6999999999999,
          998.7112860892388,
          999.991769547325,
          1000,
          1000,
          1000,
          1000,
          1000,
          1000,
          963.6556776556777,
          844.183520599251,
          774.3606060606061,
          778.1766666666667,
          516.3678160919541,
          551.1270983213429,
          767.1387024608501,
          743.2063492063493,
          655.1738712776176,
          557.789247311828,
          413.3412698412699,
          436.43611111111113,
          426.7781954887218,
          590.4754098360655,
          248.8611111111111,
          245.06853582554518,
          307.0030165912519,
          448.85869565217394,
          533.1969696969696,
          1000,
          1000,
          1000,
          1000,
          1000,
          948.1666666666666,
          942.4210526315788,
          985.576923076923,
          1000,
          1000,
          1000,
          1000,
          1000,
          1000,
          1000,
          979.7882136279927,
          854.9402298850574,
          792.4969325153374,
          815.4146341463415,
          519.0075187969925,
          506.20623501199043,
          674.1601489757915,
          774.179640718563,
          559.2515723270441,
          748.9389179755672,
          787.6788432267884,
          449.24,
          230.19561815336465,
          297.7472677595628,
          353.660394265233,
          353.0422374429224,
          283.91201982651796,
          420.3812056737588,
          535.3040293040293,
          527.3257575757576,
          385.85897435897436,
          697.2745098039217,
          958.3809523809523,
          1000,
          1000,
          1000,
          1000,
          999.4761904761905,
          805.5833333333334,
          811.8247422680412,
          986.7517730496453,
          1000,
          1000,
          1000,
          1000,
          1000,
          999.6111111111112,
          912.1185682326623,
          926.2361111111112,
          941.6374269005847,
          941.8861788617886,
          869.6963696369636,
          454.7679324894514,
          339.2380952380953,
          463.63557858376504,
          636.9476923076924,
          655.2820512820513,
          536.6028602860287,
          396.2305825242718,
          342.03065134099614,
          305.1073446327684,
          202.28926553672318,
          253.97892720306515,
          230.28556263269638,
          286.04273504273505,
          299.97159940209264,
          361.95526695526695,
          476.9970760233918,
          636.1535776614311,
          761.445652173913,
          947.1666666666666,
          1000,
          1000,
          1000,
          977.5389408099687,
          963.9049773755656,
          792.1544715447154,
          771.5008130081301,
          969.0199430199431,
          1000,
          999.6290726817042,
          999.6382978723404,
          999.9871794871796,
          999.988603988604,
          999.7064017660044,
          949.2474226804125,
          654.6970534069982,
          756.0453752181501,
          602.9506666666666,
          617.6773211567732,
          661.8260073260072,
          617.1379310344827,
          714.1439393939394,
          607.5412844036697,
          529.564,
          481.7393162393162,
          290.84703196347033,
          205.86518046709128,
          198.81818181818184,
          335.05157813702846,
          364.02028218694886,
          232.3125,
          145.13394683026584,
          110.6132897603486,
          171.65084745762715,
          145.8790436005626,
          389.39979231568014,
          833.7325102880659,
          875.2820512820513,
          1000,
          1000,
          1000,
          1000,
          940.9227373068433,
          805.3146258503402,
          890.4296296296296,
          924.5241796200345,
          919.4350703060381,
          989.5792592592593,
          905.1966101694916,
          674.7717250324254,
          759.0963302752293,
          756.0148148148147,
          799.8621291448517,
          809.956043956044,
          803.3885480572598,
          570.5564738292011,
          707.1592592592593,
          671.5922165820643,
          709.2125984251969,
          858.1814814814816,
          698.6975945017183,
          523.670731707317,
          750.7755102040816,
          783.3143812709031,
          451.94623655913983,
          214.01993355481727,
          271.57040229885064,
          295.468524251806,
          281.1069182389937,
          145.09299516908212,
          121.54938271604938,
          165.24719101123594,
          247.91584158415841,
          333.85360360360363,
          246.2007575757576,
          396.02588996763757,
          525.4026666666667,
          777.9478260869564,
          862.3801169590644,
          993.5813953488373,
          972.6296296296296,
          841.2578616352201,
          779.3363914373089,
          943.5979166666666,
          937.4305555555555,
          961.228650137741,
          1000,
          948.6435185185186,
          749.659420289855,
          730.5661641541038,
          702.4571026722925,
          883.2839506172841,
          947.6126126126127,
          910.9756554307115,
          675.9774436090225,
          785.7715231788079,
          961.5634057971015,
          943.2721712538226,
          487.2288888888889,
          400,
          489.3333333333333,
          896.1734234234233,
          994.1803278688525,
          529.8244949494948,
          252.38989898989902,
          614.9403508771929,
          637.7087912087912,
          310.87765957446805,
          612.2170542635658,
          466.26097271648877,
          547.3956743002544,
          354.4967320261438,
          478.30653804930336,
          390.14455782312933,
          333.54768928220255,
          304.54580896686156,
          341.6969696969697,
          371.14076246334315,
          462.2580645161291,
          1000,
          974.1466666666666,
          954.8835616438356,
          987.9190751445086,
          891.8192419825073,
          912.1704180064309,
          997.5869565217391,
          1000,
          1000,
          1000,
          998.1269177126918,
          942.0294784580498,
          785.4772727272726,
          978.3766666666667,
          816.1322751322751,
          814.7326732673267,
          970.5333333333333,
          902.2140672782874,
          441.7535667963684,
          525.5885225885226,
          828.2610441767068,
          824.2638888888888,
          619.5352877307274,
          805.5120274914088,
          701.8000000000001,
          818.6247987117553,
          554.8663663663664,
          604.0134952766531,
          635.4973876698014,
          845.3303303303304,
          850.8087431693989,
          968.6666666666666,
          564.8547008547008,
          454.66163141993957,
          463.4128440366972,
          349.6815642458101,
          434.69595959595955,
          756.9715762273903,
          681.9855967078189,
          539.948275862069,
          1000,
          1000,
          964.9619047619047,
          840.4074074074074,
          772.4483775811209,
          918.7393162393163,
          998.8373983739838,
          1000,
          1000,
          1000,
          999.4235588972432,
          860.6376068376068,
          744.5789473684212,
          965.2133333333335,
          988.6818181818181,
          995.6632653061224,
          850.7430555555555,
          706.4944444444445,
          668.7071240105541,
          817.4069529652352,
          983.2329317269077,
          974.2016460905351,
          927.8141762452109,
          869.876811594203,
          803.3233830845771,
          790.6245210727969,
          720.3910614525139,
          549.6216666666667,
          464.6287683031869,
          978.5205992509364,
          999.3846153846154,
          853.1919191919192,
          829.8103448275862,
          772.2199074074074,
          902.2307692307692,
          527.8785529715761,
          550.4596774193549,
          771.773631840796,
          627.2215320910973,
          615.7190476190477,
          871.1071428571428,
          1000,
          1000,
          1000,
          1000,
          1000,
          1000,
          1000,
          1000,
          1000,
          1000,
          1000,
          934.2520325203253,
          799.7634408602152,
          911.5972222222222,
          1000,
          1000,
          988.2857142857142,
          999.7716894977169,
          891.8711484593838,
          512.8724279835391,
          732.5595238095239,
          791.5102040816327,
          881.0596491228071,
          994.8787878787879,
          1000,
          993.4137931034483,
          874.6133333333333,
          805.5042735042734,
          1000,
          931.125,
          552.9851851851851,
          402.504347826087,
          463.16239316239324,
          800.213768115942,
          762.9929078014184,
          970.93669250646,
          851.9705215419502,
          811.1246105919003,
          771.1124144672532,
          718.4263565891473,
          589.2207207207207,
          682.3333333333334,
          1000,
          1000,
          1000,
          1000,
          1000,
          1000,
          1000,
          1000,
          1000,
          955.8261562998405,
          863.9306260575296,
          918.9707835325365,
          997.1190476190476,
          794.0561797752808,
          800.7799145299145,
          882.7857142857143,
          1000,
          920.5797579757976,
          808.4041297935104,
          843.8503401360545,
          925.7598870056498,
          671.6200466200467,
          615.4287749287749,
          733.030701754386,
          716.6153846153846,
          1000,
          1000,
          957,
          1000,
          985.1904761904761,
          683.6272727272727,
          587.8223140495868,
          625.1061728395061,
          673.3212121212122,
          572.5069444444445,
          926.4906103286385,
          618.6217228464419,
          771.1541666666667,
          744.4641577060933,
          493.3771929824561,
          507.57758620689657,
          776.3641975308642,
          998.7511111111111,
          1000,
          1000,
          1000,
          1000,
          976.4294294294294,
          873.7872892347601,
          810.7007092198581,
          808.5423728813558,
          956.3459915611814,
          779.8869047619047,
          807.7788018433179,
          947.9101449275362,
          792.6691542288557,
          708.8020833333334,
          827.8787878787879,
          950.2412935323383,
          942.6530612244898,
          932.4421052631578,
          954.3435374149659,
          978.3257575757576,
          941.2076502732242,
          921.8195718654434,
          914.4444444444445,
          1000,
          965.1153846153846,
          702.5555555555555,
          1000,
          973.3333333333334,
          983.7619047619049,
          869.191321499014,
          867.5714285714286,
          982.8753180661578,
          934.6526315789473,
          857.8312757201646,
          942.4124700239809,
          827.5814814814815,
          799.6771929824562,
          945.6878306878307,
          1000,
          958.060606060606,
          993.0952380952381,
          1000,
          1000,
          1000,
          1000,
          964.2648148148149,
          803.534282700422,
          461.2274401473297,
          462.63895680521597,
          552.1159420289855,
          799.3974358974359,
          859.3479853479853,
          517.6717171717172,
          523.6756756756757,
          716.2083333333334,
          714.8666666666667,
          744.7333333333332,
          937.6944444444445,
          989.2883895131087,
          1000,
          1000,
          1000,
          1000,
          1000,
          1000,
          1000,
          1000,
          1000,
          1000,
          1000,
          982.3333333333334,
          1000,
          1000,
          1000,
          986.423676012461,
          931.9462365591398,
          992.6705426356589,
          1000,
          1000,
          974.5641025641025,
          782.5968992248062,
          915,
          1000,
          1000,
          1000,
          1000,
          1000,
          957.421794871795,
          833.20082815735,
          905.6508688783571,
          947.6944444444445,
          964.0465116279069,
          956.4677871148459,
          878.8571428571428,
          729.3846153846152,
          674.3916666666667,
          708.25,
          1000,
          1000,
          1000,
          1000,
          1000,
          1000,
          1000,
          1000,
          1000,
          1000,
          1000,
          1000,
          1000,
          1000,
          960.1666666666666,
          1000,
          1000,
          792.1315789473683,
          553.8249158249158,
          854.5022222222223,
          991.1666666666666,
          1000,
          1000,
          1000,
          1000,
          1000,
          996.6078431372549,
          959.7201257861635,
          969.8596491228069,
          1000,
          688.3867684478372,
          720.5445134575571,
          776.8070841239722,
          842.5899843505478,
          720.1481481481482,
          569.7637130801688,
          1000,
          1000,
          1000,
          1000,
          1000,
          1000,
          958.1111111111112,
          751.3888888888888,
          882.2380952380953,
          940.75,
          861.3247863247863,
          809.7976190476189,
          975.0654761904761,
          1000,
          1000,
          1000,
          1000,
          1000,
          996,
          910.8102564102563,
          666.1259968102073,
          401.6167176350662,
          455.7848101265823,
          899.5897435897435,
          980.5585106382979,
          899.4767932489452,
          682.0714285714286,
          553,
          1000,
          1000,
          1000,
          1000,
          887.7083333333334,
          979.6388888888888,
          995,
          933.3623188405796,
          855.8505747126437,
          896.5138888888888,
          1000,
          1000,
          1000,
          1000,
          1000,
          1000,
          991.3163841807909,
          873.5555555555555,
          717.6639344262295,
          651.766081871345,
          579.2727272727273,
          1000,
          1000,
          1000,
          1000,
          1000,
          852.010101010101,
          913.9111111111112,
          974.6770833333334,
          999.6198830409357,
          1000,
          1000,
          1000,
          1000,
          1000,
          1000,
          1000,
          999.4950248756219,
          905.0694444444445,
          875.1111111111112,
          1000,
          1000,
          1000,
          1000,
          855,
          894.6,
          966.7107843137255,
          986.8243243243243,
          925.4444444444443,
          742.9629629629629,
          888.3796296296296,
          997.1287878787879,
          1000,
          1000,
          474.6666666666667,
          547.4166666666666,
          881.9333333333334,
          967.963963963964,
          746.1999999999999,
          877.063492063492,
          1000,
          1000,
          1000,
          1000,
          1000,
          1000
         ],
         "yaxis": "y"
        }
       ],
       "layout": {
        "legend": {
         "tracegroupgap": 0
        },
        "margin": {
         "t": 60
        },
        "template": {
         "data": {
          "bar": [
           {
            "error_x": {
             "color": "#2a3f5f"
            },
            "error_y": {
             "color": "#2a3f5f"
            },
            "marker": {
             "line": {
              "color": "#E5ECF6",
              "width": 0.5
             },
             "pattern": {
              "fillmode": "overlay",
              "size": 10,
              "solidity": 0.2
             }
            },
            "type": "bar"
           }
          ],
          "barpolar": [
           {
            "marker": {
             "line": {
              "color": "#E5ECF6",
              "width": 0.5
             },
             "pattern": {
              "fillmode": "overlay",
              "size": 10,
              "solidity": 0.2
             }
            },
            "type": "barpolar"
           }
          ],
          "carpet": [
           {
            "aaxis": {
             "endlinecolor": "#2a3f5f",
             "gridcolor": "white",
             "linecolor": "white",
             "minorgridcolor": "white",
             "startlinecolor": "#2a3f5f"
            },
            "baxis": {
             "endlinecolor": "#2a3f5f",
             "gridcolor": "white",
             "linecolor": "white",
             "minorgridcolor": "white",
             "startlinecolor": "#2a3f5f"
            },
            "type": "carpet"
           }
          ],
          "choropleth": [
           {
            "colorbar": {
             "outlinewidth": 0,
             "ticks": ""
            },
            "type": "choropleth"
           }
          ],
          "contour": [
           {
            "colorbar": {
             "outlinewidth": 0,
             "ticks": ""
            },
            "colorscale": [
             [
              0,
              "#0d0887"
             ],
             [
              0.1111111111111111,
              "#46039f"
             ],
             [
              0.2222222222222222,
              "#7201a8"
             ],
             [
              0.3333333333333333,
              "#9c179e"
             ],
             [
              0.4444444444444444,
              "#bd3786"
             ],
             [
              0.5555555555555556,
              "#d8576b"
             ],
             [
              0.6666666666666666,
              "#ed7953"
             ],
             [
              0.7777777777777778,
              "#fb9f3a"
             ],
             [
              0.8888888888888888,
              "#fdca26"
             ],
             [
              1,
              "#f0f921"
             ]
            ],
            "type": "contour"
           }
          ],
          "contourcarpet": [
           {
            "colorbar": {
             "outlinewidth": 0,
             "ticks": ""
            },
            "type": "contourcarpet"
           }
          ],
          "heatmap": [
           {
            "colorbar": {
             "outlinewidth": 0,
             "ticks": ""
            },
            "colorscale": [
             [
              0,
              "#0d0887"
             ],
             [
              0.1111111111111111,
              "#46039f"
             ],
             [
              0.2222222222222222,
              "#7201a8"
             ],
             [
              0.3333333333333333,
              "#9c179e"
             ],
             [
              0.4444444444444444,
              "#bd3786"
             ],
             [
              0.5555555555555556,
              "#d8576b"
             ],
             [
              0.6666666666666666,
              "#ed7953"
             ],
             [
              0.7777777777777778,
              "#fb9f3a"
             ],
             [
              0.8888888888888888,
              "#fdca26"
             ],
             [
              1,
              "#f0f921"
             ]
            ],
            "type": "heatmap"
           }
          ],
          "heatmapgl": [
           {
            "colorbar": {
             "outlinewidth": 0,
             "ticks": ""
            },
            "colorscale": [
             [
              0,
              "#0d0887"
             ],
             [
              0.1111111111111111,
              "#46039f"
             ],
             [
              0.2222222222222222,
              "#7201a8"
             ],
             [
              0.3333333333333333,
              "#9c179e"
             ],
             [
              0.4444444444444444,
              "#bd3786"
             ],
             [
              0.5555555555555556,
              "#d8576b"
             ],
             [
              0.6666666666666666,
              "#ed7953"
             ],
             [
              0.7777777777777778,
              "#fb9f3a"
             ],
             [
              0.8888888888888888,
              "#fdca26"
             ],
             [
              1,
              "#f0f921"
             ]
            ],
            "type": "heatmapgl"
           }
          ],
          "histogram": [
           {
            "marker": {
             "pattern": {
              "fillmode": "overlay",
              "size": 10,
              "solidity": 0.2
             }
            },
            "type": "histogram"
           }
          ],
          "histogram2d": [
           {
            "colorbar": {
             "outlinewidth": 0,
             "ticks": ""
            },
            "colorscale": [
             [
              0,
              "#0d0887"
             ],
             [
              0.1111111111111111,
              "#46039f"
             ],
             [
              0.2222222222222222,
              "#7201a8"
             ],
             [
              0.3333333333333333,
              "#9c179e"
             ],
             [
              0.4444444444444444,
              "#bd3786"
             ],
             [
              0.5555555555555556,
              "#d8576b"
             ],
             [
              0.6666666666666666,
              "#ed7953"
             ],
             [
              0.7777777777777778,
              "#fb9f3a"
             ],
             [
              0.8888888888888888,
              "#fdca26"
             ],
             [
              1,
              "#f0f921"
             ]
            ],
            "type": "histogram2d"
           }
          ],
          "histogram2dcontour": [
           {
            "colorbar": {
             "outlinewidth": 0,
             "ticks": ""
            },
            "colorscale": [
             [
              0,
              "#0d0887"
             ],
             [
              0.1111111111111111,
              "#46039f"
             ],
             [
              0.2222222222222222,
              "#7201a8"
             ],
             [
              0.3333333333333333,
              "#9c179e"
             ],
             [
              0.4444444444444444,
              "#bd3786"
             ],
             [
              0.5555555555555556,
              "#d8576b"
             ],
             [
              0.6666666666666666,
              "#ed7953"
             ],
             [
              0.7777777777777778,
              "#fb9f3a"
             ],
             [
              0.8888888888888888,
              "#fdca26"
             ],
             [
              1,
              "#f0f921"
             ]
            ],
            "type": "histogram2dcontour"
           }
          ],
          "mesh3d": [
           {
            "colorbar": {
             "outlinewidth": 0,
             "ticks": ""
            },
            "type": "mesh3d"
           }
          ],
          "parcoords": [
           {
            "line": {
             "colorbar": {
              "outlinewidth": 0,
              "ticks": ""
             }
            },
            "type": "parcoords"
           }
          ],
          "pie": [
           {
            "automargin": true,
            "type": "pie"
           }
          ],
          "scatter": [
           {
            "marker": {
             "colorbar": {
              "outlinewidth": 0,
              "ticks": ""
             }
            },
            "type": "scatter"
           }
          ],
          "scatter3d": [
           {
            "line": {
             "colorbar": {
              "outlinewidth": 0,
              "ticks": ""
             }
            },
            "marker": {
             "colorbar": {
              "outlinewidth": 0,
              "ticks": ""
             }
            },
            "type": "scatter3d"
           }
          ],
          "scattercarpet": [
           {
            "marker": {
             "colorbar": {
              "outlinewidth": 0,
              "ticks": ""
             }
            },
            "type": "scattercarpet"
           }
          ],
          "scattergeo": [
           {
            "marker": {
             "colorbar": {
              "outlinewidth": 0,
              "ticks": ""
             }
            },
            "type": "scattergeo"
           }
          ],
          "scattergl": [
           {
            "marker": {
             "colorbar": {
              "outlinewidth": 0,
              "ticks": ""
             }
            },
            "type": "scattergl"
           }
          ],
          "scattermapbox": [
           {
            "marker": {
             "colorbar": {
              "outlinewidth": 0,
              "ticks": ""
             }
            },
            "type": "scattermapbox"
           }
          ],
          "scatterpolar": [
           {
            "marker": {
             "colorbar": {
              "outlinewidth": 0,
              "ticks": ""
             }
            },
            "type": "scatterpolar"
           }
          ],
          "scatterpolargl": [
           {
            "marker": {
             "colorbar": {
              "outlinewidth": 0,
              "ticks": ""
             }
            },
            "type": "scatterpolargl"
           }
          ],
          "scatterternary": [
           {
            "marker": {
             "colorbar": {
              "outlinewidth": 0,
              "ticks": ""
             }
            },
            "type": "scatterternary"
           }
          ],
          "surface": [
           {
            "colorbar": {
             "outlinewidth": 0,
             "ticks": ""
            },
            "colorscale": [
             [
              0,
              "#0d0887"
             ],
             [
              0.1111111111111111,
              "#46039f"
             ],
             [
              0.2222222222222222,
              "#7201a8"
             ],
             [
              0.3333333333333333,
              "#9c179e"
             ],
             [
              0.4444444444444444,
              "#bd3786"
             ],
             [
              0.5555555555555556,
              "#d8576b"
             ],
             [
              0.6666666666666666,
              "#ed7953"
             ],
             [
              0.7777777777777778,
              "#fb9f3a"
             ],
             [
              0.8888888888888888,
              "#fdca26"
             ],
             [
              1,
              "#f0f921"
             ]
            ],
            "type": "surface"
           }
          ],
          "table": [
           {
            "cells": {
             "fill": {
              "color": "#EBF0F8"
             },
             "line": {
              "color": "white"
             }
            },
            "header": {
             "fill": {
              "color": "#C8D4E3"
             },
             "line": {
              "color": "white"
             }
            },
            "type": "table"
           }
          ]
         },
         "layout": {
          "annotationdefaults": {
           "arrowcolor": "#2a3f5f",
           "arrowhead": 0,
           "arrowwidth": 1
          },
          "autotypenumbers": "strict",
          "coloraxis": {
           "colorbar": {
            "outlinewidth": 0,
            "ticks": ""
           }
          },
          "colorscale": {
           "diverging": [
            [
             0,
             "#8e0152"
            ],
            [
             0.1,
             "#c51b7d"
            ],
            [
             0.2,
             "#de77ae"
            ],
            [
             0.3,
             "#f1b6da"
            ],
            [
             0.4,
             "#fde0ef"
            ],
            [
             0.5,
             "#f7f7f7"
            ],
            [
             0.6,
             "#e6f5d0"
            ],
            [
             0.7,
             "#b8e186"
            ],
            [
             0.8,
             "#7fbc41"
            ],
            [
             0.9,
             "#4d9221"
            ],
            [
             1,
             "#276419"
            ]
           ],
           "sequential": [
            [
             0,
             "#0d0887"
            ],
            [
             0.1111111111111111,
             "#46039f"
            ],
            [
             0.2222222222222222,
             "#7201a8"
            ],
            [
             0.3333333333333333,
             "#9c179e"
            ],
            [
             0.4444444444444444,
             "#bd3786"
            ],
            [
             0.5555555555555556,
             "#d8576b"
            ],
            [
             0.6666666666666666,
             "#ed7953"
            ],
            [
             0.7777777777777778,
             "#fb9f3a"
            ],
            [
             0.8888888888888888,
             "#fdca26"
            ],
            [
             1,
             "#f0f921"
            ]
           ],
           "sequentialminus": [
            [
             0,
             "#0d0887"
            ],
            [
             0.1111111111111111,
             "#46039f"
            ],
            [
             0.2222222222222222,
             "#7201a8"
            ],
            [
             0.3333333333333333,
             "#9c179e"
            ],
            [
             0.4444444444444444,
             "#bd3786"
            ],
            [
             0.5555555555555556,
             "#d8576b"
            ],
            [
             0.6666666666666666,
             "#ed7953"
            ],
            [
             0.7777777777777778,
             "#fb9f3a"
            ],
            [
             0.8888888888888888,
             "#fdca26"
            ],
            [
             1,
             "#f0f921"
            ]
           ]
          },
          "colorway": [
           "#636efa",
           "#EF553B",
           "#00cc96",
           "#ab63fa",
           "#FFA15A",
           "#19d3f3",
           "#FF6692",
           "#B6E880",
           "#FF97FF",
           "#FECB52"
          ],
          "font": {
           "color": "#2a3f5f"
          },
          "geo": {
           "bgcolor": "white",
           "lakecolor": "white",
           "landcolor": "#E5ECF6",
           "showlakes": true,
           "showland": true,
           "subunitcolor": "white"
          },
          "hoverlabel": {
           "align": "left"
          },
          "hovermode": "closest",
          "mapbox": {
           "style": "light"
          },
          "paper_bgcolor": "white",
          "plot_bgcolor": "#E5ECF6",
          "polar": {
           "angularaxis": {
            "gridcolor": "white",
            "linecolor": "white",
            "ticks": ""
           },
           "bgcolor": "#E5ECF6",
           "radialaxis": {
            "gridcolor": "white",
            "linecolor": "white",
            "ticks": ""
           }
          },
          "scene": {
           "xaxis": {
            "backgroundcolor": "#E5ECF6",
            "gridcolor": "white",
            "gridwidth": 2,
            "linecolor": "white",
            "showbackground": true,
            "ticks": "",
            "zerolinecolor": "white"
           },
           "yaxis": {
            "backgroundcolor": "#E5ECF6",
            "gridcolor": "white",
            "gridwidth": 2,
            "linecolor": "white",
            "showbackground": true,
            "ticks": "",
            "zerolinecolor": "white"
           },
           "zaxis": {
            "backgroundcolor": "#E5ECF6",
            "gridcolor": "white",
            "gridwidth": 2,
            "linecolor": "white",
            "showbackground": true,
            "ticks": "",
            "zerolinecolor": "white"
           }
          },
          "shapedefaults": {
           "line": {
            "color": "#2a3f5f"
           }
          },
          "ternary": {
           "aaxis": {
            "gridcolor": "white",
            "linecolor": "white",
            "ticks": ""
           },
           "baxis": {
            "gridcolor": "white",
            "linecolor": "white",
            "ticks": ""
           },
           "bgcolor": "#E5ECF6",
           "caxis": {
            "gridcolor": "white",
            "linecolor": "white",
            "ticks": ""
           }
          },
          "title": {
           "x": 0.05
          },
          "xaxis": {
           "automargin": true,
           "gridcolor": "white",
           "linecolor": "white",
           "ticks": "",
           "title": {
            "standoff": 15
           },
           "zerolinecolor": "white",
           "zerolinewidth": 2
          },
          "yaxis": {
           "automargin": true,
           "gridcolor": "white",
           "linecolor": "white",
           "ticks": "",
           "title": {
            "standoff": 15
           },
           "zerolinecolor": "white",
           "zerolinewidth": 2
          }
         }
        },
        "xaxis": {
         "anchor": "y",
         "domain": [
          0,
          1
         ],
         "title": {
          "text": "population_density"
         }
        },
        "yaxis": {
         "anchor": "x",
         "domain": [
          0,
          1
         ],
         "title": {
          "text": "avg_user_selection"
         }
        }
       }
      },
      "text/html": [
       "<div>                            <div id=\"a39d38da-fc36-4968-b813-8842c5369b19\" class=\"plotly-graph-div\" style=\"height:525px; width:100%;\"></div>            <script type=\"text/javascript\">                require([\"plotly\"], function(Plotly) {                    window.PLOTLYENV=window.PLOTLYENV || {};                                    if (document.getElementById(\"a39d38da-fc36-4968-b813-8842c5369b19\")) {                    Plotly.newPlot(                        \"a39d38da-fc36-4968-b813-8842c5369b19\",                        [{\"hovertemplate\":\"population_density=%{x}<br>avg_user_selection=%{y}<extra></extra>\",\"legendgroup\":\"\",\"marker\":{\"color\":\"#636efa\",\"symbol\":\"circle\"},\"mode\":\"markers\",\"name\":\"\",\"orientation\":\"v\",\"showlegend\":false,\"type\":\"scatter\",\"x\":[165.16604614257812,168.39463806152344,103.64009857177734,98.20675659179688,79.47325897216797,108.66566467285156,232.0848999023437,173.19691467285156,202.96615600585932,150.5589599609375,153.0946502685547,112.43335723876952,161.4676055908203,269.9061889648437,363.4380187988281,457.9251098632813,319.52325439453125,59.86871337890625,392.48193359375,886.0536499023438,804.4918823242188,1781.3787841796875,2163.23974609375,1746.8763427734375,998.9478759765624,639.20849609375,366.77935791015625,400.6148376464844,472.6580200195313,449.0005187988281,688.4654541015625,1236.50537109375,1269.4141845703125,853.7958374023438,294.1271057128906,309.78680419921875,476.0281372070313,407.0012817382813,245.18836975097656,158.38479614257812,134.84768676757812,108.0101547241211,292.7565002441406,620.0610961914062,652.4688720703125,379.1524353027344,297.7792358398437,570.0169677734375,906.2573852539062,1065.61669921875,1498.702880859375,1066.004638671875,1497.874755859375,1780.8328857421875,2236.4755859375,2659.361572265625,2025.4862060546875,1213.674560546875,1574.7679443359375,1175.326171875,1090.31689453125,808.9024658203125,1081.57421875,1570.003662109375,1776.9622802734375,2144.379150390625,1826.3193359375,1548.6912841796875,249.47903442382807,1167.64453125,966.192138671875,1305.2086181640625,891.0482177734375,334.6098937988281,122.65530395507812,256.4307556152344,359.4284362792969,509.4748229980469,1027.81201171875,874.6234130859375,661.0255737304688,703.5906982421875,493.1570739746094,350.5083923339844,846.3206176757812,1334.1431884765625,1001.982421875,1695.135009765625,2128.39111328125,2291.33447265625,2071.06298828125,962.532470703125,1325.1063232421875,1915.4091796875,905.7172241210938,1066.2364501953125,1118.0311279296875,948.2640380859376,2258.08935546875,2268.72412109375,886.1689453125,1116.36669921875,666.0859375,5.568890571594238,1208.0611572265625,903.6715698242188,458.4444274902344,321.9373474121094,257.7934265136719,275.13018798828125,441.0778198242188,334.2926330566406,413.0744934082031,406.3038024902344,339.1981201171875,769.8845825195312,1184.5262451171875,1003.3912353515624,724.3798828125,911.1107788085938,932.3204956054688,1069.5045166015625,1130.451416015625,1301.2750244140625,1493.772216796875,2217.25439453125,1789.8487548828125,1176.073974609375,1063.74951171875,1219.770263671875,830.3035278320312,1420.3134765625,1388.8892822265625,2134.84375,1912.821044921875,1343.95703125,783.6709594726562,28.78954315185547,269.4715270996094,159.05494689941406,361.65380859375,543.6597290039062,797.6159057617188,807.8106079101562,508.1194458007813,591.5426635742188,662.9345092773438,499.27435302734375,456.5343017578125,1056.9776611328125,1171.90234375,1266.5552978515625,1087.2318115234375,1154.980712890625,1087.2086181640625,1247.568359375,1138.6053466796875,2103.65771484375,2210.61181640625,1350.652587890625,2383.584228515625,2602.77392578125,2411.49462890625,2016.877197265625,2015.9080810546875,1777.3438720703125,1555.393798828125,1452.4632568359375,2492.114013671875,2301.34912109375,257.7029113769531,297.6363220214844,394.9732055664063,763.41552734375,1457.904052734375,1392.428466796875,1020.3494262695312,850.6692504882812,761.5850219726562,1175.7545166015625,859.2521362304688,904.3678588867188,1121.5174560546875,1358.399658203125,1326.5462646484375,1369.7177734375,1434.376953125,1637.0318603515625,2071.39599609375,2316.32763671875,2185.2333984375,1157.9141845703125,1287.0625,2347.09228515625,2578.859375,1985.727783203125,2304.33935546875,1239.468505859375,2054.177001953125,1844.678955078125,1273.0682373046875,1620.2432861328125,3205.658203125,431.7415466308594,102.97657775878906,449.8934020996094,728.79736328125,1179.1097412109375,1468.0751953125,1178.45166015625,750.0337524414062,509.14794921875,645.091064453125,1096.145263671875,1154.878662109375,1128.67626953125,1166.5802001953125,970.56591796875,1275.12060546875,1392.55419921875,1154.7099609375,2070.95849609375,2188.310302734375,1481.9102783203125,3255.570556640625,1256.404541015625,953.1943359375,1046.6146240234375,594.9564208984375,2345.13037109375,3236.043701171875,2681.715087890625,2516.958251953125,1544.3955078125,960.9454956054688,2334.63427734375,344.29278564453125,145.86782836914062,411.2742614746094,157.43890380859375,1.4975590705871582,30.094486236572266,105.34231567382812,254.91514587402344,464.83636474609375,892.664794921875,813.4213256835938,346.612548828125,374.9263000488281,744.67138671875,964.3367309570312,750.5230102539062,888.4503784179688,1238.1490478515625,943.46875,1123.931396484375,1095.267822265625,1095.1357421875,1769.727294921875,2931.2763671875,2868.58154296875,1810.3560791015625,1141.7384033203125,1084.0523681640625,2367.302978515625,2576.817626953125,3971.543212890625,5890.60302734375,2299.945556640625,2886.287841796875,7220.77685546875,9366.7783203125,6249.67333984375,3986.476318359375,1817.12646484375,393.3439025878906,136.8335418701172,23.619129180908203,29.560535430908203,39.04072952270508,79.6169662475586,125.67707824707033,243.3203125,340.1456298828125,461.79339599609375,539.2616577148438,432.1566162109375,461.18463134765625,576.2824096679688,612.8749389648438,1340.29638671875,1179.42578125,1013.9397583007812,1328.1441650390625,1515.6973876953125,2311.129150390625,2614.81787109375,2860.515869140625,3112.829345703125,2432.657958984375,2452.225341796875,5798.49267578125,8967.1328125,11954.02734375,18875.55859375,17316.5,4867.28369140625,2977.46044921875,12250.2060546875,17540.103515625,2773.459716796875,155.46560668945312,31.53146171569824,51.10757827758789,54.16431427001953,87.60303497314453,197.7284393310547,139.9778594970703,102.70340728759766,143.56048583984375,242.12998962402344,298.5028991699219,413.9733581542969,662.4776000976562,1094.14990234375,1448.5086669921875,1391.3515625,1130.0401611328125,1280.4947509765625,1168.168701171875,2037.16259765625,2870.203125,3047.260498046875,3057.7060546875,3136.61865234375,3278.79296875,3829.858154296875,8509.044921875,11358.98046875,12426.8994140625,12974.9111328125,9767.416015625,6038.10302734375,8422.69921875,8635.875,2288.375732421875,182.8451232910156,723.6754150390625,610.899169921875,85.11027526855469,56.9948844909668,199.17630004882807,284.4135437011719,223.60406494140625,115.90497589111328,108.0781478881836,319.3941955566406,347.4877624511719,444.8445739746094,414.38226318359375,331.060546875,235.6859588623047,364.4311218261719,533.1340942382812,1196.0460205078125,1830.31591796875,1535.593505859375,1804.9942626953125,1099.5810546875,2958.419677734375,3801.3203125,4897.06591796875,4838.23974609375,4012.41064453125,4588.166015625,7157.70458984375,11117.03125,10938.3203125,8523.8779296875,7591.88916015625,6156.22998046875,3479.35595703125,6790.109375,2070.75341796875,376.8615417480469,888.4359741210938,940.6228637695312,484.9214477539063,97.8365249633789,114.92174530029295,342.70428466796875,506.2051696777344,808.1044921875,696.0924682617188,361.7613220214844,669.6588134765625,925.2648315429688,854.4544067382812,807.2987060546875,853.297607421875,895.159912109375,838.0204467773438,528.0618286132812,1117.5274658203125,1407.76416015625,2001.3011474609373,2139.445068359375,1268.688720703125,1610.5400390625,3600.3115234375,3763.908203125,6966.38037109375,6801.3857421875,5934.9521484375,5714.77587890625,9771.0341796875,10264.796875,6821.009765625,2869.0830078125,3166.744140625,3530.028076171875,3688.186767578125,1511.360595703125,1164.57421875,528.3597412109375,743.5765380859375,395.4118347167969,487.5422058105469,18.70952033996582,328.4812927246094,855.2467651367188,1205.3699951171875,841.149658203125,673.1876220703125,901.0150146484376,1073.687255859375,1037.458251953125,1159.8177490234375,947.9212036132812,974.5607299804688,938.0657348632812,1187.78955078125,702.0369873046875,1284.8912353515625,1326.84326171875,1984.16015625,2282.78466796875,2288.056884765625,1664.4482421875,3434.10107421875,3317.472900390625,5469.2060546875,3666.285888671875,2195.896728515625,1732.111572265625,6562.04638671875,13227.7578125,13222.109375,4104.78759765625,2453.778564453125,3456.030517578125,6053.97900390625,4575.705078125,1530.306396484375,1485.899658203125,1791.4500732421875,1572.1142578125,199.53744506835932,405.0318908691406,987.186767578125,1651.1959228515625,1208.8865966796875,1948.4017333984373,1813.265625,1763.674072265625,1504.1817626953125,1665.562255859375,1693.57763671875,1362.67431640625,974.4502563476562,1220.895263671875,779.9995727539062,1045.27880859375,1069.4935302734375,1086.2279052734375,1542.7559814453125,2053.453125,1943.828857421875,2453.135498046875,2770.138916015625,4050.15966796875,6403.283203125,5870.5908203125,2193.057861328125,3209.3037109375,5063.4208984375,4237.4541015625,1867.2786865234373,3800.131103515625,6365.18408203125,8520.26171875,8382.80078125,9661.013671875,8618.115234375,6081.60986328125,3838.06396484375,453.7002868652344,658.2334594726562,354.9335021972656,840.9107666015625,1186.5716552734375,2110.63916015625,2131.015625,1252.11767578125,757.5952758789062,599.6610717773438,815.6505737304688,529.141357421875,535.3505859375,766.9000244140625,840.10107421875,487.3905029296875,459.0769348144531,524.2965087890625,1620.9033203125,2152.734375,2040.3465576171875,2142.224365234375,2604.52294921875,3418.519287109375,4713.13037109375,4599.0537109375,2558.42822265625,3588.1904296875,3915.948974609375,2503.3251953125,1302.745849609375,2081.22119140625,188.5145263671875,1381.4981689453125,4199.36962890625,4681.4755859375,6884.72705078125,4696.9130859375,3391.10888671875,1672.4537353515625,54.611934661865234,615.1962890625,608.1469116210938,304.78485107421875,373.8807067871094,1506.806884765625,1975.379638671875,1836.2213134765625,869.2042846679688,536.9169311523438,453.3005065917969,334.54669189453125,407.5481567382813,320.87701416015625,324.1278381347656,256.53985595703125,488.6263732910156,539.0639038085938,1549.3131103515625,1897.21142578125,2342.3564453125,2070.153076171875,1706.6356201171875,1899.1395263671875,1257.0758056640625,1312.7830810546875,3050.063720703125,4172.16552734375,2936.73779296875,1389.8812255859375,601.6731567382812,316.4658203125,348.10894775390625,1811.1142578125,3054.178466796875,2347.386474609375,3481.22509765625,3152.9375,2500.976806640625,1445.082763671875,393.836669921875,72.03666687011719,397.02880859375,341.84332275390625,259.8892822265625,226.6770782470703,409.5839538574219,848.7025756835938,538.9915161132812,299.2066345214844,220.0100860595703,242.74752807617188,219.45529174804688,154.9054412841797,152.5998992919922,175.99984741210938,109.38897705078124,298.1039123535156,290.5434875488281,696.268798828125,1671.081298828125,2169.382568359375,2076.303466796875,1899.426513671875,859.9541625976562,465.4363098144531,314.0418395996094,529.59228515625,941.8035888671876,872.8312377929688,667.3911743164062,200.9263916015625,422.76800537109375,1834.9425048828125,3013.868896484375,2184.774169921875,1842.617431640625,2123.94580078125,2744.63134765625,1981.056884765625,1325.2542724609375,1048.37841796875,682.2017822265625,121.8229751586914,49.74812698364258,2.993978977203369,130.9564666748047,287.9515686035156,201.440658569336,170.5477752685547,212.0084686279297,443.1790771484375,950.6054077148438,1087.053955078125,1202.035888671875,1019.9700927734376,1085.6632080078125,950.181396484375,1006.1640014648438,1050.0799560546875,375.1736755371094,391.5101623535156,571.097900390625,643.5965576171875,1358.4078369140625,2040.8609619140625,2008.16455078125,1354.5479736328125,312.4681396484375,159.16534423828125,528.700927734375,421.9629211425781,285.25994873046875,244.5179443359375,902.189208984375,2549.021240234375,3041.896484375,985.7077026367188,819.7108764648438,661.4312133789062,1517.73193359375,1306.7691650390625,1043.5325927734375,1465.4755859375,1613.8875732421875,590.4903564453125,184.21327209472656,124.4211883544922,807.5810546875,1457.975830078125,1060.6190185546875,795.6942749023438,876.1971435546875,704.1091918945312,755.19580078125,1679.3887939453125,1986.083984375,1793.58251953125,1669.2286376953125,1627.8677978515625,1895.3612060546875,1853.0706787109373,1193.6971435546875,353.6958312988281,528.5020751953125,634.3280639648438,667.3992309570312,1399.4425048828125,1227.821533203125,452.861328125,122.70208740234376,460.2005615234375,152.26686096191406,92.96446228027344,96.92726135253906,211.6236114501953,509.6600646972656,1339.9697265625,1847.0802001953125,1348.003173828125,1445.69482421875,490.6397399902344,521.04345703125,528.7855834960938,240.3502960205078,291.4589538574219,360.705078125,173.48434448242188,263.1422424316406,223.9626617431641,606.2503051757812,736.3074340820312,1013.7757568359376,1227.178466796875,1578.2691650390625,1295.1644287109375,601.7595825195312,257.5632019042969,533.3353271484375,425.4725646972656,203.78823852539065,148.76905822753906,173.55511474609375,240.07388305664065,370.65960693359375,446.4666748046875,623.0398559570312,632.9165649414062,926.4417114257812,1009.7705078125,952.064453125,387.7154235839844,116.6545639038086,88.65038299560547,108.94266510009766,64.64034271240234,44.12084579467773,41.65827560424805,47.52221298217773,72.51296997070312,144.95750427246094,561.067626953125,1159.6585693359375,802.7286987304688,701.9442138671875,560.9107666015625,274.2564697265625,272.0621643066406,161.59548950195312,130.64236450195312,145.6709442138672,176.2481689453125,129.29779052734375,154.14703369140625,1039.400146484375,1030.752197265625,636.7994384765625,599.7838745117188,776.2791748046875,500.17138671875,169.51373291015625,133.58396911621094,205.2762756347656,90.02790069580078,11.69416618347168,19.07416725158692,113.70327758789062,209.4113922119141,210.3256225585937,331.7444763183594,542.012451171875,637.8970336914062,154.63841247558594,69.13963317871094,45.97349166870117,46.72726821899414,35.298919677734375,38.90097427368164,60.2628288269043,44.94264221191406,117.92335510253906,655.8869018554688,928.2647705078124,411.1160583496094,192.624252319336,123.1965560913086,160.2586669921875,158.27833557128906,274.1124267578125,175.53521728515625,300.465087890625,990.6219482421876,450.5507507324219,11.513407707214355,1261.388671875,1293.6033935546875,826.01904296875,554.1541137695312,378.121337890625,162.48193359375,70.45732116699219,28.72854423522949,64.27622985839844,65.86116790771484,36.3842887878418,42.02742004394531,49.707889556884766,38.96443176269531,47.91630172729492,150.01025390625,659.3965454101562,731.282470703125,234.8470458984375,113.6518783569336,62.89875030517578,105.99838256835938,327.362060546875,518.0643310546875,268.6994934082031,705.1622924804688,1215.35986328125,1160.82861328125,320.5765380859375,842.8202514648438,685.324951171875,314.7710876464844,85.52888488769531,33.29862976074219,10.999119758605955,58.795711517333984,50.63676834106445,70.34169006347656,69.8019027709961,40.34040451049805,56.93149948120117,265.6038818359375,388.6124572753906,225.45057678222656,99.62432861328124,63.11209487915039,25.38489532470703,76.88813781738281,207.659408569336,637.2115478515625,857.2281494140625,959.3792114257812,757.6140747070312,504.0444641113281,201.42398071289065,32.26926803588867,9.125398635864258,58.3762092590332,43.69259643554688,43.42560195922852,49.333614349365234,66.52981567382812,116.884033203125,216.9490509033203,70.68802642822266,80.45005798339844,103.21656036376952,85.01475524902344,174.39199829101562,186.01319885253903,321.66558837890625,403.1967468261719,187.67849731445312,87.79674530029297,7.222929954528809,2.778900146484375,20.304059982299805,25.192665100097656,14.116853713989258,36.61592864990234,77.30728912353516,165.01332092285156,143.5420684814453,102.70330047607422,224.5221099853516,334.4949645996094,353.3573608398437,28.56262588500977,57.96057891845703,92.88224029541016,165.177734375,228.97027587890625,143.41055297851562,99.74156188964844,97.2983169555664,14.762961387634276,11.002124786376951,34.579925537109375,29.629674911499023,0.919191837310791],\"xaxis\":\"x\",\"y\":[1000.0,1000.0,998.5864978902954,1000.0,993.6527777777778,836.4444444444445,761.6839826839827,920.6341463414634,964.5273631840796,999.5925925925926,1000.0,1000.0,1000.0,978.3245614035089,816.3636363636364,586.7777777777777,897.7204301075268,962.5238095238095,581.783950617284,760.9399999999999,969.5763888888888,622.4733333333334,292.02536231884056,861.8156732891831,899.9271708683473,945.076923076923,840.7647058823528,856.6318407960198,949.4166666666666,968.8238993710692,895.3497267759562,500.63926940639266,859.6964285714286,874.0256410256411,1000.0,951.2783882783883,764.701388888889,846.0772357723578,994.339393939394,989.8108108108108,947.5960784313726,857.9780701754386,848.8418079096045,933.929012345679,1000.0,1000.0,1000.0,956.847619047619,841.2687609075043,683.6448598130842,539.6333333333333,784.7733333333332,986.1518151815181,999.2289855072464,992.7769423558898,894.5887096774194,836.5447154471544,977.2894736842105,993.8028846153846,878.8276515151515,750.8418079096045,875.5348258706468,851.3092783505155,777.1764705882352,738.7313432835821,574.8787878787879,661.3355555555555,608.5739130434782,438.9166666666667,1000.0,991.2097378277153,941.8252314814814,935.4296296296296,999.6940639269407,1000.0,1000.0,996.8148148148148,997.344262295082,1000.0,1000.0,1000.0,999.8607594936708,946.6038647342995,835.6711711711713,863.5,860.29676511955,919.8012820512821,978.6520467836257,929.1162790697675,903.9583333333334,855.3168724279836,942.271186440678,773.7887788778877,572.9763513513514,813.764172335601,668.5185185185186,656.8738229755179,905.0072463768116,785.5857142857143,741.5081433224756,804.9021164021165,652.2518518518519,683.2083333333334,1000.0,1000.0,1000.0,1000.0,1000.0,1000.0,1000.0,1000.0,1000.0,1000.0,1000.0,1000.0,962.558943089431,846.7039473684212,851.6838709677419,958.6163873370577,1000.0,1000.0,1000.0,967.2031007751939,792.3966244725739,860.1830742659758,721.0101394169834,848.2888888888889,941.0479302832244,759.3049645390071,935.5666666666666,812.0441767068273,732.4461942257218,966.4439775910364,966.2113821138211,808.7319347319348,723.4758620689655,527.5147392290249,1000.0,815.4270833333334,1000.0,1000.0,998.5804597701149,919.1625683060109,784.5516014234876,925.5801526717559,945.1076604554864,839.5760111576011,935.3092592592593,988.6456456456457,1000.0,998.3735224586288,922.6607495069034,872.7304964539007,982.1766381766382,1000.0,1000.0,996.4004975124379,991.2993527508091,998.2815198618306,940.6517857142857,837.4246284501061,834.699805068226,925.8632478632479,979.3333333333334,942.4357142857142,784.3387978142076,826.6848072562358,877.3529411764706,655.3233532934131,515.2057613168724,691.3478260869565,1000.0,1000.0,884.06,803.729957805907,604.3035087719298,336.4431554524362,753.1124260355028,866.8615984405459,778.9483333333334,770.8463768115943,815.0962441314554,987.7398753894081,999.7841409691631,858.6705882352941,628.4254215304799,812.6414300736068,987.5346534653467,992.923076923077,847.358695652174,806.468085106383,997.0242825607064,967.8682170542637,839.0490196078431,832.2087542087543,571.3000000000001,361.5844748858447,893.1995884773661,924.2476190476191,751.1241283124127,793.500872600349,783.453781512605,611.4588353413654,678.510752688172,1000.0,1000.0,961.4435897435897,898.8035714285714,590.1466049382715,633.9203431372549,892.5132275132274,819.8169398907104,766.1297935103245,929.1434343434344,997.940836940837,847.5020576131687,891.3578431372549,929.5970149253732,696.1396917148362,726.6888888888889,823.9812925170069,913.4776902887139,723.7348927875242,682.6419141914191,729.0944741532977,893.0638297872341,981.1809523809525,964.5305164319249,670.2875816993464,380.12513144058886,560.6924603174604,754.1023255813952,716.8539325842697,818.1384083044983,911.688888888889,620.6282722513089,548.2580645161291,845.8666666666667,989.1666666666666,1000.0,1000.0,1000.0,1000.0,1000.0,999.9964157706094,894.7258771929824,866.996913580247,955.3589743589743,840.3115942028985,889.7403846153846,995.9826388888888,1000.0,980.8493589743589,992.0864978902954,1000.0,995.1924882629108,999.2953586497891,985.548245614035,756.5333333333333,373.9903100775194,432.4074074074074,585.6018518518518,677.6984126984127,759.7119341563788,728.4937106918238,579.2554890219561,409.9464285714286,442.1146435452794,715.8681818181818,680.7112970711297,421.384126984127,367.15488215488216,402.9440476190476,508.3270042194093,578.4795321637426,917.6774193548387,1000.0,1000.0,1000.0,1000.0,1000.0,1000.0,1000.0,1000.0,993.6999999999999,998.7112860892388,999.991769547325,1000.0,1000.0,1000.0,1000.0,1000.0,1000.0,963.6556776556777,844.183520599251,774.3606060606061,778.1766666666667,516.3678160919541,551.1270983213429,767.1387024608501,743.2063492063493,655.1738712776176,557.789247311828,413.3412698412699,436.43611111111113,426.7781954887218,590.4754098360655,248.8611111111111,245.06853582554518,307.0030165912519,448.85869565217394,533.1969696969696,1000.0,1000.0,1000.0,1000.0,1000.0,948.1666666666666,942.4210526315788,985.576923076923,1000.0,1000.0,1000.0,1000.0,1000.0,1000.0,1000.0,979.7882136279927,854.9402298850574,792.4969325153374,815.4146341463415,519.0075187969925,506.20623501199043,674.1601489757915,774.179640718563,559.2515723270441,748.9389179755672,787.6788432267884,449.24,230.19561815336465,297.7472677595628,353.660394265233,353.0422374429224,283.91201982651796,420.3812056737588,535.3040293040293,527.3257575757576,385.85897435897436,697.2745098039217,958.3809523809523,1000.0,1000.0,1000.0,1000.0,999.4761904761905,805.5833333333334,811.8247422680412,986.7517730496453,1000.0,1000.0,1000.0,1000.0,1000.0,999.6111111111112,912.1185682326623,926.2361111111112,941.6374269005847,941.8861788617886,869.6963696369636,454.7679324894514,339.2380952380953,463.63557858376504,636.9476923076924,655.2820512820513,536.6028602860287,396.2305825242718,342.03065134099614,305.1073446327684,202.28926553672318,253.97892720306515,230.28556263269638,286.04273504273505,299.97159940209264,361.95526695526695,476.9970760233918,636.1535776614311,761.445652173913,947.1666666666666,1000.0,1000.0,1000.0,977.5389408099687,963.9049773755656,792.1544715447154,771.5008130081301,969.0199430199431,1000.0,999.6290726817042,999.6382978723404,999.9871794871796,999.988603988604,999.7064017660044,949.2474226804125,654.6970534069982,756.0453752181501,602.9506666666666,617.6773211567732,661.8260073260072,617.1379310344827,714.1439393939394,607.5412844036697,529.564,481.7393162393162,290.84703196347033,205.86518046709128,198.81818181818184,335.05157813702846,364.02028218694886,232.3125,145.13394683026584,110.6132897603486,171.65084745762715,145.8790436005626,389.39979231568014,833.7325102880659,875.2820512820513,1000.0,1000.0,1000.0,1000.0,940.9227373068433,805.3146258503402,890.4296296296296,924.5241796200345,919.4350703060381,989.5792592592593,905.1966101694916,674.7717250324254,759.0963302752293,756.0148148148147,799.8621291448517,809.956043956044,803.3885480572598,570.5564738292011,707.1592592592593,671.5922165820643,709.2125984251969,858.1814814814816,698.6975945017183,523.670731707317,750.7755102040816,783.3143812709031,451.94623655913983,214.01993355481727,271.57040229885064,295.468524251806,281.1069182389937,145.09299516908212,121.54938271604938,165.24719101123594,247.91584158415841,333.85360360360363,246.2007575757576,396.02588996763757,525.4026666666667,777.9478260869564,862.3801169590644,993.5813953488373,972.6296296296296,841.2578616352201,779.3363914373089,943.5979166666666,937.4305555555555,961.228650137741,1000.0,948.6435185185186,749.659420289855,730.5661641541038,702.4571026722925,883.2839506172841,947.6126126126127,910.9756554307115,675.9774436090225,785.7715231788079,961.5634057971015,943.2721712538226,487.2288888888889,400.0,489.3333333333333,896.1734234234233,994.1803278688525,529.8244949494948,252.38989898989902,614.9403508771929,637.7087912087912,310.87765957446805,612.2170542635658,466.26097271648877,547.3956743002544,354.4967320261438,478.30653804930336,390.14455782312933,333.54768928220255,304.54580896686156,341.6969696969697,371.14076246334315,462.2580645161291,1000.0,974.1466666666666,954.8835616438356,987.9190751445086,891.8192419825073,912.1704180064309,997.5869565217391,1000.0,1000.0,1000.0,998.1269177126918,942.0294784580498,785.4772727272726,978.3766666666667,816.1322751322751,814.7326732673267,970.5333333333333,902.2140672782874,441.7535667963684,525.5885225885226,828.2610441767068,824.2638888888888,619.5352877307274,805.5120274914088,701.8000000000001,818.6247987117553,554.8663663663664,604.0134952766531,635.4973876698014,845.3303303303304,850.8087431693989,968.6666666666666,564.8547008547008,454.66163141993957,463.4128440366972,349.6815642458101,434.69595959595955,756.9715762273903,681.9855967078189,539.948275862069,1000.0,1000.0,964.9619047619047,840.4074074074074,772.4483775811209,918.7393162393163,998.8373983739838,1000.0,1000.0,1000.0,999.4235588972432,860.6376068376068,744.5789473684212,965.2133333333335,988.6818181818181,995.6632653061224,850.7430555555555,706.4944444444445,668.7071240105541,817.4069529652352,983.2329317269077,974.2016460905351,927.8141762452109,869.876811594203,803.3233830845771,790.6245210727969,720.3910614525139,549.6216666666667,464.6287683031869,978.5205992509364,999.3846153846154,853.1919191919192,829.8103448275862,772.2199074074074,902.2307692307692,527.8785529715761,550.4596774193549,771.773631840796,627.2215320910973,615.7190476190477,871.1071428571428,1000.0,1000.0,1000.0,1000.0,1000.0,1000.0,1000.0,1000.0,1000.0,1000.0,1000.0,934.2520325203253,799.7634408602152,911.5972222222222,1000.0,1000.0,988.2857142857142,999.7716894977169,891.8711484593838,512.8724279835391,732.5595238095239,791.5102040816327,881.0596491228071,994.8787878787879,1000.0,993.4137931034483,874.6133333333333,805.5042735042734,1000.0,931.125,552.9851851851851,402.504347826087,463.16239316239324,800.213768115942,762.9929078014184,970.93669250646,851.9705215419502,811.1246105919003,771.1124144672532,718.4263565891473,589.2207207207207,682.3333333333334,1000.0,1000.0,1000.0,1000.0,1000.0,1000.0,1000.0,1000.0,1000.0,955.8261562998405,863.9306260575296,918.9707835325365,997.1190476190476,794.0561797752808,800.7799145299145,882.7857142857143,1000.0,920.5797579757976,808.4041297935104,843.8503401360545,925.7598870056498,671.6200466200467,615.4287749287749,733.030701754386,716.6153846153846,1000.0,1000.0,957.0,1000.0,985.1904761904761,683.6272727272727,587.8223140495868,625.1061728395061,673.3212121212122,572.5069444444445,926.4906103286385,618.6217228464419,771.1541666666667,744.4641577060933,493.3771929824561,507.57758620689657,776.3641975308642,998.7511111111111,1000.0,1000.0,1000.0,1000.0,976.4294294294294,873.7872892347601,810.7007092198581,808.5423728813558,956.3459915611814,779.8869047619047,807.7788018433179,947.9101449275362,792.6691542288557,708.8020833333334,827.8787878787879,950.2412935323383,942.6530612244898,932.4421052631578,954.3435374149659,978.3257575757576,941.2076502732242,921.8195718654434,914.4444444444445,1000.0,965.1153846153846,702.5555555555555,1000.0,973.3333333333334,983.7619047619049,869.191321499014,867.5714285714286,982.8753180661578,934.6526315789473,857.8312757201646,942.4124700239809,827.5814814814815,799.6771929824562,945.6878306878307,1000.0,958.060606060606,993.0952380952381,1000.0,1000.0,1000.0,1000.0,964.2648148148149,803.534282700422,461.2274401473297,462.63895680521597,552.1159420289855,799.3974358974359,859.3479853479853,517.6717171717172,523.6756756756757,716.2083333333334,714.8666666666667,744.7333333333332,937.6944444444445,989.2883895131087,1000.0,1000.0,1000.0,1000.0,1000.0,1000.0,1000.0,1000.0,1000.0,1000.0,1000.0,982.3333333333334,1000.0,1000.0,1000.0,986.423676012461,931.9462365591398,992.6705426356589,1000.0,1000.0,974.5641025641025,782.5968992248062,915.0,1000.0,1000.0,1000.0,1000.0,1000.0,957.421794871795,833.20082815735,905.6508688783571,947.6944444444445,964.0465116279069,956.4677871148459,878.8571428571428,729.3846153846152,674.3916666666667,708.25,1000.0,1000.0,1000.0,1000.0,1000.0,1000.0,1000.0,1000.0,1000.0,1000.0,1000.0,1000.0,1000.0,1000.0,960.1666666666666,1000.0,1000.0,792.1315789473683,553.8249158249158,854.5022222222223,991.1666666666666,1000.0,1000.0,1000.0,1000.0,1000.0,996.6078431372549,959.7201257861635,969.8596491228069,1000.0,688.3867684478372,720.5445134575571,776.8070841239722,842.5899843505478,720.1481481481482,569.7637130801688,1000.0,1000.0,1000.0,1000.0,1000.0,1000.0,958.1111111111112,751.3888888888888,882.2380952380953,940.75,861.3247863247863,809.7976190476189,975.0654761904761,1000.0,1000.0,1000.0,1000.0,1000.0,996.0,910.8102564102563,666.1259968102073,401.6167176350662,455.7848101265823,899.5897435897435,980.5585106382979,899.4767932489452,682.0714285714286,553.0,1000.0,1000.0,1000.0,1000.0,887.7083333333334,979.6388888888888,995.0,933.3623188405796,855.8505747126437,896.5138888888888,1000.0,1000.0,1000.0,1000.0,1000.0,1000.0,991.3163841807909,873.5555555555555,717.6639344262295,651.766081871345,579.2727272727273,1000.0,1000.0,1000.0,1000.0,1000.0,852.010101010101,913.9111111111112,974.6770833333334,999.6198830409357,1000.0,1000.0,1000.0,1000.0,1000.0,1000.0,1000.0,999.4950248756219,905.0694444444445,875.1111111111112,1000.0,1000.0,1000.0,1000.0,855.0,894.6,966.7107843137255,986.8243243243243,925.4444444444443,742.9629629629629,888.3796296296296,997.1287878787879,1000.0,1000.0,474.6666666666667,547.4166666666666,881.9333333333334,967.963963963964,746.1999999999999,877.063492063492,1000.0,1000.0,1000.0,1000.0,1000.0,1000.0],\"yaxis\":\"y\"}],                        {\"legend\":{\"tracegroupgap\":0},\"margin\":{\"t\":60},\"template\":{\"data\":{\"bar\":[{\"error_x\":{\"color\":\"#2a3f5f\"},\"error_y\":{\"color\":\"#2a3f5f\"},\"marker\":{\"line\":{\"color\":\"#E5ECF6\",\"width\":0.5},\"pattern\":{\"fillmode\":\"overlay\",\"size\":10,\"solidity\":0.2}},\"type\":\"bar\"}],\"barpolar\":[{\"marker\":{\"line\":{\"color\":\"#E5ECF6\",\"width\":0.5},\"pattern\":{\"fillmode\":\"overlay\",\"size\":10,\"solidity\":0.2}},\"type\":\"barpolar\"}],\"carpet\":[{\"aaxis\":{\"endlinecolor\":\"#2a3f5f\",\"gridcolor\":\"white\",\"linecolor\":\"white\",\"minorgridcolor\":\"white\",\"startlinecolor\":\"#2a3f5f\"},\"baxis\":{\"endlinecolor\":\"#2a3f5f\",\"gridcolor\":\"white\",\"linecolor\":\"white\",\"minorgridcolor\":\"white\",\"startlinecolor\":\"#2a3f5f\"},\"type\":\"carpet\"}],\"choropleth\":[{\"colorbar\":{\"outlinewidth\":0,\"ticks\":\"\"},\"type\":\"choropleth\"}],\"contour\":[{\"colorbar\":{\"outlinewidth\":0,\"ticks\":\"\"},\"colorscale\":[[0.0,\"#0d0887\"],[0.1111111111111111,\"#46039f\"],[0.2222222222222222,\"#7201a8\"],[0.3333333333333333,\"#9c179e\"],[0.4444444444444444,\"#bd3786\"],[0.5555555555555556,\"#d8576b\"],[0.6666666666666666,\"#ed7953\"],[0.7777777777777778,\"#fb9f3a\"],[0.8888888888888888,\"#fdca26\"],[1.0,\"#f0f921\"]],\"type\":\"contour\"}],\"contourcarpet\":[{\"colorbar\":{\"outlinewidth\":0,\"ticks\":\"\"},\"type\":\"contourcarpet\"}],\"heatmap\":[{\"colorbar\":{\"outlinewidth\":0,\"ticks\":\"\"},\"colorscale\":[[0.0,\"#0d0887\"],[0.1111111111111111,\"#46039f\"],[0.2222222222222222,\"#7201a8\"],[0.3333333333333333,\"#9c179e\"],[0.4444444444444444,\"#bd3786\"],[0.5555555555555556,\"#d8576b\"],[0.6666666666666666,\"#ed7953\"],[0.7777777777777778,\"#fb9f3a\"],[0.8888888888888888,\"#fdca26\"],[1.0,\"#f0f921\"]],\"type\":\"heatmap\"}],\"heatmapgl\":[{\"colorbar\":{\"outlinewidth\":0,\"ticks\":\"\"},\"colorscale\":[[0.0,\"#0d0887\"],[0.1111111111111111,\"#46039f\"],[0.2222222222222222,\"#7201a8\"],[0.3333333333333333,\"#9c179e\"],[0.4444444444444444,\"#bd3786\"],[0.5555555555555556,\"#d8576b\"],[0.6666666666666666,\"#ed7953\"],[0.7777777777777778,\"#fb9f3a\"],[0.8888888888888888,\"#fdca26\"],[1.0,\"#f0f921\"]],\"type\":\"heatmapgl\"}],\"histogram\":[{\"marker\":{\"pattern\":{\"fillmode\":\"overlay\",\"size\":10,\"solidity\":0.2}},\"type\":\"histogram\"}],\"histogram2d\":[{\"colorbar\":{\"outlinewidth\":0,\"ticks\":\"\"},\"colorscale\":[[0.0,\"#0d0887\"],[0.1111111111111111,\"#46039f\"],[0.2222222222222222,\"#7201a8\"],[0.3333333333333333,\"#9c179e\"],[0.4444444444444444,\"#bd3786\"],[0.5555555555555556,\"#d8576b\"],[0.6666666666666666,\"#ed7953\"],[0.7777777777777778,\"#fb9f3a\"],[0.8888888888888888,\"#fdca26\"],[1.0,\"#f0f921\"]],\"type\":\"histogram2d\"}],\"histogram2dcontour\":[{\"colorbar\":{\"outlinewidth\":0,\"ticks\":\"\"},\"colorscale\":[[0.0,\"#0d0887\"],[0.1111111111111111,\"#46039f\"],[0.2222222222222222,\"#7201a8\"],[0.3333333333333333,\"#9c179e\"],[0.4444444444444444,\"#bd3786\"],[0.5555555555555556,\"#d8576b\"],[0.6666666666666666,\"#ed7953\"],[0.7777777777777778,\"#fb9f3a\"],[0.8888888888888888,\"#fdca26\"],[1.0,\"#f0f921\"]],\"type\":\"histogram2dcontour\"}],\"mesh3d\":[{\"colorbar\":{\"outlinewidth\":0,\"ticks\":\"\"},\"type\":\"mesh3d\"}],\"parcoords\":[{\"line\":{\"colorbar\":{\"outlinewidth\":0,\"ticks\":\"\"}},\"type\":\"parcoords\"}],\"pie\":[{\"automargin\":true,\"type\":\"pie\"}],\"scatter\":[{\"marker\":{\"colorbar\":{\"outlinewidth\":0,\"ticks\":\"\"}},\"type\":\"scatter\"}],\"scatter3d\":[{\"line\":{\"colorbar\":{\"outlinewidth\":0,\"ticks\":\"\"}},\"marker\":{\"colorbar\":{\"outlinewidth\":0,\"ticks\":\"\"}},\"type\":\"scatter3d\"}],\"scattercarpet\":[{\"marker\":{\"colorbar\":{\"outlinewidth\":0,\"ticks\":\"\"}},\"type\":\"scattercarpet\"}],\"scattergeo\":[{\"marker\":{\"colorbar\":{\"outlinewidth\":0,\"ticks\":\"\"}},\"type\":\"scattergeo\"}],\"scattergl\":[{\"marker\":{\"colorbar\":{\"outlinewidth\":0,\"ticks\":\"\"}},\"type\":\"scattergl\"}],\"scattermapbox\":[{\"marker\":{\"colorbar\":{\"outlinewidth\":0,\"ticks\":\"\"}},\"type\":\"scattermapbox\"}],\"scatterpolar\":[{\"marker\":{\"colorbar\":{\"outlinewidth\":0,\"ticks\":\"\"}},\"type\":\"scatterpolar\"}],\"scatterpolargl\":[{\"marker\":{\"colorbar\":{\"outlinewidth\":0,\"ticks\":\"\"}},\"type\":\"scatterpolargl\"}],\"scatterternary\":[{\"marker\":{\"colorbar\":{\"outlinewidth\":0,\"ticks\":\"\"}},\"type\":\"scatterternary\"}],\"surface\":[{\"colorbar\":{\"outlinewidth\":0,\"ticks\":\"\"},\"colorscale\":[[0.0,\"#0d0887\"],[0.1111111111111111,\"#46039f\"],[0.2222222222222222,\"#7201a8\"],[0.3333333333333333,\"#9c179e\"],[0.4444444444444444,\"#bd3786\"],[0.5555555555555556,\"#d8576b\"],[0.6666666666666666,\"#ed7953\"],[0.7777777777777778,\"#fb9f3a\"],[0.8888888888888888,\"#fdca26\"],[1.0,\"#f0f921\"]],\"type\":\"surface\"}],\"table\":[{\"cells\":{\"fill\":{\"color\":\"#EBF0F8\"},\"line\":{\"color\":\"white\"}},\"header\":{\"fill\":{\"color\":\"#C8D4E3\"},\"line\":{\"color\":\"white\"}},\"type\":\"table\"}]},\"layout\":{\"annotationdefaults\":{\"arrowcolor\":\"#2a3f5f\",\"arrowhead\":0,\"arrowwidth\":1},\"autotypenumbers\":\"strict\",\"coloraxis\":{\"colorbar\":{\"outlinewidth\":0,\"ticks\":\"\"}},\"colorscale\":{\"diverging\":[[0,\"#8e0152\"],[0.1,\"#c51b7d\"],[0.2,\"#de77ae\"],[0.3,\"#f1b6da\"],[0.4,\"#fde0ef\"],[0.5,\"#f7f7f7\"],[0.6,\"#e6f5d0\"],[0.7,\"#b8e186\"],[0.8,\"#7fbc41\"],[0.9,\"#4d9221\"],[1,\"#276419\"]],\"sequential\":[[0.0,\"#0d0887\"],[0.1111111111111111,\"#46039f\"],[0.2222222222222222,\"#7201a8\"],[0.3333333333333333,\"#9c179e\"],[0.4444444444444444,\"#bd3786\"],[0.5555555555555556,\"#d8576b\"],[0.6666666666666666,\"#ed7953\"],[0.7777777777777778,\"#fb9f3a\"],[0.8888888888888888,\"#fdca26\"],[1.0,\"#f0f921\"]],\"sequentialminus\":[[0.0,\"#0d0887\"],[0.1111111111111111,\"#46039f\"],[0.2222222222222222,\"#7201a8\"],[0.3333333333333333,\"#9c179e\"],[0.4444444444444444,\"#bd3786\"],[0.5555555555555556,\"#d8576b\"],[0.6666666666666666,\"#ed7953\"],[0.7777777777777778,\"#fb9f3a\"],[0.8888888888888888,\"#fdca26\"],[1.0,\"#f0f921\"]]},\"colorway\":[\"#636efa\",\"#EF553B\",\"#00cc96\",\"#ab63fa\",\"#FFA15A\",\"#19d3f3\",\"#FF6692\",\"#B6E880\",\"#FF97FF\",\"#FECB52\"],\"font\":{\"color\":\"#2a3f5f\"},\"geo\":{\"bgcolor\":\"white\",\"lakecolor\":\"white\",\"landcolor\":\"#E5ECF6\",\"showlakes\":true,\"showland\":true,\"subunitcolor\":\"white\"},\"hoverlabel\":{\"align\":\"left\"},\"hovermode\":\"closest\",\"mapbox\":{\"style\":\"light\"},\"paper_bgcolor\":\"white\",\"plot_bgcolor\":\"#E5ECF6\",\"polar\":{\"angularaxis\":{\"gridcolor\":\"white\",\"linecolor\":\"white\",\"ticks\":\"\"},\"bgcolor\":\"#E5ECF6\",\"radialaxis\":{\"gridcolor\":\"white\",\"linecolor\":\"white\",\"ticks\":\"\"}},\"scene\":{\"xaxis\":{\"backgroundcolor\":\"#E5ECF6\",\"gridcolor\":\"white\",\"gridwidth\":2,\"linecolor\":\"white\",\"showbackground\":true,\"ticks\":\"\",\"zerolinecolor\":\"white\"},\"yaxis\":{\"backgroundcolor\":\"#E5ECF6\",\"gridcolor\":\"white\",\"gridwidth\":2,\"linecolor\":\"white\",\"showbackground\":true,\"ticks\":\"\",\"zerolinecolor\":\"white\"},\"zaxis\":{\"backgroundcolor\":\"#E5ECF6\",\"gridcolor\":\"white\",\"gridwidth\":2,\"linecolor\":\"white\",\"showbackground\":true,\"ticks\":\"\",\"zerolinecolor\":\"white\"}},\"shapedefaults\":{\"line\":{\"color\":\"#2a3f5f\"}},\"ternary\":{\"aaxis\":{\"gridcolor\":\"white\",\"linecolor\":\"white\",\"ticks\":\"\"},\"baxis\":{\"gridcolor\":\"white\",\"linecolor\":\"white\",\"ticks\":\"\"},\"bgcolor\":\"#E5ECF6\",\"caxis\":{\"gridcolor\":\"white\",\"linecolor\":\"white\",\"ticks\":\"\"}},\"title\":{\"x\":0.05},\"xaxis\":{\"automargin\":true,\"gridcolor\":\"white\",\"linecolor\":\"white\",\"ticks\":\"\",\"title\":{\"standoff\":15},\"zerolinecolor\":\"white\",\"zerolinewidth\":2},\"yaxis\":{\"automargin\":true,\"gridcolor\":\"white\",\"linecolor\":\"white\",\"ticks\":\"\",\"title\":{\"standoff\":15},\"zerolinecolor\":\"white\",\"zerolinewidth\":2}}},\"xaxis\":{\"anchor\":\"y\",\"domain\":[0.0,1.0],\"title\":{\"text\":\"population_density\"}},\"yaxis\":{\"anchor\":\"x\",\"domain\":[0.0,1.0],\"title\":{\"text\":\"avg_user_selection\"}}},                        {\"responsive\": true}                    ).then(function(){\n",
       "                            \n",
       "var gd = document.getElementById('a39d38da-fc36-4968-b813-8842c5369b19');\n",
       "var x = new MutationObserver(function (mutations, observer) {{\n",
       "        var display = window.getComputedStyle(gd).display;\n",
       "        if (!display || display === 'none') {{\n",
       "            console.log([gd, 'removed!']);\n",
       "            Plotly.purge(gd);\n",
       "            observer.disconnect();\n",
       "        }}\n",
       "}});\n",
       "\n",
       "// Listen for the removal of the full notebook cells\n",
       "var notebookContainer = gd.closest('#notebook-container');\n",
       "if (notebookContainer) {{\n",
       "    x.observe(notebookContainer, {childList: true});\n",
       "}}\n",
       "\n",
       "// Listen for the clearing of the current output cell\n",
       "var outputEl = gd.closest('.output');\n",
       "if (outputEl) {{\n",
       "    x.observe(outputEl, {childList: true});\n",
       "}}\n",
       "\n",
       "                        })                };                });            </script>        </div>"
      ]
     },
     "metadata": {},
     "output_type": "display_data"
    }
   ],
   "source": [
    "# x and y given as array_like objects\n",
    "import plotly.express as px\n",
    "fig = px.scatter(\n",
    "    df,\n",
    "    x=\"population_density\", \n",
    "    y=\"avg_user_selection\"\n",
    ")\n",
    "fig.show()"
   ]
  },
  {
   "cell_type": "code",
   "execution_count": null,
   "id": "0da526f5",
   "metadata": {},
   "outputs": [],
   "source": []
  }
 ],
 "metadata": {
  "kernelspec": {
   "display_name": "Python 3",
   "language": "python",
   "name": "python3"
  },
  "language_info": {
   "codemirror_mode": {
    "name": "ipython",
    "version": 3
   },
   "file_extension": ".py",
   "mimetype": "text/x-python",
   "name": "python",
   "nbconvert_exporter": "python",
   "pygments_lexer": "ipython3",
   "version": "3.8.8"
  }
 },
 "nbformat": 4,
 "nbformat_minor": 5
}

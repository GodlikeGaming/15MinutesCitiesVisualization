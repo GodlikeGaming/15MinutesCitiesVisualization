{
 "cells": [
  {
   "cell_type": "code",
   "execution_count": 1,
   "metadata": {},
   "outputs": [
    {
     "data": {
      "text/html": [
       "<div>\n",
       "<style scoped>\n",
       "    .dataframe tbody tr th:only-of-type {\n",
       "        vertical-align: middle;\n",
       "    }\n",
       "\n",
       "    .dataframe tbody tr th {\n",
       "        vertical-align: top;\n",
       "    }\n",
       "\n",
       "    .dataframe thead th {\n",
       "        text-align: right;\n",
       "    }\n",
       "</style>\n",
       "<table border=\"1\" class=\"dataframe\">\n",
       "  <thead>\n",
       "    <tr style=\"text-align: right;\">\n",
       "      <th></th>\n",
       "      <th>id</th>\n",
       "      <th>lon</th>\n",
       "      <th>lat</th>\n",
       "      <th>population_density</th>\n",
       "      <th>avg_restaurant_dist</th>\n",
       "      <th>avg_bar_dist</th>\n",
       "      <th>avg_school_dist</th>\n",
       "      <th>avg_toilets_dist</th>\n",
       "      <th>avg_college_dist</th>\n",
       "      <th>avg_hospital_dist</th>\n",
       "    </tr>\n",
       "  </thead>\n",
       "  <tbody>\n",
       "    <tr>\n",
       "      <th>0</th>\n",
       "      <td>55246</td>\n",
       "      <td>12.527917</td>\n",
       "      <td>55.695417</td>\n",
       "      <td>8509.044922</td>\n",
       "      <td>826.561404</td>\n",
       "      <td>920.052632</td>\n",
       "      <td>1000.000000</td>\n",
       "      <td>939.964912</td>\n",
       "      <td>1000.0</td>\n",
       "      <td>813.596491</td>\n",
       "    </tr>\n",
       "    <tr>\n",
       "      <th>1</th>\n",
       "      <td>55247</td>\n",
       "      <td>12.536250</td>\n",
       "      <td>55.695417</td>\n",
       "      <td>11358.980469</td>\n",
       "      <td>535.344828</td>\n",
       "      <td>590.942529</td>\n",
       "      <td>904.540230</td>\n",
       "      <td>600.655172</td>\n",
       "      <td>1000.0</td>\n",
       "      <td>963.563218</td>\n",
       "    </tr>\n",
       "    <tr>\n",
       "      <th>2</th>\n",
       "      <td>55248</td>\n",
       "      <td>12.544583</td>\n",
       "      <td>55.695417</td>\n",
       "      <td>12426.899414</td>\n",
       "      <td>181.544304</td>\n",
       "      <td>177.734177</td>\n",
       "      <td>496.367089</td>\n",
       "      <td>341.354430</td>\n",
       "      <td>1000.0</td>\n",
       "      <td>1000.000000</td>\n",
       "    </tr>\n",
       "    <tr>\n",
       "      <th>3</th>\n",
       "      <td>55249</td>\n",
       "      <td>12.552917</td>\n",
       "      <td>55.695417</td>\n",
       "      <td>12974.911133</td>\n",
       "      <td>157.525773</td>\n",
       "      <td>225.360825</td>\n",
       "      <td>759.319588</td>\n",
       "      <td>401.371134</td>\n",
       "      <td>1000.0</td>\n",
       "      <td>1000.000000</td>\n",
       "    </tr>\n",
       "    <tr>\n",
       "      <th>4</th>\n",
       "      <td>55250</td>\n",
       "      <td>12.561250</td>\n",
       "      <td>55.695417</td>\n",
       "      <td>9767.416016</td>\n",
       "      <td>222.821429</td>\n",
       "      <td>221.107143</td>\n",
       "      <td>991.223214</td>\n",
       "      <td>186.000000</td>\n",
       "      <td>1000.0</td>\n",
       "      <td>1000.000000</td>\n",
       "    </tr>\n",
       "  </tbody>\n",
       "</table>\n",
       "</div>"
      ],
      "text/plain": [
       "      id        lon        lat  population_density  avg_restaurant_dist  \\\n",
       "0  55246  12.527917  55.695417         8509.044922           826.561404   \n",
       "1  55247  12.536250  55.695417        11358.980469           535.344828   \n",
       "2  55248  12.544583  55.695417        12426.899414           181.544304   \n",
       "3  55249  12.552917  55.695417        12974.911133           157.525773   \n",
       "4  55250  12.561250  55.695417         9767.416016           222.821429   \n",
       "\n",
       "   avg_bar_dist  avg_school_dist  avg_toilets_dist  avg_college_dist  \\\n",
       "0    920.052632      1000.000000        939.964912            1000.0   \n",
       "1    590.942529       904.540230        600.655172            1000.0   \n",
       "2    177.734177       496.367089        341.354430            1000.0   \n",
       "3    225.360825       759.319588        401.371134            1000.0   \n",
       "4    221.107143       991.223214        186.000000            1000.0   \n",
       "\n",
       "   avg_hospital_dist  \n",
       "0         813.596491  \n",
       "1         963.563218  \n",
       "2        1000.000000  \n",
       "3        1000.000000  \n",
       "4        1000.000000  "
      ]
     },
     "execution_count": 1,
     "metadata": {},
     "output_type": "execute_result"
    }
   ],
   "source": [
    "import pandas as pd\n",
    "df = pd.read_csv(\"cph_pop_and_access_1k.csv\")\n",
    "df.head()"
   ]
  },
  {
   "cell_type": "code",
   "execution_count": 3,
   "metadata": {},
   "outputs": [],
   "source": [
    "user_selected_amenities = [\"avg_restaurant_dist\", \"avg_bar_dist\", \"avg_toilets_dist\"]\n",
    "df[\"avg_user_selection\"] = (df[user_selected_amenities[0]] + df[user_selected_amenities[1]] + df[user_selected_amenities[2]])/len(user_selected_amenities)"
   ]
  },
  {
   "cell_type": "code",
   "execution_count": 4,
   "metadata": {},
   "outputs": [
    {
     "data": {
      "text/html": [
       "<div>\n",
       "<style scoped>\n",
       "    .dataframe tbody tr th:only-of-type {\n",
       "        vertical-align: middle;\n",
       "    }\n",
       "\n",
       "    .dataframe tbody tr th {\n",
       "        vertical-align: top;\n",
       "    }\n",
       "\n",
       "    .dataframe thead th {\n",
       "        text-align: right;\n",
       "    }\n",
       "</style>\n",
       "<table border=\"1\" class=\"dataframe\">\n",
       "  <thead>\n",
       "    <tr style=\"text-align: right;\">\n",
       "      <th></th>\n",
       "      <th>population_density</th>\n",
       "      <th>avg_user_selection</th>\n",
       "    </tr>\n",
       "  </thead>\n",
       "  <tbody>\n",
       "    <tr>\n",
       "      <th>0</th>\n",
       "      <td>8509.044922</td>\n",
       "      <td>895.526316</td>\n",
       "    </tr>\n",
       "    <tr>\n",
       "      <th>1</th>\n",
       "      <td>11358.980469</td>\n",
       "      <td>575.647510</td>\n",
       "    </tr>\n",
       "    <tr>\n",
       "      <th>2</th>\n",
       "      <td>12426.899414</td>\n",
       "      <td>233.544304</td>\n",
       "    </tr>\n",
       "    <tr>\n",
       "      <th>3</th>\n",
       "      <td>12974.911133</td>\n",
       "      <td>261.419244</td>\n",
       "    </tr>\n",
       "    <tr>\n",
       "      <th>4</th>\n",
       "      <td>9767.416016</td>\n",
       "      <td>209.976190</td>\n",
       "    </tr>\n",
       "  </tbody>\n",
       "</table>\n",
       "</div>"
      ],
      "text/plain": [
       "   population_density  avg_user_selection\n",
       "0         8509.044922          895.526316\n",
       "1        11358.980469          575.647510\n",
       "2        12426.899414          233.544304\n",
       "3        12974.911133          261.419244\n",
       "4         9767.416016          209.976190"
      ]
     },
     "execution_count": 4,
     "metadata": {},
     "output_type": "execute_result"
    }
   ],
   "source": [
    "sample = df[[\"population_density\", \"avg_user_selection\"]]\n",
    "sample = sample.fillna(1000)\n",
    "sample.head()"
   ]
  },
  {
   "cell_type": "code",
   "execution_count": 5,
   "metadata": {},
   "outputs": [
    {
     "data": {
      "text/html": [
       "<div>\n",
       "<style scoped>\n",
       "    .dataframe tbody tr th:only-of-type {\n",
       "        vertical-align: middle;\n",
       "    }\n",
       "\n",
       "    .dataframe tbody tr th {\n",
       "        vertical-align: top;\n",
       "    }\n",
       "\n",
       "    .dataframe thead th {\n",
       "        text-align: right;\n",
       "    }\n",
       "</style>\n",
       "<table border=\"1\" class=\"dataframe\">\n",
       "  <thead>\n",
       "    <tr style=\"text-align: right;\">\n",
       "      <th></th>\n",
       "      <th>population_density</th>\n",
       "      <th>avg_user_selection</th>\n",
       "    </tr>\n",
       "  </thead>\n",
       "  <tbody>\n",
       "    <tr>\n",
       "      <th>0</th>\n",
       "      <td>0.642317</td>\n",
       "      <td>0.882342</td>\n",
       "    </tr>\n",
       "    <tr>\n",
       "      <th>1</th>\n",
       "      <td>0.858345</td>\n",
       "      <td>0.522096</td>\n",
       "    </tr>\n",
       "    <tr>\n",
       "      <th>2</th>\n",
       "      <td>0.939294</td>\n",
       "      <td>0.136821</td>\n",
       "    </tr>\n",
       "    <tr>\n",
       "      <th>3</th>\n",
       "      <td>0.980834</td>\n",
       "      <td>0.168214</td>\n",
       "    </tr>\n",
       "    <tr>\n",
       "      <th>4</th>\n",
       "      <td>0.737703</td>\n",
       "      <td>0.110279</td>\n",
       "    </tr>\n",
       "  </tbody>\n",
       "</table>\n",
       "</div>"
      ],
      "text/plain": [
       "   population_density  avg_user_selection\n",
       "0            0.642317            0.882342\n",
       "1            0.858345            0.522096\n",
       "2            0.939294            0.136821\n",
       "3            0.980834            0.168214\n",
       "4            0.737703            0.110279"
      ]
     },
     "execution_count": 5,
     "metadata": {},
     "output_type": "execute_result"
    }
   ],
   "source": [
    "# Scale(normalize) the data attributes between 0-1\n",
    "\n",
    "from sklearn import preprocessing\n",
    "import pandas as pd\n",
    "scaler = preprocessing.MinMaxScaler()\n",
    "names = sample.columns\n",
    "d = scaler.fit_transform(sample)\n",
    "scaled_df = pd.DataFrame(d, columns=names)\n",
    "scaled_df.head()"
   ]
  },
  {
   "cell_type": "code",
   "execution_count": 9,
   "metadata": {},
   "outputs": [
    {
     "data": {
      "text/html": [
       "<div>\n",
       "<style scoped>\n",
       "    .dataframe tbody tr th:only-of-type {\n",
       "        vertical-align: middle;\n",
       "    }\n",
       "\n",
       "    .dataframe tbody tr th {\n",
       "        vertical-align: top;\n",
       "    }\n",
       "\n",
       "    .dataframe thead th {\n",
       "        text-align: right;\n",
       "    }\n",
       "</style>\n",
       "<table border=\"1\" class=\"dataframe\">\n",
       "  <thead>\n",
       "    <tr style=\"text-align: right;\">\n",
       "      <th></th>\n",
       "      <th>population_density</th>\n",
       "      <th>avg_user_selection</th>\n",
       "    </tr>\n",
       "  </thead>\n",
       "  <tbody>\n",
       "    <tr>\n",
       "      <th>0</th>\n",
       "      <td>0.642317</td>\n",
       "      <td>0.117658</td>\n",
       "    </tr>\n",
       "    <tr>\n",
       "      <th>1</th>\n",
       "      <td>0.858345</td>\n",
       "      <td>0.477904</td>\n",
       "    </tr>\n",
       "    <tr>\n",
       "      <th>2</th>\n",
       "      <td>0.939294</td>\n",
       "      <td>0.863179</td>\n",
       "    </tr>\n",
       "    <tr>\n",
       "      <th>3</th>\n",
       "      <td>0.980834</td>\n",
       "      <td>0.831786</td>\n",
       "    </tr>\n",
       "    <tr>\n",
       "      <th>4</th>\n",
       "      <td>0.737703</td>\n",
       "      <td>0.889721</td>\n",
       "    </tr>\n",
       "  </tbody>\n",
       "</table>\n",
       "</div>"
      ],
      "text/plain": [
       "   population_density  avg_user_selection\n",
       "0            0.642317            0.117658\n",
       "1            0.858345            0.477904\n",
       "2            0.939294            0.863179\n",
       "3            0.980834            0.831786\n",
       "4            0.737703            0.889721"
      ]
     },
     "execution_count": 9,
     "metadata": {},
     "output_type": "execute_result"
    }
   ],
   "source": [
    "# Transitioning of avg_user_selection column from average distance to average accesibility \n",
    "\n",
    "scaled_df[\"avg_user_selection\"] = abs(scaled_df[\"avg_user_selection\"] - 1)\n",
    "scaled_df.head()"
   ]
  },
  {
   "cell_type": "code",
   "execution_count": 10,
   "metadata": {},
   "outputs": [
    {
     "data": {
      "image/png": "[encoded data removed]",
      "text/plain": [
       "<Figure size 432x288 with 1 Axes>"
      ]
     },
     "metadata": {
      "needs_background": "light"
     },
     "output_type": "display_data"
    }
   ],
   "source": [
    "# assigning distinct colors on each quadrant\n",
    "\n",
    "import numpy as np\n",
    "import matplotlib.pyplot as plt \n",
    "# points = sample.to_numpy()\n",
    "points = scaled_df.to_numpy()\n",
    "\n",
    "R = (points[:,0] - points[:,0].min())/(points[:,0].max()-points[:,0].min())\n",
    "G = (points[:,1] - points[:,1].min())/(points[:,1].max()-points[:,1].min())\n",
    "B = np.zeros(R.shape)\n",
    "\n",
    "clrs = np.column_stack((R,G,B))\n",
    "\n",
    "plt.scatter(points[:,0],points[:,1],color=clrs)\n",
    "plt.show()"
   ]
  },
  {
   "cell_type": "code",
   "execution_count": 11,
   "metadata": {},
   "outputs": [],
   "source": [
    "# Extracting RGB color values\n",
    "clrs_df = pd.DataFrame(clrs)"
   ]
  },
  {
   "cell_type": "code",
   "execution_count": 12,
   "metadata": {},
   "outputs": [
    {
     "data": {
      "text/html": [
       "<div>\n",
       "<style scoped>\n",
       "    .dataframe tbody tr th:only-of-type {\n",
       "        vertical-align: middle;\n",
       "    }\n",
       "\n",
       "    .dataframe tbody tr th {\n",
       "        vertical-align: top;\n",
       "    }\n",
       "\n",
       "    .dataframe thead th {\n",
       "        text-align: right;\n",
       "    }\n",
       "</style>\n",
       "<table border=\"1\" class=\"dataframe\">\n",
       "  <thead>\n",
       "    <tr style=\"text-align: right;\">\n",
       "      <th></th>\n",
       "      <th>0</th>\n",
       "      <th>1</th>\n",
       "      <th>2</th>\n",
       "      <th>rgb</th>\n",
       "    </tr>\n",
       "  </thead>\n",
       "  <tbody>\n",
       "    <tr>\n",
       "      <th>0</th>\n",
       "      <td>0.642317</td>\n",
       "      <td>0.117658</td>\n",
       "      <td>0.0</td>\n",
       "      <td>rgb(0.6423174080767954,0.11765778558301421,0.0)</td>\n",
       "    </tr>\n",
       "    <tr>\n",
       "      <th>1</th>\n",
       "      <td>0.858345</td>\n",
       "      <td>0.477904</td>\n",
       "      <td>0.0</td>\n",
       "      <td>rgb(0.858345031890396,0.47790383489314336,0.0)</td>\n",
       "    </tr>\n",
       "    <tr>\n",
       "      <th>2</th>\n",
       "      <td>0.939294</td>\n",
       "      <td>0.863179</td>\n",
       "      <td>0.0</td>\n",
       "      <td>rgb(0.9392942282448021,0.8631789014059799,0.0)</td>\n",
       "    </tr>\n",
       "    <tr>\n",
       "      <th>3</th>\n",
       "      <td>0.980834</td>\n",
       "      <td>0.831786</td>\n",
       "      <td>0.0</td>\n",
       "      <td>rgb(0.9808339990488758,0.8317862711885698,0.0)</td>\n",
       "    </tr>\n",
       "    <tr>\n",
       "      <th>4</th>\n",
       "      <td>0.737703</td>\n",
       "      <td>0.889721</td>\n",
       "      <td>0.0</td>\n",
       "      <td>rgb(0.7377030449753611,0.8897212028927661,0.0)</td>\n",
       "    </tr>\n",
       "  </tbody>\n",
       "</table>\n",
       "</div>"
      ],
      "text/plain": [
       "          0         1    2                                              rgb\n",
       "0  0.642317  0.117658  0.0  rgb(0.6423174080767954,0.11765778558301421,0.0)\n",
       "1  0.858345  0.477904  0.0   rgb(0.858345031890396,0.47790383489314336,0.0)\n",
       "2  0.939294  0.863179  0.0   rgb(0.9392942282448021,0.8631789014059799,0.0)\n",
       "3  0.980834  0.831786  0.0   rgb(0.9808339990488758,0.8317862711885698,0.0)\n",
       "4  0.737703  0.889721  0.0   rgb(0.7377030449753611,0.8897212028927661,0.0)"
      ]
     },
     "execution_count": 12,
     "metadata": {},
     "output_type": "execute_result"
    }
   ],
   "source": [
    "clrs_df['rgb'] = clrs_df[clrs_df.columns[0:]].apply(\n",
    "    lambda x: ','.join(x.dropna().astype(str)),\n",
    "    axis=1\n",
    ")\n",
    "clrs_df['rgb'] = 'rgb(' + clrs_df['rgb'].astype(str) + ')'\n",
    "clrs_df.head()"
   ]
  },
  {
   "cell_type": "code",
   "execution_count": 16,
   "metadata": {},
   "outputs": [],
   "source": [
    "# Adding scaled data & rgb columns in the original data frame \n",
    "\n",
    "df['scaled_pop'] = scaled_df['population_density']\n",
    "df['scaled_acc'] = scaled_df['avg_user_selection']\n",
    "df['rgb'] = clrs_df['rgb']"
   ]
  },
  {
   "cell_type": "code",
   "execution_count": 17,
   "metadata": {},
   "outputs": [
    {
     "data": {
      "application/vnd.plotly.v1+json": {
       "config": {
        "plotlyServerURL": "https://plot.ly"
       },
       "data": [
        {
         "customdata": [
          [
           8509.044921875,
           826.561403508772,
           920.0526315789474,
           939.9649122807018
          ]
         ],
         "hovertemplate": "lat=%{lat}<br>lon=%{lon}<br>population_density=%{customdata[0]}<br>avg_restaurant_dist=%{customdata[1]}<br>avg_bar_dist=%{customdata[2]}<br>avg_toilets_dist=%{customdata[3]}<extra></extra>",
         "lat": [
          55.69541662603848
         ],
         "legendgroup": "",
         "lon": [
          12.527916617447245
         ],
         "marker": {
          "color": "rgb(0.6423174080767954,0.11765778558301421,0.0)"
         },
         "mode": "markers",
         "name": "",
         "showlegend": false,
         "subplot": "mapbox",
         "type": "scattermapbox"
        },
        {
         "customdata": [
          [
           11358.98046875,
           535.3448275862069,
           590.9425287356322,
           600.6551724137931
          ]
         ],
         "hovertemplate": "lat=%{lat}<br>lon=%{lon}<br>population_density=%{customdata[0]}<br>avg_restaurant_dist=%{customdata[1]}<br>avg_bar_dist=%{customdata[2]}<br>avg_toilets_dist=%{customdata[3]}<extra></extra>",
         "lat": [
          55.69541662603848
         ],
         "legendgroup": "",
         "lon": [
          12.53624995074724
         ],
         "marker": {
          "color": "rgb(0.858345031890396,0.47790383489314336,0.0)"
         },
         "mode": "markers",
         "name": "",
         "showlegend": false,
         "subplot": "mapbox",
         "type": "scattermapbox"
        },
        {
         "customdata": [
          [
           12426.8994140625,
           181.5443037974684,
           177.73417721518987,
           341.3544303797468
          ]
         ],
         "hovertemplate": "lat=%{lat}<br>lon=%{lon}<br>population_density=%{customdata[0]}<br>avg_restaurant_dist=%{customdata[1]}<br>avg_bar_dist=%{customdata[2]}<br>avg_toilets_dist=%{customdata[3]}<extra></extra>",
         "lat": [
          55.69541662603848
         ],
         "legendgroup": "",
         "lon": [
          12.544583284047242
         ],
         "marker": {
          "color": "rgb(0.9392942282448021,0.8631789014059799,0.0)"
         },
         "mode": "markers",
         "name": "",
         "showlegend": false,
         "subplot": "mapbox",
         "type": "scattermapbox"
        },
        {
         "customdata": [
          [
           12974.9111328125,
           157.5257731958763,
           225.36082474226805,
           401.37113402061857
          ]
         ],
         "hovertemplate": "lat=%{lat}<br>lon=%{lon}<br>population_density=%{customdata[0]}<br>avg_restaurant_dist=%{customdata[1]}<br>avg_bar_dist=%{customdata[2]}<br>avg_toilets_dist=%{customdata[3]}<extra></extra>",
         "lat": [
          55.69541662603848
         ],
         "legendgroup": "",
         "lon": [
          12.552916617347242
         ],
         "marker": {
          "color": "rgb(0.9808339990488758,0.8317862711885698,0.0)"
         },
         "mode": "markers",
         "name": "",
         "showlegend": false,
         "subplot": "mapbox",
         "type": "scattermapbox"
        },
        {
         "customdata": [
          [
           9767.416015625,
           222.82142857142856,
           221.1071428571429,
           186
          ]
         ],
         "hovertemplate": "lat=%{lat}<br>lon=%{lon}<br>population_density=%{customdata[0]}<br>avg_restaurant_dist=%{customdata[1]}<br>avg_bar_dist=%{customdata[2]}<br>avg_toilets_dist=%{customdata[3]}<extra></extra>",
         "lat": [
          55.69541662603848
         ],
         "legendgroup": "",
         "lon": [
          12.56124995064724
         ],
         "marker": {
          "color": "rgb(0.7377030449753611,0.8897212028927661,0.0)"
         },
         "mode": "markers",
         "name": "",
         "showlegend": false,
         "subplot": "mapbox",
         "type": "scattermapbox"
        },
        {
         "customdata": [
          [
           6038.10302734375,
           125.03478260869564,
           400.2,
           482.1304347826087
          ]
         ],
         "hovertemplate": "lat=%{lat}<br>lon=%{lon}<br>population_density=%{customdata[0]}<br>avg_restaurant_dist=%{customdata[1]}<br>avg_bar_dist=%{customdata[2]}<br>avg_toilets_dist=%{customdata[3]}<extra></extra>",
         "lat": [
          55.69541662603848
         ],
         "legendgroup": "",
         "lon": [
          12.569583283947242
         ],
         "marker": {
          "color": "rgb(0.455017836813728,0.7480320611169056,0.0)"
         },
         "mode": "markers",
         "name": "",
         "showlegend": false,
         "subplot": "mapbox",
         "type": "scattermapbox"
        },
        {
         "customdata": [
          [
           8422.69921875,
           309.5833333333333,
           644.0833333333334,
           192.15833333333333
          ]
         ],
         "hovertemplate": "lat=%{lat}<br>lon=%{lon}<br>population_density=%{customdata[0]}<br>avg_restaurant_dist=%{customdata[1]}<br>avg_bar_dist=%{customdata[2]}<br>avg_toilets_dist=%{customdata[3]}<extra></extra>",
         "lat": [
          55.69541662603848
         ],
         "legendgroup": "",
         "lon": [
          12.577916617247242
         ],
         "marker": {
          "color": "rgb(0.6357723277527643,0.6960544697034967,0.0)"
         },
         "mode": "markers",
         "name": "",
         "showlegend": false,
         "subplot": "mapbox",
         "type": "scattermapbox"
        },
        {
         "customdata": [
          [
           8635.875,
           311.61290322580646,
           827.7870967741935,
           275.8838709677419
          ]
         ],
         "hovertemplate": "lat=%{lat}<br>lon=%{lon}<br>population_density=%{customdata[0]}<br>avg_restaurant_dist=%{customdata[1]}<br>avg_bar_dist=%{customdata[2]}<br>avg_toilets_dist=%{customdata[3]}<extra></extra>",
         "lat": [
          55.69541662603848
         ],
         "legendgroup": "",
         "lon": [
          12.58624995054724
         ],
         "marker": {
          "color": "rgb(0.6519312396722082,0.5949000201297755,0.0)"
         },
         "mode": "markers",
         "name": "",
         "showlegend": false,
         "subplot": "mapbox",
         "type": "scattermapbox"
        },
        {
         "customdata": [
          [
           2288.375732421875,
           556.8666666666667,
           979.0266666666666,
           321.37333333333333
          ]
         ],
         "hovertemplate": "lat=%{lat}<br>lon=%{lon}<br>population_density=%{customdata[0]}<br>avg_restaurant_dist=%{customdata[1]}<br>avg_bar_dist=%{customdata[2]}<br>avg_toilets_dist=%{customdata[3]}<extra></extra>",
         "lat": [
          55.69541662603848
         ],
         "legendgroup": "",
         "lon": [
          12.594583283847244
         ],
         "marker": {
          "color": "rgb(0.17078520623399415,0.4289803520950516,0.0)"
         },
         "mode": "markers",
         "name": "",
         "showlegend": false,
         "subplot": "mapbox",
         "type": "scattermapbox"
        },
        {
         "customdata": [
          [
           182.8451232910156,
           323.2352941176471,
           1000,
           144.2058823529412
          ]
         ],
         "hovertemplate": "lat=%{lat}<br>lon=%{lon}<br>population_density=%{customdata[0]}<br>avg_restaurant_dist=%{customdata[1]}<br>avg_bar_dist=%{customdata[2]}<br>avg_toilets_dist=%{customdata[3]}<extra></extra>",
         "lat": [
          55.69541662603848
         ],
         "legendgroup": "",
         "lon": [
          12.602916617147242
         ],
         "marker": {
          "color": "rgb(0.011184132147916562,0.5753202471186266,0.0)"
         },
         "mode": "markers",
         "name": "",
         "showlegend": false,
         "subplot": "mapbox",
         "type": "scattermapbox"
        },
        {
         "customdata": [
          [
           723.6754150390625,
           225,
           178.73076923076923,
           192
          ]
         ],
         "hovertemplate": "lat=%{lat}<br>lon=%{lon}<br>population_density=%{customdata[0]}<br>avg_restaurant_dist=%{customdata[1]}<br>avg_bar_dist=%{customdata[2]}<br>avg_toilets_dist=%{customdata[3]}<extra></extra>",
         "lat": [
          55.69541662603848
         ],
         "legendgroup": "",
         "lon": [
          12.611249950447242
         ],
         "marker": {
          "color": "rgb(0.052179544462015275,0.902559005728969,0.0)"
         },
         "mode": "markers",
         "name": "",
         "showlegend": false,
         "subplot": "mapbox",
         "type": "scattermapbox"
        },
        {
         "customdata": [
          [
           7157.70458984375,
           290.7878048780488,
           438.0609756097561,
           461.98536585365855
          ]
         ],
         "hovertemplate": "lat=%{lat}<br>lon=%{lon}<br>population_density=%{customdata[0]}<br>avg_restaurant_dist=%{customdata[1]}<br>avg_bar_dist=%{customdata[2]}<br>avg_toilets_dist=%{customdata[3]}<extra></extra>",
         "lat": [
          55.68708329273848
         ],
         "legendgroup": "",
         "lon": [
          12.527916617447245
         ],
         "marker": {
          "color": "rgb(0.53988462105735,0.6791581047495336,0.0)"
         },
         "mode": "markers",
         "name": "",
         "showlegend": false,
         "subplot": "mapbox",
         "type": "scattermapbox"
        },
        {
         "customdata": [
          [
           11117.03125,
           182.77167630057804,
           264.1040462427746,
           567.806358381503
          ]
         ],
         "hovertemplate": "lat=%{lat}<br>lon=%{lon}<br>population_density=%{customdata[0]}<br>avg_restaurant_dist=%{customdata[1]}<br>avg_bar_dist=%{customdata[2]}<br>avg_toilets_dist=%{customdata[3]}<extra></extra>",
         "lat": [
          55.68708329273848
         ],
         "legendgroup": "",
         "lon": [
          12.53624995074724
         ],
         "marker": {
          "color": "rgb(0.8400050680735188,0.7452853216954707,0.0)"
         },
         "mode": "markers",
         "name": "",
         "showlegend": false,
         "subplot": "mapbox",
         "type": "scattermapbox"
        },
        {
         "customdata": [
          [
           10938.3203125,
           209.864406779661,
           182.8771186440678,
           522.5805084745763
          ]
         ],
         "hovertemplate": "lat=%{lat}<br>lon=%{lon}<br>population_density=%{customdata[0]}<br>avg_restaurant_dist=%{customdata[1]}<br>avg_bar_dist=%{customdata[2]}<br>avg_toilets_dist=%{customdata[3]}<extra></extra>",
         "lat": [
          55.68708329273848
         ],
         "legendgroup": "",
         "lon": [
          12.544583284047242
         ],
         "marker": {
          "color": "rgb(0.8264586216565258,0.7825849319495082,0.0)"
         },
         "mode": "markers",
         "name": "",
         "showlegend": false,
         "subplot": "mapbox",
         "type": "scattermapbox"
        },
        {
         "customdata": [
          [
           8523.8779296875,
           147.3593220338983,
           162.2135593220339,
           297.43050847457624
          ]
         ],
         "hovertemplate": "lat=%{lat}<br>lon=%{lon}<br>population_density=%{customdata[0]}<br>avg_restaurant_dist=%{customdata[1]}<br>avg_bar_dist=%{customdata[2]}<br>avg_toilets_dist=%{customdata[3]}<extra></extra>",
         "lat": [
          55.68708329273848
         ],
         "legendgroup": "",
         "lon": [
          12.552916617347242
         ],
         "marker": {
          "color": "rgb(0.6434417631294057,0.8983272811324663,0.0)"
         },
         "mode": "markers",
         "name": "",
         "showlegend": false,
         "subplot": "mapbox",
         "type": "scattermapbox"
        },
        {
         "customdata": [
          [
           7591.88916015625,
           157.27528089887642,
           190.56179775280896,
           415.685393258427
          ]
         ],
         "hovertemplate": "lat=%{lat}<br>lon=%{lon}<br>population_density=%{customdata[0]}<br>avg_restaurant_dist=%{customdata[1]}<br>avg_bar_dist=%{customdata[2]}<br>avg_toilets_dist=%{customdata[3]}<extra></extra>",
         "lat": [
          55.68708329273848
         ],
         "legendgroup": "",
         "lon": [
          12.56124995064724
         ],
         "marker": {
          "color": "rgb(0.5727961937853675,0.8395702562155104,0.0)"
         },
         "mode": "markers",
         "name": "",
         "showlegend": false,
         "subplot": "mapbox",
         "type": "scattermapbox"
        },
        {
         "customdata": [
          [
           6156.22998046875,
           204.7459283387622,
           171.2214983713355,
           252.64169381107493
          ]
         ],
         "hovertemplate": "lat=%{lat}<br>lon=%{lon}<br>population_density=%{customdata[0]}<br>avg_restaurant_dist=%{customdata[1]}<br>avg_bar_dist=%{customdata[2]}<br>avg_toilets_dist=%{customdata[3]}<extra></extra>",
         "lat": [
          55.68708329273848
         ],
         "legendgroup": "",
         "lon": [
          12.569583283947242
         ],
         "marker": {
          "color": "rgb(0.463971963871063,0.8902165227528922,0.0)"
         },
         "mode": "markers",
         "name": "",
         "showlegend": false,
         "subplot": "mapbox",
         "type": "scattermapbox"
        },
        {
         "customdata": [
          [
           3479.35595703125,
           236.46129032258065,
           389.7258064516129,
           228.18064516129036
          ]
         ],
         "hovertemplate": "lat=%{lat}<br>lon=%{lon}<br>population_density=%{customdata[0]}<br>avg_restaurant_dist=%{customdata[1]}<br>avg_bar_dist=%{customdata[2]}<br>avg_toilets_dist=%{customdata[3]}<extra></extra>",
         "lat": [
          55.68708329273848
         ],
         "legendgroup": "",
         "lon": [
          12.577916617247242
         ],
         "marker": {
          "color": "rgb(0.26106255591422417,0.8054670802733361,0.0)"
         },
         "mode": "markers",
         "name": "",
         "showlegend": false,
         "subplot": "mapbox",
         "type": "scattermapbox"
        },
        {
         "customdata": [
          [
           6790.109375,
           166.13513513513513,
           310.52252252252254,
           425.6621621621622
          ]
         ],
         "hovertemplate": "lat=%{lat}<br>lon=%{lon}<br>population_density=%{customdata[0]}<br>avg_restaurant_dist=%{customdata[1]}<br>avg_bar_dist=%{customdata[2]}<br>avg_toilets_dist=%{customdata[3]}<extra></extra>",
         "lat": [
          55.68708329273848
         ],
         "legendgroup": "",
         "lon": [
          12.58624995054724
         ],
         "marker": {
          "color": "rgb(0.5120205801056098,0.7874659433024664,0.0)"
         },
         "mode": "markers",
         "name": "",
         "showlegend": false,
         "subplot": "mapbox",
         "type": "scattermapbox"
        },
        {
         "customdata": [
          [
           2070.75341796875,
           201.83116883116884,
           618.7878787878788,
           268.987012987013
          ]
         ],
         "hovertemplate": "lat=%{lat}<br>lon=%{lon}<br>population_density=%{customdata[0]}<br>avg_restaurant_dist=%{customdata[1]}<br>avg_bar_dist=%{customdata[2]}<br>avg_toilets_dist=%{customdata[3]}<extra></extra>",
         "lat": [
          55.68708329273848
         ],
         "legendgroup": "",
         "lon": [
          12.594583283847244
         ],
         "marker": {
          "color": "rgb(0.154289243182593,0.7171589738884532,0.0)"
         },
         "mode": "markers",
         "name": "",
         "showlegend": false,
         "subplot": "mapbox",
         "type": "scattermapbox"
        },
        {
         "customdata": [
          [
           376.8615417480469,
           330.141592920354,
           948.7699115044248,
           425.46902654867256
          ]
         ],
         "hovertemplate": "lat=%{lat}<br>lon=%{lon}<br>population_density=%{customdata[0]}<br>avg_restaurant_dist=%{customdata[1]}<br>avg_bar_dist=%{customdata[2]}<br>avg_toilets_dist=%{customdata[3]}<extra></extra>",
         "lat": [
          55.68708329273848
         ],
         "legendgroup": "",
         "lon": [
          12.602916617147242
         ],
         "marker": {
          "color": "rgb(0.025890747497886796,0.48637357447425433,0.0)"
         },
         "mode": "markers",
         "name": "",
         "showlegend": false,
         "subplot": "mapbox",
         "type": "scattermapbox"
        },
        {
         "customdata": [
          [
           888.4359741210938,
           364.6167664670659,
           815.6586826347306,
           717.1437125748503
          ]
         ],
         "hovertemplate": "lat=%{lat}<br>lon=%{lon}<br>population_density=%{customdata[0]}<br>avg_restaurant_dist=%{customdata[1]}<br>avg_bar_dist=%{customdata[2]}<br>avg_toilets_dist=%{customdata[3]}<extra></extra>",
         "lat": [
          55.68708329273848
         ],
         "legendgroup": "",
         "lon": [
          12.611249950447242
         ],
         "marker": {
          "color": "rgb(0.06466853991165614,0.4139071666506121,0.0)"
         },
         "mode": "markers",
         "name": "",
         "showlegend": false,
         "subplot": "mapbox",
         "type": "scattermapbox"
        },
        {
         "customdata": [
          [
           5714.77587890625,
           174.0859872611465,
           212.47770700636943,
           234.4140127388535
          ]
         ],
         "hovertemplate": "lat=%{lat}<br>lon=%{lon}<br>population_density=%{customdata[0]}<br>avg_restaurant_dist=%{customdata[1]}<br>avg_bar_dist=%{customdata[2]}<br>avg_toilets_dist=%{customdata[3]}<extra></extra>",
         "lat": [
          55.67874995943848
         ],
         "legendgroup": "",
         "lon": [
          12.527916617447245
         ],
         "marker": {
          "color": "rgb(0.4305093542734932,0.8930813437579939,0.0)"
         },
         "mode": "markers",
         "name": "",
         "showlegend": false,
         "subplot": "mapbox",
         "type": "scattermapbox"
        },
        {
         "customdata": [
          [
           9771.0341796875,
           181.37529137529137,
           181.08158508158508,
           233.997668997669
          ]
         ],
         "hovertemplate": "lat=%{lat}<br>lon=%{lon}<br>population_density=%{customdata[0]}<br>avg_restaurant_dist=%{customdata[1]}<br>avg_bar_dist=%{customdata[2]}<br>avg_toilets_dist=%{customdata[3]}<extra></extra>",
         "lat": [
          55.67874995943848
         ],
         "legendgroup": "",
         "lon": [
          12.53624995074724
         ],
         "marker": {
          "color": "rgb(0.7379773049970823,0.9022873012374163,0.0)"
         },
         "mode": "markers",
         "name": "",
         "showlegend": false,
         "subplot": "mapbox",
         "type": "scattermapbox"
        },
        {
         "customdata": [
          [
           10264.796875,
           265.5704387990762,
           277.7921478060046,
           461.7921478060046
          ]
         ],
         "hovertemplate": "lat=%{lat}<br>lon=%{lon}<br>population_density=%{customdata[0]}<br>avg_restaurant_dist=%{customdata[1]}<br>avg_bar_dist=%{customdata[2]}<br>avg_toilets_dist=%{customdata[3]}<extra></extra>",
         "lat": [
          55.67874995943848
         ],
         "legendgroup": "",
         "lon": [
          12.544583284047242
         ],
         "marker": {
          "color": "rgb(0.7754049520584761,0.7488618730594594,0.0)"
         },
         "mode": "markers",
         "name": "",
         "showlegend": false,
         "subplot": "mapbox",
         "type": "scattermapbox"
        },
        {
         "customdata": [
          [
           6821.009765625,
           132.80601092896174,
           241.37431693989072,
           655.3251366120219
          ]
         ],
         "hovertemplate": "lat=%{lat}<br>lon=%{lon}<br>population_density=%{customdata[0]}<br>avg_restaurant_dist=%{customdata[1]}<br>avg_bar_dist=%{customdata[2]}<br>avg_toilets_dist=%{customdata[3]}<extra></extra>",
         "lat": [
          55.67874995943848
         ],
         "legendgroup": "",
         "lon": [
          12.552916617347242
         ],
         "marker": {
          "color": "rgb(0.5143628569226945,0.7397206460956507,0.0)"
         },
         "mode": "markers",
         "name": "",
         "showlegend": false,
         "subplot": "mapbox",
         "type": "scattermapbox"
        },
        {
         "customdata": [
          [
           2869.0830078125,
           99.32806324110672,
           150.59288537549406,
           441.7351778656126
          ]
         ],
         "hovertemplate": "lat=%{lat}<br>lon=%{lon}<br>population_density=%{customdata[0]}<br>avg_restaurant_dist=%{customdata[1]}<br>avg_bar_dist=%{customdata[2]}<br>avg_toilets_dist=%{customdata[3]}<extra></extra>",
         "lat": [
          55.67874995943848
         ],
         "legendgroup": "",
         "lon": [
          12.56124995064724
         ],
         "marker": {
          "color": "rgb(0.2148033290197756,0.8665487727829027,0.0)"
         },
         "mode": "markers",
         "name": "",
         "showlegend": false,
         "subplot": "mapbox",
         "type": "scattermapbox"
        },
        {
         "customdata": [
          [
           3166.744140625,
           91.23076923076924,
           121.42153846153846,
           216.38153846153847
          ]
         ],
         "hovertemplate": "lat=%{lat}<br>lon=%{lon}<br>population_density=%{customdata[0]}<br>avg_restaurant_dist=%{customdata[1]}<br>avg_bar_dist=%{customdata[2]}<br>avg_toilets_dist=%{customdata[3]}<extra></extra>",
         "lat": [
          55.67874995943848
         ],
         "legendgroup": "",
         "lon": [
          12.569583283947242
         ],
         "marker": {
          "color": "rgb(0.23736630497677869,0.9651367766478478,0.0)"
         },
         "mode": "markers",
         "name": "",
         "showlegend": false,
         "subplot": "mapbox",
         "type": "scattermapbox"
        },
        {
         "customdata": [
          [
           3530.028076171875,
           67.18032786885246,
           104.75081967213114,
           164.2327868852459
          ]
         ],
         "hovertemplate": "lat=%{lat}<br>lon=%{lon}<br>population_density=%{customdata[0]}<br>avg_restaurant_dist=%{customdata[1]}<br>avg_bar_dist=%{customdata[2]}<br>avg_toilets_dist=%{customdata[3]}<extra></extra>",
         "lat": [
          55.67874995943848
         ],
         "legendgroup": "",
         "lon": [
          12.577916617247242
         ],
         "marker": {
          "color": "rgb(0.2649035471617462,1.0,0.0)"
         },
         "mode": "markers",
         "name": "",
         "showlegend": false,
         "subplot": "mapbox",
         "type": "scattermapbox"
        },
        {
         "customdata": [
          [
           3688.186767578125,
           99.87676056338027,
           138.0211267605634,
           208.9683098591549
          ]
         ],
         "hovertemplate": "lat=%{lat}<br>lon=%{lon}<br>population_density=%{customdata[0]}<br>avg_restaurant_dist=%{customdata[1]}<br>avg_bar_dist=%{customdata[2]}<br>avg_toilets_dist=%{customdata[3]}<extra></extra>",
         "lat": [
          55.67874995943848
         ],
         "legendgroup": "",
         "lon": [
          12.58624995054724
         ],
         "marker": {
          "color": "rgb(0.2768921152286364,0.9584425392434859,0.0)"
         },
         "mode": "markers",
         "name": "",
         "showlegend": false,
         "subplot": "mapbox",
         "type": "scattermapbox"
        },
        {
         "customdata": [
          [
           1511.360595703125,
           66.22784810126582,
           150.27426160337552,
           220.46413502109704
          ]
         ],
         "hovertemplate": "lat=%{lat}<br>lon=%{lon}<br>population_density=%{customdata[0]}<br>avg_restaurant_dist=%{customdata[1]}<br>avg_bar_dist=%{customdata[2]}<br>avg_toilets_dist=%{customdata[3]}<extra></extra>",
         "lat": [
          55.67874995943848
         ],
         "legendgroup": "",
         "lon": [
          12.594583283847244
         ],
         "marker": {
          "color": "rgb(0.11188677471100436,0.9621589663109404,0.0)"
         },
         "mode": "markers",
         "name": "",
         "showlegend": false,
         "subplot": "mapbox",
         "type": "scattermapbox"
        },
        {
         "customdata": [
          [
           1164.57421875,
           315.1775700934579,
           458.4766355140187,
           521.0498442367601
          ]
         ],
         "hovertemplate": "lat=%{lat}<br>lon=%{lon}<br>population_density=%{customdata[0]}<br>avg_restaurant_dist=%{customdata[1]}<br>avg_bar_dist=%{customdata[2]}<br>avg_toilets_dist=%{customdata[3]}<extra></extra>",
         "lat": [
          55.67874995943848
         ],
         "legendgroup": "",
         "lon": [
          12.602916617147242
         ],
         "marker": {
          "color": "rgb(0.08560006199349844,0.6401655012462095,0.0)"
         },
         "mode": "markers",
         "name": "",
         "showlegend": false,
         "subplot": "mapbox",
         "type": "scattermapbox"
        },
        {
         "customdata": [
          [
           528.3597412109375,
           615,
           914.6438356164384,
           807.6712328767123
          ]
         ],
         "hovertemplate": "lat=%{lat}<br>lon=%{lon}<br>population_density=%{customdata[0]}<br>avg_restaurant_dist=%{customdata[1]}<br>avg_bar_dist=%{customdata[2]}<br>avg_toilets_dist=%{customdata[3]}<extra></extra>",
         "lat": [
          55.67874995943848
         ],
         "legendgroup": "",
         "lon": [
          12.611249950447242
         ],
         "marker": {
          "color": "rgb(0.03737444441092532,0.24877091352245506,0.0)"
         },
         "mode": "markers",
         "name": "",
         "showlegend": false,
         "subplot": "mapbox",
         "type": "scattermapbox"
        },
        {
         "customdata": [
          [
           1732.111572265625,
           174.02654867256638,
           323.8185840707965,
           266.37168141592923
          ]
         ],
         "hovertemplate": "lat=%{lat}<br>lon=%{lon}<br>population_density=%{customdata[0]}<br>avg_restaurant_dist=%{customdata[1]}<br>avg_bar_dist=%{customdata[2]}<br>avg_toilets_dist=%{customdata[3]}<extra></extra>",
         "lat": [
          55.67041662613848
         ],
         "legendgroup": "",
         "lon": [
          12.527916617447245
         ],
         "marker": {
          "color": "rgb(0.12861989310507463,0.8393096011931713,0.0)"
         },
         "mode": "markers",
         "name": "",
         "showlegend": false,
         "subplot": "mapbox",
         "type": "scattermapbox"
        },
        {
         "customdata": [
          [
           6562.04638671875,
           241.40683229813664,
           253.19875776397515,
           392.444099378882
          ]
         ],
         "hovertemplate": "lat=%{lat}<br>lon=%{lon}<br>population_density=%{customdata[0]}<br>avg_restaurant_dist=%{customdata[1]}<br>avg_bar_dist=%{customdata[2]}<br>avg_toilets_dist=%{customdata[3]}<extra></extra>",
         "lat": [
          55.67041662613848
         ],
         "legendgroup": "",
         "lon": [
          12.53624995074724
         ],
         "marker": {
          "color": "rgb(0.49473320478505184,0.7931983269788385,0.0)"
         },
         "mode": "markers",
         "name": "",
         "showlegend": false,
         "subplot": "mapbox",
         "type": "scattermapbox"
        },
        {
         "customdata": [
          [
           13227.7578125,
           143.14150943396226,
           203.18553459119497,
           496.9937106918239
          ]
         ],
         "hovertemplate": "lat=%{lat}<br>lon=%{lon}<br>population_density=%{customdata[0]}<br>avg_restaurant_dist=%{customdata[1]}<br>avg_bar_dist=%{customdata[2]}<br>avg_toilets_dist=%{customdata[3]}<extra></extra>",
         "lat": [
          55.67041662613848
         ],
         "legendgroup": "",
         "lon": [
          12.544583284047242
         ],
         "marker": {
          "color": "rgb(1.0,0.8096141024423311,0.0)"
         },
         "mode": "markers",
         "name": "",
         "showlegend": false,
         "subplot": "mapbox",
         "type": "scattermapbox"
        },
        {
         "customdata": [
          [
           13222.109375,
           84.26136363636364,
           85.52272727272727,
           262.2537878787879
          ]
         ],
         "hovertemplate": "lat=%{lat}<br>lon=%{lon}<br>population_density=%{customdata[0]}<br>avg_restaurant_dist=%{customdata[1]}<br>avg_bar_dist=%{customdata[2]}<br>avg_toilets_dist=%{customdata[3]}<extra></extra>",
         "lat": [
          55.67041662613848
         ],
         "legendgroup": "",
         "lon": [
          12.552916617347242
         ],
         "marker": {
          "color": "rgb(0.9995718434640664,0.9640090673744224,0.0)"
         },
         "mode": "markers",
         "name": "",
         "showlegend": false,
         "subplot": "mapbox",
         "type": "scattermapbox"
        },
        {
         "customdata": [
          [
           4104.78759765625,
           70.51090342679127,
           102.60747663551402,
           187.55140186915887
          ]
         ],
         "hovertemplate": "lat=%{lat}<br>lon=%{lon}<br>population_density=%{customdata[0]}<br>avg_restaurant_dist=%{customdata[1]}<br>avg_bar_dist=%{customdata[2]}<br>avg_toilets_dist=%{customdata[3]}<extra></extra>",
         "lat": [
          55.67041662613848
         ],
         "legendgroup": "",
         "lon": [
          12.56124995064724
         ],
         "marker": {
          "color": "rgb(0.3084708249644528,0.990800542187285,0.0)"
         },
         "mode": "markers",
         "name": "",
         "showlegend": false,
         "subplot": "mapbox",
         "type": "scattermapbox"
        },
        {
         "customdata": [
          [
           2453.778564453125,
           148.96253602305475,
           128.5475504322767,
           227.72622478386168
          ]
         ],
         "hovertemplate": "lat=%{lat}<br>lon=%{lon}<br>population_density=%{customdata[0]}<br>avg_restaurant_dist=%{customdata[1]}<br>avg_bar_dist=%{customdata[2]}<br>avg_toilets_dist=%{customdata[3]}<extra></extra>",
         "lat": [
          55.67041662613848
         ],
         "legendgroup": "",
         "lon": [
          12.569583283947242
         ],
         "marker": {
          "color": "rgb(0.18332288653870538,0.9365304873682057,0.0)"
         },
         "mode": "markers",
         "name": "",
         "showlegend": false,
         "subplot": "mapbox",
         "type": "scattermapbox"
        },
        {
         "customdata": [
          [
           3456.030517578125,
           140.34739454094293,
           289.5533498759305,
           313.53846153846155
          ]
         ],
         "hovertemplate": "lat=%{lat}<br>lon=%{lon}<br>population_density=%{customdata[0]}<br>avg_restaurant_dist=%{customdata[1]}<br>avg_bar_dist=%{customdata[2]}<br>avg_toilets_dist=%{customdata[3]}<extra></extra>",
         "lat": [
          55.67041662613848
         ],
         "legendgroup": "",
         "lon": [
          12.577916617247242
         ],
         "marker": {
          "color": "rgb(0.2592944670656914,0.8471094836530861,0.0)"
         },
         "mode": "markers",
         "name": "",
         "showlegend": false,
         "subplot": "mapbox",
         "type": "scattermapbox"
        },
        {
         "customdata": [
          [
           6053.97900390625,
           225.8237288135593,
           370.9728813559322,
           415.4915254237288
          ]
         ],
         "hovertemplate": "lat=%{lat}<br>lon=%{lon}<br>population_density=%{customdata[0]}<br>avg_restaurant_dist=%{customdata[1]}<br>avg_bar_dist=%{customdata[2]}<br>avg_toilets_dist=%{customdata[3]}<extra></extra>",
         "lat": [
          55.67041662613848
         ],
         "legendgroup": "",
         "lon": [
          12.58624995054724
         ],
         "marker": {
          "color": "rgb(0.45622124981591955,0.7461840051251958,0.0)"
         },
         "mode": "markers",
         "name": "",
         "showlegend": false,
         "subplot": "mapbox",
         "type": "scattermapbox"
        },
        {
         "customdata": [
          [
           4575.705078125,
           127.26315789473684,
           232.69005847953213,
           312.5263157894737
          ]
         ],
         "hovertemplate": "lat=%{lat}<br>lon=%{lon}<br>population_density=%{customdata[0]}<br>avg_restaurant_dist=%{customdata[1]}<br>avg_bar_dist=%{customdata[2]}<br>avg_toilets_dist=%{customdata[3]}<extra></extra>",
         "lat": [
          55.67041662613848
         ],
         "legendgroup": "",
         "lon": [
          12.594583283847244
         ],
         "marker": {
          "color": "rgb(0.3441667846255412,0.8737476370697483,0.0)"
         },
         "mode": "markers",
         "name": "",
         "showlegend": false,
         "subplot": "mapbox",
         "type": "scattermapbox"
        },
        {
         "customdata": [
          [
           1530.306396484375,
           317.39935064935065,
           330.15909090909093,
           525.5227272727273
          ]
         ],
         "hovertemplate": "lat=%{lat}<br>lon=%{lon}<br>population_density=%{customdata[0]}<br>avg_restaurant_dist=%{customdata[1]}<br>avg_bar_dist=%{customdata[2]}<br>avg_toilets_dist=%{customdata[3]}<extra></extra>",
         "lat": [
          55.67041662613848
         ],
         "legendgroup": "",
         "lon": [
          12.602916617147242
         ],
         "marker": {
          "color": "rgb(0.11332288309194902,0.6858225454558242,0.0)"
         },
         "mode": "markers",
         "name": "",
         "showlegend": false,
         "subplot": "mapbox",
         "type": "scattermapbox"
        },
        {
         "customdata": [
          [
           1485.899658203125,
           269.09322033898303,
           350.56779661016947,
           872.2542372881356
          ]
         ],
         "hovertemplate": "lat=%{lat}<br>lon=%{lon}<br>population_density=%{customdata[0]}<br>avg_restaurant_dist=%{customdata[1]}<br>avg_bar_dist=%{customdata[2]}<br>avg_toilets_dist=%{customdata[3]}<extra></extra>",
         "lat": [
          55.67041662613848
         ],
         "legendgroup": "",
         "lon": [
          12.611249950447242
         ],
         "marker": {
          "color": "rgb(0.10995681323021833,0.5661327156173485,0.0)"
         },
         "mode": "markers",
         "name": "",
         "showlegend": false,
         "subplot": "mapbox",
         "type": "scattermapbox"
        },
        {
         "customdata": [
          [
           2193.057861328125,
           814.9840425531914,
           522.0478723404256,
           790.5
          ]
         ],
         "hovertemplate": "lat=%{lat}<br>lon=%{lon}<br>population_density=%{customdata[0]}<br>avg_restaurant_dist=%{customdata[1]}<br>avg_bar_dist=%{customdata[2]}<br>avg_toilets_dist=%{customdata[3]}<extra></extra>",
         "lat": [
          55.66208329283848
         ],
         "legendgroup": "",
         "lon": [
          12.527916617447245
         ],
         "marker": {
          "color": "rgb(0.1635600276779624,0.32752318972693983,0.0)"
         },
         "mode": "markers",
         "name": "",
         "showlegend": false,
         "subplot": "mapbox",
         "type": "scattermapbox"
        },
        {
         "customdata": [
          [
           3209.3037109375,
           724.4917582417582,
           489.8681318681319,
           685.2802197802198
          ]
         ],
         "hovertemplate": "lat=%{lat}<br>lon=%{lon}<br>population_density=%{customdata[0]}<br>avg_restaurant_dist=%{customdata[1]}<br>avg_bar_dist=%{customdata[2]}<br>avg_toilets_dist=%{customdata[3]}<extra></extra>",
         "lat": [
          55.66208329283848
         ],
         "legendgroup": "",
         "lon": [
          12.53624995074724
         ],
         "marker": {
          "color": "rgb(0.24059235788005176,0.4130734260754446,0.0)"
         },
         "mode": "markers",
         "name": "",
         "showlegend": false,
         "subplot": "mapbox",
         "type": "scattermapbox"
        },
        {
         "customdata": [
          [
           5063.4208984375,
           286.1966292134832,
           170.42134831460675,
           483.5337078651685
          ]
         ],
         "hovertemplate": "lat=%{lat}<br>lon=%{lon}<br>population_density=%{customdata[0]}<br>avg_restaurant_dist=%{customdata[1]}<br>avg_bar_dist=%{customdata[2]}<br>avg_toilets_dist=%{customdata[3]}<extra></extra>",
         "lat": [
          55.66208329283848
         ],
         "legendgroup": "",
         "lon": [
          12.544583284047242
         ],
         "marker": {
          "color": "rgb(0.38113607323767823,0.7732639186124486,0.0)"
         },
         "mode": "markers",
         "name": "",
         "showlegend": false,
         "subplot": "mapbox",
         "type": "scattermapbox"
        },
        {
         "customdata": [
          [
           4237.4541015625,
           508.7307692307692,
           458.6025641025641,
           725.4871794871794
          ]
         ],
         "hovertemplate": "lat=%{lat}<br>lon=%{lon}<br>population_density=%{customdata[0]}<br>avg_restaurant_dist=%{customdata[1]}<br>avg_bar_dist=%{customdata[2]}<br>avg_toilets_dist=%{customdata[3]}<extra></extra>",
         "lat": [
          55.66208329283848
         ],
         "legendgroup": "",
         "lon": [
          12.552916617347242
         ],
         "marker": {
          "color": "rgb(0.31852706277304144,0.4907131876743063,0.0)"
         },
         "mode": "markers",
         "name": "",
         "showlegend": false,
         "subplot": "mapbox",
         "type": "scattermapbox"
        },
        {
         "customdata": [
          [
           1867.2786865234373,
           243.78339350180505,
           543.1263537906137,
           584.0541516245487
          ]
         ],
         "hovertemplate": "lat=%{lat}<br>lon=%{lon}<br>population_density=%{customdata[0]}<br>avg_restaurant_dist=%{customdata[1]}<br>avg_bar_dist=%{customdata[2]}<br>avg_toilets_dist=%{customdata[3]}<extra></extra>",
         "lat": [
          55.66208329283848
         ],
         "legendgroup": "",
         "lon": [
          12.56124995064724
         ],
         "marker": {
          "color": "rgb(0.13886567938009223,0.6115376701051423,0.0)"
         },
         "mode": "markers",
         "name": "",
         "showlegend": false,
         "subplot": "mapbox",
         "type": "scattermapbox"
        },
        {
         "customdata": [
          [
           3800.131103515625,
           308.5763358778626,
           770,
           563.6106870229007
          ]
         ],
         "hovertemplate": "lat=%{lat}<br>lon=%{lon}<br>population_density=%{customdata[0]}<br>avg_restaurant_dist=%{customdata[1]}<br>avg_bar_dist=%{customdata[2]}<br>avg_toilets_dist=%{customdata[3]}<extra></extra>",
         "lat": [
          55.66208329283848
         ],
         "legendgroup": "",
         "lon": [
          12.569583283947242
         ],
         "marker": {
          "color": "rgb(0.2853775944593813,0.5097209226374724,0.0)"
         },
         "mode": "markers",
         "name": "",
         "showlegend": false,
         "subplot": "mapbox",
         "type": "scattermapbox"
        },
        {
         "customdata": [
          [
           6365.18408203125,
           233.11764705882356,
           465.55555555555554,
           364.8169934640523
          ]
         ],
         "hovertemplate": "lat=%{lat}<br>lon=%{lon}<br>population_density=%{customdata[0]}<br>avg_restaurant_dist=%{customdata[1]}<br>avg_bar_dist=%{customdata[2]}<br>avg_toilets_dist=%{customdata[3]}<extra></extra>",
         "lat": [
          55.66208329283848
         ],
         "legendgroup": "",
         "lon": [
          12.577916617247242
         ],
         "marker": {
          "color": "rgb(0.479810868753017,0.7269628296381139,0.0)"
         },
         "mode": "markers",
         "name": "",
         "showlegend": false,
         "subplot": "mapbox",
         "type": "scattermapbox"
        },
        {
         "customdata": [
          [
           8520.26171875,
           457.8785942492013,
           346.9073482428115,
           628.8785942492012
          ]
         ],
         "hovertemplate": "lat=%{lat}<br>lon=%{lon}<br>population_density=%{customdata[0]}<br>avg_restaurant_dist=%{customdata[1]}<br>avg_bar_dist=%{customdata[2]}<br>avg_toilets_dist=%{customdata[3]}<extra></extra>",
         "lat": [
          55.66208329283848
         ],
         "legendgroup": "",
         "lon": [
          12.58624995054724
         ],
         "marker": {
          "color": "rgb(0.6431676511562794,0.5879999462059273,0.0)"
         },
         "mode": "markers",
         "name": "",
         "showlegend": false,
         "subplot": "mapbox",
         "type": "scattermapbox"
        },
        {
         "customdata": [
          [
           8382.80078125,
           343.85128205128206,
           243.43589743589743,
           584.0358974358975
          ]
         ],
         "hovertemplate": "lat=%{lat}<br>lon=%{lon}<br>population_density=%{customdata[0]}<br>avg_restaurant_dist=%{customdata[1]}<br>avg_bar_dist=%{customdata[2]}<br>avg_toilets_dist=%{customdata[3]}<extra></extra>",
         "lat": [
          55.66208329283848
         ],
         "legendgroup": "",
         "lon": [
          12.594583283847244
         ],
         "marker": {
          "color": "rgb(0.6327479910597988,0.6864825304792319,0.0)"
         },
         "mode": "markers",
         "name": "",
         "showlegend": false,
         "subplot": "mapbox",
         "type": "scattermapbox"
        },
        {
         "customdata": [
          [
           9661.013671875,
           254.6626139817629,
           149.3404255319149,
           511.8753799392097
          ]
         ],
         "hovertemplate": "lat=%{lat}<br>lon=%{lon}<br>population_density=%{customdata[0]}<br>avg_restaurant_dist=%{customdata[1]}<br>avg_bar_dist=%{customdata[2]}<br>avg_toilets_dist=%{customdata[3]}<extra></extra>",
         "lat": [
          55.66208329283848
         ],
         "legendgroup": "",
         "lon": [
          12.602916617147242
         ],
         "marker": {
          "color": "rgb(0.7296376536321377,0.7823760656601096,0.0)"
         },
         "mode": "markers",
         "name": "",
         "showlegend": false,
         "subplot": "mapbox",
         "type": "scattermapbox"
        },
        {
         "customdata": [
          [
           8618.115234375,
           321.50331125827813,
           166.59602649006624,
           368.9072847682119
          ]
         ],
         "hovertemplate": "lat=%{lat}<br>lon=%{lon}<br>population_density=%{customdata[0]}<br>avg_restaurant_dist=%{customdata[1]}<br>avg_bar_dist=%{customdata[2]}<br>avg_toilets_dist=%{customdata[3]}<extra></extra>",
         "lat": [
          55.66208329283848
         ],
         "legendgroup": "",
         "lon": [
          12.611249950447242
         ],
         "marker": {
          "color": "rgb(0.650585033800408,0.804476448524192,0.0)"
         },
         "mode": "markers",
         "name": "",
         "showlegend": false,
         "subplot": "mapbox",
         "type": "scattermapbox"
        },
        {
         "customdata": [
          [
           2558.42822265625,
           927.9019607843136,
           733.0245098039215,
           1000
          ]
         ],
         "hovertemplate": "lat=%{lat}<br>lon=%{lon}<br>population_density=%{customdata[0]}<br>avg_restaurant_dist=%{customdata[1]}<br>avg_bar_dist=%{customdata[2]}<br>avg_toilets_dist=%{customdata[3]}<extra></extra>",
         "lat": [
          55.65374995953848
         ],
         "legendgroup": "",
         "lon": [
          12.527916617447245
         ],
         "marker": {
          "color": "rgb(0.19125542277424087,0.12728768627837128,0.0)"
         },
         "mode": "markers",
         "name": "",
         "showlegend": false,
         "subplot": "mapbox",
         "type": "scattermapbox"
        },
        {
         "customdata": [
          [
           3588.1904296875,
           351.15765765765764,
           337.1981981981982,
           978.6711711711712
          ]
         ],
         "hovertemplate": "lat=%{lat}<br>lon=%{lon}<br>population_density=%{customdata[0]}<br>avg_restaurant_dist=%{customdata[1]}<br>avg_bar_dist=%{customdata[2]}<br>avg_toilets_dist=%{customdata[3]}<extra></extra>",
         "lat": [
          55.65374995953848
         ],
         "legendgroup": "",
         "lon": [
          12.53624995074724
         ],
         "marker": {
          "color": "rgb(0.2693123047700242,0.5003960229383937,0.0)"
         },
         "mode": "markers",
         "name": "",
         "showlegend": false,
         "subplot": "mapbox",
         "type": "scattermapbox"
        },
        {
         "customdata": [
          [
           3915.948974609375,
           466.7800829875519,
           449.38589211618256,
           960.7344398340248
          ]
         ],
         "hovertemplate": "lat=%{lat}<br>lon=%{lon}<br>population_density=%{customdata[0]}<br>avg_restaurant_dist=%{customdata[1]}<br>avg_bar_dist=%{customdata[2]}<br>avg_toilets_dist=%{customdata[3]}<extra></extra>",
         "lat": [
          55.65374995953848
         ],
         "legendgroup": "",
         "lon": [
          12.544583284047242
         ],
         "marker": {
          "color": "rgb(0.29415669106560716,0.4216098729109794,0.0)"
         },
         "mode": "markers",
         "name": "",
         "showlegend": false,
         "subplot": "mapbox",
         "type": "scattermapbox"
        },
        {
         "customdata": [
          [
           2503.3251953125,
           568.0689655172414,
           538.2319749216301,
           960.9561128526644
          ]
         ],
         "hovertemplate": "lat=%{lat}<br>lon=%{lon}<br>population_density=%{customdata[0]}<br>avg_restaurant_dist=%{customdata[1]}<br>avg_bar_dist=%{customdata[2]}<br>avg_toilets_dist=%{customdata[3]}<extra></extra>",
         "lat": [
          55.65374995953848
         ],
         "legendgroup": "",
         "lon": [
          12.552916617347242
         ],
         "marker": {
          "color": "rgb(0.18707856478351934,0.3501502809286269,0.0)"
         },
         "mode": "markers",
         "name": "",
         "showlegend": false,
         "subplot": "mapbox",
         "type": "scattermapbox"
        },
        {
         "customdata": [
          [
           1302.745849609375,
           675.7363636363636,
           906.2818181818182,
           1000
          ]
         ],
         "hovertemplate": "lat=%{lat}<br>lon=%{lon}<br>population_density=%{customdata[0]}<br>avg_restaurant_dist=%{customdata[1]}<br>avg_bar_dist=%{customdata[2]}<br>avg_toilets_dist=%{customdata[3]}<extra></extra>",
         "lat": [
          55.65374995953848
         ],
         "legendgroup": "",
         "lon": [
          12.56124995064724
         ],
         "marker": {
          "color": "rgb(0.09607359327238317,0.15690973764625715,0.0)"
         },
         "mode": "markers",
         "name": "",
         "showlegend": false,
         "subplot": "mapbox",
         "type": "scattermapbox"
        },
        {
         "customdata": [
          [
           2081.22119140625,
           553.7540983606557,
           1000,
           998.672131147541
          ]
         ],
         "hovertemplate": "lat=%{lat}<br>lon=%{lon}<br>population_density=%{customdata[0]}<br>avg_restaurant_dist=%{customdata[1]}<br>avg_bar_dist=%{customdata[2]}<br>avg_toilets_dist=%{customdata[3]}<extra></extra>",
         "lat": [
          55.65374995953848
         ],
         "legendgroup": "",
         "lon": [
          12.569583283947242
         ],
         "marker": {
          "color": "rgb(0.15508270962600146,0.1680185114527306,0.0)"
         },
         "mode": "markers",
         "name": "",
         "showlegend": false,
         "subplot": "mapbox",
         "type": "scattermapbox"
        },
        {
         "customdata": [
          [
           188.5145263671875,
           955.0714285714286,
           950.9285714285714,
           1000
          ]
         ],
         "hovertemplate": "lat=%{lat}<br>lon=%{lon}<br>population_density=%{customdata[0]}<br>avg_restaurant_dist=%{customdata[1]}<br>avg_bar_dist=%{customdata[2]}<br>avg_toilets_dist=%{customdata[3]}<extra></extra>",
         "lat": [
          55.65374995953848
         ],
         "legendgroup": "",
         "lon": [
          12.577916617247242
         ],
         "marker": {
          "color": "rgb(0.011613877892984337,0.03528745676763456,0.0)"
         },
         "mode": "markers",
         "name": "",
         "showlegend": false,
         "subplot": "mapbox",
         "type": "scattermapbox"
        },
        {
         "customdata": [
          [
           1381.4981689453125,
           497.4166666666667,
           319.4423076923077,
           877.7051282051282
          ]
         ],
         "hovertemplate": "lat=%{lat}<br>lon=%{lon}<br>population_density=%{customdata[0]}<br>avg_restaurant_dist=%{customdata[1]}<br>avg_bar_dist=%{customdata[2]}<br>avg_toilets_dist=%{customdata[3]}<extra></extra>",
         "lat": [
          55.65374995953848
         ],
         "legendgroup": "",
         "lon": [
          12.58624995054724
         ],
         "marker": {
          "color": "rgb(0.10204308841924961,0.490058646741355,0.0)"
         },
         "mode": "markers",
         "name": "",
         "showlegend": false,
         "subplot": "mapbox",
         "type": "scattermapbox"
        },
        {
         "customdata": [
          [
           4199.36962890625,
           511.73413897280966,
           439.74018126888217,
           412.5105740181269
          ]
         ],
         "hovertemplate": "lat=%{lat}<br>lon=%{lon}<br>population_density=%{customdata[0]}<br>avg_restaurant_dist=%{customdata[1]}<br>avg_bar_dist=%{customdata[2]}<br>avg_toilets_dist=%{customdata[3]}<extra></extra>",
         "lat": [
          55.65374995953848
         ],
         "legendgroup": "",
         "lon": [
          12.594583283847244
         ],
         "marker": {
          "color": "rgb(0.3156402262124234,0.6141575778191876,0.0)"
         },
         "mode": "markers",
         "name": "",
         "showlegend": false,
         "subplot": "mapbox",
         "type": "scattermapbox"
        },
        {
         "customdata": [
          [
           4681.4755859375,
           406.8348623853211,
           532.5779816513761,
           371.05045871559633
          ]
         ],
         "hovertemplate": "lat=%{lat}<br>lon=%{lon}<br>population_density=%{customdata[0]}<br>avg_restaurant_dist=%{customdata[1]}<br>avg_bar_dist=%{customdata[2]}<br>avg_toilets_dist=%{customdata[3]}<extra></extra>",
         "lat": [
          55.65374995953848
         ],
         "legendgroup": "",
         "lon": [
          12.602916617147242
         ],
         "marker": {
          "color": "rgb(0.35218428224837234,0.6342495017176639,0.0)"
         },
         "mode": "markers",
         "name": "",
         "showlegend": false,
         "subplot": "mapbox",
         "type": "scattermapbox"
        },
        {
         "customdata": [
          [
           6884.72705078125,
           258.2134146341463,
           303.2012195121951,
           398.859756097561
          ]
         ],
         "hovertemplate": "lat=%{lat}<br>lon=%{lon}<br>population_density=%{customdata[0]}<br>avg_restaurant_dist=%{customdata[1]}<br>avg_bar_dist=%{customdata[2]}<br>avg_toilets_dist=%{customdata[3]}<extra></extra>",
         "lat": [
          55.65374995953848
         ],
         "legendgroup": "",
         "lon": [
          12.611249950447242
         ],
         "marker": {
          "color": "rgb(0.519192683240434,0.7657098858734597,0.0)"
         },
         "mode": "markers",
         "name": "",
         "showlegend": false,
         "subplot": "mapbox",
         "type": "scattermapbox"
        },
        {
         "customdata": [
          [
           3050.063720703125,
           954.2616279069769,
           763.1802325581396,
           807.3546511627907
          ]
         ],
         "hovertemplate": "lat=%{lat}<br>lon=%{lon}<br>population_density=%{customdata[0]}<br>avg_restaurant_dist=%{customdata[1]}<br>avg_bar_dist=%{customdata[2]}<br>avg_toilets_dist=%{customdata[3]}<extra></extra>",
         "lat": [
          55.64541662623848
         ],
         "legendgroup": "",
         "lon": [
          12.527916617447245
         ],
         "marker": {
          "color": "rgb(0.22852182640990906,0.1783906654442482,0.0)"
         },
         "mode": "markers",
         "name": "",
         "showlegend": false,
         "subplot": "mapbox",
         "type": "scattermapbox"
        },
        {
         "customdata": [
          [
           4172.16552734375,
           676.3352272727273,
           478.35795454545456,
           998.193181818182
          ]
         ],
         "hovertemplate": "lat=%{lat}<br>lon=%{lon}<br>population_density=%{customdata[0]}<br>avg_restaurant_dist=%{customdata[1]}<br>avg_bar_dist=%{customdata[2]}<br>avg_toilets_dist=%{customdata[3]}<extra></extra>",
         "lat": [
          55.64541662623848
         ],
         "legendgroup": "",
         "lon": [
          12.53624995074724
         ],
         "marker": {
          "color": "rgb(0.31357813136084867,0.31800516830271763,0.0)"
         },
         "mode": "markers",
         "name": "",
         "showlegend": false,
         "subplot": "mapbox",
         "type": "scattermapbox"
        },
        {
         "customdata": [
          [
           2936.73779296875,
           337.5,
           674.795,
           771.095
          ]
         ],
         "hovertemplate": "lat=%{lat}<br>lon=%{lon}<br>population_density=%{customdata[0]}<br>avg_restaurant_dist=%{customdata[1]}<br>avg_bar_dist=%{customdata[2]}<br>avg_toilets_dist=%{customdata[3]}<extra></extra>",
         "lat": [
          55.64541662623848
         ],
         "legendgroup": "",
         "lon": [
          12.544583284047242
         ],
         "marker": {
          "color": "rgb(0.21993162130447316,0.4567135401922533,0.0)"
         },
         "mode": "markers",
         "name": "",
         "showlegend": false,
         "subplot": "mapbox",
         "type": "scattermapbox"
        },
        {
         "customdata": [
          [
           1389.8812255859375,
           345.35185185185185,
           999.0714285714286,
           404.6746031746032
          ]
         ],
         "hovertemplate": "lat=%{lat}<br>lon=%{lon}<br>population_density=%{customdata[0]}<br>avg_restaurant_dist=%{customdata[1]}<br>avg_bar_dist=%{customdata[2]}<br>avg_toilets_dist=%{customdata[3]}<extra></extra>",
         "lat": [
          55.64541662623848
         ],
         "legendgroup": "",
         "lon": [
          12.552916617347242
         ],
         "marker": {
          "color": "rgb(0.10267853149386749,0.4695867484370444,0.0)"
         },
         "mode": "markers",
         "name": "",
         "showlegend": false,
         "subplot": "mapbox",
         "type": "scattermapbox"
        },
        {
         "customdata": [
          [
           601.6731567382812,
           1000,
           1000,
           931.2840909090908
          ]
         ],
         "hovertemplate": "lat=%{lat}<br>lon=%{lon}<br>population_density=%{customdata[0]}<br>avg_restaurant_dist=%{customdata[1]}<br>avg_bar_dist=%{customdata[2]}<br>avg_toilets_dist=%{customdata[3]}<extra></extra>",
         "lat": [
          55.64541662623848
         ],
         "legendgroup": "",
         "lon": [
          12.56124995064724
         ],
         "marker": {
          "color": "rgb(0.04293166586016038,0.025795847566959185,0.0)"
         },
         "mode": "markers",
         "name": "",
         "showlegend": false,
         "subplot": "mapbox",
         "type": "scattermapbox"
        },
        {
         "customdata": [
          [
           316.4658203125,
           1000,
           1000,
           998.1538461538462
          ]
         ],
         "hovertemplate": "lat=%{lat}<br>lon=%{lon}<br>population_density=%{customdata[0]}<br>avg_restaurant_dist=%{customdata[1]}<br>avg_bar_dist=%{customdata[2]}<br>avg_toilets_dist=%{customdata[3]}<extra></extra>",
         "lat": [
          55.64541662623848
         ],
         "legendgroup": "",
         "lon": [
          12.569583283947242
         ],
         "marker": {
          "color": "rgb(0.021312698634804353,0.000693043340771804,0.0)"
         },
         "mode": "markers",
         "name": "",
         "showlegend": false,
         "subplot": "mapbox",
         "type": "scattermapbox"
        },
        {
         "customdata": [
          [
           348.10894775390625,
           740.9032258064516,
           740.9032258064516,
           873.1935483870968
          ]
         ],
         "hovertemplate": "lat=%{lat}<br>lon=%{lon}<br>population_density=%{customdata[0]}<br>avg_restaurant_dist=%{customdata[1]}<br>avg_bar_dist=%{customdata[2]}<br>avg_toilets_dist=%{customdata[3]}<extra></extra>",
         "lat": [
          55.64541662623848
         ],
         "legendgroup": "",
         "lon": [
          12.577916617247242
         ],
         "marker": {
          "color": "rgb(0.02371127555655035,0.24213201718217292,0.0)"
         },
         "mode": "markers",
         "name": "",
         "showlegend": false,
         "subplot": "mapbox",
         "type": "scattermapbox"
        },
        {
         "customdata": [
          [
           1811.1142578125,
           963.5089285714286,
           847.4017857142857,
           644.625
          ]
         ],
         "hovertemplate": "lat=%{lat}<br>lon=%{lon}<br>population_density=%{customdata[0]}<br>avg_restaurant_dist=%{customdata[1]}<br>avg_bar_dist=%{customdata[2]}<br>avg_toilets_dist=%{customdata[3]}<extra></extra>",
         "lat": [
          55.64541662623848
         ],
         "legendgroup": "",
         "lon": [
          12.58624995054724
         ],
         "marker": {
          "color": "rgb(0.1346083662311769,0.20439106323046663,0.0)"
         },
         "mode": "markers",
         "name": "",
         "showlegend": false,
         "subplot": "mapbox",
         "type": "scattermapbox"
        },
        {
         "customdata": [
          [
           3054.178466796875,
           965.1714285714286,
           924.4642857142856,
           407.4357142857143
          ]
         ],
         "hovertemplate": "lat=%{lat}<br>lon=%{lon}<br>population_density=%{customdata[0]}<br>avg_restaurant_dist=%{customdata[1]}<br>avg_bar_dist=%{customdata[2]}<br>avg_toilets_dist=%{customdata[3]}<extra></extra>",
         "lat": [
          55.64541662623848
         ],
         "legendgroup": "",
         "lon": [
          12.594583283847244
         ],
         "marker": {
          "color": "rgb(0.22883372778683803,0.2638783146278808,0.0)"
         },
         "mode": "markers",
         "name": "",
         "showlegend": false,
         "subplot": "mapbox",
         "type": "scattermapbox"
        },
        {
         "customdata": [
          [
           2347.386474609375,
           795.2608695652174,
           947.072463768116,
           662.3985507246376
          ]
         ],
         "hovertemplate": "lat=%{lat}<br>lon=%{lon}<br>population_density=%{customdata[0]}<br>avg_restaurant_dist=%{customdata[1]}<br>avg_bar_dist=%{customdata[2]}<br>avg_toilets_dist=%{customdata[3]}<extra></extra>",
         "lat": [
          55.64541662623848
         ],
         "legendgroup": "",
         "lon": [
          12.602916617147242
         ],
         "marker": {
          "color": "rgb(0.1752582724506042,0.22346274368569774,0.0)"
         },
         "mode": "markers",
         "name": "",
         "showlegend": false,
         "subplot": "mapbox",
         "type": "scattermapbox"
        },
        {
         "customdata": [
          [
           3481.22509765625,
           545.9478260869565,
           944.4434782608696,
           573.6130434782609
          ]
         ],
         "hovertemplate": "lat=%{lat}<br>lon=%{lon}<br>population_density=%{customdata[0]}<br>avg_restaurant_dist=%{customdata[1]}<br>avg_bar_dist=%{customdata[2]}<br>avg_toilets_dist=%{customdata[3]}<extra></extra>",
         "lat": [
          55.64541662623848
         ],
         "legendgroup": "",
         "lon": [
          12.611249950447242
         ],
         "marker": {
          "color": "rgb(0.26120423841937235,0.35137134160405126,0.0)"
         },
         "mode": "markers",
         "name": "",
         "showlegend": false,
         "subplot": "mapbox",
         "type": "scattermapbox"
        },
        {
         "customdata": [
          [
           529.59228515625,
           977.08,
           1000,
           940.32
          ]
         ],
         "hovertemplate": "lat=%{lat}<br>lon=%{lon}<br>population_density=%{customdata[0]}<br>avg_restaurant_dist=%{customdata[1]}<br>avg_bar_dist=%{customdata[2]}<br>avg_toilets_dist=%{customdata[3]}<extra></extra>",
         "lat": [
          55.63708329293848
         ],
         "legendgroup": "",
         "lon": [
          12.527916617447245
         ],
         "marker": {
          "color": "rgb(0.03746787232723159,0.03100791413836823,0.0)"
         },
         "mode": "markers",
         "name": "",
         "showlegend": false,
         "subplot": "mapbox",
         "type": "scattermapbox"
        },
        {
         "customdata": [
          [
           941.8035888671876,
           608.1666666666666,
           1000,
           1000
          ]
         ],
         "hovertemplate": "lat=%{lat}<br>lon=%{lon}<br>population_density=%{customdata[0]}<br>avg_restaurant_dist=%{customdata[1]}<br>avg_bar_dist=%{customdata[2]}<br>avg_toilets_dist=%{customdata[3]}<extra></extra>",
         "lat": [
          55.63708329293848
         ],
         "legendgroup": "",
         "lon": [
          12.53624995074724
         ],
         "marker": {
          "color": "rgb(0.06871385209944927,0.14709363627785244,0.0)"
         },
         "mode": "markers",
         "name": "",
         "showlegend": false,
         "subplot": "mapbox",
         "type": "scattermapbox"
        },
        {
         "customdata": [
          [
           872.8312377929688,
           398.10526315789474,
           1000,
           987.0263157894736
          ]
         ],
         "hovertemplate": "lat=%{lat}<br>lon=%{lon}<br>population_density=%{customdata[0]}<br>avg_restaurant_dist=%{customdata[1]}<br>avg_bar_dist=%{customdata[2]}<br>avg_toilets_dist=%{customdata[3]}<extra></extra>",
         "lat": [
          55.63708329293848
         ],
         "legendgroup": "",
         "lon": [
          12.544583284047242
         ],
         "marker": {
          "color": "rgb(0.06348568715805648,0.2308206683582812,0.0)"
         },
         "mode": "markers",
         "name": "",
         "showlegend": false,
         "subplot": "mapbox",
         "type": "scattermapbox"
        },
        {
         "customdata": [
          [
           667.3911743164062,
           860.7307692307693,
           1000,
           825.7692307692307
          ]
         ],
         "hovertemplate": "lat=%{lat}<br>lon=%{lon}<br>population_density=%{customdata[0]}<br>avg_restaurant_dist=%{customdata[1]}<br>avg_bar_dist=%{customdata[2]}<br>avg_toilets_dist=%{customdata[3]}<extra></extra>",
         "lat": [
          55.63708329293848
         ],
         "legendgroup": "",
         "lon": [
          12.552916617347242
         ],
         "marker": {
          "color": "rgb(0.04791314945711749,0.11768742230482354,0.0)"
         },
         "mode": "markers",
         "name": "",
         "showlegend": false,
         "subplot": "mapbox",
         "type": "scattermapbox"
        },
        {
         "customdata": [
          [
           200.9263916015625,
           896.6875,
           896.6875,
           1000
          ]
         ],
         "hovertemplate": "lat=%{lat}<br>lon=%{lon}<br>population_density=%{customdata[0]}<br>avg_restaurant_dist=%{customdata[1]}<br>avg_bar_dist=%{customdata[2]}<br>avg_toilets_dist=%{customdata[3]}<extra></extra>",
         "lat": [
          55.63708329293848
         ],
         "legendgroup": "",
         "lon": [
          12.56124995064724
         ],
         "marker": {
          "color": "rgb(0.012554708206363448,0.07756671015545191,0.0)"
         },
         "mode": "markers",
         "name": "",
         "showlegend": false,
         "subplot": "mapbox",
         "type": "scattermapbox"
        },
        {
         "customdata": [
          [
           422.76800537109375,
           364.6666666666667,
           391.4,
           902.8888888888888
          ]
         ],
         "hovertemplate": "lat=%{lat}<br>lon=%{lon}<br>population_density=%{customdata[0]}<br>avg_restaurant_dist=%{customdata[1]}<br>avg_bar_dist=%{customdata[2]}<br>avg_toilets_dist=%{customdata[3]}<extra></extra>",
         "lat": [
          55.63708329293848
         ],
         "legendgroup": "",
         "lon": [
          12.569583283947242
         ],
         "marker": {
          "color": "rgb(0.02937049786102976,0.5034260410298912,0.0)"
         },
         "mode": "markers",
         "name": "",
         "showlegend": false,
         "subplot": "mapbox",
         "type": "scattermapbox"
        },
        {
         "customdata": [
          [
           1834.9425048828125,
           256.14102564102564,
           361.4358974358975,
           597.508547008547
          ]
         ],
         "hovertemplate": "lat=%{lat}<br>lon=%{lon}<br>population_density=%{customdata[0]}<br>avg_restaurant_dist=%{customdata[1]}<br>avg_bar_dist=%{customdata[2]}<br>avg_toilets_dist=%{customdata[3]}<extra></extra>",
         "lat": [
          55.63708329293848
         ],
         "legendgroup": "",
         "lon": [
          12.577916617247242
         ],
         "marker": {
          "color": "rgb(0.13641456833981314,0.6700541947689533,0.0)"
         },
         "mode": "markers",
         "name": "",
         "showlegend": false,
         "subplot": "mapbox",
         "type": "scattermapbox"
        },
        {
         "customdata": [
          [
           3013.868896484375,
           441.3648068669528,
           577.4635193133047,
           365.5321888412017
          ]
         ],
         "hovertemplate": "lat=%{lat}<br>lon=%{lon}<br>population_density=%{customdata[0]}<br>avg_restaurant_dist=%{customdata[1]}<br>avg_bar_dist=%{customdata[2]}<br>avg_toilets_dist=%{customdata[3]}<extra></extra>",
         "lat": [
          55.63708329293848
         ],
         "legendgroup": "",
         "lon": [
          12.58624995054724
         ],
         "marker": {
          "color": "rgb(0.22577822686468382,0.6065086008325906,0.0)"
         },
         "mode": "markers",
         "name": "",
         "showlegend": false,
         "subplot": "mapbox",
         "type": "scattermapbox"
        },
        {
         "customdata": [
          [
           2184.774169921875,
           774.8478260869565,
           709.6521739130435,
           789.7173913043479
          ]
         ],
         "hovertemplate": "lat=%{lat}<br>lon=%{lon}<br>population_density=%{customdata[0]}<br>avg_restaurant_dist=%{customdata[1]}<br>avg_bar_dist=%{customdata[2]}<br>avg_toilets_dist=%{customdata[3]}<extra></extra>",
         "lat": [
          55.63708329293848
         ],
         "legendgroup": "",
         "lon": [
          12.594583283847244
         ],
         "marker": {
          "color": "rgb(0.16293211657560097,0.2724576853941363,0.0)"
         },
         "mode": "markers",
         "name": "",
         "showlegend": false,
         "subplot": "mapbox",
         "type": "scattermapbox"
        },
        {
         "customdata": [
          [
           1842.617431640625,
           917.5860215053764,
           366.5860215053763,
           982.4032258064516
          ]
         ],
         "hovertemplate": "lat=%{lat}<br>lon=%{lon}<br>population_density=%{customdata[0]}<br>avg_restaurant_dist=%{customdata[1]}<br>avg_bar_dist=%{customdata[2]}<br>avg_toilets_dist=%{customdata[3]}<extra></extra>",
         "lat": [
          55.63708329293848
         ],
         "legendgroup": "",
         "lon": [
          12.602916617147242
         ],
         "marker": {
          "color": "rgb(0.1369963345458074,0.2753265265311369,0.0)"
         },
         "mode": "markers",
         "name": "",
         "showlegend": false,
         "subplot": "mapbox",
         "type": "scattermapbox"
        },
        {
         "customdata": [
          [
           2123.94580078125,
           996.5021097046414,
           777.4050632911392,
           999.8101265822784
          ]
         ],
         "hovertemplate": "lat=%{lat}<br>lon=%{lon}<br>population_density=%{customdata[0]}<br>avg_restaurant_dist=%{customdata[1]}<br>avg_bar_dist=%{customdata[2]}<br>avg_toilets_dist=%{customdata[3]}<extra></extra>",
         "lat": [
          55.63708329293848
         ],
         "legendgroup": "",
         "lon": [
          12.611249950447242
         ],
         "marker": {
          "color": "rgb(0.15832127263552848,0.0849461809404558,0.0)"
         },
         "mode": "markers",
         "name": "",
         "showlegend": false,
         "subplot": "mapbox",
         "type": "scattermapbox"
        },
        {
         "customdata": [
          [
           159.16534423828125,
           1000,
           1000,
           1000
          ]
         ],
         "hovertemplate": "lat=%{lat}<br>lon=%{lon}<br>population_density=%{customdata[0]}<br>avg_restaurant_dist=%{customdata[1]}<br>avg_bar_dist=%{customdata[2]}<br>avg_toilets_dist=%{customdata[3]}<extra></extra>",
         "lat": [
          55.62874995963848
         ],
         "legendgroup": "",
         "lon": [
          12.527916617447245
         ],
         "marker": {
          "color": "rgb(0.00938918404573843,0.0,0.0)"
         },
         "mode": "markers",
         "name": "",
         "showlegend": false,
         "subplot": "mapbox",
         "type": "scattermapbox"
        },
        {
         "customdata": [
          [
           528.700927734375,
           1000,
           1000,
           1000
          ]
         ],
         "hovertemplate": "lat=%{lat}<br>lon=%{lon}<br>population_density=%{customdata[0]}<br>avg_restaurant_dist=%{customdata[1]}<br>avg_bar_dist=%{customdata[2]}<br>avg_toilets_dist=%{customdata[3]}<extra></extra>",
         "lat": [
          55.62874995963848
         ],
         "legendgroup": "",
         "lon": [
          12.53624995074724
         ],
         "marker": {
          "color": "rgb(0.03740030664981569,0.0,0.0)"
         },
         "mode": "markers",
         "name": "",
         "showlegend": false,
         "subplot": "mapbox",
         "type": "scattermapbox"
        },
        {
         "customdata": [
          [
           421.9629211425781,
           1000,
           1000,
           871
          ]
         ],
         "hovertemplate": "lat=%{lat}<br>lon=%{lon}<br>population_density=%{customdata[0]}<br>avg_restaurant_dist=%{customdata[1]}<br>avg_bar_dist=%{customdata[2]}<br>avg_toilets_dist=%{customdata[3]}<extra></extra>",
         "lat": [
          55.62874995963848
         ],
         "legendgroup": "",
         "lon": [
          12.544583284047242
         ],
         "marker": {
          "color": "rgb(0.02930947176763381,0.04842640343643467,0.0)"
         },
         "mode": "markers",
         "name": "",
         "showlegend": false,
         "subplot": "mapbox",
         "type": "scattermapbox"
        },
        {
         "customdata": [
          [
           285.25994873046875,
           null,
           null,
           null
          ]
         ],
         "hovertemplate": "lat=%{lat}<br>lon=%{lon}<br>population_density=%{customdata[0]}<br>avg_restaurant_dist=%{customdata[1]}<br>avg_bar_dist=%{customdata[2]}<br>avg_toilets_dist=%{customdata[3]}<extra></extra>",
         "lat": [
          55.62874995963848
         ],
         "legendgroup": "",
         "lon": [
          12.552916617347242
         ],
         "marker": {
          "color": "rgb(0.01894726609220157,0.0,0.0)"
         },
         "mode": "markers",
         "name": "",
         "showlegend": false,
         "subplot": "mapbox",
         "type": "scattermapbox"
        },
        {
         "customdata": [
          [
           244.5179443359375,
           955.7142857142856,
           999.8571428571428,
           1000
          ]
         ],
         "hovertemplate": "lat=%{lat}<br>lon=%{lon}<br>population_density=%{customdata[0]}<br>avg_restaurant_dist=%{customdata[1]}<br>avg_bar_dist=%{customdata[2]}<br>avg_toilets_dist=%{customdata[3]}<extra></extra>",
         "lat": [
          55.62874995963848
         ],
         "legendgroup": "",
         "lon": [
          12.56124995064724
         ],
         "marker": {
          "color": "rgb(0.01585898628587236,0.016678418016313645,0.0)"
         },
         "mode": "markers",
         "name": "",
         "showlegend": false,
         "subplot": "mapbox",
         "type": "scattermapbox"
        },
        {
         "customdata": [
          [
           902.189208984375,
           674.2363636363636,
           376.6454545454545,
           1000
          ]
         ],
         "hovertemplate": "lat=%{lat}<br>lon=%{lon}<br>population_density=%{customdata[0]}<br>avg_restaurant_dist=%{customdata[1]}<br>avg_bar_dist=%{customdata[2]}<br>avg_toilets_dist=%{customdata[3]}<extra></extra>",
         "lat": [
          55.62874995963848
         ],
         "legendgroup": "",
         "lon": [
          12.569583283947242
         ],
         "marker": {
          "color": "rgb(0.06571104722397864,0.356297519237074,0.0)"
         },
         "mode": "markers",
         "name": "",
         "showlegend": false,
         "subplot": "mapbox",
         "type": "scattermapbox"
        },
        {
         "customdata": [
          [
           2549.021240234375,
           274.70539419087135,
           529.7510373443984,
           958.2406639004148
          ]
         ],
         "hovertemplate": "lat=%{lat}<br>lon=%{lon}<br>population_density=%{customdata[0]}<br>avg_restaurant_dist=%{customdata[1]}<br>avg_bar_dist=%{customdata[2]}<br>avg_toilets_dist=%{customdata[3]}<extra></extra>",
         "lat": [
          55.62874995963848
         ],
         "legendgroup": "",
         "lon": [
          12.577916617247242
         ],
         "marker": {
          "color": "rgb(0.19054236522384038,0.4644816250349135,0.0)"
         },
         "mode": "markers",
         "name": "",
         "showlegend": false,
         "subplot": "mapbox",
         "type": "scattermapbox"
        },
        {
         "customdata": [
          [
           3041.896484375,
           599.375939849624,
           585.375939849624,
           695.7142857142857
          ]
         ],
         "hovertemplate": "lat=%{lat}<br>lon=%{lon}<br>population_density=%{customdata[0]}<br>avg_restaurant_dist=%{customdata[1]}<br>avg_bar_dist=%{customdata[2]}<br>avg_toilets_dist=%{customdata[3]}<extra></extra>",
         "lat": [
          55.62874995963848
         ],
         "legendgroup": "",
         "lon": [
          12.58624995054724
         ],
         "marker": {
          "color": "rgb(0.22790274270500788,0.4202712956156808,0.0)"
         },
         "mode": "markers",
         "name": "",
         "showlegend": false,
         "subplot": "mapbox",
         "type": "scattermapbox"
        },
        {
         "customdata": [
          [
           985.7077026367188,
           740.4,
           683.0090909090909,
           596.5545454545454
          ]
         ],
         "hovertemplate": "lat=%{lat}<br>lon=%{lon}<br>population_density=%{customdata[0]}<br>avg_restaurant_dist=%{customdata[1]}<br>avg_bar_dist=%{customdata[2]}<br>avg_toilets_dist=%{customdata[3]}<extra></extra>",
         "lat": [
          55.62874995963848
         ],
         "legendgroup": "",
         "lon": [
          12.594583283847244
         ],
         "marker": {
          "color": "rgb(0.07204182258063216,0.367904157580084,0.0)"
         },
         "mode": "markers",
         "name": "",
         "showlegend": false,
         "subplot": "mapbox",
         "type": "scattermapbox"
        },
        {
         "customdata": [
          [
           819.7108764648438,
           340.71343283582087,
           392.7641791044776,
           976.1880597014924
          ]
         ],
         "hovertemplate": "lat=%{lat}<br>lon=%{lon}<br>population_density=%{customdata[0]}<br>avg_restaurant_dist=%{customdata[1]}<br>avg_bar_dist=%{customdata[2]}<br>avg_toilets_dist=%{customdata[3]}<extra></extra>",
         "lat": [
          55.62874995963848
         ],
         "legendgroup": "",
         "lon": [
          12.602916617147242
         ],
         "marker": {
          "color": "rgb(0.05945911699705134,0.48438954072058504,0.0)"
         },
         "mode": "markers",
         "name": "",
         "showlegend": false,
         "subplot": "mapbox",
         "type": "scattermapbox"
        },
        {
         "customdata": [
          [
           661.4312133789062,
           629.5289855072464,
           753.4710144927536,
           1000
          ]
         ],
         "hovertemplate": "lat=%{lat}<br>lon=%{lon}<br>population_density=%{customdata[0]}<br>avg_restaurant_dist=%{customdata[1]}<br>avg_bar_dist=%{customdata[2]}<br>avg_toilets_dist=%{customdata[3]}<extra></extra>",
         "lat": [
          55.62874995963848
         ],
         "legendgroup": "",
         "lon": [
          12.611249950447242
         ],
         "marker": {
          "color": "rgb(0.04746137917032564,0.23162085984713277,0.0)"
         },
         "mode": "markers",
         "name": "",
         "showlegend": false,
         "subplot": "mapbox",
         "type": "scattermapbox"
        },
        {
         "customdata": [
          [
           460.2005615234375,
           1000,
           1000,
           895.3461538461538
          ]
         ],
         "hovertemplate": "lat=%{lat}<br>lon=%{lon}<br>population_density=%{customdata[0]}<br>avg_restaurant_dist=%{customdata[1]}<br>avg_bar_dist=%{customdata[2]}<br>avg_toilets_dist=%{customdata[3]}<extra></extra>",
         "lat": [
          55.62041662633848
         ],
         "legendgroup": "",
         "lon": [
          12.527916617447245
         ],
         "marker": {
          "color": "rgb(0.032207918576641015,0.03928689438000543,0.0)"
         },
         "mode": "markers",
         "name": "",
         "showlegend": false,
         "subplot": "mapbox",
         "type": "scattermapbox"
        },
        {
         "customdata": [
          [
           152.26686096191406,
           1000,
           1000,
           107.66666666666669
          ]
         ],
         "hovertemplate": "lat=%{lat}<br>lon=%{lon}<br>population_density=%{customdata[0]}<br>avg_restaurant_dist=%{customdata[1]}<br>avg_bar_dist=%{customdata[2]}<br>avg_toilets_dist=%{customdata[3]}<extra></extra>",
         "lat": [
          55.62041662633848
         ],
         "legendgroup": "",
         "lon": [
          12.53624995074724
         ],
         "marker": {
          "color": "rgb(0.008866272939294088,0.3349805736416934,0.0)"
         },
         "mode": "markers",
         "name": "",
         "showlegend": false,
         "subplot": "mapbox",
         "type": "scattermapbox"
        },
        {
         "customdata": [
          [
           92.96446228027344,
           null,
           null,
           null
          ]
         ],
         "hovertemplate": "lat=%{lat}<br>lon=%{lon}<br>population_density=%{customdata[0]}<br>avg_restaurant_dist=%{customdata[1]}<br>avg_bar_dist=%{customdata[2]}<br>avg_toilets_dist=%{customdata[3]}<extra></extra>",
         "lat": [
          55.62041662633848
         ],
         "legendgroup": "",
         "lon": [
          12.544583284047242
         ],
         "marker": {
          "color": "rgb(0.004371098903625438,0.0,0.0)"
         },
         "mode": "markers",
         "name": "",
         "showlegend": false,
         "subplot": "mapbox",
         "type": "scattermapbox"
        },
        {
         "customdata": [
          [
           96.92726135253906,
           1000,
           1000,
           920
          ]
         ],
         "hovertemplate": "lat=%{lat}<br>lon=%{lon}<br>population_density=%{customdata[0]}<br>avg_restaurant_dist=%{customdata[1]}<br>avg_bar_dist=%{customdata[2]}<br>avg_toilets_dist=%{customdata[3]}<extra></extra>",
         "lat": [
          55.62041662633848
         ],
         "legendgroup": "",
         "lon": [
          12.552916617347242
         ],
         "marker": {
          "color": "rgb(0.004671482562536948,0.03003187810011443,0.0)"
         },
         "mode": "markers",
         "name": "",
         "showlegend": false,
         "subplot": "mapbox",
         "type": "scattermapbox"
        },
        {
         "customdata": [
          [
           211.6236114501953,
           1000,
           951.2857142857144,
           1000
          ]
         ],
         "hovertemplate": "lat=%{lat}<br>lon=%{lon}<br>population_density=%{customdata[0]}<br>avg_restaurant_dist=%{customdata[1]}<br>avg_bar_dist=%{customdata[2]}<br>avg_toilets_dist=%{customdata[3]}<extra></extra>",
         "lat": [
          55.62041662633848
         ],
         "legendgroup": "",
         "lon": [
          12.56124995064724
         ],
         "marker": {
          "color": "rgb(0.013365566889762714,0.018287268628819464,0.0)"
         },
         "mode": "markers",
         "name": "",
         "showlegend": false,
         "subplot": "mapbox",
         "type": "scattermapbox"
        },
        {
         "customdata": [
          [
           509.6600646972656,
           988.9325153374232,
           627.2576687116565,
           1000
          ]
         ],
         "hovertemplate": "lat=%{lat}<br>lon=%{lon}<br>population_density=%{customdata[0]}<br>avg_restaurant_dist=%{customdata[1]}<br>avg_bar_dist=%{customdata[2]}<br>avg_toilets_dist=%{customdata[3]}<extra></extra>",
         "lat": [
          55.62041662633848
         ],
         "legendgroup": "",
         "lon": [
          12.569583283947242
         ],
         "marker": {
          "color": "rgb(0.03595699246617483,0.1440816200783176,0.0)"
         },
         "mode": "markers",
         "name": "",
         "showlegend": false,
         "subplot": "mapbox",
         "type": "scattermapbox"
        },
        {
         "customdata": [
          [
           1339.9697265625,
           937.344537815126,
           666.2016806722689,
           999.1764705882352
          ]
         ],
         "hovertemplate": "lat=%{lat}<br>lon=%{lon}<br>population_density=%{customdata[0]}<br>avg_restaurant_dist=%{customdata[1]}<br>avg_bar_dist=%{customdata[2]}<br>avg_toilets_dist=%{customdata[3]}<extra></extra>",
         "lat": [
          55.62041662633848
         ],
         "legendgroup": "",
         "lon": [
          12.577916617247242
         ],
         "marker": {
          "color": "rgb(0.09889519592095218,0.14913729717027446,0.0)"
         },
         "mode": "markers",
         "name": "",
         "showlegend": false,
         "subplot": "mapbox",
         "type": "scattermapbox"
        },
        {
         "customdata": [
          [
           1847.0802001953125,
           997.1374045801526,
           1000,
           951.587786259542
          ]
         ],
         "hovertemplate": "lat=%{lat}<br>lon=%{lon}<br>population_density=%{customdata[0]}<br>avg_restaurant_dist=%{customdata[1]}<br>avg_bar_dist=%{customdata[2]}<br>avg_toilets_dist=%{customdata[3]}<extra></extra>",
         "lat": [
          55.62041662633848
         ],
         "legendgroup": "",
         "lon": [
          12.58624995054724
         ],
         "marker": {
          "color": "rgb(0.13733461633170826,0.019248485228861356,0.0)"
         },
         "mode": "markers",
         "name": "",
         "showlegend": false,
         "subplot": "mapbox",
         "type": "scattermapbox"
        },
        {
         "customdata": [
          [
           1348.003173828125,
           879.936170212766,
           999.191489361702,
           922.7446808510638
          ]
         ],
         "hovertemplate": "lat=%{lat}<br>lon=%{lon}<br>population_density=%{customdata[0]}<br>avg_restaurant_dist=%{customdata[1]}<br>avg_bar_dist=%{customdata[2]}<br>avg_toilets_dist=%{customdata[3]}<extra></extra>",
         "lat": [
          55.62041662633848
         ],
         "legendgroup": "",
         "lon": [
          12.594583283847244
         ],
         "marker": {
          "color": "rgb(0.09950413829711496,0.07437682150751768,0.0)"
         },
         "mode": "markers",
         "name": "",
         "showlegend": false,
         "subplot": "mapbox",
         "type": "scattermapbox"
        },
        {
         "customdata": [
          [
           1445.69482421875,
           601.3125,
           966.85,
           1000
          ]
         ],
         "hovertemplate": "lat=%{lat}<br>lon=%{lon}<br>population_density=%{customdata[0]}<br>avg_restaurant_dist=%{customdata[1]}<br>avg_bar_dist=%{customdata[2]}<br>avg_toilets_dist=%{customdata[3]}<extra></extra>",
         "lat": [
          55.62041662633848
         ],
         "legendgroup": "",
         "lon": [
          12.602916617147242
         ],
         "marker": {
          "color": "rgb(0.10690925141395605,0.1621111394882272,0.0)"
         },
         "mode": "markers",
         "name": "",
         "showlegend": false,
         "subplot": "mapbox",
         "type": "scattermapbox"
        },
        {
         "customdata": [
          [
           490.6397399902344,
           876.2213740458016,
           999.9160305343512,
           1000
          ]
         ],
         "hovertemplate": "lat=%{lat}<br>lon=%{lon}<br>population_density=%{customdata[0]}<br>avg_restaurant_dist=%{customdata[1]}<br>avg_bar_dist=%{customdata[2]}<br>avg_toilets_dist=%{customdata[3]}<extra></extra>",
         "lat": [
          55.62041662633848
         ],
         "legendgroup": "",
         "lon": [
          12.611249950447242
         ],
         "marker": {
          "color": "rgb(0.03451523510603783,0.046497829585158246,0.0)"
         },
         "mode": "markers",
         "name": "",
         "showlegend": false,
         "subplot": "mapbox",
         "type": "scattermapbox"
        },
        {
         "customdata": [
          [
           64.64034271240234,
           1000,
           1000,
           1000
          ]
         ],
         "hovertemplate": "lat=%{lat}<br>lon=%{lon}<br>population_density=%{customdata[0]}<br>avg_restaurant_dist=%{customdata[1]}<br>avg_bar_dist=%{customdata[2]}<br>avg_toilets_dist=%{customdata[3]}<extra></extra>",
         "lat": [
          55.61208329303848
         ],
         "legendgroup": "",
         "lon": [
          12.527916617447245
         ],
         "marker": {
          "color": "rgb(0.0022241057010707844,0.0,0.0)"
         },
         "mode": "markers",
         "name": "",
         "showlegend": false,
         "subplot": "mapbox",
         "type": "scattermapbox"
        },
        {
         "customdata": [
          [
           44.12084579467773,
           1000,
           1000,
           1000
          ]
         ],
         "hovertemplate": "lat=%{lat}<br>lon=%{lon}<br>population_density=%{customdata[0]}<br>avg_restaurant_dist=%{customdata[1]}<br>avg_bar_dist=%{customdata[2]}<br>avg_toilets_dist=%{customdata[3]}<extra></extra>",
         "lat": [
          55.61208329303848
         ],
         "legendgroup": "",
         "lon": [
          12.53624995074724
         ],
         "marker": {
          "color": "rgb(0.0006687097673461901,0.0,0.0)"
         },
         "mode": "markers",
         "name": "",
         "showlegend": false,
         "subplot": "mapbox",
         "type": "scattermapbox"
        },
        {
         "customdata": [
          [
           41.65827560424805,
           1000,
           1000,
           947
          ]
         ],
         "hovertemplate": "lat=%{lat}<br>lon=%{lon}<br>population_density=%{customdata[0]}<br>avg_restaurant_dist=%{customdata[1]}<br>avg_bar_dist=%{customdata[2]}<br>avg_toilets_dist=%{customdata[3]}<extra></extra>",
         "lat": [
          55.61208329303848
         ],
         "legendgroup": "",
         "lon": [
          12.544583284047242
         ],
         "marker": {
          "color": "rgb(0.00048204477862528414,0.019896119241325727,0.0)"
         },
         "mode": "markers",
         "name": "",
         "showlegend": false,
         "subplot": "mapbox",
         "type": "scattermapbox"
        },
        {
         "customdata": [
          [
           47.52221298217773,
           1000,
           1000,
           1000
          ]
         ],
         "hovertemplate": "lat=%{lat}<br>lon=%{lon}<br>population_density=%{customdata[0]}<br>avg_restaurant_dist=%{customdata[1]}<br>avg_bar_dist=%{customdata[2]}<br>avg_toilets_dist=%{customdata[3]}<extra></extra>",
         "lat": [
          55.61208329303848
         ],
         "legendgroup": "",
         "lon": [
          12.552916617347242
         ],
         "marker": {
          "color": "rgb(0.0009265363950532211,0.0,0.0)"
         },
         "mode": "markers",
         "name": "",
         "showlegend": false,
         "subplot": "mapbox",
         "type": "scattermapbox"
        },
        {
         "customdata": [
          [
           72.51296997070312,
           1000,
           1000,
           1000
          ]
         ],
         "hovertemplate": "lat=%{lat}<br>lon=%{lon}<br>population_density=%{customdata[0]}<br>avg_restaurant_dist=%{customdata[1]}<br>avg_bar_dist=%{customdata[2]}<br>avg_toilets_dist=%{customdata[3]}<extra></extra>",
         "lat": [
          55.61208329303848
         ],
         "legendgroup": "",
         "lon": [
          12.56124995064724
         ],
         "marker": {
          "color": "rgb(0.002820857779076812,0.0,0.0)"
         },
         "mode": "markers",
         "name": "",
         "showlegend": false,
         "subplot": "mapbox",
         "type": "scattermapbox"
        },
        {
         "customdata": [
          [
           144.95750427246094,
           1000,
           1000,
           1000
          ]
         ],
         "hovertemplate": "lat=%{lat}<br>lon=%{lon}<br>population_density=%{customdata[0]}<br>avg_restaurant_dist=%{customdata[1]}<br>avg_bar_dist=%{customdata[2]}<br>avg_toilets_dist=%{customdata[3]}<extra></extra>",
         "lat": [
          55.61208329303848
         ],
         "legendgroup": "",
         "lon": [
          12.569583283947242
         ],
         "marker": {
          "color": "rgb(0.008312217266364913,0.0,0.0)"
         },
         "mode": "markers",
         "name": "",
         "showlegend": false,
         "subplot": "mapbox",
         "type": "scattermapbox"
        },
        {
         "customdata": [
          [
           561.067626953125,
           1000,
           1000,
           1000
          ]
         ],
         "hovertemplate": "lat=%{lat}<br>lon=%{lon}<br>population_density=%{customdata[0]}<br>avg_restaurant_dist=%{customdata[1]}<br>avg_bar_dist=%{customdata[2]}<br>avg_toilets_dist=%{customdata[3]}<extra></extra>",
         "lat": [
          55.61208329303848
         ],
         "legendgroup": "",
         "lon": [
          12.577916617247242
         ],
         "marker": {
          "color": "rgb(0.039853730949387316,0.0,0.0)"
         },
         "mode": "markers",
         "name": "",
         "showlegend": false,
         "subplot": "mapbox",
         "type": "scattermapbox"
        },
        {
         "customdata": [
          [
           1159.6585693359375,
           1000,
           1000,
           1000
          ]
         ],
         "hovertemplate": "lat=%{lat}<br>lon=%{lon}<br>population_density=%{customdata[0]}<br>avg_restaurant_dist=%{customdata[1]}<br>avg_bar_dist=%{customdata[2]}<br>avg_toilets_dist=%{customdata[3]}<extra></extra>",
         "lat": [
          55.61208329303848
         ],
         "legendgroup": "",
         "lon": [
          12.58624995054724
         ],
         "marker": {
          "color": "rgb(0.08522745143969661,0.0,0.0)"
         },
         "mode": "markers",
         "name": "",
         "showlegend": false,
         "subplot": "mapbox",
         "type": "scattermapbox"
        },
        {
         "customdata": [
          [
           802.7286987304688,
           1000,
           1000,
           1000
          ]
         ],
         "hovertemplate": "lat=%{lat}<br>lon=%{lon}<br>population_density=%{customdata[0]}<br>avg_restaurant_dist=%{customdata[1]}<br>avg_bar_dist=%{customdata[2]}<br>avg_toilets_dist=%{customdata[3]}<extra></extra>",
         "lat": [
          55.61208329303848
         ],
         "legendgroup": "",
         "lon": [
          12.594583283847244
         ],
         "marker": {
          "color": "rgb(0.05817185297202453,0.0,0.0)"
         },
         "mode": "markers",
         "name": "",
         "showlegend": false,
         "subplot": "mapbox",
         "type": "scattermapbox"
        },
        {
         "customdata": [
          [
           701.9442138671875,
           1000,
           1000,
           1000
          ]
         ],
         "hovertemplate": "lat=%{lat}<br>lon=%{lon}<br>population_density=%{customdata[0]}<br>avg_restaurant_dist=%{customdata[1]}<br>avg_bar_dist=%{customdata[2]}<br>avg_toilets_dist=%{customdata[3]}<extra></extra>",
         "lat": [
          55.61208329303848
         ],
         "legendgroup": "",
         "lon": [
          12.602916617147242
         ],
         "marker": {
          "color": "rgb(0.05053230027892379,0.0,0.0)"
         },
         "mode": "markers",
         "name": "",
         "showlegend": false,
         "subplot": "mapbox",
         "type": "scattermapbox"
        },
        {
         "customdata": [
          [
           560.9107666015625,
           1000,
           1000,
           1000
          ]
         ],
         "hovertemplate": "lat=%{lat}<br>lon=%{lon}<br>population_density=%{customdata[0]}<br>avg_restaurant_dist=%{customdata[1]}<br>avg_bar_dist=%{customdata[2]}<br>avg_toilets_dist=%{customdata[3]}<extra></extra>",
         "lat": [
          55.61208329303848
         ],
         "legendgroup": "",
         "lon": [
          12.611249950447242
         ],
         "marker": {
          "color": "rgb(0.03984184079662377,0.0,0.0)"
         },
         "mode": "markers",
         "name": "",
         "showlegend": false,
         "subplot": "mapbox",
         "type": "scattermapbox"
        },
        {
         "customdata": [
          [
           46.72726821899414,
           null,
           null,
           null
          ]
         ],
         "hovertemplate": "lat=%{lat}<br>lon=%{lon}<br>population_density=%{customdata[0]}<br>avg_restaurant_dist=%{customdata[1]}<br>avg_bar_dist=%{customdata[2]}<br>avg_toilets_dist=%{customdata[3]}<extra></extra>",
         "lat": [
          55.60374995973848
         ],
         "legendgroup": "",
         "lon": [
          12.527916617447245
         ],
         "marker": {
          "color": "rgb(0.0008662788820572098,0.0,0.0)"
         },
         "mode": "markers",
         "name": "",
         "showlegend": false,
         "subplot": "mapbox",
         "type": "scattermapbox"
        },
        {
         "customdata": [
          [
           35.298919677734375,
           null,
           null,
           null
          ]
         ],
         "hovertemplate": "lat=%{lat}<br>lon=%{lon}<br>population_density=%{customdata[0]}<br>avg_restaurant_dist=%{customdata[1]}<br>avg_bar_dist=%{customdata[2]}<br>avg_toilets_dist=%{customdata[3]}<extra></extra>",
         "lat": [
          55.60374995973848
         ],
         "legendgroup": "",
         "lon": [
          12.53624995074724
         ],
         "marker": {
          "color": "rgb(0.0,0.0,0.0)"
         },
         "mode": "markers",
         "name": "",
         "showlegend": false,
         "subplot": "mapbox",
         "type": "scattermapbox"
        },
        {
         "customdata": [
          [
           38.90097427368164,
           null,
           null,
           null
          ]
         ],
         "hovertemplate": "lat=%{lat}<br>lon=%{lon}<br>population_density=%{customdata[0]}<br>avg_restaurant_dist=%{customdata[1]}<br>avg_bar_dist=%{customdata[2]}<br>avg_toilets_dist=%{customdata[3]}<extra></extra>",
         "lat": [
          55.60374995973848
         ],
         "legendgroup": "",
         "lon": [
          12.544583284047242
         ],
         "marker": {
          "color": "rgb(0.0002730389099720498,0.0,0.0)"
         },
         "mode": "markers",
         "name": "",
         "showlegend": false,
         "subplot": "mapbox",
         "type": "scattermapbox"
        },
        {
         "customdata": [
          [
           60.2628288269043,
           null,
           null,
           null
          ]
         ],
         "hovertemplate": "lat=%{lat}<br>lon=%{lon}<br>population_density=%{customdata[0]}<br>avg_restaurant_dist=%{customdata[1]}<br>avg_bar_dist=%{customdata[2]}<br>avg_toilets_dist=%{customdata[3]}<extra></extra>",
         "lat": [
          55.60374995973848
         ],
         "legendgroup": "",
         "lon": [
          12.552916617347242
         ],
         "marker": {
          "color": "rgb(0.0018922862941609965,0.0,0.0)"
         },
         "mode": "markers",
         "name": "",
         "showlegend": false,
         "subplot": "mapbox",
         "type": "scattermapbox"
        },
        {
         "customdata": [
          [
           44.94264221191406,
           null,
           null,
           null
          ]
         ],
         "hovertemplate": "lat=%{lat}<br>lon=%{lon}<br>population_density=%{customdata[0]}<br>avg_restaurant_dist=%{customdata[1]}<br>avg_bar_dist=%{customdata[2]}<br>avg_toilets_dist=%{customdata[3]}<extra></extra>",
         "lat": [
          55.60374995973848
         ],
         "legendgroup": "",
         "lon": [
          12.56124995064724
         ],
         "marker": {
          "color": "rgb(0.0007310026593622083,0.0,0.0)"
         },
         "mode": "markers",
         "name": "",
         "showlegend": false,
         "subplot": "mapbox",
         "type": "scattermapbox"
        },
        {
         "customdata": [
          [
           117.92335510253906,
           null,
           null,
           null
          ]
         ],
         "hovertemplate": "lat=%{lat}<br>lon=%{lon}<br>population_density=%{customdata[0]}<br>avg_restaurant_dist=%{customdata[1]}<br>avg_bar_dist=%{customdata[2]}<br>avg_toilets_dist=%{customdata[3]}<extra></extra>",
         "lat": [
          55.60374995973848
         ],
         "legendgroup": "",
         "lon": [
          12.569583283947242
         ],
         "marker": {
          "color": "rgb(0.0062630049557902264,0.0,0.0)"
         },
         "mode": "markers",
         "name": "",
         "showlegend": false,
         "subplot": "mapbox",
         "type": "scattermapbox"
        },
        {
         "customdata": [
          [
           655.8869018554688,
           1000,
           1000,
           1000
          ]
         ],
         "hovertemplate": "lat=%{lat}<br>lon=%{lon}<br>population_density=%{customdata[0]}<br>avg_restaurant_dist=%{customdata[1]}<br>avg_bar_dist=%{customdata[2]}<br>avg_toilets_dist=%{customdata[3]}<extra></extra>",
         "lat": [
          55.60374995973848
         ],
         "legendgroup": "",
         "lon": [
          12.577916617247242
         ],
         "marker": {
          "color": "rgb(0.0470411154750979,0.0,0.0)"
         },
         "mode": "markers",
         "name": "",
         "showlegend": false,
         "subplot": "mapbox",
         "type": "scattermapbox"
        },
        {
         "customdata": [
          [
           928.2647705078124,
           1000,
           1000,
           1000
          ]
         ],
         "hovertemplate": "lat=%{lat}<br>lon=%{lon}<br>population_density=%{customdata[0]}<br>avg_restaurant_dist=%{customdata[1]}<br>avg_bar_dist=%{customdata[2]}<br>avg_toilets_dist=%{customdata[3]}<extra></extra>",
         "lat": [
          55.60374995973848
         ],
         "legendgroup": "",
         "lon": [
          12.58624995054724
         ],
         "marker": {
          "color": "rgb(0.06768759774691599,0.0,0.0)"
         },
         "mode": "markers",
         "name": "",
         "showlegend": false,
         "subplot": "mapbox",
         "type": "scattermapbox"
        },
        {
         "customdata": [
          [
           411.1160583496094,
           1000,
           1000,
           1000
          ]
         ],
         "hovertemplate": "lat=%{lat}<br>lon=%{lon}<br>population_density=%{customdata[0]}<br>avg_restaurant_dist=%{customdata[1]}<br>avg_bar_dist=%{customdata[2]}<br>avg_toilets_dist=%{customdata[3]}<extra></extra>",
         "lat": [
          55.60374995973848
         ],
         "legendgroup": "",
         "lon": [
          12.594583283847244
         ],
         "marker": {
          "color": "rgb(0.028487270017293672,0.0,0.0)"
         },
         "mode": "markers",
         "name": "",
         "showlegend": false,
         "subplot": "mapbox",
         "type": "scattermapbox"
        },
        {
         "customdata": [
          [
           192.62425231933597,
           1000,
           1000,
           1000
          ]
         ],
         "hovertemplate": "lat=%{lat}<br>lon=%{lon}<br>population_density=%{customdata[0]}<br>avg_restaurant_dist=%{customdata[1]}<br>avg_bar_dist=%{customdata[2]}<br>avg_toilets_dist=%{customdata[3]}<extra></extra>",
         "lat": [
          55.60374995973848
         ],
         "legendgroup": "",
         "lon": [
          12.602916617147242
         ],
         "marker": {
          "color": "rgb(0.011925398738759684,0.0,0.0)"
         },
         "mode": "markers",
         "name": "",
         "showlegend": false,
         "subplot": "mapbox",
         "type": "scattermapbox"
        },
        {
         "customdata": [
          [
           123.1965560913086,
           1000,
           1000,
           1000
          ]
         ],
         "hovertemplate": "lat=%{lat}<br>lon=%{lon}<br>population_density=%{customdata[0]}<br>avg_restaurant_dist=%{customdata[1]}<br>avg_bar_dist=%{customdata[2]}<br>avg_toilets_dist=%{customdata[3]}<extra></extra>",
         "lat": [
          55.60374995973848
         ],
         "legendgroup": "",
         "lon": [
          12.611249950447242
         ],
         "marker": {
          "color": "rgb(0.006662718233778044,0.0,0.0)"
         },
         "mode": "markers",
         "name": "",
         "showlegend": false,
         "subplot": "mapbox",
         "type": "scattermapbox"
        }
       ],
       "layout": {
        "legend": {
         "tracegroupgap": 0
        },
        "mapbox": {
         "accesstoken": "pk.eyJ1IjoiZ29vZGdhbWUiLCJhIjoiY2t0YTF4bDUwMWhsMzJ1cWx0NDN2NjNxMyJ9.3yNf5kOkcxOvnjxJuXRlYg",
         "center": {
          "lat": 55.649583292888465,
          "lon": 12.569583283947235
         },
         "domain": {
          "x": [
           0,
           1
          ],
          "y": [
           0,
           1
          ]
         },
         "style": "outdoors",
         "zoom": 8
        },
        "margin": {
         "t": 60
        },
        "template": {
         "data": {
          "bar": [
           {
            "error_x": {
             "color": "#2a3f5f"
            },
            "error_y": {
             "color": "#2a3f5f"
            },
            "marker": {
             "line": {
              "color": "#E5ECF6",
              "width": 0.5
             },
             "pattern": {
              "fillmode": "overlay",
              "size": 10,
              "solidity": 0.2
             }
            },
            "type": "bar"
           }
          ],
          "barpolar": [
           {
            "marker": {
             "line": {
              "color": "#E5ECF6",
              "width": 0.5
             },
             "pattern": {
              "fillmode": "overlay",
              "size": 10,
              "solidity": 0.2
             }
            },
            "type": "barpolar"
           }
          ],
          "carpet": [
           {
            "aaxis": {
             "endlinecolor": "#2a3f5f",
             "gridcolor": "white",
             "linecolor": "white",
             "minorgridcolor": "white",
             "startlinecolor": "#2a3f5f"
            },
            "baxis": {
             "endlinecolor": "#2a3f5f",
             "gridcolor": "white",
             "linecolor": "white",
             "minorgridcolor": "white",
             "startlinecolor": "#2a3f5f"
            },
            "type": "carpet"
           }
          ],
          "choropleth": [
           {
            "colorbar": {
             "outlinewidth": 0,
             "ticks": ""
            },
            "type": "choropleth"
           }
          ],
          "contour": [
           {
            "colorbar": {
             "outlinewidth": 0,
             "ticks": ""
            },
            "colorscale": [
             [
              0,
              "#0d0887"
             ],
             [
              0.1111111111111111,
              "#46039f"
             ],
             [
              0.2222222222222222,
              "#7201a8"
             ],
             [
              0.3333333333333333,
              "#9c179e"
             ],
             [
              0.4444444444444444,
              "#bd3786"
             ],
             [
              0.5555555555555556,
              "#d8576b"
             ],
             [
              0.6666666666666666,
              "#ed7953"
             ],
             [
              0.7777777777777778,
              "#fb9f3a"
             ],
             [
              0.8888888888888888,
              "#fdca26"
             ],
             [
              1,
              "#f0f921"
             ]
            ],
            "type": "contour"
           }
          ],
          "contourcarpet": [
           {
            "colorbar": {
             "outlinewidth": 0,
             "ticks": ""
            },
            "type": "contourcarpet"
           }
          ],
          "heatmap": [
           {
            "colorbar": {
             "outlinewidth": 0,
             "ticks": ""
            },
            "colorscale": [
             [
              0,
              "#0d0887"
             ],
             [
              0.1111111111111111,
              "#46039f"
             ],
             [
              0.2222222222222222,
              "#7201a8"
             ],
             [
              0.3333333333333333,
              "#9c179e"
             ],
             [
              0.4444444444444444,
              "#bd3786"
             ],
             [
              0.5555555555555556,
              "#d8576b"
             ],
             [
              0.6666666666666666,
              "#ed7953"
             ],
             [
              0.7777777777777778,
              "#fb9f3a"
             ],
             [
              0.8888888888888888,
              "#fdca26"
             ],
             [
              1,
              "#f0f921"
             ]
            ],
            "type": "heatmap"
           }
          ],
          "heatmapgl": [
           {
            "colorbar": {
             "outlinewidth": 0,
             "ticks": ""
            },
            "colorscale": [
             [
              0,
              "#0d0887"
             ],
             [
              0.1111111111111111,
              "#46039f"
             ],
             [
              0.2222222222222222,
              "#7201a8"
             ],
             [
              0.3333333333333333,
              "#9c179e"
             ],
             [
              0.4444444444444444,
              "#bd3786"
             ],
             [
              0.5555555555555556,
              "#d8576b"
             ],
             [
              0.6666666666666666,
              "#ed7953"
             ],
             [
              0.7777777777777778,
              "#fb9f3a"
             ],
             [
              0.8888888888888888,
              "#fdca26"
             ],
             [
              1,
              "#f0f921"
             ]
            ],
            "type": "heatmapgl"
           }
          ],
          "histogram": [
           {
            "marker": {
             "pattern": {
              "fillmode": "overlay",
              "size": 10,
              "solidity": 0.2
             }
            },
            "type": "histogram"
           }
          ],
          "histogram2d": [
           {
            "colorbar": {
             "outlinewidth": 0,
             "ticks": ""
            },
            "colorscale": [
             [
              0,
              "#0d0887"
             ],
             [
              0.1111111111111111,
              "#46039f"
             ],
             [
              0.2222222222222222,
              "#7201a8"
             ],
             [
              0.3333333333333333,
              "#9c179e"
             ],
             [
              0.4444444444444444,
              "#bd3786"
             ],
             [
              0.5555555555555556,
              "#d8576b"
             ],
             [
              0.6666666666666666,
              "#ed7953"
             ],
             [
              0.7777777777777778,
              "#fb9f3a"
             ],
             [
              0.8888888888888888,
              "#fdca26"
             ],
             [
              1,
              "#f0f921"
             ]
            ],
            "type": "histogram2d"
           }
          ],
          "histogram2dcontour": [
           {
            "colorbar": {
             "outlinewidth": 0,
             "ticks": ""
            },
            "colorscale": [
             [
              0,
              "#0d0887"
             ],
             [
              0.1111111111111111,
              "#46039f"
             ],
             [
              0.2222222222222222,
              "#7201a8"
             ],
             [
              0.3333333333333333,
              "#9c179e"
             ],
             [
              0.4444444444444444,
              "#bd3786"
             ],
             [
              0.5555555555555556,
              "#d8576b"
             ],
             [
              0.6666666666666666,
              "#ed7953"
             ],
             [
              0.7777777777777778,
              "#fb9f3a"
             ],
             [
              0.8888888888888888,
              "#fdca26"
             ],
             [
              1,
              "#f0f921"
             ]
            ],
            "type": "histogram2dcontour"
           }
          ],
          "mesh3d": [
           {
            "colorbar": {
             "outlinewidth": 0,
             "ticks": ""
            },
            "type": "mesh3d"
           }
          ],
          "parcoords": [
           {
            "line": {
             "colorbar": {
              "outlinewidth": 0,
              "ticks": ""
             }
            },
            "type": "parcoords"
           }
          ],
          "pie": [
           {
            "automargin": true,
            "type": "pie"
           }
          ],
          "scatter": [
           {
            "marker": {
             "colorbar": {
              "outlinewidth": 0,
              "ticks": ""
             }
            },
            "type": "scatter"
           }
          ],
          "scatter3d": [
           {
            "line": {
             "colorbar": {
              "outlinewidth": 0,
              "ticks": ""
             }
            },
            "marker": {
             "colorbar": {
              "outlinewidth": 0,
              "ticks": ""
             }
            },
            "type": "scatter3d"
           }
          ],
          "scattercarpet": [
           {
            "marker": {
             "colorbar": {
              "outlinewidth": 0,
              "ticks": ""
             }
            },
            "type": "scattercarpet"
           }
          ],
          "scattergeo": [
           {
            "marker": {
             "colorbar": {
              "outlinewidth": 0,
              "ticks": ""
             }
            },
            "type": "scattergeo"
           }
          ],
          "scattergl": [
           {
            "marker": {
             "colorbar": {
              "outlinewidth": 0,
              "ticks": ""
             }
            },
            "type": "scattergl"
           }
          ],
          "scattermapbox": [
           {
            "marker": {
             "colorbar": {
              "outlinewidth": 0,
              "ticks": ""
             }
            },
            "type": "scattermapbox"
           }
          ],
          "scatterpolar": [
           {
            "marker": {
             "colorbar": {
              "outlinewidth": 0,
              "ticks": ""
             }
            },
            "type": "scatterpolar"
           }
          ],
          "scatterpolargl": [
           {
            "marker": {
             "colorbar": {
              "outlinewidth": 0,
              "ticks": ""
             }
            },
            "type": "scatterpolargl"
           }
          ],
          "scatterternary": [
           {
            "marker": {
             "colorbar": {
              "outlinewidth": 0,
              "ticks": ""
             }
            },
            "type": "scatterternary"
           }
          ],
          "surface": [
           {
            "colorbar": {
             "outlinewidth": 0,
             "ticks": ""
            },
            "colorscale": [
             [
              0,
              "#0d0887"
             ],
             [
              0.1111111111111111,
              "#46039f"
             ],
             [
              0.2222222222222222,
              "#7201a8"
             ],
             [
              0.3333333333333333,
              "#9c179e"
             ],
             [
              0.4444444444444444,
              "#bd3786"
             ],
             [
              0.5555555555555556,
              "#d8576b"
             ],
             [
              0.6666666666666666,
              "#ed7953"
             ],
             [
              0.7777777777777778,
              "#fb9f3a"
             ],
             [
              0.8888888888888888,
              "#fdca26"
             ],
             [
              1,
              "#f0f921"
             ]
            ],
            "type": "surface"
           }
          ],
          "table": [
           {
            "cells": {
             "fill": {
              "color": "#EBF0F8"
             },
             "line": {
              "color": "white"
             }
            },
            "header": {
             "fill": {
              "color": "#C8D4E3"
             },
             "line": {
              "color": "white"
             }
            },
            "type": "table"
           }
          ]
         },
         "layout": {
          "annotationdefaults": {
           "arrowcolor": "#2a3f5f",
           "arrowhead": 0,
           "arrowwidth": 1
          },
          "autotypenumbers": "strict",
          "coloraxis": {
           "colorbar": {
            "outlinewidth": 0,
            "ticks": ""
           }
          },
          "colorscale": {
           "diverging": [
            [
             0,
             "#8e0152"
            ],
            [
             0.1,
             "#c51b7d"
            ],
            [
             0.2,
             "#de77ae"
            ],
            [
             0.3,
             "#f1b6da"
            ],
            [
             0.4,
             "#fde0ef"
            ],
            [
             0.5,
             "#f7f7f7"
            ],
            [
             0.6,
             "#e6f5d0"
            ],
            [
             0.7,
             "#b8e186"
            ],
            [
             0.8,
             "#7fbc41"
            ],
            [
             0.9,
             "#4d9221"
            ],
            [
             1,
             "#276419"
            ]
           ],
           "sequential": [
            [
             0,
             "#0d0887"
            ],
            [
             0.1111111111111111,
             "#46039f"
            ],
            [
             0.2222222222222222,
             "#7201a8"
            ],
            [
             0.3333333333333333,
             "#9c179e"
            ],
            [
             0.4444444444444444,
             "#bd3786"
            ],
            [
             0.5555555555555556,
             "#d8576b"
            ],
            [
             0.6666666666666666,
             "#ed7953"
            ],
            [
             0.7777777777777778,
             "#fb9f3a"
            ],
            [
             0.8888888888888888,
             "#fdca26"
            ],
            [
             1,
             "#f0f921"
            ]
           ],
           "sequentialminus": [
            [
             0,
             "#0d0887"
            ],
            [
             0.1111111111111111,
             "#46039f"
            ],
            [
             0.2222222222222222,
             "#7201a8"
            ],
            [
             0.3333333333333333,
             "#9c179e"
            ],
            [
             0.4444444444444444,
             "#bd3786"
            ],
            [
             0.5555555555555556,
             "#d8576b"
            ],
            [
             0.6666666666666666,
             "#ed7953"
            ],
            [
             0.7777777777777778,
             "#fb9f3a"
            ],
            [
             0.8888888888888888,
             "#fdca26"
            ],
            [
             1,
             "#f0f921"
            ]
           ]
          },
          "colorway": [
           "#636efa",
           "#EF553B",
           "#00cc96",
           "#ab63fa",
           "#FFA15A",
           "#19d3f3",
           "#FF6692",
           "#B6E880",
           "#FF97FF",
           "#FECB52"
          ],
          "font": {
           "color": "#2a3f5f"
          },
          "geo": {
           "bgcolor": "white",
           "lakecolor": "white",
           "landcolor": "#E5ECF6",
           "showlakes": true,
           "showland": true,
           "subunitcolor": "white"
          },
          "hoverlabel": {
           "align": "left"
          },
          "hovermode": "closest",
          "mapbox": {
           "style": "light"
          },
          "paper_bgcolor": "white",
          "plot_bgcolor": "#E5ECF6",
          "polar": {
           "angularaxis": {
            "gridcolor": "white",
            "linecolor": "white",
            "ticks": ""
           },
           "bgcolor": "#E5ECF6",
           "radialaxis": {
            "gridcolor": "white",
            "linecolor": "white",
            "ticks": ""
           }
          },
          "scene": {
           "xaxis": {
            "backgroundcolor": "#E5ECF6",
            "gridcolor": "white",
            "gridwidth": 2,
            "linecolor": "white",
            "showbackground": true,
            "ticks": "",
            "zerolinecolor": "white"
           },
           "yaxis": {
            "backgroundcolor": "#E5ECF6",
            "gridcolor": "white",
            "gridwidth": 2,
            "linecolor": "white",
            "showbackground": true,
            "ticks": "",
            "zerolinecolor": "white"
           },
           "zaxis": {
            "backgroundcolor": "#E5ECF6",
            "gridcolor": "white",
            "gridwidth": 2,
            "linecolor": "white",
            "showbackground": true,
            "ticks": "",
            "zerolinecolor": "white"
           }
          },
          "shapedefaults": {
           "line": {
            "color": "#2a3f5f"
           }
          },
          "ternary": {
           "aaxis": {
            "gridcolor": "white",
            "linecolor": "white",
            "ticks": ""
           },
           "baxis": {
            "gridcolor": "white",
            "linecolor": "white",
            "ticks": ""
           },
           "bgcolor": "#E5ECF6",
           "caxis": {
            "gridcolor": "white",
            "linecolor": "white",
            "ticks": ""
           }
          },
          "title": {
           "x": 0.05
          },
          "xaxis": {
           "automargin": true,
           "gridcolor": "white",
           "linecolor": "white",
           "ticks": "",
           "title": {
            "standoff": 15
           },
           "zerolinecolor": "white",
           "zerolinewidth": 2
          },
          "yaxis": {
           "automargin": true,
           "gridcolor": "white",
           "linecolor": "white",
           "ticks": "",
           "title": {
            "standoff": 15
           },
           "zerolinecolor": "white",
           "zerolinewidth": 2
          }
         }
        }
       }
      }
     },
     "metadata": {},
     "output_type": "display_data"
    }
   ],
   "source": [
    "import plotly.express as px\n",
    " \n",
    "px.set_mapbox_access_token(open(\".mapbox_token\").read())\n",
    "fig = px.scatter_mapbox(\n",
    "        df, \n",
    "        lon=\"lon\", lat=\"lat\", \n",
    "        hover_data=[\"population_density\"] + user_selected_amenities,\n",
    "        color=\"rgb\",\n",
    "        color_discrete_map=\"identity\",\n",
    "        # color_continuous_scale=\"Viridis_r\", #viridis reversed\n",
    "        mapbox_style=\"outdoors\",\n",
    "    )\n",
    "\n",
    "fig.show()"
   ]
  },
  {
   "cell_type": "code",
   "execution_count": null,
   "metadata": {},
   "outputs": [],
   "source": []
  }
 ],
 "metadata": {
  "interpreter": {
   "hash": "38cca0c38332a56087b24af0bc80247f4fced29cb4f7f437d91dc159adec9c4e"
  },
  "kernelspec": {
   "display_name": "Python 3.8.8 64-bit ('base': conda)",
   "name": "python3"
  },
  "language_info": {
   "codemirror_mode": {
    "name": "ipython",
    "version": 3
   },
   "file_extension": ".py",
   "mimetype": "text/x-python",
   "name": "python",
   "nbconvert_exporter": "python",
   "pygments_lexer": "ipython3",
   "version": "3.8.8"
  },
  "orig_nbformat": 4
 },
 "nbformat": 4,
 "nbformat_minor": 2
}

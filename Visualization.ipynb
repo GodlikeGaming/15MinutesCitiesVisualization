{
 "cells": [
  {
   "cell_type": "code",
   "execution_count": 10,
   "metadata": {},
   "outputs": [
    {
     "data": {
      "text/html": [
       "<div>\n",
       "<style scoped>\n",
       "    .dataframe tbody tr th:only-of-type {\n",
       "        vertical-align: middle;\n",
       "    }\n",
       "\n",
       "    .dataframe tbody tr th {\n",
       "        vertical-align: top;\n",
       "    }\n",
       "\n",
       "    .dataframe thead th {\n",
       "        text-align: right;\n",
       "    }\n",
       "</style>\n",
       "<table border=\"1\" class=\"dataframe\">\n",
       "  <thead>\n",
       "    <tr style=\"text-align: right;\">\n",
       "      <th></th>\n",
       "      <th>id</th>\n",
       "      <th>lon</th>\n",
       "      <th>lat</th>\n",
       "      <th>population_density</th>\n",
       "      <th>avg_restaurant_dist</th>\n",
       "      <th>avg_bar_dist</th>\n",
       "      <th>avg_school_dist</th>\n",
       "      <th>avg_toilets_dist</th>\n",
       "      <th>avg_college_dist</th>\n",
       "      <th>avg_hospital_dist</th>\n",
       "    </tr>\n",
       "  </thead>\n",
       "  <tbody>\n",
       "    <tr>\n",
       "      <th>0</th>\n",
       "      <td>55246</td>\n",
       "      <td>12.527917</td>\n",
       "      <td>55.695417</td>\n",
       "      <td>8509.044922</td>\n",
       "      <td>826.561404</td>\n",
       "      <td>920.052632</td>\n",
       "      <td>1000.000000</td>\n",
       "      <td>939.964912</td>\n",
       "      <td>1000.0</td>\n",
       "      <td>813.596491</td>\n",
       "    </tr>\n",
       "    <tr>\n",
       "      <th>1</th>\n",
       "      <td>55247</td>\n",
       "      <td>12.536250</td>\n",
       "      <td>55.695417</td>\n",
       "      <td>11358.980469</td>\n",
       "      <td>535.344828</td>\n",
       "      <td>590.942529</td>\n",
       "      <td>904.540230</td>\n",
       "      <td>600.655172</td>\n",
       "      <td>1000.0</td>\n",
       "      <td>963.563218</td>\n",
       "    </tr>\n",
       "    <tr>\n",
       "      <th>2</th>\n",
       "      <td>55248</td>\n",
       "      <td>12.544583</td>\n",
       "      <td>55.695417</td>\n",
       "      <td>12426.899414</td>\n",
       "      <td>181.544304</td>\n",
       "      <td>177.734177</td>\n",
       "      <td>496.367089</td>\n",
       "      <td>341.354430</td>\n",
       "      <td>1000.0</td>\n",
       "      <td>1000.000000</td>\n",
       "    </tr>\n",
       "    <tr>\n",
       "      <th>3</th>\n",
       "      <td>55249</td>\n",
       "      <td>12.552917</td>\n",
       "      <td>55.695417</td>\n",
       "      <td>12974.911133</td>\n",
       "      <td>157.525773</td>\n",
       "      <td>225.360825</td>\n",
       "      <td>759.319588</td>\n",
       "      <td>401.371134</td>\n",
       "      <td>1000.0</td>\n",
       "      <td>1000.000000</td>\n",
       "    </tr>\n",
       "    <tr>\n",
       "      <th>4</th>\n",
       "      <td>55250</td>\n",
       "      <td>12.561250</td>\n",
       "      <td>55.695417</td>\n",
       "      <td>9767.416016</td>\n",
       "      <td>222.821429</td>\n",
       "      <td>221.107143</td>\n",
       "      <td>991.223214</td>\n",
       "      <td>186.000000</td>\n",
       "      <td>1000.0</td>\n",
       "      <td>1000.000000</td>\n",
       "    </tr>\n",
       "  </tbody>\n",
       "</table>\n",
       "</div>"
      ],
      "text/plain": [
       "      id        lon        lat  population_density  avg_restaurant_dist  \\\n",
       "0  55246  12.527917  55.695417         8509.044922           826.561404   \n",
       "1  55247  12.536250  55.695417        11358.980469           535.344828   \n",
       "2  55248  12.544583  55.695417        12426.899414           181.544304   \n",
       "3  55249  12.552917  55.695417        12974.911133           157.525773   \n",
       "4  55250  12.561250  55.695417         9767.416016           222.821429   \n",
       "\n",
       "   avg_bar_dist  avg_school_dist  avg_toilets_dist  avg_college_dist  \\\n",
       "0    920.052632      1000.000000        939.964912            1000.0   \n",
       "1    590.942529       904.540230        600.655172            1000.0   \n",
       "2    177.734177       496.367089        341.354430            1000.0   \n",
       "3    225.360825       759.319588        401.371134            1000.0   \n",
       "4    221.107143       991.223214        186.000000            1000.0   \n",
       "\n",
       "   avg_hospital_dist  \n",
       "0         813.596491  \n",
       "1         963.563218  \n",
       "2        1000.000000  \n",
       "3        1000.000000  \n",
       "4        1000.000000  "
      ]
     },
     "execution_count": 10,
     "metadata": {},
     "output_type": "execute_result"
    }
   ],
   "source": [
    "import pandas as pd\n",
    "df = pd.read_csv(\"cph_pop_and_access_1k.csv\")\n",
    "df.head()"
   ]
  },
  {
   "cell_type": "code",
   "execution_count": 11,
   "metadata": {},
   "outputs": [],
   "source": [
    "df[\"avg_user_selection\"] = 0"
   ]
  },
  {
   "cell_type": "code",
   "execution_count": 12,
   "metadata": {},
   "outputs": [
    {
     "data": {
      "text/html": [
       "<div>\n",
       "<style scoped>\n",
       "    .dataframe tbody tr th:only-of-type {\n",
       "        vertical-align: middle;\n",
       "    }\n",
       "\n",
       "    .dataframe tbody tr th {\n",
       "        vertical-align: top;\n",
       "    }\n",
       "\n",
       "    .dataframe thead th {\n",
       "        text-align: right;\n",
       "    }\n",
       "</style>\n",
       "<table border=\"1\" class=\"dataframe\">\n",
       "  <thead>\n",
       "    <tr style=\"text-align: right;\">\n",
       "      <th></th>\n",
       "      <th>id</th>\n",
       "      <th>lon</th>\n",
       "      <th>lat</th>\n",
       "      <th>population_density</th>\n",
       "      <th>avg_restaurant_dist</th>\n",
       "      <th>avg_bar_dist</th>\n",
       "      <th>avg_school_dist</th>\n",
       "      <th>avg_toilets_dist</th>\n",
       "      <th>avg_college_dist</th>\n",
       "      <th>avg_hospital_dist</th>\n",
       "      <th>avg_user_selection</th>\n",
       "    </tr>\n",
       "  </thead>\n",
       "  <tbody>\n",
       "    <tr>\n",
       "      <th>0</th>\n",
       "      <td>55246</td>\n",
       "      <td>12.527917</td>\n",
       "      <td>55.695417</td>\n",
       "      <td>8509.044922</td>\n",
       "      <td>826.561404</td>\n",
       "      <td>920.052632</td>\n",
       "      <td>1000.000000</td>\n",
       "      <td>939.964912</td>\n",
       "      <td>1000.0</td>\n",
       "      <td>813.596491</td>\n",
       "      <td>895.526316</td>\n",
       "    </tr>\n",
       "    <tr>\n",
       "      <th>1</th>\n",
       "      <td>55247</td>\n",
       "      <td>12.536250</td>\n",
       "      <td>55.695417</td>\n",
       "      <td>11358.980469</td>\n",
       "      <td>535.344828</td>\n",
       "      <td>590.942529</td>\n",
       "      <td>904.540230</td>\n",
       "      <td>600.655172</td>\n",
       "      <td>1000.0</td>\n",
       "      <td>963.563218</td>\n",
       "      <td>575.647510</td>\n",
       "    </tr>\n",
       "    <tr>\n",
       "      <th>2</th>\n",
       "      <td>55248</td>\n",
       "      <td>12.544583</td>\n",
       "      <td>55.695417</td>\n",
       "      <td>12426.899414</td>\n",
       "      <td>181.544304</td>\n",
       "      <td>177.734177</td>\n",
       "      <td>496.367089</td>\n",
       "      <td>341.354430</td>\n",
       "      <td>1000.0</td>\n",
       "      <td>1000.000000</td>\n",
       "      <td>233.544304</td>\n",
       "    </tr>\n",
       "    <tr>\n",
       "      <th>3</th>\n",
       "      <td>55249</td>\n",
       "      <td>12.552917</td>\n",
       "      <td>55.695417</td>\n",
       "      <td>12974.911133</td>\n",
       "      <td>157.525773</td>\n",
       "      <td>225.360825</td>\n",
       "      <td>759.319588</td>\n",
       "      <td>401.371134</td>\n",
       "      <td>1000.0</td>\n",
       "      <td>1000.000000</td>\n",
       "      <td>261.419244</td>\n",
       "    </tr>\n",
       "    <tr>\n",
       "      <th>4</th>\n",
       "      <td>55250</td>\n",
       "      <td>12.561250</td>\n",
       "      <td>55.695417</td>\n",
       "      <td>9767.416016</td>\n",
       "      <td>222.821429</td>\n",
       "      <td>221.107143</td>\n",
       "      <td>991.223214</td>\n",
       "      <td>186.000000</td>\n",
       "      <td>1000.0</td>\n",
       "      <td>1000.000000</td>\n",
       "      <td>209.976190</td>\n",
       "    </tr>\n",
       "    <tr>\n",
       "      <th>...</th>\n",
       "      <td>...</td>\n",
       "      <td>...</td>\n",
       "      <td>...</td>\n",
       "      <td>...</td>\n",
       "      <td>...</td>\n",
       "      <td>...</td>\n",
       "      <td>...</td>\n",
       "      <td>...</td>\n",
       "      <td>...</td>\n",
       "      <td>...</td>\n",
       "      <td>...</td>\n",
       "    </tr>\n",
       "    <tr>\n",
       "      <th>127</th>\n",
       "      <td>59706</td>\n",
       "      <td>12.577917</td>\n",
       "      <td>55.603750</td>\n",
       "      <td>655.886902</td>\n",
       "      <td>1000.000000</td>\n",
       "      <td>1000.000000</td>\n",
       "      <td>1000.000000</td>\n",
       "      <td>1000.000000</td>\n",
       "      <td>1000.0</td>\n",
       "      <td>1000.000000</td>\n",
       "      <td>1000.000000</td>\n",
       "    </tr>\n",
       "    <tr>\n",
       "      <th>128</th>\n",
       "      <td>59707</td>\n",
       "      <td>12.586250</td>\n",
       "      <td>55.603750</td>\n",
       "      <td>928.264771</td>\n",
       "      <td>1000.000000</td>\n",
       "      <td>1000.000000</td>\n",
       "      <td>1000.000000</td>\n",
       "      <td>1000.000000</td>\n",
       "      <td>1000.0</td>\n",
       "      <td>1000.000000</td>\n",
       "      <td>1000.000000</td>\n",
       "    </tr>\n",
       "    <tr>\n",
       "      <th>129</th>\n",
       "      <td>59708</td>\n",
       "      <td>12.594583</td>\n",
       "      <td>55.603750</td>\n",
       "      <td>411.116058</td>\n",
       "      <td>1000.000000</td>\n",
       "      <td>1000.000000</td>\n",
       "      <td>1000.000000</td>\n",
       "      <td>1000.000000</td>\n",
       "      <td>1000.0</td>\n",
       "      <td>1000.000000</td>\n",
       "      <td>1000.000000</td>\n",
       "    </tr>\n",
       "    <tr>\n",
       "      <th>130</th>\n",
       "      <td>59709</td>\n",
       "      <td>12.602917</td>\n",
       "      <td>55.603750</td>\n",
       "      <td>192.624252</td>\n",
       "      <td>1000.000000</td>\n",
       "      <td>1000.000000</td>\n",
       "      <td>1000.000000</td>\n",
       "      <td>1000.000000</td>\n",
       "      <td>1000.0</td>\n",
       "      <td>1000.000000</td>\n",
       "      <td>1000.000000</td>\n",
       "    </tr>\n",
       "    <tr>\n",
       "      <th>131</th>\n",
       "      <td>59710</td>\n",
       "      <td>12.611250</td>\n",
       "      <td>55.603750</td>\n",
       "      <td>123.196556</td>\n",
       "      <td>1000.000000</td>\n",
       "      <td>1000.000000</td>\n",
       "      <td>1000.000000</td>\n",
       "      <td>1000.000000</td>\n",
       "      <td>1000.0</td>\n",
       "      <td>1000.000000</td>\n",
       "      <td>1000.000000</td>\n",
       "    </tr>\n",
       "  </tbody>\n",
       "</table>\n",
       "<p>132 rows × 11 columns</p>\n",
       "</div>"
      ],
      "text/plain": [
       "        id        lon        lat  population_density  avg_restaurant_dist  \\\n",
       "0    55246  12.527917  55.695417         8509.044922           826.561404   \n",
       "1    55247  12.536250  55.695417        11358.980469           535.344828   \n",
       "2    55248  12.544583  55.695417        12426.899414           181.544304   \n",
       "3    55249  12.552917  55.695417        12974.911133           157.525773   \n",
       "4    55250  12.561250  55.695417         9767.416016           222.821429   \n",
       "..     ...        ...        ...                 ...                  ...   \n",
       "127  59706  12.577917  55.603750          655.886902          1000.000000   \n",
       "128  59707  12.586250  55.603750          928.264771          1000.000000   \n",
       "129  59708  12.594583  55.603750          411.116058          1000.000000   \n",
       "130  59709  12.602917  55.603750          192.624252          1000.000000   \n",
       "131  59710  12.611250  55.603750          123.196556          1000.000000   \n",
       "\n",
       "     avg_bar_dist  avg_school_dist  avg_toilets_dist  avg_college_dist  \\\n",
       "0      920.052632      1000.000000        939.964912            1000.0   \n",
       "1      590.942529       904.540230        600.655172            1000.0   \n",
       "2      177.734177       496.367089        341.354430            1000.0   \n",
       "3      225.360825       759.319588        401.371134            1000.0   \n",
       "4      221.107143       991.223214        186.000000            1000.0   \n",
       "..            ...              ...               ...               ...   \n",
       "127   1000.000000      1000.000000       1000.000000            1000.0   \n",
       "128   1000.000000      1000.000000       1000.000000            1000.0   \n",
       "129   1000.000000      1000.000000       1000.000000            1000.0   \n",
       "130   1000.000000      1000.000000       1000.000000            1000.0   \n",
       "131   1000.000000      1000.000000       1000.000000            1000.0   \n",
       "\n",
       "     avg_hospital_dist  avg_user_selection  \n",
       "0           813.596491          895.526316  \n",
       "1           963.563218          575.647510  \n",
       "2          1000.000000          233.544304  \n",
       "3          1000.000000          261.419244  \n",
       "4          1000.000000          209.976190  \n",
       "..                 ...                 ...  \n",
       "127        1000.000000         1000.000000  \n",
       "128        1000.000000         1000.000000  \n",
       "129        1000.000000         1000.000000  \n",
       "130        1000.000000         1000.000000  \n",
       "131        1000.000000         1000.000000  \n",
       "\n",
       "[132 rows x 11 columns]"
      ]
     },
     "execution_count": 12,
     "metadata": {},
     "output_type": "execute_result"
    }
   ],
   "source": [
    "user_selected_amenities = [\"avg_restaurant_dist\", \"avg_bar_dist\", \"avg_toilets_dist\"]\n",
    "\n",
    "df[\"avg_user_selection\"] = (df[user_selected_amenities[0]] + df[user_selected_amenities[1]] + df[user_selected_amenities[2]])/len(user_selected_amenities)\n",
    "\n",
    "df"
   ]
  },
  {
   "cell_type": "code",
   "execution_count": 13,
   "metadata": {},
   "outputs": [
    {
     "data": {
      "text/html": [
       "<div>\n",
       "<style scoped>\n",
       "    .dataframe tbody tr th:only-of-type {\n",
       "        vertical-align: middle;\n",
       "    }\n",
       "\n",
       "    .dataframe tbody tr th {\n",
       "        vertical-align: top;\n",
       "    }\n",
       "\n",
       "    .dataframe thead th {\n",
       "        text-align: right;\n",
       "    }\n",
       "</style>\n",
       "<table border=\"1\" class=\"dataframe\">\n",
       "  <thead>\n",
       "    <tr style=\"text-align: right;\">\n",
       "      <th></th>\n",
       "      <th>population_density</th>\n",
       "      <th>avg_user_selection</th>\n",
       "    </tr>\n",
       "  </thead>\n",
       "  <tbody>\n",
       "    <tr>\n",
       "      <th>0</th>\n",
       "      <td>8509.044922</td>\n",
       "      <td>895.526316</td>\n",
       "    </tr>\n",
       "    <tr>\n",
       "      <th>1</th>\n",
       "      <td>11358.980469</td>\n",
       "      <td>575.647510</td>\n",
       "    </tr>\n",
       "    <tr>\n",
       "      <th>2</th>\n",
       "      <td>12426.899414</td>\n",
       "      <td>233.544304</td>\n",
       "    </tr>\n",
       "    <tr>\n",
       "      <th>3</th>\n",
       "      <td>12974.911133</td>\n",
       "      <td>261.419244</td>\n",
       "    </tr>\n",
       "    <tr>\n",
       "      <th>4</th>\n",
       "      <td>9767.416016</td>\n",
       "      <td>209.976190</td>\n",
       "    </tr>\n",
       "  </tbody>\n",
       "</table>\n",
       "</div>"
      ],
      "text/plain": [
       "   population_density  avg_user_selection\n",
       "0         8509.044922          895.526316\n",
       "1        11358.980469          575.647510\n",
       "2        12426.899414          233.544304\n",
       "3        12974.911133          261.419244\n",
       "4         9767.416016          209.976190"
      ]
     },
     "execution_count": 13,
     "metadata": {},
     "output_type": "execute_result"
    }
   ],
   "source": [
    "sample = df[[\"population_density\", \"avg_user_selection\"]]\n",
    "sample.head()"
   ]
  },
  {
   "cell_type": "code",
   "execution_count": 14,
   "metadata": {},
   "outputs": [],
   "source": [
    "sample = sample.fillna(1000)"
   ]
  },
  {
   "cell_type": "code",
   "execution_count": 15,
   "metadata": {},
   "outputs": [
    {
     "data": {
      "text/html": [
       "<div>\n",
       "<style scoped>\n",
       "    .dataframe tbody tr th:only-of-type {\n",
       "        vertical-align: middle;\n",
       "    }\n",
       "\n",
       "    .dataframe tbody tr th {\n",
       "        vertical-align: top;\n",
       "    }\n",
       "\n",
       "    .dataframe thead th {\n",
       "        text-align: right;\n",
       "    }\n",
       "</style>\n",
       "<table border=\"1\" class=\"dataframe\">\n",
       "  <thead>\n",
       "    <tr style=\"text-align: right;\">\n",
       "      <th></th>\n",
       "      <th>population_density</th>\n",
       "      <th>avg_user_selection</th>\n",
       "    </tr>\n",
       "  </thead>\n",
       "  <tbody>\n",
       "    <tr>\n",
       "      <th>0</th>\n",
       "      <td>0.642317</td>\n",
       "      <td>0.882342</td>\n",
       "    </tr>\n",
       "    <tr>\n",
       "      <th>1</th>\n",
       "      <td>0.858345</td>\n",
       "      <td>0.522096</td>\n",
       "    </tr>\n",
       "    <tr>\n",
       "      <th>2</th>\n",
       "      <td>0.939294</td>\n",
       "      <td>0.136821</td>\n",
       "    </tr>\n",
       "    <tr>\n",
       "      <th>3</th>\n",
       "      <td>0.980834</td>\n",
       "      <td>0.168214</td>\n",
       "    </tr>\n",
       "    <tr>\n",
       "      <th>4</th>\n",
       "      <td>0.737703</td>\n",
       "      <td>0.110279</td>\n",
       "    </tr>\n",
       "  </tbody>\n",
       "</table>\n",
       "</div>"
      ],
      "text/plain": [
       "   population_density  avg_user_selection\n",
       "0            0.642317            0.882342\n",
       "1            0.858345            0.522096\n",
       "2            0.939294            0.136821\n",
       "3            0.980834            0.168214\n",
       "4            0.737703            0.110279"
      ]
     },
     "execution_count": 15,
     "metadata": {},
     "output_type": "execute_result"
    }
   ],
   "source": [
    "# Scale(normalize) the data attributes between 0-1\n",
    "\n",
    "from sklearn import preprocessing\n",
    "import pandas as pd\n",
    "scaler = preprocessing.MinMaxScaler()\n",
    "names = sample.columns\n",
    "d = scaler.fit_transform(sample)\n",
    "scaled_df = pd.DataFrame(d, columns=names)\n",
    "scaled_df.head()"
   ]
  },
  {
   "cell_type": "code",
   "execution_count": 16,
   "metadata": {},
   "outputs": [
    {
     "data": {
      "image/png": "[encoded data removed]",
      "text/plain": [
       "<Figure size 432x288 with 1 Axes>"
      ]
     },
     "metadata": {
      "needs_background": "light"
     },
     "output_type": "display_data"
    }
   ],
   "source": [
    "# Color mapping method to check if scaling worked correctly. \n",
    "# It would be great to implement this color scheme on the map! \n",
    "\n",
    "import numpy as np\n",
    "import matplotlib.pyplot as plt \n",
    "# points = sample.to_numpy()\n",
    "points = scaled_df.to_numpy()\n",
    "\n",
    "R = (points[:,0] - points[:,0].min())/(points[:,0].max()-points[:,0].min())\n",
    "G = (points[:,1] - points[:,1].min())/(points[:,1].max()-points[:,1].min())\n",
    "B = np.zeros(R.shape)\n",
    "\n",
    "clrs = np.column_stack((R,G,B))\n",
    "\n",
    "plt.scatter(points[:,0],points[:,1],color=clrs)\n",
    "plt.show()"
   ]
  },
  {
   "cell_type": "code",
   "execution_count": 17,
   "metadata": {},
   "outputs": [],
   "source": [
    "# Adding scaled data rows in the original data frame \n",
    "\n",
    "df['scaled_pop'] = scaled_df['population_density']\n",
    "df['scaled_acc'] = scaled_df['avg_user_selection']"
   ]
  },
  {
   "cell_type": "code",
   "execution_count": 18,
   "metadata": {},
   "outputs": [
    {
     "data": {
      "text/html": [
       "<div>\n",
       "<style scoped>\n",
       "    .dataframe tbody tr th:only-of-type {\n",
       "        vertical-align: middle;\n",
       "    }\n",
       "\n",
       "    .dataframe tbody tr th {\n",
       "        vertical-align: top;\n",
       "    }\n",
       "\n",
       "    .dataframe thead th {\n",
       "        text-align: right;\n",
       "    }\n",
       "</style>\n",
       "<table border=\"1\" class=\"dataframe\">\n",
       "  <thead>\n",
       "    <tr style=\"text-align: right;\">\n",
       "      <th></th>\n",
       "      <th>id</th>\n",
       "      <th>lon</th>\n",
       "      <th>lat</th>\n",
       "      <th>population_density</th>\n",
       "      <th>avg_restaurant_dist</th>\n",
       "      <th>avg_bar_dist</th>\n",
       "      <th>avg_school_dist</th>\n",
       "      <th>avg_toilets_dist</th>\n",
       "      <th>avg_college_dist</th>\n",
       "      <th>avg_hospital_dist</th>\n",
       "      <th>avg_user_selection</th>\n",
       "      <th>scaled_pop</th>\n",
       "      <th>scaled_acc</th>\n",
       "      <th>quadrant</th>\n",
       "    </tr>\n",
       "  </thead>\n",
       "  <tbody>\n",
       "    <tr>\n",
       "      <th>0</th>\n",
       "      <td>55246</td>\n",
       "      <td>12.527917</td>\n",
       "      <td>55.695417</td>\n",
       "      <td>8509.044922</td>\n",
       "      <td>826.561404</td>\n",
       "      <td>920.052632</td>\n",
       "      <td>1000.000000</td>\n",
       "      <td>939.964912</td>\n",
       "      <td>1000.0</td>\n",
       "      <td>813.596491</td>\n",
       "      <td>895.526316</td>\n",
       "      <td>0.642317</td>\n",
       "      <td>0.882342</td>\n",
       "      <td>1</td>\n",
       "    </tr>\n",
       "    <tr>\n",
       "      <th>1</th>\n",
       "      <td>55247</td>\n",
       "      <td>12.536250</td>\n",
       "      <td>55.695417</td>\n",
       "      <td>11358.980469</td>\n",
       "      <td>535.344828</td>\n",
       "      <td>590.942529</td>\n",
       "      <td>904.540230</td>\n",
       "      <td>600.655172</td>\n",
       "      <td>1000.0</td>\n",
       "      <td>963.563218</td>\n",
       "      <td>575.647510</td>\n",
       "      <td>0.858345</td>\n",
       "      <td>0.522096</td>\n",
       "      <td>1</td>\n",
       "    </tr>\n",
       "    <tr>\n",
       "      <th>2</th>\n",
       "      <td>55248</td>\n",
       "      <td>12.544583</td>\n",
       "      <td>55.695417</td>\n",
       "      <td>12426.899414</td>\n",
       "      <td>181.544304</td>\n",
       "      <td>177.734177</td>\n",
       "      <td>496.367089</td>\n",
       "      <td>341.354430</td>\n",
       "      <td>1000.0</td>\n",
       "      <td>1000.000000</td>\n",
       "      <td>233.544304</td>\n",
       "      <td>0.939294</td>\n",
       "      <td>0.136821</td>\n",
       "      <td>4</td>\n",
       "    </tr>\n",
       "    <tr>\n",
       "      <th>3</th>\n",
       "      <td>55249</td>\n",
       "      <td>12.552917</td>\n",
       "      <td>55.695417</td>\n",
       "      <td>12974.911133</td>\n",
       "      <td>157.525773</td>\n",
       "      <td>225.360825</td>\n",
       "      <td>759.319588</td>\n",
       "      <td>401.371134</td>\n",
       "      <td>1000.0</td>\n",
       "      <td>1000.000000</td>\n",
       "      <td>261.419244</td>\n",
       "      <td>0.980834</td>\n",
       "      <td>0.168214</td>\n",
       "      <td>4</td>\n",
       "    </tr>\n",
       "    <tr>\n",
       "      <th>4</th>\n",
       "      <td>55250</td>\n",
       "      <td>12.561250</td>\n",
       "      <td>55.695417</td>\n",
       "      <td>9767.416016</td>\n",
       "      <td>222.821429</td>\n",
       "      <td>221.107143</td>\n",
       "      <td>991.223214</td>\n",
       "      <td>186.000000</td>\n",
       "      <td>1000.0</td>\n",
       "      <td>1000.000000</td>\n",
       "      <td>209.976190</td>\n",
       "      <td>0.737703</td>\n",
       "      <td>0.110279</td>\n",
       "      <td>4</td>\n",
       "    </tr>\n",
       "  </tbody>\n",
       "</table>\n",
       "</div>"
      ],
      "text/plain": [
       "      id        lon        lat  population_density  avg_restaurant_dist  \\\n",
       "0  55246  12.527917  55.695417         8509.044922           826.561404   \n",
       "1  55247  12.536250  55.695417        11358.980469           535.344828   \n",
       "2  55248  12.544583  55.695417        12426.899414           181.544304   \n",
       "3  55249  12.552917  55.695417        12974.911133           157.525773   \n",
       "4  55250  12.561250  55.695417         9767.416016           222.821429   \n",
       "\n",
       "   avg_bar_dist  avg_school_dist  avg_toilets_dist  avg_college_dist  \\\n",
       "0    920.052632      1000.000000        939.964912            1000.0   \n",
       "1    590.942529       904.540230        600.655172            1000.0   \n",
       "2    177.734177       496.367089        341.354430            1000.0   \n",
       "3    225.360825       759.319588        401.371134            1000.0   \n",
       "4    221.107143       991.223214        186.000000            1000.0   \n",
       "\n",
       "   avg_hospital_dist  avg_user_selection  scaled_pop  scaled_acc quadrant  \n",
       "0         813.596491          895.526316    0.642317    0.882342        1  \n",
       "1         963.563218          575.647510    0.858345    0.522096        1  \n",
       "2        1000.000000          233.544304    0.939294    0.136821        4  \n",
       "3        1000.000000          261.419244    0.980834    0.168214        4  \n",
       "4        1000.000000          209.976190    0.737703    0.110279        4  "
      ]
     },
     "execution_count": 18,
     "metadata": {},
     "output_type": "execute_result"
    }
   ],
   "source": [
    "# Manually dividing quadrant, put the result in a seperate row\n",
    "# ...there should be better way to do this \n",
    "\n",
    "df.loc[(df['scaled_pop'] > 0.5) & (df['scaled_acc'] > 0.5), 'quadrant'] = '1' \n",
    "df.loc[(df['scaled_pop'] <= 0.5) & (df['scaled_acc'] > 0.5), 'quadrant'] = '2' \n",
    "df.loc[(df['scaled_pop'] <= 0.5) & (df['scaled_acc'] <= 0.5), 'quadrant'] = '3' \n",
    "df.loc[(df['scaled_pop'] > 0.5) & (df['scaled_acc'] <= 0.5), 'quadrant'] = '4' \n",
    "\n",
    "df.head()"
   ]
  },
  {
   "cell_type": "code",
   "execution_count": 21,
   "metadata": {},
   "outputs": [
    {
     "data": {
      "application/vnd.plotly.v1+json": {
       "config": {
        "plotlyServerURL": "https://plot.ly"
       },
       "data": [
        {
         "customdata": [
          [
           8509.044921875,
           826.561403508772,
           920.0526315789474,
           939.9649122807018
          ],
          [
           11358.98046875,
           535.3448275862069,
           590.9425287356322,
           600.6551724137931
          ]
         ],
         "hovertemplate": "quadrant=1<br>population_density=%{customdata[0]}<br>lat=%{lat}<br>lon=%{lon}<br>avg_restaurant_dist=%{customdata[1]}<br>avg_bar_dist=%{customdata[2]}<br>avg_toilets_dist=%{customdata[3]}<extra></extra>",
         "lat": [
          55.69541662603848,
          55.69541662603848
         ],
         "legendgroup": "1",
         "lon": [
          12.527916617447245,
          12.53624995074724
         ],
         "marker": {
          "color": "#636efa",
          "size": [
           8509.044921875,
           11358.98046875
          ],
          "sizemode": "area",
          "sizeref": 33.06939453125
         },
         "mode": "markers",
         "name": "1",
         "showlegend": true,
         "subplot": "mapbox",
         "type": "scattermapbox"
        },
        {
         "customdata": [
          [
           12426.8994140625,
           181.5443037974684,
           177.73417721518987,
           341.3544303797468
          ],
          [
           12974.9111328125,
           157.5257731958763,
           225.36082474226805,
           401.37113402061857
          ],
          [
           9767.416015625,
           222.82142857142856,
           221.1071428571429,
           186
          ],
          [
           8422.69921875,
           309.5833333333333,
           644.0833333333334,
           192.15833333333333
          ],
          [
           8635.875,
           311.61290322580646,
           827.7870967741935,
           275.8838709677419
          ],
          [
           7157.70458984375,
           290.7878048780488,
           438.0609756097561,
           461.98536585365855
          ],
          [
           11117.03125,
           182.77167630057804,
           264.1040462427746,
           567.806358381503
          ],
          [
           10938.3203125,
           209.864406779661,
           182.8771186440678,
           522.5805084745763
          ],
          [
           8523.8779296875,
           147.3593220338983,
           162.2135593220339,
           297.43050847457624
          ],
          [
           7591.88916015625,
           157.27528089887642,
           190.56179775280896,
           415.685393258427
          ],
          [
           6790.109375,
           166.13513513513513,
           310.52252252252254,
           425.6621621621622
          ],
          [
           9771.0341796875,
           181.37529137529137,
           181.08158508158508,
           233.997668997669
          ],
          [
           10264.796875,
           265.5704387990762,
           277.7921478060046,
           461.7921478060046
          ],
          [
           6821.009765625,
           132.80601092896174,
           241.37431693989072,
           655.3251366120219
          ],
          [
           13227.7578125,
           143.14150943396226,
           203.18553459119497,
           496.9937106918239
          ],
          [
           13222.109375,
           84.26136363636364,
           85.52272727272727,
           262.2537878787879
          ],
          [
           8520.26171875,
           457.8785942492013,
           346.9073482428115,
           628.8785942492012
          ],
          [
           8382.80078125,
           343.85128205128206,
           243.43589743589743,
           584.0358974358975
          ],
          [
           9661.013671875,
           254.6626139817629,
           149.3404255319149,
           511.8753799392097
          ],
          [
           8618.115234375,
           321.50331125827813,
           166.59602649006624,
           368.9072847682119
          ],
          [
           6884.72705078125,
           258.2134146341463,
           303.2012195121951,
           398.859756097561
          ]
         ],
         "hovertemplate": "quadrant=4<br>population_density=%{customdata[0]}<br>lat=%{lat}<br>lon=%{lon}<br>avg_restaurant_dist=%{customdata[1]}<br>avg_bar_dist=%{customdata[2]}<br>avg_toilets_dist=%{customdata[3]}<extra></extra>",
         "lat": [
          55.69541662603848,
          55.69541662603848,
          55.69541662603848,
          55.69541662603848,
          55.69541662603848,
          55.68708329273848,
          55.68708329273848,
          55.68708329273848,
          55.68708329273848,
          55.68708329273848,
          55.68708329273848,
          55.67874995943848,
          55.67874995943848,
          55.67874995943848,
          55.67041662613848,
          55.67041662613848,
          55.66208329283848,
          55.66208329283848,
          55.66208329283848,
          55.66208329283848,
          55.65374995953848
         ],
         "legendgroup": "4",
         "lon": [
          12.544583284047242,
          12.552916617347242,
          12.56124995064724,
          12.577916617247242,
          12.58624995054724,
          12.527916617447245,
          12.53624995074724,
          12.544583284047242,
          12.552916617347242,
          12.56124995064724,
          12.58624995054724,
          12.53624995074724,
          12.544583284047242,
          12.552916617347242,
          12.544583284047242,
          12.552916617347242,
          12.58624995054724,
          12.594583283847244,
          12.602916617147242,
          12.611249950447242,
          12.611249950447242
         ],
         "marker": {
          "color": "#EF553B",
          "size": [
           12426.8994140625,
           12974.9111328125,
           9767.416015625,
           8422.69921875,
           8635.875,
           7157.70458984375,
           11117.03125,
           10938.3203125,
           8523.8779296875,
           7591.88916015625,
           6790.109375,
           9771.0341796875,
           10264.796875,
           6821.009765625,
           13227.7578125,
           13222.109375,
           8520.26171875,
           8382.80078125,
           9661.013671875,
           8618.115234375,
           6884.72705078125
          ],
          "sizemode": "area",
          "sizeref": 33.06939453125
         },
         "mode": "markers",
         "name": "4",
         "showlegend": true,
         "subplot": "mapbox",
         "type": "scattermapbox"
        },
        {
         "customdata": [
          [
           6038.10302734375,
           125.03478260869564,
           400.2,
           482.1304347826087
          ],
          [
           182.8451232910156,
           323.2352941176471,
           1000,
           144.2058823529412
          ],
          [
           723.6754150390625,
           225,
           178.73076923076923,
           192
          ],
          [
           6156.22998046875,
           204.7459283387622,
           171.2214983713355,
           252.64169381107493
          ],
          [
           3479.35595703125,
           236.46129032258065,
           389.7258064516129,
           228.18064516129036
          ],
          [
           2070.75341796875,
           201.83116883116884,
           618.7878787878788,
           268.987012987013
          ],
          [
           5714.77587890625,
           174.0859872611465,
           212.47770700636943,
           234.4140127388535
          ],
          [
           2869.0830078125,
           99.32806324110672,
           150.59288537549406,
           441.7351778656126
          ],
          [
           3166.744140625,
           91.23076923076924,
           121.42153846153846,
           216.38153846153847
          ],
          [
           3530.028076171875,
           67.18032786885246,
           104.75081967213114,
           164.2327868852459
          ],
          [
           3688.186767578125,
           99.87676056338027,
           138.0211267605634,
           208.9683098591549
          ],
          [
           1511.360595703125,
           66.22784810126582,
           150.27426160337552,
           220.46413502109704
          ],
          [
           1164.57421875,
           315.1775700934579,
           458.4766355140187,
           521.0498442367601
          ],
          [
           1732.111572265625,
           174.02654867256638,
           323.8185840707965,
           266.37168141592923
          ],
          [
           6562.04638671875,
           241.40683229813664,
           253.19875776397515,
           392.444099378882
          ],
          [
           4104.78759765625,
           70.51090342679127,
           102.60747663551402,
           187.55140186915887
          ],
          [
           2453.778564453125,
           148.96253602305475,
           128.5475504322767,
           227.72622478386168
          ],
          [
           3456.030517578125,
           140.34739454094293,
           289.5533498759305,
           313.53846153846155
          ],
          [
           6053.97900390625,
           225.8237288135593,
           370.9728813559322,
           415.4915254237288
          ],
          [
           4575.705078125,
           127.26315789473684,
           232.69005847953213,
           312.5263157894737
          ],
          [
           1530.306396484375,
           317.39935064935065,
           330.15909090909093,
           525.5227272727273
          ],
          [
           1485.899658203125,
           269.09322033898303,
           350.56779661016947,
           872.2542372881356
          ],
          [
           5063.4208984375,
           286.1966292134832,
           170.42134831460675,
           483.5337078651685
          ],
          [
           1867.2786865234373,
           243.78339350180505,
           543.1263537906137,
           584.0541516245487
          ],
          [
           3800.131103515625,
           308.5763358778626,
           770,
           563.6106870229007
          ],
          [
           6365.18408203125,
           233.11764705882356,
           465.55555555555554,
           364.8169934640523
          ],
          [
           3588.1904296875,
           351.15765765765764,
           337.1981981981982,
           978.6711711711712
          ],
          [
           4199.36962890625,
           511.73413897280966,
           439.74018126888217,
           412.5105740181269
          ],
          [
           4681.4755859375,
           406.8348623853211,
           532.5779816513761,
           371.05045871559633
          ],
          [
           422.76800537109375,
           364.6666666666667,
           391.4,
           902.8888888888888
          ],
          [
           1834.9425048828125,
           256.14102564102564,
           361.4358974358975,
           597.508547008547
          ],
          [
           3013.868896484375,
           441.3648068669528,
           577.4635193133047,
           365.5321888412017
          ]
         ],
         "hovertemplate": "quadrant=3<br>population_density=%{customdata[0]}<br>lat=%{lat}<br>lon=%{lon}<br>avg_restaurant_dist=%{customdata[1]}<br>avg_bar_dist=%{customdata[2]}<br>avg_toilets_dist=%{customdata[3]}<extra></extra>",
         "lat": [
          55.69541662603848,
          55.69541662603848,
          55.69541662603848,
          55.68708329273848,
          55.68708329273848,
          55.68708329273848,
          55.67874995943848,
          55.67874995943848,
          55.67874995943848,
          55.67874995943848,
          55.67874995943848,
          55.67874995943848,
          55.67874995943848,
          55.67041662613848,
          55.67041662613848,
          55.67041662613848,
          55.67041662613848,
          55.67041662613848,
          55.67041662613848,
          55.67041662613848,
          55.67041662613848,
          55.67041662613848,
          55.66208329283848,
          55.66208329283848,
          55.66208329283848,
          55.66208329283848,
          55.65374995953848,
          55.65374995953848,
          55.65374995953848,
          55.63708329293848,
          55.63708329293848,
          55.63708329293848
         ],
         "legendgroup": "3",
         "lon": [
          12.569583283947242,
          12.602916617147242,
          12.611249950447242,
          12.569583283947242,
          12.577916617247242,
          12.594583283847244,
          12.527916617447245,
          12.56124995064724,
          12.569583283947242,
          12.577916617247242,
          12.58624995054724,
          12.594583283847244,
          12.602916617147242,
          12.527916617447245,
          12.53624995074724,
          12.56124995064724,
          12.569583283947242,
          12.577916617247242,
          12.58624995054724,
          12.594583283847244,
          12.602916617147242,
          12.611249950447242,
          12.544583284047242,
          12.56124995064724,
          12.569583283947242,
          12.577916617247242,
          12.53624995074724,
          12.594583283847244,
          12.602916617147242,
          12.569583283947242,
          12.577916617247242,
          12.58624995054724
         ],
         "marker": {
          "color": "#00cc96",
          "size": [
           6038.10302734375,
           182.8451232910156,
           723.6754150390625,
           6156.22998046875,
           3479.35595703125,
           2070.75341796875,
           5714.77587890625,
           2869.0830078125,
           3166.744140625,
           3530.028076171875,
           3688.186767578125,
           1511.360595703125,
           1164.57421875,
           1732.111572265625,
           6562.04638671875,
           4104.78759765625,
           2453.778564453125,
           3456.030517578125,
           6053.97900390625,
           4575.705078125,
           1530.306396484375,
           1485.899658203125,
           5063.4208984375,
           1867.2786865234373,
           3800.131103515625,
           6365.18408203125,
           3588.1904296875,
           4199.36962890625,
           4681.4755859375,
           422.76800537109375,
           1834.9425048828125,
           3013.868896484375
          ],
          "sizemode": "area",
          "sizeref": 33.06939453125
         },
         "mode": "markers",
         "name": "3",
         "showlegend": true,
         "subplot": "mapbox",
         "type": "scattermapbox"
        },
        {
         "customdata": [
          [
           2288.375732421875,
           556.8666666666667,
           979.0266666666666,
           321.37333333333333
          ],
          [
           376.8615417480469,
           330.141592920354,
           948.7699115044248,
           425.46902654867256
          ],
          [
           888.4359741210938,
           364.6167664670659,
           815.6586826347306,
           717.1437125748503
          ],
          [
           528.3597412109375,
           615,
           914.6438356164384,
           807.6712328767123
          ],
          [
           2193.057861328125,
           814.9840425531914,
           522.0478723404256,
           790.5
          ],
          [
           3209.3037109375,
           724.4917582417582,
           489.8681318681319,
           685.2802197802198
          ],
          [
           4237.4541015625,
           508.7307692307692,
           458.6025641025641,
           725.4871794871794
          ],
          [
           2558.42822265625,
           927.9019607843136,
           733.0245098039215,
           1000
          ],
          [
           3915.948974609375,
           466.7800829875519,
           449.38589211618256,
           960.7344398340248
          ],
          [
           2503.3251953125,
           568.0689655172414,
           538.2319749216301,
           960.9561128526644
          ],
          [
           1302.745849609375,
           675.7363636363636,
           906.2818181818182,
           1000
          ],
          [
           2081.22119140625,
           553.7540983606557,
           1000,
           998.672131147541
          ],
          [
           188.5145263671875,
           955.0714285714286,
           950.9285714285714,
           1000
          ],
          [
           1381.4981689453125,
           497.4166666666667,
           319.4423076923077,
           877.7051282051282
          ],
          [
           3050.063720703125,
           954.2616279069769,
           763.1802325581396,
           807.3546511627907
          ],
          [
           4172.16552734375,
           676.3352272727273,
           478.35795454545456,
           998.193181818182
          ],
          [
           2936.73779296875,
           337.5,
           674.795,
           771.095
          ],
          [
           1389.8812255859375,
           345.35185185185185,
           999.0714285714286,
           404.6746031746032
          ],
          [
           601.6731567382812,
           1000,
           1000,
           931.2840909090908
          ],
          [
           316.4658203125,
           1000,
           1000,
           998.1538461538462
          ],
          [
           348.10894775390625,
           740.9032258064516,
           740.9032258064516,
           873.1935483870968
          ],
          [
           1811.1142578125,
           963.5089285714286,
           847.4017857142857,
           644.625
          ],
          [
           3054.178466796875,
           965.1714285714286,
           924.4642857142856,
           407.4357142857143
          ],
          [
           2347.386474609375,
           795.2608695652174,
           947.072463768116,
           662.3985507246376
          ],
          [
           3481.22509765625,
           545.9478260869565,
           944.4434782608696,
           573.6130434782609
          ],
          [
           529.59228515625,
           977.08,
           1000,
           940.32
          ],
          [
           941.8035888671876,
           608.1666666666666,
           1000,
           1000
          ],
          [
           872.8312377929688,
           398.10526315789474,
           1000,
           987.0263157894736
          ],
          [
           667.3911743164062,
           860.7307692307693,
           1000,
           825.7692307692307
          ],
          [
           200.9263916015625,
           896.6875,
           896.6875,
           1000
          ],
          [
           2184.774169921875,
           774.8478260869565,
           709.6521739130435,
           789.7173913043479
          ],
          [
           1842.617431640625,
           917.5860215053764,
           366.5860215053763,
           982.4032258064516
          ],
          [
           2123.94580078125,
           996.5021097046414,
           777.4050632911392,
           999.8101265822784
          ],
          [
           159.16534423828125,
           1000,
           1000,
           1000
          ],
          [
           528.700927734375,
           1000,
           1000,
           1000
          ],
          [
           421.9629211425781,
           1000,
           1000,
           871
          ],
          [
           285.25994873046875,
           null,
           null,
           null
          ],
          [
           244.5179443359375,
           955.7142857142856,
           999.8571428571428,
           1000
          ],
          [
           902.189208984375,
           674.2363636363636,
           376.6454545454545,
           1000
          ],
          [
           2549.021240234375,
           274.70539419087135,
           529.7510373443984,
           958.2406639004148
          ],
          [
           3041.896484375,
           599.375939849624,
           585.375939849624,
           695.7142857142857
          ],
          [
           985.7077026367188,
           740.4,
           683.0090909090909,
           596.5545454545454
          ],
          [
           819.7108764648438,
           340.71343283582087,
           392.7641791044776,
           976.1880597014924
          ],
          [
           661.4312133789062,
           629.5289855072464,
           753.4710144927536,
           1000
          ],
          [
           460.2005615234375,
           1000,
           1000,
           895.3461538461538
          ],
          [
           152.26686096191406,
           1000,
           1000,
           107.66666666666669
          ],
          [
           92.96446228027344,
           null,
           null,
           null
          ],
          [
           96.92726135253906,
           1000,
           1000,
           920
          ],
          [
           211.6236114501953,
           1000,
           951.2857142857144,
           1000
          ],
          [
           509.6600646972656,
           988.9325153374232,
           627.2576687116565,
           1000
          ],
          [
           1339.9697265625,
           937.344537815126,
           666.2016806722689,
           999.1764705882352
          ],
          [
           1847.0802001953125,
           997.1374045801526,
           1000,
           951.587786259542
          ],
          [
           1348.003173828125,
           879.936170212766,
           999.191489361702,
           922.7446808510638
          ],
          [
           1445.69482421875,
           601.3125,
           966.85,
           1000
          ],
          [
           490.6397399902344,
           876.2213740458016,
           999.9160305343512,
           1000
          ],
          [
           64.64034271240234,
           1000,
           1000,
           1000
          ],
          [
           44.12084579467773,
           1000,
           1000,
           1000
          ],
          [
           41.65827560424805,
           1000,
           1000,
           947
          ],
          [
           47.52221298217773,
           1000,
           1000,
           1000
          ],
          [
           72.51296997070312,
           1000,
           1000,
           1000
          ],
          [
           144.95750427246094,
           1000,
           1000,
           1000
          ],
          [
           561.067626953125,
           1000,
           1000,
           1000
          ],
          [
           1159.6585693359375,
           1000,
           1000,
           1000
          ],
          [
           802.7286987304688,
           1000,
           1000,
           1000
          ],
          [
           701.9442138671875,
           1000,
           1000,
           1000
          ],
          [
           560.9107666015625,
           1000,
           1000,
           1000
          ],
          [
           46.72726821899414,
           null,
           null,
           null
          ],
          [
           35.298919677734375,
           null,
           null,
           null
          ],
          [
           38.90097427368164,
           null,
           null,
           null
          ],
          [
           60.2628288269043,
           null,
           null,
           null
          ],
          [
           44.94264221191406,
           null,
           null,
           null
          ],
          [
           117.92335510253906,
           null,
           null,
           null
          ],
          [
           655.8869018554688,
           1000,
           1000,
           1000
          ],
          [
           928.2647705078124,
           1000,
           1000,
           1000
          ],
          [
           411.1160583496094,
           1000,
           1000,
           1000
          ],
          [
           192.62425231933597,
           1000,
           1000,
           1000
          ],
          [
           123.1965560913086,
           1000,
           1000,
           1000
          ]
         ],
         "hovertemplate": "quadrant=2<br>population_density=%{customdata[0]}<br>lat=%{lat}<br>lon=%{lon}<br>avg_restaurant_dist=%{customdata[1]}<br>avg_bar_dist=%{customdata[2]}<br>avg_toilets_dist=%{customdata[3]}<extra></extra>",
         "lat": [
          55.69541662603848,
          55.68708329273848,
          55.68708329273848,
          55.67874995943848,
          55.66208329283848,
          55.66208329283848,
          55.66208329283848,
          55.65374995953848,
          55.65374995953848,
          55.65374995953848,
          55.65374995953848,
          55.65374995953848,
          55.65374995953848,
          55.65374995953848,
          55.64541662623848,
          55.64541662623848,
          55.64541662623848,
          55.64541662623848,
          55.64541662623848,
          55.64541662623848,
          55.64541662623848,
          55.64541662623848,
          55.64541662623848,
          55.64541662623848,
          55.64541662623848,
          55.63708329293848,
          55.63708329293848,
          55.63708329293848,
          55.63708329293848,
          55.63708329293848,
          55.63708329293848,
          55.63708329293848,
          55.63708329293848,
          55.62874995963848,
          55.62874995963848,
          55.62874995963848,
          55.62874995963848,
          55.62874995963848,
          55.62874995963848,
          55.62874995963848,
          55.62874995963848,
          55.62874995963848,
          55.62874995963848,
          55.62874995963848,
          55.62041662633848,
          55.62041662633848,
          55.62041662633848,
          55.62041662633848,
          55.62041662633848,
          55.62041662633848,
          55.62041662633848,
          55.62041662633848,
          55.62041662633848,
          55.62041662633848,
          55.62041662633848,
          55.61208329303848,
          55.61208329303848,
          55.61208329303848,
          55.61208329303848,
          55.61208329303848,
          55.61208329303848,
          55.61208329303848,
          55.61208329303848,
          55.61208329303848,
          55.61208329303848,
          55.61208329303848,
          55.60374995973848,
          55.60374995973848,
          55.60374995973848,
          55.60374995973848,
          55.60374995973848,
          55.60374995973848,
          55.60374995973848,
          55.60374995973848,
          55.60374995973848,
          55.60374995973848,
          55.60374995973848
         ],
         "legendgroup": "2",
         "lon": [
          12.594583283847244,
          12.602916617147242,
          12.611249950447242,
          12.611249950447242,
          12.527916617447245,
          12.53624995074724,
          12.552916617347242,
          12.527916617447245,
          12.544583284047242,
          12.552916617347242,
          12.56124995064724,
          12.569583283947242,
          12.577916617247242,
          12.58624995054724,
          12.527916617447245,
          12.53624995074724,
          12.544583284047242,
          12.552916617347242,
          12.56124995064724,
          12.569583283947242,
          12.577916617247242,
          12.58624995054724,
          12.594583283847244,
          12.602916617147242,
          12.611249950447242,
          12.527916617447245,
          12.53624995074724,
          12.544583284047242,
          12.552916617347242,
          12.56124995064724,
          12.594583283847244,
          12.602916617147242,
          12.611249950447242,
          12.527916617447245,
          12.53624995074724,
          12.544583284047242,
          12.552916617347242,
          12.56124995064724,
          12.569583283947242,
          12.577916617247242,
          12.58624995054724,
          12.594583283847244,
          12.602916617147242,
          12.611249950447242,
          12.527916617447245,
          12.53624995074724,
          12.544583284047242,
          12.552916617347242,
          12.56124995064724,
          12.569583283947242,
          12.577916617247242,
          12.58624995054724,
          12.594583283847244,
          12.602916617147242,
          12.611249950447242,
          12.527916617447245,
          12.53624995074724,
          12.544583284047242,
          12.552916617347242,
          12.56124995064724,
          12.569583283947242,
          12.577916617247242,
          12.58624995054724,
          12.594583283847244,
          12.602916617147242,
          12.611249950447242,
          12.527916617447245,
          12.53624995074724,
          12.544583284047242,
          12.552916617347242,
          12.56124995064724,
          12.569583283947242,
          12.577916617247242,
          12.58624995054724,
          12.594583283847244,
          12.602916617147242,
          12.611249950447242
         ],
         "marker": {
          "color": "#ab63fa",
          "size": [
           2288.375732421875,
           376.8615417480469,
           888.4359741210938,
           528.3597412109375,
           2193.057861328125,
           3209.3037109375,
           4237.4541015625,
           2558.42822265625,
           3915.948974609375,
           2503.3251953125,
           1302.745849609375,
           2081.22119140625,
           188.5145263671875,
           1381.4981689453125,
           3050.063720703125,
           4172.16552734375,
           2936.73779296875,
           1389.8812255859375,
           601.6731567382812,
           316.4658203125,
           348.10894775390625,
           1811.1142578125,
           3054.178466796875,
           2347.386474609375,
           3481.22509765625,
           529.59228515625,
           941.8035888671876,
           872.8312377929688,
           667.3911743164062,
           200.9263916015625,
           2184.774169921875,
           1842.617431640625,
           2123.94580078125,
           159.16534423828125,
           528.700927734375,
           421.9629211425781,
           285.25994873046875,
           244.5179443359375,
           902.189208984375,
           2549.021240234375,
           3041.896484375,
           985.7077026367188,
           819.7108764648438,
           661.4312133789062,
           460.2005615234375,
           152.26686096191406,
           92.96446228027344,
           96.92726135253906,
           211.6236114501953,
           509.6600646972656,
           1339.9697265625,
           1847.0802001953125,
           1348.003173828125,
           1445.69482421875,
           490.6397399902344,
           64.64034271240234,
           44.12084579467773,
           41.65827560424805,
           47.52221298217773,
           72.51296997070312,
           144.95750427246094,
           561.067626953125,
           1159.6585693359375,
           802.7286987304688,
           701.9442138671875,
           560.9107666015625,
           46.72726821899414,
           35.298919677734375,
           38.90097427368164,
           60.2628288269043,
           44.94264221191406,
           117.92335510253906,
           655.8869018554688,
           928.2647705078124,
           411.1160583496094,
           192.62425231933597,
           123.1965560913086
          ],
          "sizemode": "area",
          "sizeref": 33.06939453125
         },
         "mode": "markers",
         "name": "2",
         "showlegend": true,
         "subplot": "mapbox",
         "type": "scattermapbox"
        }
       ],
       "layout": {
        "legend": {
         "itemsizing": "constant",
         "title": {
          "text": "quadrant"
         },
         "tracegroupgap": 0
        },
        "mapbox": {
         "accesstoken": "pk.eyJ1IjoiZ29vZGdhbWUiLCJhIjoiY2t0YTF4bDUwMWhsMzJ1cWx0NDN2NjNxMyJ9.3yNf5kOkcxOvnjxJuXRlYg",
         "center": {
          "lat": 55.649583292888465,
          "lon": 12.569583283947235
         },
         "domain": {
          "x": [
           0,
           1
          ],
          "y": [
           0,
           1
          ]
         },
         "style": "outdoors",
         "zoom": 8
        },
        "margin": {
         "t": 60
        },
        "template": {
         "data": {
          "bar": [
           {
            "error_x": {
             "color": "#2a3f5f"
            },
            "error_y": {
             "color": "#2a3f5f"
            },
            "marker": {
             "line": {
              "color": "#E5ECF6",
              "width": 0.5
             },
             "pattern": {
              "fillmode": "overlay",
              "size": 10,
              "solidity": 0.2
             }
            },
            "type": "bar"
           }
          ],
          "barpolar": [
           {
            "marker": {
             "line": {
              "color": "#E5ECF6",
              "width": 0.5
             },
             "pattern": {
              "fillmode": "overlay",
              "size": 10,
              "solidity": 0.2
             }
            },
            "type": "barpolar"
           }
          ],
          "carpet": [
           {
            "aaxis": {
             "endlinecolor": "#2a3f5f",
             "gridcolor": "white",
             "linecolor": "white",
             "minorgridcolor": "white",
             "startlinecolor": "#2a3f5f"
            },
            "baxis": {
             "endlinecolor": "#2a3f5f",
             "gridcolor": "white",
             "linecolor": "white",
             "minorgridcolor": "white",
             "startlinecolor": "#2a3f5f"
            },
            "type": "carpet"
           }
          ],
          "choropleth": [
           {
            "colorbar": {
             "outlinewidth": 0,
             "ticks": ""
            },
            "type": "choropleth"
           }
          ],
          "contour": [
           {
            "colorbar": {
             "outlinewidth": 0,
             "ticks": ""
            },
            "colorscale": [
             [
              0,
              "#0d0887"
             ],
             [
              0.1111111111111111,
              "#46039f"
             ],
             [
              0.2222222222222222,
              "#7201a8"
             ],
             [
              0.3333333333333333,
              "#9c179e"
             ],
             [
              0.4444444444444444,
              "#bd3786"
             ],
             [
              0.5555555555555556,
              "#d8576b"
             ],
             [
              0.6666666666666666,
              "#ed7953"
             ],
             [
              0.7777777777777778,
              "#fb9f3a"
             ],
             [
              0.8888888888888888,
              "#fdca26"
             ],
             [
              1,
              "#f0f921"
             ]
            ],
            "type": "contour"
           }
          ],
          "contourcarpet": [
           {
            "colorbar": {
             "outlinewidth": 0,
             "ticks": ""
            },
            "type": "contourcarpet"
           }
          ],
          "heatmap": [
           {
            "colorbar": {
             "outlinewidth": 0,
             "ticks": ""
            },
            "colorscale": [
             [
              0,
              "#0d0887"
             ],
             [
              0.1111111111111111,
              "#46039f"
             ],
             [
              0.2222222222222222,
              "#7201a8"
             ],
             [
              0.3333333333333333,
              "#9c179e"
             ],
             [
              0.4444444444444444,
              "#bd3786"
             ],
             [
              0.5555555555555556,
              "#d8576b"
             ],
             [
              0.6666666666666666,
              "#ed7953"
             ],
             [
              0.7777777777777778,
              "#fb9f3a"
             ],
             [
              0.8888888888888888,
              "#fdca26"
             ],
             [
              1,
              "#f0f921"
             ]
            ],
            "type": "heatmap"
           }
          ],
          "heatmapgl": [
           {
            "colorbar": {
             "outlinewidth": 0,
             "ticks": ""
            },
            "colorscale": [
             [
              0,
              "#0d0887"
             ],
             [
              0.1111111111111111,
              "#46039f"
             ],
             [
              0.2222222222222222,
              "#7201a8"
             ],
             [
              0.3333333333333333,
              "#9c179e"
             ],
             [
              0.4444444444444444,
              "#bd3786"
             ],
             [
              0.5555555555555556,
              "#d8576b"
             ],
             [
              0.6666666666666666,
              "#ed7953"
             ],
             [
              0.7777777777777778,
              "#fb9f3a"
             ],
             [
              0.8888888888888888,
              "#fdca26"
             ],
             [
              1,
              "#f0f921"
             ]
            ],
            "type": "heatmapgl"
           }
          ],
          "histogram": [
           {
            "marker": {
             "pattern": {
              "fillmode": "overlay",
              "size": 10,
              "solidity": 0.2
             }
            },
            "type": "histogram"
           }
          ],
          "histogram2d": [
           {
            "colorbar": {
             "outlinewidth": 0,
             "ticks": ""
            },
            "colorscale": [
             [
              0,
              "#0d0887"
             ],
             [
              0.1111111111111111,
              "#46039f"
             ],
             [
              0.2222222222222222,
              "#7201a8"
             ],
             [
              0.3333333333333333,
              "#9c179e"
             ],
             [
              0.4444444444444444,
              "#bd3786"
             ],
             [
              0.5555555555555556,
              "#d8576b"
             ],
             [
              0.6666666666666666,
              "#ed7953"
             ],
             [
              0.7777777777777778,
              "#fb9f3a"
             ],
             [
              0.8888888888888888,
              "#fdca26"
             ],
             [
              1,
              "#f0f921"
             ]
            ],
            "type": "histogram2d"
           }
          ],
          "histogram2dcontour": [
           {
            "colorbar": {
             "outlinewidth": 0,
             "ticks": ""
            },
            "colorscale": [
             [
              0,
              "#0d0887"
             ],
             [
              0.1111111111111111,
              "#46039f"
             ],
             [
              0.2222222222222222,
              "#7201a8"
             ],
             [
              0.3333333333333333,
              "#9c179e"
             ],
             [
              0.4444444444444444,
              "#bd3786"
             ],
             [
              0.5555555555555556,
              "#d8576b"
             ],
             [
              0.6666666666666666,
              "#ed7953"
             ],
             [
              0.7777777777777778,
              "#fb9f3a"
             ],
             [
              0.8888888888888888,
              "#fdca26"
             ],
             [
              1,
              "#f0f921"
             ]
            ],
            "type": "histogram2dcontour"
           }
          ],
          "mesh3d": [
           {
            "colorbar": {
             "outlinewidth": 0,
             "ticks": ""
            },
            "type": "mesh3d"
           }
          ],
          "parcoords": [
           {
            "line": {
             "colorbar": {
              "outlinewidth": 0,
              "ticks": ""
             }
            },
            "type": "parcoords"
           }
          ],
          "pie": [
           {
            "automargin": true,
            "type": "pie"
           }
          ],
          "scatter": [
           {
            "marker": {
             "colorbar": {
              "outlinewidth": 0,
              "ticks": ""
             }
            },
            "type": "scatter"
           }
          ],
          "scatter3d": [
           {
            "line": {
             "colorbar": {
              "outlinewidth": 0,
              "ticks": ""
             }
            },
            "marker": {
             "colorbar": {
              "outlinewidth": 0,
              "ticks": ""
             }
            },
            "type": "scatter3d"
           }
          ],
          "scattercarpet": [
           {
            "marker": {
             "colorbar": {
              "outlinewidth": 0,
              "ticks": ""
             }
            },
            "type": "scattercarpet"
           }
          ],
          "scattergeo": [
           {
            "marker": {
             "colorbar": {
              "outlinewidth": 0,
              "ticks": ""
             }
            },
            "type": "scattergeo"
           }
          ],
          "scattergl": [
           {
            "marker": {
             "colorbar": {
              "outlinewidth": 0,
              "ticks": ""
             }
            },
            "type": "scattergl"
           }
          ],
          "scattermapbox": [
           {
            "marker": {
             "colorbar": {
              "outlinewidth": 0,
              "ticks": ""
             }
            },
            "type": "scattermapbox"
           }
          ],
          "scatterpolar": [
           {
            "marker": {
             "colorbar": {
              "outlinewidth": 0,
              "ticks": ""
             }
            },
            "type": "scatterpolar"
           }
          ],
          "scatterpolargl": [
           {
            "marker": {
             "colorbar": {
              "outlinewidth": 0,
              "ticks": ""
             }
            },
            "type": "scatterpolargl"
           }
          ],
          "scatterternary": [
           {
            "marker": {
             "colorbar": {
              "outlinewidth": 0,
              "ticks": ""
             }
            },
            "type": "scatterternary"
           }
          ],
          "surface": [
           {
            "colorbar": {
             "outlinewidth": 0,
             "ticks": ""
            },
            "colorscale": [
             [
              0,
              "#0d0887"
             ],
             [
              0.1111111111111111,
              "#46039f"
             ],
             [
              0.2222222222222222,
              "#7201a8"
             ],
             [
              0.3333333333333333,
              "#9c179e"
             ],
             [
              0.4444444444444444,
              "#bd3786"
             ],
             [
              0.5555555555555556,
              "#d8576b"
             ],
             [
              0.6666666666666666,
              "#ed7953"
             ],
             [
              0.7777777777777778,
              "#fb9f3a"
             ],
             [
              0.8888888888888888,
              "#fdca26"
             ],
             [
              1,
              "#f0f921"
             ]
            ],
            "type": "surface"
           }
          ],
          "table": [
           {
            "cells": {
             "fill": {
              "color": "#EBF0F8"
             },
             "line": {
              "color": "white"
             }
            },
            "header": {
             "fill": {
              "color": "#C8D4E3"
             },
             "line": {
              "color": "white"
             }
            },
            "type": "table"
           }
          ]
         },
         "layout": {
          "annotationdefaults": {
           "arrowcolor": "#2a3f5f",
           "arrowhead": 0,
           "arrowwidth": 1
          },
          "autotypenumbers": "strict",
          "coloraxis": {
           "colorbar": {
            "outlinewidth": 0,
            "ticks": ""
           }
          },
          "colorscale": {
           "diverging": [
            [
             0,
             "#8e0152"
            ],
            [
             0.1,
             "#c51b7d"
            ],
            [
             0.2,
             "#de77ae"
            ],
            [
             0.3,
             "#f1b6da"
            ],
            [
             0.4,
             "#fde0ef"
            ],
            [
             0.5,
             "#f7f7f7"
            ],
            [
             0.6,
             "#e6f5d0"
            ],
            [
             0.7,
             "#b8e186"
            ],
            [
             0.8,
             "#7fbc41"
            ],
            [
             0.9,
             "#4d9221"
            ],
            [
             1,
             "#276419"
            ]
           ],
           "sequential": [
            [
             0,
             "#0d0887"
            ],
            [
             0.1111111111111111,
             "#46039f"
            ],
            [
             0.2222222222222222,
             "#7201a8"
            ],
            [
             0.3333333333333333,
             "#9c179e"
            ],
            [
             0.4444444444444444,
             "#bd3786"
            ],
            [
             0.5555555555555556,
             "#d8576b"
            ],
            [
             0.6666666666666666,
             "#ed7953"
            ],
            [
             0.7777777777777778,
             "#fb9f3a"
            ],
            [
             0.8888888888888888,
             "#fdca26"
            ],
            [
             1,
             "#f0f921"
            ]
           ],
           "sequentialminus": [
            [
             0,
             "#0d0887"
            ],
            [
             0.1111111111111111,
             "#46039f"
            ],
            [
             0.2222222222222222,
             "#7201a8"
            ],
            [
             0.3333333333333333,
             "#9c179e"
            ],
            [
             0.4444444444444444,
             "#bd3786"
            ],
            [
             0.5555555555555556,
             "#d8576b"
            ],
            [
             0.6666666666666666,
             "#ed7953"
            ],
            [
             0.7777777777777778,
             "#fb9f3a"
            ],
            [
             0.8888888888888888,
             "#fdca26"
            ],
            [
             1,
             "#f0f921"
            ]
           ]
          },
          "colorway": [
           "#636efa",
           "#EF553B",
           "#00cc96",
           "#ab63fa",
           "#FFA15A",
           "#19d3f3",
           "#FF6692",
           "#B6E880",
           "#FF97FF",
           "#FECB52"
          ],
          "font": {
           "color": "#2a3f5f"
          },
          "geo": {
           "bgcolor": "white",
           "lakecolor": "white",
           "landcolor": "#E5ECF6",
           "showlakes": true,
           "showland": true,
           "subunitcolor": "white"
          },
          "hoverlabel": {
           "align": "left"
          },
          "hovermode": "closest",
          "mapbox": {
           "style": "light"
          },
          "paper_bgcolor": "white",
          "plot_bgcolor": "#E5ECF6",
          "polar": {
           "angularaxis": {
            "gridcolor": "white",
            "linecolor": "white",
            "ticks": ""
           },
           "bgcolor": "#E5ECF6",
           "radialaxis": {
            "gridcolor": "white",
            "linecolor": "white",
            "ticks": ""
           }
          },
          "scene": {
           "xaxis": {
            "backgroundcolor": "#E5ECF6",
            "gridcolor": "white",
            "gridwidth": 2,
            "linecolor": "white",
            "showbackground": true,
            "ticks": "",
            "zerolinecolor": "white"
           },
           "yaxis": {
            "backgroundcolor": "#E5ECF6",
            "gridcolor": "white",
            "gridwidth": 2,
            "linecolor": "white",
            "showbackground": true,
            "ticks": "",
            "zerolinecolor": "white"
           },
           "zaxis": {
            "backgroundcolor": "#E5ECF6",
            "gridcolor": "white",
            "gridwidth": 2,
            "linecolor": "white",
            "showbackground": true,
            "ticks": "",
            "zerolinecolor": "white"
           }
          },
          "shapedefaults": {
           "line": {
            "color": "#2a3f5f"
           }
          },
          "ternary": {
           "aaxis": {
            "gridcolor": "white",
            "linecolor": "white",
            "ticks": ""
           },
           "baxis": {
            "gridcolor": "white",
            "linecolor": "white",
            "ticks": ""
           },
           "bgcolor": "#E5ECF6",
           "caxis": {
            "gridcolor": "white",
            "linecolor": "white",
            "ticks": ""
           }
          },
          "title": {
           "x": 0.05
          },
          "xaxis": {
           "automargin": true,
           "gridcolor": "white",
           "linecolor": "white",
           "ticks": "",
           "title": {
            "standoff": 15
           },
           "zerolinecolor": "white",
           "zerolinewidth": 2
          },
          "yaxis": {
           "automargin": true,
           "gridcolor": "white",
           "linecolor": "white",
           "ticks": "",
           "title": {
            "standoff": 15
           },
           "zerolinecolor": "white",
           "zerolinewidth": 2
          }
         }
        }
       }
      }
     },
     "metadata": {},
     "output_type": "display_data"
    }
   ],
   "source": [
    "# Simply replaced color from 'avg_user_selection' to 'quadrant' \n",
    "# from what Jacob made earlier \n",
    "\n",
    "import plotly.express as px\n",
    " \n",
    "px.set_mapbox_access_token(open(\".mapbox_token\").read())\n",
    "fig = px.scatter_mapbox(\n",
    "        df, \n",
    "        lon=\"lon\", lat=\"lat\", \n",
    "        hover_data=[\"population_density\"] + user_selected_amenities,\n",
    "        size=\"population_density\",\n",
    "        color=\"quadrant\",\n",
    "        color_continuous_scale=\"Viridis_r\", #viridis reversed\n",
    "        mapbox_style=\"outdoors\",\n",
    "    )\n",
    "\n",
    "fig.show()"
   ]
  },
  {
   "cell_type": "code",
   "execution_count": null,
   "metadata": {},
   "outputs": [],
   "source": []
  }
 ],
 "metadata": {
  "interpreter": {
   "hash": "38cca0c38332a56087b24af0bc80247f4fced29cb4f7f437d91dc159adec9c4e"
  },
  "kernelspec": {
   "display_name": "Python 3.8.8 64-bit ('base': conda)",
   "name": "python3"
  },
  "language_info": {
   "codemirror_mode": {
    "name": "ipython",
    "version": 3
   },
   "file_extension": ".py",
   "mimetype": "text/x-python",
   "name": "python",
   "nbconvert_exporter": "python",
   "pygments_lexer": "ipython3",
   "version": "3.8.8"
  },
  "orig_nbformat": 4
 },
 "nbformat": 4,
 "nbformat_minor": 2
}
